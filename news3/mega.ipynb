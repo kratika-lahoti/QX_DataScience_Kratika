{
 "cells": [
  {
   "cell_type": "code",
   "execution_count": 12,
   "metadata": {},
   "outputs": [],
   "source": [
    "import re\n",
    "import pandas as pd\n",
    "from nltk.corpus import stopwords\n",
    "\n",
    "import numpy as np\n",
    "\n",
    "import nltk\n",
    "from sklearn.model_selection import train_test_split\n",
    "from sklearn.feature_extraction.text import CountVectorizer\n",
    "from sklearn.preprocessing import LabelEncoder\n",
    "from sklearn.feature_selection import VarianceThreshold\n",
    "from imblearn.over_sampling import SMOTE\n",
    "from sklearn.dummy import DummyClassifier\n",
    "from sklearn.naive_bayes import MultinomialNB\n",
    "from sklearn.tree import DecisionTreeClassifier\n",
    "from sklearn.neural_network import MLPClassifier\n",
    "from sklearn.ensemble import RandomForestClassifier\n",
    "from sklearn import metrics\n",
    "from sklearn.metrics import accuracy_score\n",
    "#from sklearn.model_selection import cross_val_score, KFold\n",
    "from sklearn.metrics import confusion_matrix\n",
    "from sklearn.metrics import classification_report"
   ]
  },
  {
   "cell_type": "code",
   "execution_count": 13,
   "metadata": {},
   "outputs": [
    {
     "data": {
      "text/html": [
       "<div>\n",
       "<style scoped>\n",
       "    .dataframe tbody tr th:only-of-type {\n",
       "        vertical-align: middle;\n",
       "    }\n",
       "\n",
       "    .dataframe tbody tr th {\n",
       "        vertical-align: top;\n",
       "    }\n",
       "\n",
       "    .dataframe thead th {\n",
       "        text-align: right;\n",
       "    }\n",
       "</style>\n",
       "<table border=\"1\" class=\"dataframe\">\n",
       "  <thead>\n",
       "    <tr style=\"text-align: right;\">\n",
       "      <th></th>\n",
       "      <th>Title</th>\n",
       "      <th>Body</th>\n",
       "      <th>Category</th>\n",
       "      <th>MegaCategory</th>\n",
       "      <th>New_Title</th>\n",
       "    </tr>\n",
       "  </thead>\n",
       "  <tbody>\n",
       "    <tr>\n",
       "      <th>0</th>\n",
       "      <td>Cipla acquires USFDA approval for its hyperten...</td>\n",
       "      <td>Indian pharmaceutical and biotechnology conglo...</td>\n",
       "      <td>Approval - Alert me when a company gets an app...</td>\n",
       "      <td>Growth</td>\n",
       "      <td>Others</td>\n",
       "    </tr>\n",
       "    <tr>\n",
       "      <th>1</th>\n",
       "      <td>Forest Labs gets US conditional approval for L...</td>\n",
       "      <td>Forest Labs gets US conditional approval for L...</td>\n",
       "      <td>Approval - Alert me when a company gets an app...</td>\n",
       "      <td>Growth</td>\n",
       "      <td>Others</td>\n",
       "    </tr>\n",
       "    <tr>\n",
       "      <th>2</th>\n",
       "      <td>Axis Bank plans to focus on rural markets</td>\n",
       "      <td>Private sector lender Axis Bank is focussing o...</td>\n",
       "      <td>Growth/Focus in exisitng terrain - Alert me wh...</td>\n",
       "      <td>Growth</td>\n",
       "      <td>Others</td>\n",
       "    </tr>\n",
       "    <tr>\n",
       "      <th>3</th>\n",
       "      <td>Bajaj sports new brand identity, eyes bigger m...</td>\n",
       "      <td>Having seen significant success in overseas ma...</td>\n",
       "      <td>Growth/Focus in exisitng terrain - Alert me wh...</td>\n",
       "      <td>Growth</td>\n",
       "      <td>Others</td>\n",
       "    </tr>\n",
       "    <tr>\n",
       "      <th>4</th>\n",
       "      <td>Dr Reddys sees US prices stabilising soon</td>\n",
       "      <td>Dr Reddys sees US prices stabilising soon</td>\n",
       "      <td>Growth/Focus in exisitng terrain - Alert me wh...</td>\n",
       "      <td>Growth</td>\n",
       "      <td>Others</td>\n",
       "    </tr>\n",
       "  </tbody>\n",
       "</table>\n",
       "</div>"
      ],
      "text/plain": [
       "                                               Title  \\\n",
       "0  Cipla acquires USFDA approval for its hyperten...   \n",
       "1  Forest Labs gets US conditional approval for L...   \n",
       "2          Axis Bank plans to focus on rural markets   \n",
       "3  Bajaj sports new brand identity, eyes bigger m...   \n",
       "4          Dr Reddys sees US prices stabilising soon   \n",
       "\n",
       "                                                Body  \\\n",
       "0  Indian pharmaceutical and biotechnology conglo...   \n",
       "1  Forest Labs gets US conditional approval for L...   \n",
       "2  Private sector lender Axis Bank is focussing o...   \n",
       "3  Having seen significant success in overseas ma...   \n",
       "4          Dr Reddys sees US prices stabilising soon   \n",
       "\n",
       "                                            Category MegaCategory New_Title  \n",
       "0  Approval - Alert me when a company gets an app...       Growth    Others  \n",
       "1  Approval - Alert me when a company gets an app...       Growth    Others  \n",
       "2  Growth/Focus in exisitng terrain - Alert me wh...       Growth    Others  \n",
       "3  Growth/Focus in exisitng terrain - Alert me wh...       Growth    Others  \n",
       "4  Growth/Focus in exisitng terrain - Alert me wh...       Growth    Others  "
      ]
     },
     "execution_count": 13,
     "metadata": {},
     "output_type": "execute_result"
    }
   ],
   "source": [
    "news = pd.read_excel(\"C:\\\\Users\\\\Kratika\\\\Downloads\\\\new_title.xlsx\")\n",
    "news.head()"
   ]
  },
  {
   "cell_type": "code",
   "execution_count": 14,
   "metadata": {},
   "outputs": [],
   "source": [
    "from nltk.tokenize import word_tokenize \n",
    "\n",
    "def remove_stop_words(data):\n",
    "    stop_words = set(stopwords.words('english'))\n",
    "    stop_words.union(['january','february','march','april','may','june','july','august','september','october','november','december'])\n",
    "    stop_words.union(['jan','feb','mar','apr','may','jun','jul','aug','sept','oct','nov','dec'])\n",
    "    stop_words.union(['monday', 'tuesday', 'wednesday', 'thursday','friday','saturday','sunday'])\n",
    "    stop_words.union(['am', 'pm'])\n",
    "    word_tokens = word_tokenize(data) \n",
    "    filtered_sentence = []\n",
    "    \n",
    "    for w in word_tokens: \n",
    "        if w.lower() not in stop_words: \n",
    "            filtered_sentence.append(w) \n",
    "    \n",
    "    return \" \".join(filtered_sentence)"
   ]
  },
  {
   "cell_type": "code",
   "execution_count": 37,
   "metadata": {},
   "outputs": [],
   "source": [
    "news['text'] = news.Title + \" \" + news.Body"
   ]
  },
  {
   "cell_type": "code",
   "execution_count": 38,
   "metadata": {},
   "outputs": [
    {
     "name": "stdout",
     "output_type": "stream",
     "text": [
      "shareholders : shareholder\n",
      "stocks : stock\n",
      "companys : company\n",
      "trading : trade\n",
      "weekly : week\n",
      "billion: billionaire\n",
      "high : higher\n",
      "close : closeed\n",
      "finance : financial\n",
      "biggest: high\n",
      "unit: unit\n",
      "protect: protection\n",
      "organisation: organised\n",
      "'company: 'companies\n",
      "better : good\n"
     ]
    }
   ],
   "source": [
    "# import these modules \n",
    "from nltk.stem import WordNetLemmatizer \n",
    "  \n",
    "lemmatizer = WordNetLemmatizer() \n",
    "  \n",
    "print(\"shareholders :\", lemmatizer.lemmatize(\"shareholder\")) \n",
    "print(\"stocks :\", lemmatizer.lemmatize(\"stock\")) \n",
    "print(\"companys :\", lemmatizer.lemmatize(\"company\")) \n",
    "print(\"trading :\", lemmatizer.lemmatize(\"trade\")) \n",
    "print(\"weekly :\", lemmatizer.lemmatize(\"week\")) \n",
    "print(\"billion:\", lemmatizer.lemmatize(\"billionaire\")) \n",
    "print(\"high :\", lemmatizer.lemmatize(\"higher\")) \n",
    "print(\"close :\", lemmatizer.lemmatize(\"closeed\")) \n",
    "print(\"finance :\", lemmatizer.lemmatize(\"financial\")) \n",
    "print(\"biggest:\", lemmatizer.lemmatize(\"high\")) \n",
    "print(\"unit:\", lemmatizer.lemmatize(\"units\")) \n",
    "print(\"protect:\", lemmatizer.lemmatize(\"protection\")) \n",
    "print(\"organisation:\", lemmatizer.lemmatize(\"organised\")) \n",
    "print(\"'company:\", lemmatizer.lemmatize(\"'companies\")) \n",
    "# a denotes adjective in \"pos\" \n",
    "print(\"better :\", lemmatizer.lemmatize(\"better\", pos =\"a\"))"
   ]
  },
  {
   "cell_type": "code",
   "execution_count": 39,
   "metadata": {},
   "outputs": [
    {
     "data": {
      "text/plain": [
       "0      Cipla acquires USFDA approval for its hyperten...\n",
       "1      Forest Labs gets US conditional approval for L...\n",
       "2      Axis Bank plans to focus on rural markets Priv...\n",
       "3      Bajaj sports new brand identity, eyes bigger m...\n",
       "4      Dr Reddys sees US prices stabilising soon Dr R...\n",
       "5      Wipro Launches Edge Artificial Intelligence So...\n",
       "6      Wipro unveils new AI software for global enter...\n",
       "7      Wipro +2.8% after AWS team-up launching a \"co-...\n",
       "8      Wipro to outshine previous performance: Azim P...\n",
       "9      Yes Bank shares continue rising spree, surge n...\n",
       "10     Adani Group To Invest Rs 55,000 Cr In Projects...\n",
       "11     Reliance Jio, Bharti Airtel to bid for Relianc...\n",
       "12     bpcl to invest rs 1 500 1 700 crore in floatin...\n",
       "13     BPCL to invest Rs 1,500-1,700 cr in floating L...\n",
       "14     BPCL to invest up to Rs1,700 crore in building...\n",
       "15     BPCL to set up bioethanol plant in Bargarh BPC...\n",
       "16     BPCL Awaits Green Signal for Numaligarh Refine...\n",
       "17     BPCL gets green nod for Rs 747 cr ethanol proj...\n",
       "18     Britannia looks to scale up dairy business Pla...\n",
       "19     Britannia plans to set up more manufacturing u...\n",
       "20     Cipla acquires 30 pc stake in South African Br...\n",
       "21     Cipla taps Wellthy for digital therapeutics ex...\n",
       "22     Cipla arm to acquire Avenue for $215 mn Avenue...\n",
       "23     Royal Enfield to invest Rs 700 crore in 2019-2...\n",
       "24     GAIL To Invest Rs 45 000 Crore In Expansion Of...\n",
       "25     GAIL India to invest Rs 45,000 cr in expansion...\n",
       "26     GAIL to invest Rs 45,000 crore in expansion of...\n",
       "27     GAIL to invest Rs 45,000 cr in expansion of pi...\n",
       "28     Grasim to buy Soktas from Turkish promoters In...\n",
       "29     Grasim Industries buys Turkish textile company...\n",
       "                             ...                        \n",
       "202    ONGC seeks partners to raise output from 64 fi...\n",
       "203    Reliance scouts for more retail acquisitions a...\n",
       "204    Know more about Reliance JioFiber Jio GigaFibe...\n",
       "205    SBI Card to soon issue Rupay credit cards: CEO...\n",
       "206    Tata Motors To Set-Up 300 Fast-Charging Points...\n",
       "207    UltraTech Cements nine-month profits hit by en...\n",
       "208    UltraTech continues aggressive capacity expans...\n",
       "209    Tata Motors domestic sales record 16% growth i...\n",
       "210    Zee Entertainment Enterprises Rating: Buy; Sta...\n",
       "211    Two-Wheeler Sales April 2019: Bajaj Sales Rise...\n",
       "212    Looking at continued growth across key markets...\n",
       "213    Royal Enfield sales rise 33 p.c. in October Ro...\n",
       "214    Hero MotoCorp sells 5,43,406 units in August S...\n",
       "215    Hero MotoCorp posts 16% growth in October; bea...\n",
       "216    Soap makers reduce prices to boost sales COMME...\n",
       "217    Tata Sons launch new digital vertical under Pr...\n",
       "218    LIC to be a listed company? If it does, it wil...\n",
       "219    Titan Machinery (NASDAQ:TITN) Stock Rating Low...\n",
       "220    2009 Nissan Titan 4X4 SE Crew Cab Login to Ema...\n",
       "221    Titan Machinery Inc. (NASDAQ:TITN) Given Avera...\n",
       "222    UltraTech Cement Ltd. GDR Overview No Headline...\n",
       "223    Microtech Ultratech Frag $295 Customized by El...\n",
       "224    UPL Limited: Helping a self-help group - CSR\\n...\n",
       "225    Vedanta: Vedanta may soon get freedom to marke...\n",
       "226    Yes Bank shares continue to fall; tank 13% NEW...\n",
       "227    Chandras may sell small stake in Zee Entertain...\n",
       "228    More lenders may sell stake in Zee Entertainme...\n",
       "229    Analyst corner: ‘Buy’ on Zee Entertainment Ent...\n",
       "230    Bangladesh signs deal with Reliance Power to b...\n",
       "231    Tata Motors gets order for over 200 Hexa from ...\n",
       "Name: text, Length: 232, dtype: object"
      ]
     },
     "execution_count": 39,
     "metadata": {},
     "output_type": "execute_result"
    }
   ],
   "source": [
    " news['text'].apply(lemmatizer.lemmatize)"
   ]
  },
  {
   "cell_type": "code",
   "execution_count": 40,
   "metadata": {},
   "outputs": [],
   "source": [
    "\n",
    "news['clean_title'] = news['Title'].apply(remove_stop_words)\n",
    "news['clean_body'] = news['Body'].apply(remove_stop_words)\n",
    "\n",
    "news['clean_text'] = news['text'].apply(remove_stop_words) \n",
    "\n",
    "#remove_stop_words_Body\n"
   ]
  },
  {
   "cell_type": "code",
   "execution_count": 41,
   "metadata": {},
   "outputs": [
    {
     "name": "stdout",
     "output_type": "stream",
     "text": [
      "\n",
      "Splitting data\n",
      "Training:  187\n",
      "Testing:  24\n"
     ]
    }
   ],
   "source": [
    "# ## Split data\n",
    "print(\"\\nSplitting data\")\n",
    "\n",
    "title_tr, title_te, MegaCategory_tr, MegaCategory_te = train_test_split(news['clean_text'], news.New_Title,test_size =.1)\n",
    "title_tr, title_de, MegaCategory_tr , MegaCategory_de = train_test_split(title_tr,MegaCategory_tr,test_size =.1)\n",
    "\n",
    "\n",
    "print(\"Training: \",len(title_tr))\n",
    "\n",
    "print(\"Testing: \",len(title_te))"
   ]
  },
  {
   "cell_type": "code",
   "execution_count": 42,
   "metadata": {},
   "outputs": [
    {
     "name": "stdout",
     "output_type": "stream",
     "text": [
      "\n",
      "Vectorizing data\n"
     ]
    }
   ],
   "source": [
    "from sklearn.preprocessing import LabelEncoder\n",
    "\n",
    "# # Data Preprocessing\n",
    "# ## Vectorization of data\n",
    "# Vectorize the data using Bag of words (BOW)\n",
    "print(\"\\nVectorizing data\")\n",
    "tokenizer = nltk.tokenize.RegexpTokenizer(r\"\\w+\")\n",
    "stop_words = nltk.corpus.stopwords.words(\"english\")\n",
    "vectorizer = CountVectorizer(tokenizer=tokenizer.tokenize, stop_words=stop_words)\n",
    "\n",
    "vectorizer.fit(iter(title_tr))\n",
    "Xtr = vectorizer.transform(iter(title_tr))\n",
    "Xde = vectorizer.transform(iter(title_de))\n",
    "Xte = vectorizer.transform(iter(title_te))\n",
    "\n",
    "encoder = LabelEncoder()\n",
    "encoder.fit(MegaCategory_tr)\n",
    "Ytr = encoder.transform(MegaCategory_tr)\n",
    "Yde = encoder.transform(MegaCategory_de)\n",
    "Yte = encoder.transform(MegaCategory_te)"
   ]
  },
  {
   "cell_type": "code",
   "execution_count": 43,
   "metadata": {},
   "outputs": [
    {
     "name": "stdout",
     "output_type": "stream",
     "text": [
      "[2 0 0 0 2 2 2 0 2 0 3 0 2 3 2 2 2 2 1 2 2 2 0 2 2 2 0 0 0 2 2 2 2 0 2 2 2\n",
      " 0 3 2 0 0 2 2 1 0 1 3 0 0 2 2 1 2 2 0 2 1 0 1 2 0 2 0 3 1 2 2 2 1 0 0 2 2\n",
      " 2 0 2 3 0 2 2 0 2 0 2 2 2 2 2 2 3 0 2 0 0 0 2 0 0 0 0 2 2 2 2 2 1 0 2 2 0\n",
      " 2 0 0 1 2 0 2 0 3 0 2 2 2 2 2 0 2 2 2 3 3 2 0 2 1 2 3 2 1 2 0 2 2 2 2 2 0\n",
      " 0 2 2 2 2 0 0 2 2 0 2 2 2 2 0 2 2 2 2 2 1 2 0 3 2 2 2 2 0 0 3 3 2 2 2 0 0\n",
      " 2 2]\n"
     ]
    }
   ],
   "source": [
    "print(Ytr)"
   ]
  },
  {
   "cell_type": "code",
   "execution_count": 44,
   "metadata": {},
   "outputs": [
    {
     "data": {
      "text/plain": [
       "<187x3688 sparse matrix of type '<class 'numpy.int64'>'\n",
       "\twith 9378 stored elements in Compressed Sparse Row format>"
      ]
     },
     "execution_count": 44,
     "metadata": {},
     "output_type": "execute_result"
    }
   ],
   "source": [
    "Xtr"
   ]
  },
  {
   "cell_type": "code",
   "execution_count": 45,
   "metadata": {},
   "outputs": [
    {
     "name": "stdout",
     "output_type": "stream",
     "text": [
      "\n",
      "\n",
      "Training baseline classifier\n"
     ]
    }
   ],
   "source": [
    "# # Train Models\n",
    "# ### Baseline Model\n",
    "# “stratified”: generates predictions by respecting the training set’s class distribution.\n",
    "print(\"\\n\\nTraining baseline classifier\")\n",
    "dc = DummyClassifier(strategy=\"stratified\")\n",
    "dc.fit(Xtr, Ytr)\n",
    "\n",
    "dc_pred = dc.predict(Xde)"
   ]
  },
  {
   "cell_type": "code",
   "execution_count": 46,
   "metadata": {},
   "outputs": [
    {
     "name": "stdout",
     "output_type": "stream",
     "text": [
      "                                    precision    recall  f1-score   support\n",
      "\n",
      "Investment and Growth related News       0.18      0.25      0.21         8\n",
      "                            Others       0.25      0.40      0.31         5\n",
      "Products, Initiatives or Strategy        0.25      0.40      0.31         5\n",
      "   Sales, User or Geography Growth       0.25      0.40      0.31         5\n",
      "\n",
      "                          accuracy                           0.23      1222\n",
      "                         macro avg       0.18      0.26      0.21      1222\n",
      "                      weighted avg       0.18      0.26      0.21      1222\n",
      "\n",
      "Accuracy achieved is 0.19047619047619047\n"
     ]
    },
    {
     "name": "stderr",
     "output_type": "stream",
     "text": [
      "C:\\ProgramData\\Anaconda3\\lib\\site-packages\\sklearn\\metrics\\classification.py:1870: UserWarning: labels size, 187, does not match size of target_names, 4\n",
      "  .format(len(labels), len(target_names))\n"
     ]
    }
   ],
   "source": [
    "print(classification_report(Yde, dc_pred, labels=Ytr ,target_names=encoder.classes_))\n",
    "print('Accuracy achieved is ' + str(np.mean(dc_pred == Yde)))"
   ]
  },
  {
   "cell_type": "code",
   "execution_count": 47,
   "metadata": {},
   "outputs": [
    {
     "name": "stdout",
     "output_type": "stream",
     "text": [
      "Training Decision tree\n",
      "                                    precision    recall  f1-score   support\n",
      "\n",
      "Investment and Growth related News       0.73      1.00      0.84         8\n",
      "                            Others       0.71      1.00      0.83         5\n",
      "Products, Initiatives or Strategy        0.71      1.00      0.83         5\n",
      "   Sales, User or Geography Growth       0.71      1.00      0.83         5\n",
      "\n",
      "                          accuracy                           0.82      1222\n",
      "                         macro avg       0.76      0.92      0.80      1222\n",
      "                      weighted avg       0.75      0.94      0.81      1222\n",
      "\n",
      "Accuracy achieved is 0.7619047619047619\n"
     ]
    },
    {
     "name": "stderr",
     "output_type": "stream",
     "text": [
      "C:\\ProgramData\\Anaconda3\\lib\\site-packages\\sklearn\\metrics\\classification.py:1870: UserWarning: labels size, 187, does not match size of target_names, 4\n",
      "  .format(len(labels), len(target_names))\n"
     ]
    }
   ],
   "source": [
    "\n",
    "# ### Decision Tree\n",
    "print(\"Training Decision tree\")\n",
    "dt = DecisionTreeClassifier()\n",
    "dt.fit(Xtr, Ytr)\n",
    "dt_pred = dt.predict(Xde)\n",
    "print(classification_report(Yde, dt_pred, labels=Ytr ,target_names=encoder.classes_))\n",
    "print('Accuracy achieved is ' + str(np.mean(dt_pred == Yde)))"
   ]
  },
  {
   "cell_type": "code",
   "execution_count": 48,
   "metadata": {},
   "outputs": [
    {
     "name": "stdout",
     "output_type": "stream",
     "text": [
      "Training Random Forest\n",
      "                                    precision    recall  f1-score   support\n",
      "\n",
      "Investment and Growth related News       0.57      1.00      0.73         8\n",
      "                            Others       0.71      1.00      0.83         5\n",
      "Products, Initiatives or Strategy        0.71      1.00      0.83         5\n",
      "   Sales, User or Geography Growth       0.71      1.00      0.83         5\n",
      "\n",
      "                          accuracy                           0.72      1222\n",
      "                         macro avg       0.53      0.86      0.65      1222\n",
      "                      weighted avg       0.55      0.91      0.69      1222\n",
      "\n",
      "Accuracy achieved is 0.6190476190476191\n"
     ]
    },
    {
     "name": "stderr",
     "output_type": "stream",
     "text": [
      "C:\\ProgramData\\Anaconda3\\lib\\site-packages\\sklearn\\metrics\\classification.py:1870: UserWarning: labels size, 187, does not match size of target_names, 4\n",
      "  .format(len(labels), len(target_names))\n",
      "C:\\ProgramData\\Anaconda3\\lib\\site-packages\\sklearn\\metrics\\classification.py:1437: UndefinedMetricWarning: Precision and F-score are ill-defined and being set to 0.0 in labels with no predicted samples.\n",
      "  'precision', 'predicted', average, warn_for)\n"
     ]
    }
   ],
   "source": [
    "# ### Random Forest\n",
    "print(\"Training Random Forest\")\n",
    "rf = RandomForestClassifier(n_estimators=40)\n",
    "rf.fit(Xtr, Ytr)\n",
    "pred = rf.predict(Xde)\n",
    "print(classification_report(Yde, pred, labels=Ytr ,target_names=encoder.classes_))\n",
    "print('Accuracy achieved is ' + str(np.mean(pred == Yde)))"
   ]
  },
  {
   "cell_type": "code",
   "execution_count": 49,
   "metadata": {},
   "outputs": [
    {
     "name": "stdout",
     "output_type": "stream",
     "text": [
      "Training Multinomial Naive Bayesian\n",
      "                                    precision    recall  f1-score   support\n",
      "\n",
      "Investment and Growth related News       0.56      0.62      0.59         8\n",
      "                            Others       0.45      1.00      0.62         5\n",
      "Products, Initiatives or Strategy        0.45      1.00      0.62         5\n",
      "   Sales, User or Geography Growth       0.45      1.00      0.62         5\n",
      "\n",
      "                          accuracy                           0.58      1222\n",
      "                         macro avg       0.52      0.66      0.54      1222\n",
      "                      weighted avg       0.55      0.67      0.56      1222\n",
      "\n",
      "Accuracy achieved is 0.5238095238095238\n"
     ]
    },
    {
     "name": "stderr",
     "output_type": "stream",
     "text": [
      "C:\\ProgramData\\Anaconda3\\lib\\site-packages\\sklearn\\metrics\\classification.py:1870: UserWarning: labels size, 187, does not match size of target_names, 4\n",
      "  .format(len(labels), len(target_names))\n",
      "C:\\ProgramData\\Anaconda3\\lib\\site-packages\\sklearn\\metrics\\classification.py:1437: UndefinedMetricWarning: Precision and F-score are ill-defined and being set to 0.0 in labels with no predicted samples.\n",
      "  'precision', 'predicted', average, warn_for)\n"
     ]
    }
   ],
   "source": [
    "\n",
    "# ### Multinomial Naive Bayesian\n",
    "print(\"Training Multinomial Naive Bayesian\")\n",
    "nb = MultinomialNB()\n",
    "nb.fit(Xtr, Ytr)\n",
    "pred_nb = nb.predict(Xde)\n",
    "print(classification_report(Yde, pred_nb, labels=Ytr ,target_names=encoder.classes_))\n",
    "print('Accuracy achieved is ' + str(np.mean(pred_nb == Yde)))"
   ]
  },
  {
   "cell_type": "code",
   "execution_count": 50,
   "metadata": {},
   "outputs": [
    {
     "name": "stdout",
     "output_type": "stream",
     "text": [
      "Training Support Vector Classification\n",
      "                                    precision    recall  f1-score   support\n",
      "\n",
      "Investment and Growth related News       0.38      1.00      0.55         8\n",
      "                            Others       0.00      0.00      0.00         5\n",
      "Products, Initiatives or Strategy        0.00      0.00      0.00         5\n",
      "   Sales, User or Geography Growth       0.00      0.00      0.00         5\n",
      "\n",
      "                          accuracy                           0.49      1222\n",
      "                         macro avg       0.21      0.56      0.31      1222\n",
      "                      weighted avg       0.26      0.68      0.38      1222\n",
      "\n",
      "Accuracy achieved is 0.38095238095238093\n"
     ]
    },
    {
     "name": "stderr",
     "output_type": "stream",
     "text": [
      "C:\\ProgramData\\Anaconda3\\lib\\site-packages\\sklearn\\svm\\base.py:193: FutureWarning: The default value of gamma will change from 'auto' to 'scale' in version 0.22 to account better for unscaled features. Set gamma explicitly to 'auto' or 'scale' to avoid this warning.\n",
      "  \"avoid this warning.\", FutureWarning)\n",
      "C:\\ProgramData\\Anaconda3\\lib\\site-packages\\sklearn\\metrics\\classification.py:1870: UserWarning: labels size, 187, does not match size of target_names, 4\n",
      "  .format(len(labels), len(target_names))\n",
      "C:\\ProgramData\\Anaconda3\\lib\\site-packages\\sklearn\\metrics\\classification.py:1437: UndefinedMetricWarning: Precision and F-score are ill-defined and being set to 0.0 in labels with no predicted samples.\n",
      "  'precision', 'predicted', average, warn_for)\n"
     ]
    }
   ],
   "source": [
    "# ### Support Vector Classification\n",
    "print(\"Training Support Vector Classification\")\n",
    "from sklearn.svm import SVC\n",
    "svc = SVC()\n",
    "svc.fit(Xtr, Ytr)\n",
    "svc_pred = svc.predict(Xde)\n",
    "print(classification_report(Yde, svc_pred, labels=Ytr ,target_names=encoder.classes_))\n",
    "print('Accuracy achieved is ' + str(np.mean(svc_pred == Yde)))"
   ]
  },
  {
   "cell_type": "code",
   "execution_count": 51,
   "metadata": {},
   "outputs": [
    {
     "name": "stdout",
     "output_type": "stream",
     "text": [
      "Training Multilayered Perceptron\n",
      "                                    precision    recall  f1-score   support\n",
      "\n",
      "Investment and Growth related News       0.54      0.88      0.67         8\n",
      "                            Others       0.71      1.00      0.83         5\n",
      "Products, Initiatives or Strategy        0.71      1.00      0.83         5\n",
      "   Sales, User or Geography Growth       0.71      1.00      0.83         5\n",
      "\n",
      "                          accuracy                           0.69      1222\n",
      "                         macro avg       0.59      0.80      0.64      1222\n",
      "                      weighted avg       0.60      0.84      0.66      1222\n",
      "\n",
      "Accuracy achieved is 0.6190476190476191\n"
     ]
    },
    {
     "name": "stderr",
     "output_type": "stream",
     "text": [
      "C:\\ProgramData\\Anaconda3\\lib\\site-packages\\sklearn\\metrics\\classification.py:1870: UserWarning: labels size, 187, does not match size of target_names, 4\n",
      "  .format(len(labels), len(target_names))\n",
      "C:\\ProgramData\\Anaconda3\\lib\\site-packages\\sklearn\\metrics\\classification.py:1437: UndefinedMetricWarning: Precision and F-score are ill-defined and being set to 0.0 in labels with no predicted samples.\n",
      "  'precision', 'predicted', average, warn_for)\n"
     ]
    }
   ],
   "source": [
    "# ### Multilayered Perceptron\n",
    "print(\"Training Multilayered Perceptron\")\n",
    "mlp = MLPClassifier(solver='adam', alpha=1e-5, hidden_layer_sizes=(100, 20), random_state=1, max_iter=400)\n",
    "mlp.fit(Xtr, Ytr)\n",
    "mlp_pred = mlp.predict(Xde)\n",
    "print(classification_report(Yde, mlp_pred, labels=Ytr ,target_names=encoder.classes_))\n",
    "print('Accuracy achieved is ' + str(np.mean(mlp_pred == Yde)))"
   ]
  },
  {
   "cell_type": "code",
   "execution_count": 52,
   "metadata": {},
   "outputs": [
    {
     "name": "stdout",
     "output_type": "stream",
     "text": [
      "Accuracy achieved is 0.19047619047619047\n",
      "Accuracy achieved is 0.7619047619047619\n",
      "Accuracy achieved is 0.5238095238095238\n",
      "Accuracy achieved is 0.38095238095238093\n",
      "Accuracy achieved is 0.6190476190476191\n"
     ]
    }
   ],
   "source": [
    "print('Accuracy achieved is ' + str(np.mean(dc_pred   == Yde)))\n",
    "print('Accuracy achieved is ' + str(np.mean(dt_pred   == Yde)))\n",
    "print('Accuracy achieved is ' + str(np.mean(pred_nb   == Yde)))\n",
    "print('Accuracy achieved is ' + str(np.mean(svc_pred  == Yde)))\n",
    "print('Accuracy achieved is ' + str(np.mean(mlp_pred  == Yde)))"
   ]
  },
  {
   "cell_type": "code",
   "execution_count": 53,
   "metadata": {},
   "outputs": [
    {
     "name": "stdout",
     "output_type": "stream",
     "text": [
      "\n",
      "\n",
      "Predicting test data using Multilayered Perceptron\n",
      "                                    precision    recall  f1-score   support\n",
      "\n",
      "Investment and Growth related News       0.75      1.00      0.86        12\n",
      "                            Others       1.00      0.80      0.89        10\n",
      "Products, Initiatives or Strategy        1.00      0.80      0.89        10\n",
      "   Sales, User or Geography Growth       1.00      0.80      0.89        10\n",
      "\n",
      "                          accuracy                           0.86      1835\n",
      "                         macro avg       0.72      0.80      0.74      1835\n",
      "                      weighted avg       0.82      0.92      0.85      1835\n",
      "\n",
      "Accuracy achieved is 0.8333333333333334\n"
     ]
    }
   ],
   "source": [
    "# # Final Model: Multilayered Perceptron\n",
    "# ## Predict test data\n",
    "print(\"\\n\\nPredicting test data using Multilayered Perceptron\")\n",
    "pred_final = mlp.predict(Xte)\n",
    "print(classification_report(Yte, pred_final, labels=Ytr ,target_names=encoder.classes_))\n",
    "print('Accuracy achieved is ' + str(accuracy_score(Yte,pred_final)))"
   ]
  },
  {
   "cell_type": "code",
   "execution_count": 54,
   "metadata": {},
   "outputs": [],
   "source": [
    "output = {\"title\":vectorizer.inverse_transform(Xte), \"predicted\":encoder.inverse_transform(pred_final),\"actual\": encoder.inverse_transform(Yte)}"
   ]
  },
  {
   "cell_type": "code",
   "execution_count": 55,
   "metadata": {},
   "outputs": [],
   "source": [
    "#df = pd.DataFrame(output, columns=[\"title\",\"predicted\",\"actual\"])\n",
    "#df.to_csv(\"C:\\\\Users\\\\Kratika\\\\Downloads\\\\News333_title_predication_1.csv\")"
   ]
  },
  {
   "cell_type": "code",
   "execution_count": 56,
   "metadata": {},
   "outputs": [
    {
     "name": "stdout",
     "output_type": "stream",
     "text": [
      "Accuracy achieved is 0.8333333333333334\n"
     ]
    }
   ],
   "source": [
    "pred_final = mlp.predict(Xte)\n",
    "print('Accuracy achieved is ' + str(np.mean(pred_final == Yte)))\n",
    "output = {\"text\":vectorizer.inverse_transform(Xte), \"predicted\":encoder.inverse_transform(pred_final),\"actual\": encoder.inverse_transform(Yte)}\n",
    "df = pd.DataFrame(output, columns=[\"text\",\"predicted\",\"actual\"])\n"
   ]
  },
  {
   "cell_type": "code",
   "execution_count": 57,
   "metadata": {},
   "outputs": [],
   "source": [
    "df = pd.DataFrame(output, columns=[\"text\",\"predicted\",\"actual\"])\n",
    "df.to_csv(\"C:\\\\Users\\\\Kratika\\\\Downloads\\\\old.csv\")"
   ]
  },
  {
   "cell_type": "code",
   "execution_count": null,
   "metadata": {},
   "outputs": [],
   "source": []
  }
 ],
 "metadata": {
  "kernelspec": {
   "display_name": "Python 3",
   "language": "python",
   "name": "python3"
  },
  "language_info": {
   "codemirror_mode": {
    "name": "ipython",
    "version": 3
   },
   "file_extension": ".py",
   "mimetype": "text/x-python",
   "name": "python",
   "nbconvert_exporter": "python",
   "pygments_lexer": "ipython3",
   "version": "3.7.3"
  }
 },
 "nbformat": 4,
 "nbformat_minor": 2
}
