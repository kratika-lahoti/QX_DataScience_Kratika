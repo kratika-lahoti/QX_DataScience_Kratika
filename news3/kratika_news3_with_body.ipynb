{
 "cells": [
  {
   "cell_type": "code",
   "execution_count": 24,
   "metadata": {},
   "outputs": [],
   "source": [
    "import re\n",
    "import pandas as pd # CSV file I/O (pd.read_csv)\n",
    "from nltk.corpus import stopwords\n",
    "\n",
    "import copy\n",
    "import numpy as np\n",
    "import re\n",
    "import nltk\n",
    "from sklearn.model_selection import train_test_split\n",
    "from sklearn.feature_extraction.text import CountVectorizer\n",
    "from sklearn.preprocessing import LabelEncoder\n",
    "from sklearn.feature_selection import VarianceThreshold\n",
    "from imblearn.over_sampling import SMOTE\n",
    "from sklearn.dummy import DummyClassifier\n",
    "from sklearn.naive_bayes import MultinomialNB\n",
    "from sklearn.tree import DecisionTreeClassifier\n",
    "from sklearn.neural_network import MLPClassifier\n",
    "from sklearn.ensemble import RandomForestClassifier\n",
    "from sklearn import metrics\n",
    "from sklearn.metrics import accuracy_score\n",
    "#from sklearn.model_selection import cross_val_score, KFold\n",
    "from sklearn.metrics import confusion_matrix\n",
    "from sklearn.metrics import classification_report"
   ]
  },
  {
   "cell_type": "code",
   "execution_count": 25,
   "metadata": {},
   "outputs": [
    {
     "data": {
      "text/html": [
       "<div>\n",
       "<style scoped>\n",
       "    .dataframe tbody tr th:only-of-type {\n",
       "        vertical-align: middle;\n",
       "    }\n",
       "\n",
       "    .dataframe tbody tr th {\n",
       "        vertical-align: top;\n",
       "    }\n",
       "\n",
       "    .dataframe thead th {\n",
       "        text-align: right;\n",
       "    }\n",
       "</style>\n",
       "<table border=\"1\" class=\"dataframe\">\n",
       "  <thead>\n",
       "    <tr style=\"text-align: right;\">\n",
       "      <th></th>\n",
       "      <th>Title</th>\n",
       "      <th>Body</th>\n",
       "      <th>Category</th>\n",
       "      <th>MegaCategory</th>\n",
       "    </tr>\n",
       "  </thead>\n",
       "  <tbody>\n",
       "    <tr>\n",
       "      <th>0</th>\n",
       "      <td>BS-VI transition may lead to dumping of old st...</td>\n",
       "      <td>BS-VI transition may lead to dumping of old st...</td>\n",
       "      <td>Annual Report - Comments made in the Annual Re...</td>\n",
       "      <td>Financial</td>\n",
       "    </tr>\n",
       "    <tr>\n",
       "      <th>1</th>\n",
       "      <td>Annual Report 2016-2017 of Bajaj Finserv Limited</td>\n",
       "      <td>It is a broadly described annual report of Baj...</td>\n",
       "      <td>Annual Report - Comments made in the Annual Re...</td>\n",
       "      <td>Financial</td>\n",
       "    </tr>\n",
       "    <tr>\n",
       "      <th>2</th>\n",
       "      <td>Annual Report 2017-2018 of Eicher Motors Limit...</td>\n",
       "      <td>It is a broadly described annual report of\\nEi...</td>\n",
       "      <td>Annual Report - Comments made in the Annual Re...</td>\n",
       "      <td>Financial</td>\n",
       "    </tr>\n",
       "    <tr>\n",
       "      <th>3</th>\n",
       "      <td>Hindalco Industries : Chairman Kumar Mangalam ...</td>\n",
       "      <td>(You can enter multiple email addresses separa...</td>\n",
       "      <td>Annual Report - Comments made in the Annual Re...</td>\n",
       "      <td>Financial</td>\n",
       "    </tr>\n",
       "    <tr>\n",
       "      <th>4</th>\n",
       "      <td>WIPRO continues it's uptrend, although on a we...</td>\n",
       "      <td>WIPRO continues it's uptrend, although on a we...</td>\n",
       "      <td>Annual Report - Comments made in the Annual Re...</td>\n",
       "      <td>Financial</td>\n",
       "    </tr>\n",
       "  </tbody>\n",
       "</table>\n",
       "</div>"
      ],
      "text/plain": [
       "                                               Title  \\\n",
       "0  BS-VI transition may lead to dumping of old st...   \n",
       "1   Annual Report 2016-2017 of Bajaj Finserv Limited   \n",
       "2  Annual Report 2017-2018 of Eicher Motors Limit...   \n",
       "3  Hindalco Industries : Chairman Kumar Mangalam ...   \n",
       "4  WIPRO continues it's uptrend, although on a we...   \n",
       "\n",
       "                                                Body  \\\n",
       "0  BS-VI transition may lead to dumping of old st...   \n",
       "1  It is a broadly described annual report of Baj...   \n",
       "2  It is a broadly described annual report of\\nEi...   \n",
       "3  (You can enter multiple email addresses separa...   \n",
       "4  WIPRO continues it's uptrend, although on a we...   \n",
       "\n",
       "                                            Category MegaCategory  \n",
       "0  Annual Report - Comments made in the Annual Re...    Financial  \n",
       "1  Annual Report - Comments made in the Annual Re...    Financial  \n",
       "2  Annual Report - Comments made in the Annual Re...    Financial  \n",
       "3  Annual Report - Comments made in the Annual Re...    Financial  \n",
       "4  Annual Report - Comments made in the Annual Re...    Financial  "
      ]
     },
     "execution_count": 25,
     "metadata": {},
     "output_type": "execute_result"
    }
   ],
   "source": [
    "news = pd.read_excel(\"C:\\\\Users\\\\Kratika\\\\Downloads\\\\News333.xlsx\")\n",
    "news.head()"
   ]
  },
  {
   "cell_type": "code",
   "execution_count": 26,
   "metadata": {},
   "outputs": [],
   "source": [
    "from nltk.tokenize import word_tokenize \n",
    "\n",
    "def remove_stop_words(data):\n",
    "    stop_words = set(stopwords.words('english'))\n",
    "    stop_words.union(['january','february','march','april','may','june','july','august','september','october','november','december'])\n",
    "    stop_words.union(['jan','feb','mar','apr','may','jun','jul','aug','sept','oct','nov','dec'])\n",
    "    stop_words.union(['monday', 'tuesday', 'wednesday', 'thursday','friday','saturday','sunday'])\n",
    "    stop_words.union(['pm', 'am'])\n",
    "    word_tokens = word_tokenize(data) \n",
    "    filtered_sentence = []\n",
    "    \n",
    "    for w in word_tokens: \n",
    "        if w.lower() not in stop_words: \n",
    "            filtered_sentence.append(w) \n",
    "    \n",
    "    return \" \".join(filtered_sentence)"
   ]
  },
  {
   "cell_type": "code",
   "execution_count": 27,
   "metadata": {},
   "outputs": [],
   "source": [
    "\n",
    "news['clean_title'] = news['Title'].apply(remove_stop_words) \n",
    "\n",
    "#remove_stop_words_Body\n"
   ]
  },
  {
   "cell_type": "code",
   "execution_count": 28,
   "metadata": {},
   "outputs": [],
   "source": [
    "\n",
    "\n",
    "news['clean_body'] = news['Body'].apply(remove_stop_words) \n"
   ]
  },
  {
   "cell_type": "code",
   "execution_count": 29,
   "metadata": {},
   "outputs": [
    {
     "data": {
      "text/html": [
       "<div>\n",
       "<style scoped>\n",
       "    .dataframe tbody tr th:only-of-type {\n",
       "        vertical-align: middle;\n",
       "    }\n",
       "\n",
       "    .dataframe tbody tr th {\n",
       "        vertical-align: top;\n",
       "    }\n",
       "\n",
       "    .dataframe thead th {\n",
       "        text-align: right;\n",
       "    }\n",
       "</style>\n",
       "<table border=\"1\" class=\"dataframe\">\n",
       "  <thead>\n",
       "    <tr style=\"text-align: right;\">\n",
       "      <th></th>\n",
       "      <th>Title</th>\n",
       "      <th>Body</th>\n",
       "      <th>Category</th>\n",
       "      <th>MegaCategory</th>\n",
       "      <th>clean_title</th>\n",
       "      <th>clean_body</th>\n",
       "    </tr>\n",
       "  </thead>\n",
       "  <tbody>\n",
       "    <tr>\n",
       "      <th>0</th>\n",
       "      <td>BS-VI transition may lead to dumping of old st...</td>\n",
       "      <td>BS-VI transition may lead to dumping of old st...</td>\n",
       "      <td>Annual Report - Comments made in the Annual Re...</td>\n",
       "      <td>Financial</td>\n",
       "      <td>BS-VI transition may lead dumping old stock : ...</td>\n",
       "      <td>BS-VI transition may lead dumping old stock : ...</td>\n",
       "    </tr>\n",
       "    <tr>\n",
       "      <th>1</th>\n",
       "      <td>Annual Report 2016-2017 of Bajaj Finserv Limited</td>\n",
       "      <td>It is a broadly described annual report of Baj...</td>\n",
       "      <td>Annual Report - Comments made in the Annual Re...</td>\n",
       "      <td>Financial</td>\n",
       "      <td>Annual Report 2016-2017 Bajaj Finserv Limited</td>\n",
       "      <td>broadly described annual report Bajaj Finserv ...</td>\n",
       "    </tr>\n",
       "    <tr>\n",
       "      <th>2</th>\n",
       "      <td>Annual Report 2017-2018 of Eicher Motors Limit...</td>\n",
       "      <td>It is a broadly described annual report of\\nEi...</td>\n",
       "      <td>Annual Report - Comments made in the Annual Re...</td>\n",
       "      <td>Financial</td>\n",
       "      <td>Annual Report 2017-2018 Eicher Motors Limited ...</td>\n",
       "      <td>broadly described annual report Eicher Motors ...</td>\n",
       "    </tr>\n",
       "    <tr>\n",
       "      <th>3</th>\n",
       "      <td>Hindalco Industries : Chairman Kumar Mangalam ...</td>\n",
       "      <td>(You can enter multiple email addresses separa...</td>\n",
       "      <td>Annual Report - Comments made in the Annual Re...</td>\n",
       "      <td>Financial</td>\n",
       "      <td>Hindalco Industries : Chairman Kumar Mangalam ...</td>\n",
       "      <td>( enter multiple email addresses separated com...</td>\n",
       "    </tr>\n",
       "    <tr>\n",
       "      <th>4</th>\n",
       "      <td>WIPRO continues it's uptrend, although on a we...</td>\n",
       "      <td>WIPRO continues it's uptrend, although on a we...</td>\n",
       "      <td>Annual Report - Comments made in the Annual Re...</td>\n",
       "      <td>Financial</td>\n",
       "      <td>WIPRO continues 's uptrend , although weaker note</td>\n",
       "      <td>WIPRO continues 's uptrend , although weaker n...</td>\n",
       "    </tr>\n",
       "  </tbody>\n",
       "</table>\n",
       "</div>"
      ],
      "text/plain": [
       "                                               Title  \\\n",
       "0  BS-VI transition may lead to dumping of old st...   \n",
       "1   Annual Report 2016-2017 of Bajaj Finserv Limited   \n",
       "2  Annual Report 2017-2018 of Eicher Motors Limit...   \n",
       "3  Hindalco Industries : Chairman Kumar Mangalam ...   \n",
       "4  WIPRO continues it's uptrend, although on a we...   \n",
       "\n",
       "                                                Body  \\\n",
       "0  BS-VI transition may lead to dumping of old st...   \n",
       "1  It is a broadly described annual report of Baj...   \n",
       "2  It is a broadly described annual report of\\nEi...   \n",
       "3  (You can enter multiple email addresses separa...   \n",
       "4  WIPRO continues it's uptrend, although on a we...   \n",
       "\n",
       "                                            Category MegaCategory  \\\n",
       "0  Annual Report - Comments made in the Annual Re...    Financial   \n",
       "1  Annual Report - Comments made in the Annual Re...    Financial   \n",
       "2  Annual Report - Comments made in the Annual Re...    Financial   \n",
       "3  Annual Report - Comments made in the Annual Re...    Financial   \n",
       "4  Annual Report - Comments made in the Annual Re...    Financial   \n",
       "\n",
       "                                         clean_title  \\\n",
       "0  BS-VI transition may lead dumping old stock : ...   \n",
       "1      Annual Report 2016-2017 Bajaj Finserv Limited   \n",
       "2  Annual Report 2017-2018 Eicher Motors Limited ...   \n",
       "3  Hindalco Industries : Chairman Kumar Mangalam ...   \n",
       "4  WIPRO continues 's uptrend , although weaker note   \n",
       "\n",
       "                                          clean_body  \n",
       "0  BS-VI transition may lead dumping old stock : ...  \n",
       "1  broadly described annual report Bajaj Finserv ...  \n",
       "2  broadly described annual report Eicher Motors ...  \n",
       "3  ( enter multiple email addresses separated com...  \n",
       "4  WIPRO continues 's uptrend , although weaker n...  "
      ]
     },
     "execution_count": 29,
     "metadata": {},
     "output_type": "execute_result"
    }
   ],
   "source": [
    "news.head()"
   ]
  },
  {
   "cell_type": "code",
   "execution_count": 30,
   "metadata": {},
   "outputs": [
    {
     "name": "stdout",
     "output_type": "stream",
     "text": [
      "\n",
      "Splitting data\n",
      "Training:  2379\n",
      "Developement:  49\n",
      "Testing:  50\n"
     ]
    }
   ],
   "source": [
    "# ## Split data\n",
    "print(\"\\nSplitting data\")\n",
    "title_tr, title_te, MegaCategory_tr, MegaCategory_te = train_test_split(news['clean_body'], news.MegaCategory,test_size =.02)\n",
    "title_tr, title_de, MegaCategory_tr , MegaCategory_de = train_test_split(title_tr,MegaCategory_tr,test_size =.02)\n",
    "print(\"Training: \",len(title_tr))\n",
    "print(\"Developement: \",len(title_de),)\n",
    "print(\"Testing: \",len(title_te))"
   ]
  },
  {
   "cell_type": "code",
   "execution_count": 31,
   "metadata": {},
   "outputs": [
    {
     "name": "stdout",
     "output_type": "stream",
     "text": [
      "\n",
      "Vectorizing data\n"
     ]
    }
   ],
   "source": [
    "from sklearn.preprocessing import LabelEncoder\n",
    "\n",
    "# # Data Preprocessing\n",
    "# ## Vectorization of data\n",
    "# Vectorize the data using Bag of words (BOW)\n",
    "print(\"\\nVectorizing data\")\n",
    "tokenizer = nltk.tokenize.RegexpTokenizer(r\"\\w+\")\n",
    "stop_words = nltk.corpus.stopwords.words(\"english\")\n",
    "vectorizer = CountVectorizer(tokenizer=tokenizer.tokenize, stop_words=stop_words)\n",
    "\n",
    "vectorizer.fit(iter(title_tr))\n",
    "Xtr = vectorizer.transform(iter(title_tr))\n",
    "Xde = vectorizer.transform(iter(title_de))\n",
    "Xte = vectorizer.transform(iter(title_te))\n",
    "\n",
    "encoder = LabelEncoder()\n",
    "encoder.fit(MegaCategory_tr)\n",
    "Ytr = encoder.transform(MegaCategory_tr)\n",
    "Yde = encoder.transform(MegaCategory_de)\n",
    "Yte = encoder.transform(MegaCategory_te)"
   ]
  },
  {
   "cell_type": "code",
   "execution_count": 32,
   "metadata": {},
   "outputs": [
    {
     "name": "stdout",
     "output_type": "stream",
     "text": [
      "[11  4  8 ... 11 11  5]\n"
     ]
    }
   ],
   "source": [
    "print(Ytr)"
   ]
  },
  {
   "cell_type": "code",
   "execution_count": 33,
   "metadata": {},
   "outputs": [
    {
     "data": {
      "text/plain": [
       "<2379x16524 sparse matrix of type '<class 'numpy.int64'>'\n",
       "\twith 106268 stored elements in Compressed Sparse Row format>"
      ]
     },
     "execution_count": 33,
     "metadata": {},
     "output_type": "execute_result"
    }
   ],
   "source": [
    "Xtr"
   ]
  },
  {
   "cell_type": "code",
   "execution_count": 34,
   "metadata": {},
   "outputs": [
    {
     "name": "stdout",
     "output_type": "stream",
     "text": [
      "\n",
      "\n",
      "Training baseline classifier\n"
     ]
    }
   ],
   "source": [
    "# # Train Models\n",
    "# ### Baseline Model\n",
    "# “stratified”: generates predictions by respecting the training set’s class distribution.\n",
    "print(\"\\n\\nTraining baseline classifier\")\n",
    "dc = DummyClassifier(strategy=\"stratified\")\n",
    "dc.fit(Xtr, Ytr)\n",
    "pred = dc.predict(Xde)"
   ]
  },
  {
   "cell_type": "code",
   "execution_count": 35,
   "metadata": {},
   "outputs": [
    {
     "name": "stdout",
     "output_type": "stream",
     "text": [
      "                      precision    recall  f1-score   support\n",
      "\n",
      "Awards & Recognition       0.47      0.33      0.39        27\n",
      "   Corporate Updates       0.00      0.00      0.00         6\n",
      "               Event       0.00      0.00      0.00         4\n",
      "              Events       0.00      0.00      0.00         2\n",
      "           Financial       0.47      0.33      0.39        27\n",
      "              Growth       0.47      0.33      0.39        27\n",
      "       Industry News       0.47      0.33      0.39        27\n",
      "         Market Buzz       0.47      0.33      0.39        27\n",
      "       Negative News       0.47      0.33      0.39        27\n",
      "              People       0.00      0.00      0.00         1\n",
      "   Stock Performance       0.10      0.20      0.13         5\n",
      "  Uncategorised News       0.00      0.00      0.00         2\n",
      "\n",
      "           micro avg       0.34      0.29      0.31     31952\n",
      "           macro avg       0.21      0.17      0.18     31952\n",
      "        weighted avg       0.40      0.29      0.33     31952\n",
      "\n",
      "Accuracy achieved is 0.20408163265306123\n"
     ]
    },
    {
     "name": "stderr",
     "output_type": "stream",
     "text": [
      "C:\\ProgramData\\Anaconda3\\lib\\site-packages\\sklearn\\metrics\\classification.py:1870: UserWarning: labels size, 2379, does not match size of target_names, 12\n",
      "  .format(len(labels), len(target_names))\n",
      "C:\\ProgramData\\Anaconda3\\lib\\site-packages\\sklearn\\metrics\\classification.py:1437: UndefinedMetricWarning: Precision and F-score are ill-defined and being set to 0.0 in labels with no predicted samples.\n",
      "  'precision', 'predicted', average, warn_for)\n",
      "C:\\ProgramData\\Anaconda3\\lib\\site-packages\\sklearn\\metrics\\classification.py:1439: UndefinedMetricWarning: Recall and F-score are ill-defined and being set to 0.0 in labels with no true samples.\n",
      "  'recall', 'true', average, warn_for)\n"
     ]
    }
   ],
   "source": [
    "print(classification_report(Yde, pred, labels=Ytr ,target_names=encoder.classes_))\n",
    "print('Accuracy achieved is ' + str(np.mean(pred == Yde)))\n"
   ]
  },
  {
   "cell_type": "code",
   "execution_count": 36,
   "metadata": {},
   "outputs": [
    {
     "name": "stdout",
     "output_type": "stream",
     "text": [
      "Training Decision tree\n",
      "                      precision    recall  f1-score   support\n",
      "\n",
      "Awards & Recognition       0.71      0.74      0.73        27\n",
      "   Corporate Updates       1.00      0.17      0.29         6\n",
      "               Event       0.00      0.00      0.00         4\n",
      "              Events       0.50      0.50      0.50         2\n",
      "           Financial       0.71      0.74      0.73        27\n",
      "              Growth       0.71      0.74      0.73        27\n",
      "       Industry News       0.71      0.74      0.73        27\n",
      "         Market Buzz       0.71      0.74      0.73        27\n",
      "       Negative News       0.71      0.74      0.73        27\n",
      "              People       0.50      1.00      0.67         1\n",
      "   Stock Performance       0.29      0.40      0.33         5\n",
      "  Uncategorised News       0.50      0.50      0.50         2\n",
      "\n",
      "           micro avg       0.63      0.65      0.64     31952\n",
      "           macro avg       0.48      0.45      0.43     31952\n",
      "        weighted avg       0.66      0.65      0.64     31952\n",
      "\n",
      "Accuracy achieved is 0.5102040816326531\n"
     ]
    },
    {
     "name": "stderr",
     "output_type": "stream",
     "text": [
      "C:\\ProgramData\\Anaconda3\\lib\\site-packages\\sklearn\\metrics\\classification.py:1870: UserWarning: labels size, 2379, does not match size of target_names, 12\n",
      "  .format(len(labels), len(target_names))\n",
      "C:\\ProgramData\\Anaconda3\\lib\\site-packages\\sklearn\\metrics\\classification.py:1437: UndefinedMetricWarning: Precision and F-score are ill-defined and being set to 0.0 in labels with no predicted samples.\n",
      "  'precision', 'predicted', average, warn_for)\n",
      "C:\\ProgramData\\Anaconda3\\lib\\site-packages\\sklearn\\metrics\\classification.py:1439: UndefinedMetricWarning: Recall and F-score are ill-defined and being set to 0.0 in labels with no true samples.\n",
      "  'recall', 'true', average, warn_for)\n"
     ]
    }
   ],
   "source": [
    "\n",
    "# ### Decision Tree\n",
    "print(\"Training Decision tree\")\n",
    "dt = DecisionTreeClassifier()\n",
    "dt.fit(Xtr, Ytr)\n",
    "pred = dt.predict(Xde)\n",
    "print(classification_report(Yde, pred, labels=Ytr ,target_names=encoder.classes_))\n",
    "print('Accuracy achieved is ' + str(np.mean(pred == Yde)))"
   ]
  },
  {
   "cell_type": "code",
   "execution_count": 37,
   "metadata": {},
   "outputs": [
    {
     "name": "stdout",
     "output_type": "stream",
     "text": [
      "Training Random Forest\n",
      "                      precision    recall  f1-score   support\n",
      "\n",
      "Awards & Recognition       0.71      0.89      0.79        27\n",
      "   Corporate Updates       0.67      0.33      0.44         6\n",
      "               Event       0.00      0.00      0.00         4\n",
      "              Events       0.00      0.00      0.00         2\n",
      "           Financial       0.71      0.89      0.79        27\n",
      "              Growth       0.71      0.89      0.79        27\n",
      "       Industry News       0.71      0.89      0.79        27\n",
      "         Market Buzz       0.71      0.89      0.79        27\n",
      "       Negative News       0.71      0.89      0.79        27\n",
      "              People       1.00      1.00      1.00         1\n",
      "   Stock Performance       0.50      0.80      0.62         5\n",
      "  Uncategorised News       0.00      0.00      0.00         2\n",
      "\n",
      "           micro avg       0.67      0.80      0.73     31952\n",
      "           macro avg       0.48      0.57      0.51     31952\n",
      "        weighted avg       0.65      0.80      0.71     31952\n",
      "\n",
      "Accuracy achieved is 0.6326530612244898\n"
     ]
    },
    {
     "name": "stderr",
     "output_type": "stream",
     "text": [
      "C:\\ProgramData\\Anaconda3\\lib\\site-packages\\sklearn\\metrics\\classification.py:1870: UserWarning: labels size, 2379, does not match size of target_names, 12\n",
      "  .format(len(labels), len(target_names))\n",
      "C:\\ProgramData\\Anaconda3\\lib\\site-packages\\sklearn\\metrics\\classification.py:1437: UndefinedMetricWarning: Precision and F-score are ill-defined and being set to 0.0 in labels with no predicted samples.\n",
      "  'precision', 'predicted', average, warn_for)\n",
      "C:\\ProgramData\\Anaconda3\\lib\\site-packages\\sklearn\\metrics\\classification.py:1439: UndefinedMetricWarning: Recall and F-score are ill-defined and being set to 0.0 in labels with no true samples.\n",
      "  'recall', 'true', average, warn_for)\n"
     ]
    }
   ],
   "source": [
    "# ### Random Forest\n",
    "print(\"Training Random Forest\")\n",
    "rf = RandomForestClassifier(n_estimators=40)\n",
    "rf.fit(Xtr, Ytr)\n",
    "pred = rf.predict(Xde)\n",
    "print(classification_report(Yde, pred, labels=Ytr ,target_names=encoder.classes_))\n",
    "print('Accuracy achieved is ' + str(np.mean(pred == Yde)))"
   ]
  },
  {
   "cell_type": "code",
   "execution_count": 38,
   "metadata": {},
   "outputs": [
    {
     "name": "stdout",
     "output_type": "stream",
     "text": [
      "Training Multinomial Naive Bayesian\n",
      "                      precision    recall  f1-score   support\n",
      "\n",
      "Awards & Recognition       0.79      0.85      0.82        27\n",
      "   Corporate Updates       0.67      0.33      0.44         6\n",
      "               Event       0.00      0.00      0.00         4\n",
      "              Events       1.00      0.50      0.67         2\n",
      "           Financial       0.79      0.85      0.82        27\n",
      "              Growth       0.79      0.85      0.82        27\n",
      "       Industry News       0.79      0.85      0.82        27\n",
      "         Market Buzz       0.79      0.85      0.82        27\n",
      "       Negative News       0.79      0.85      0.82        27\n",
      "              People       1.00      1.00      1.00         1\n",
      "   Stock Performance       0.31      0.80      0.44         5\n",
      "  Uncategorised News       1.00      0.50      0.67         2\n",
      "\n",
      "           micro avg       0.71      0.77      0.74     31952\n",
      "           macro avg       0.53      0.58      0.53     31952\n",
      "        weighted avg       0.71      0.77      0.73     31952\n",
      "\n",
      "Accuracy achieved is 0.6326530612244898\n"
     ]
    },
    {
     "name": "stderr",
     "output_type": "stream",
     "text": [
      "C:\\ProgramData\\Anaconda3\\lib\\site-packages\\sklearn\\metrics\\classification.py:1870: UserWarning: labels size, 2379, does not match size of target_names, 12\n",
      "  .format(len(labels), len(target_names))\n",
      "C:\\ProgramData\\Anaconda3\\lib\\site-packages\\sklearn\\metrics\\classification.py:1437: UndefinedMetricWarning: Precision and F-score are ill-defined and being set to 0.0 in labels with no predicted samples.\n",
      "  'precision', 'predicted', average, warn_for)\n",
      "C:\\ProgramData\\Anaconda3\\lib\\site-packages\\sklearn\\metrics\\classification.py:1439: UndefinedMetricWarning: Recall and F-score are ill-defined and being set to 0.0 in labels with no true samples.\n",
      "  'recall', 'true', average, warn_for)\n"
     ]
    }
   ],
   "source": [
    "\n",
    "# ### Multinomial Naive Bayesian\n",
    "print(\"Training Multinomial Naive Bayesian\")\n",
    "nb = MultinomialNB()\n",
    "nb.fit(Xtr, Ytr)\n",
    "pred_nb = nb.predict(Xde)\n",
    "print(classification_report(Yde, pred_nb, labels=Ytr ,target_names=encoder.classes_))\n",
    "print('Accuracy achieved is ' + str(np.mean(pred == Yde)))"
   ]
  },
  {
   "cell_type": "code",
   "execution_count": 39,
   "metadata": {},
   "outputs": [
    {
     "name": "stdout",
     "output_type": "stream",
     "text": [
      "Training Support Vector Classification\n"
     ]
    },
    {
     "name": "stderr",
     "output_type": "stream",
     "text": [
      "C:\\ProgramData\\Anaconda3\\lib\\site-packages\\sklearn\\svm\\base.py:193: FutureWarning: The default value of gamma will change from 'auto' to 'scale' in version 0.22 to account better for unscaled features. Set gamma explicitly to 'auto' or 'scale' to avoid this warning.\n",
      "  \"avoid this warning.\", FutureWarning)\n"
     ]
    },
    {
     "name": "stdout",
     "output_type": "stream",
     "text": [
      "                      precision    recall  f1-score   support\n",
      "\n",
      "Awards & Recognition       0.55      1.00      0.71        27\n",
      "   Corporate Updates       0.00      0.00      0.00         6\n",
      "               Event       0.00      0.00      0.00         4\n",
      "              Events       0.00      0.00      0.00         2\n",
      "           Financial       0.55      1.00      0.71        27\n",
      "              Growth       0.55      1.00      0.71        27\n",
      "       Industry News       0.55      1.00      0.71        27\n",
      "         Market Buzz       0.55      1.00      0.71        27\n",
      "       Negative News       0.55      1.00      0.71        27\n",
      "              People       0.00      0.00      0.00         1\n",
      "   Stock Performance       0.00      0.00      0.00         5\n",
      "  Uncategorised News       0.00      0.00      0.00         2\n",
      "\n",
      "           micro avg       0.55      0.83      0.66     31952\n",
      "           macro avg       0.23      0.41      0.29     31952\n",
      "        weighted avg       0.46      0.83      0.59     31952\n",
      "\n",
      "Accuracy achieved is 0.5510204081632653\n"
     ]
    },
    {
     "name": "stderr",
     "output_type": "stream",
     "text": [
      "C:\\ProgramData\\Anaconda3\\lib\\site-packages\\sklearn\\metrics\\classification.py:1870: UserWarning: labels size, 2379, does not match size of target_names, 12\n",
      "  .format(len(labels), len(target_names))\n",
      "C:\\ProgramData\\Anaconda3\\lib\\site-packages\\sklearn\\metrics\\classification.py:1437: UndefinedMetricWarning: Precision and F-score are ill-defined and being set to 0.0 in labels with no predicted samples.\n",
      "  'precision', 'predicted', average, warn_for)\n",
      "C:\\ProgramData\\Anaconda3\\lib\\site-packages\\sklearn\\metrics\\classification.py:1439: UndefinedMetricWarning: Recall and F-score are ill-defined and being set to 0.0 in labels with no true samples.\n",
      "  'recall', 'true', average, warn_for)\n"
     ]
    }
   ],
   "source": [
    "# ### Support Vector Classification\n",
    "print(\"Training Support Vector Classification\")\n",
    "from sklearn.svm import SVC\n",
    "svc = SVC()\n",
    "svc.fit(Xtr, Ytr)\n",
    "pred = svc.predict(Xde)\n",
    "print(classification_report(Yde, pred, labels=Ytr ,target_names=encoder.classes_))\n",
    "print('Accuracy achieved is ' + str(np.mean(pred == Yde)))"
   ]
  },
  {
   "cell_type": "code",
   "execution_count": 40,
   "metadata": {},
   "outputs": [
    {
     "name": "stdout",
     "output_type": "stream",
     "text": [
      "Training Multilayered Perceptron\n",
      "                      precision    recall  f1-score   support\n",
      "\n",
      "Awards & Recognition       0.81      0.93      0.86        27\n",
      "   Corporate Updates       1.00      0.33      0.50         6\n",
      "               Event       0.00      0.00      0.00         4\n",
      "              Events       0.50      0.50      0.50         2\n",
      "           Financial       0.81      0.93      0.86        27\n",
      "              Growth       0.81      0.93      0.86        27\n",
      "       Industry News       0.81      0.93      0.86        27\n",
      "         Market Buzz       0.81      0.93      0.86        27\n",
      "       Negative News       0.81      0.93      0.86        27\n",
      "              People       0.50      1.00      0.67         1\n",
      "   Stock Performance       0.50      0.80      0.62         5\n",
      "  Uncategorised News       0.50      0.50      0.50         2\n",
      "\n",
      "           micro avg       0.77      0.85      0.81     31952\n",
      "           macro avg       0.61      0.67      0.61     31952\n",
      "        weighted avg       0.76      0.85      0.79     31952\n",
      "\n",
      "Accuracy achieved is 0.7142857142857143\n"
     ]
    },
    {
     "name": "stderr",
     "output_type": "stream",
     "text": [
      "C:\\ProgramData\\Anaconda3\\lib\\site-packages\\sklearn\\metrics\\classification.py:1870: UserWarning: labels size, 2379, does not match size of target_names, 12\n",
      "  .format(len(labels), len(target_names))\n",
      "C:\\ProgramData\\Anaconda3\\lib\\site-packages\\sklearn\\metrics\\classification.py:1437: UndefinedMetricWarning: Precision and F-score are ill-defined and being set to 0.0 in labels with no predicted samples.\n",
      "  'precision', 'predicted', average, warn_for)\n",
      "C:\\ProgramData\\Anaconda3\\lib\\site-packages\\sklearn\\metrics\\classification.py:1439: UndefinedMetricWarning: Recall and F-score are ill-defined and being set to 0.0 in labels with no true samples.\n",
      "  'recall', 'true', average, warn_for)\n"
     ]
    }
   ],
   "source": [
    "# ### Multilayered Perceptron\n",
    "print(\"Training Multilayered Perceptron\")\n",
    "mlp = MLPClassifier(solver='adam', alpha=1e-5, hidden_layer_sizes=(100, 20), random_state=1, max_iter=400)\n",
    "mlp.fit(Xtr, Ytr)\n",
    "pred = mlp.predict(Xde)\n",
    "print(classification_report(Yde, pred, labels=Ytr ,target_names=encoder.classes_))\n",
    "print('Accuracy achieved is ' + str(np.mean(pred == Yde)))"
   ]
  },
  {
   "cell_type": "code",
   "execution_count": 41,
   "metadata": {},
   "outputs": [
    {
     "name": "stdout",
     "output_type": "stream",
     "text": [
      "\n",
      "\n",
      "Predicting test data using Multinomial Naive Bayesian\n",
      "                      precision    recall  f1-score   support\n",
      "\n",
      "Awards & Recognition       0.58      0.79      0.67        19\n",
      "   Corporate Updates       0.50      0.33      0.40         6\n",
      "               Event       0.00      0.00      0.00         4\n",
      "              Events       0.00      0.00      0.00         2\n",
      "           Financial       0.58      0.79      0.67        19\n",
      "              Growth       0.58      0.79      0.67        19\n",
      "       Industry News       0.58      0.79      0.67        19\n",
      "         Market Buzz       0.58      0.79      0.67        19\n",
      "       Negative News       0.58      0.79      0.67        19\n",
      "              People       0.00      0.00      0.00         2\n",
      "   Stock Performance       0.33      0.83      0.48         6\n",
      "  Uncategorised News       0.00      0.00      0.00         2\n",
      "\n",
      "           micro avg       0.53      0.69      0.60     25373\n",
      "           macro avg       0.39      0.53      0.43     25373\n",
      "        weighted avg       0.51      0.69      0.58     25373\n",
      "\n",
      "Accuracy achieved is 0.48\n"
     ]
    }
   ],
   "source": [
    "# # Final Model: Multinomial Naive Bayesian\n",
    "# **Multinomial Naive Bayesian** works the best. Lets run NB on our test data and get the confusion matrix and its heat map.\n",
    "# ## Predict test data\n",
    "print(\"\\n\\nPredicting test data using Multinomial Naive Bayesian\")\n",
    "pred_final = nb.predict(Xte)\n",
    "print(classification_report(Yte, pred_final, labels=Ytr ,target_names=encoder.classes_))\n",
    "print('Accuracy achieved is ' + str(np.mean(pred_final == Yte)))\n"
   ]
  },
  {
   "cell_type": "code",
   "execution_count": 47,
   "metadata": {},
   "outputs": [],
   "source": [
    "def compareAlgo(x, y):\n",
    "    print(\"Dummy cl\")\n",
    "    pred = dc.predict(x)\n",
    "    print('Accuracy achieved is ' + str(np.mean(pred == y)))\n",
    "\n",
    "    ### Decision Tree\n",
    "    print(\"Decision Tree\")\n",
    "    pred = dt.predict(x)\n",
    "    print('Accuracy achieved is ' + str(np.mean(pred == y)))\n",
    "\n",
    "\n",
    "    # ### Random Forest\n",
    "    print(\"Random Forest\")\n",
    "    pred = rf.predict(x)\n",
    "    print('Accuracy achieved is ' + str(np.mean(pred_final == y)))\n",
    "\n",
    "    ### Multinomial Naive Bayesian\n",
    "    print(\"Training Multilayered Perceptron\")\n",
    "    pred_nb = nb.predict(x)\n",
    "    print('Accuracy achieved is ' + str(np.mean(pred_final == y)))\n",
    "\n",
    "    # ### Support Vector Classification\n",
    "    print(\"Training Multilayered Perceptron\")\n",
    "    pred = svc.predict(x)\n",
    "    print('Accuracy achieved is ' + str(np.mean(pred_final == y)))\n",
    "\n",
    "    # ### Multilayered Perceptron\n",
    "    print(\"Training Multilayered Perceptron\")\n",
    "    pred = mlp.predict(x)\n",
    "    print('Accuracy achieved is ' + str(np.mean(pred_final == y)))\n"
   ]
  },
  {
   "cell_type": "code",
   "execution_count": 48,
   "metadata": {},
   "outputs": [
    {
     "name": "stdout",
     "output_type": "stream",
     "text": [
      "dev data\n",
      "Dummy cl\n",
      "Accuracy achieved is 0.30612244897959184\n",
      "Decision Tree\n",
      "Accuracy achieved is 0.5102040816326531\n",
      "Random Forest\n",
      "Accuracy achieved is 0.0\n",
      "Training Multilayered Perceptron\n",
      "Accuracy achieved is 0.0\n",
      "Training Multilayered Perceptron\n"
     ]
    },
    {
     "name": "stderr",
     "output_type": "stream",
     "text": [
      "C:\\ProgramData\\Anaconda3\\lib\\site-packages\\ipykernel_launcher.py:15: DeprecationWarning: elementwise comparison failed; this will raise an error in the future.\n",
      "  from ipykernel import kernelapp as app\n",
      "C:\\ProgramData\\Anaconda3\\lib\\site-packages\\ipykernel_launcher.py:20: DeprecationWarning: elementwise comparison failed; this will raise an error in the future.\n",
      "C:\\ProgramData\\Anaconda3\\lib\\site-packages\\ipykernel_launcher.py:25: DeprecationWarning: elementwise comparison failed; this will raise an error in the future.\n",
      "C:\\ProgramData\\Anaconda3\\lib\\site-packages\\ipykernel_launcher.py:30: DeprecationWarning: elementwise comparison failed; this will raise an error in the future.\n"
     ]
    },
    {
     "name": "stdout",
     "output_type": "stream",
     "text": [
      "Accuracy achieved is 0.0\n",
      "Training Multilayered Perceptron\n",
      "Accuracy achieved is 0.0\n",
      "test data\n",
      "Dummy cl\n",
      "Accuracy achieved is 0.16\n",
      "Decision Tree\n",
      "Accuracy achieved is 0.38\n",
      "Random Forest\n",
      "Accuracy achieved is 0.5\n",
      "Training Multilayered Perceptron\n",
      "Accuracy achieved is 0.5\n",
      "Training Multilayered Perceptron\n",
      "Accuracy achieved is 0.5\n",
      "Training Multilayered Perceptron\n",
      "Accuracy achieved is 0.5\n"
     ]
    }
   ],
   "source": [
    "print(\"dev data\")\n",
    "compareAlgo(Xde, Yde)\n",
    "print(\"test data\")\n",
    "compareAlgo(Xte, Yte)"
   ]
  },
  {
   "cell_type": "code",
   "execution_count": 45,
   "metadata": {},
   "outputs": [
    {
     "name": "stdout",
     "output_type": "stream",
     "text": [
      "Accuracy achieved is 0.5\n"
     ]
    }
   ],
   "source": [
    "pred_final = mlp.predict(Xte)\n",
    "print('Accuracy achieved is ' + str(np.mean(pred_final == Yte)))\n",
    "output = {\"body\":vectorizer.inverse_transform(Xte), \"predicted\":encoder.inverse_transform(pred_final),\"actual\": encoder.inverse_transform(Yte)}\n",
    "df = pd.DataFrame(output, columns=[\"body\",\"predicted\",\"actual\"])\n"
   ]
  },
  {
   "cell_type": "code",
   "execution_count": null,
   "metadata": {},
   "outputs": [],
   "source": []
  },
  {
   "cell_type": "code",
   "execution_count": 43,
   "metadata": {},
   "outputs": [],
   "source": [
    "df.to_csv(\"C:\\\\Users\\\\Kratika\\\\Downloads\\\\News333_body_predication.csv\")"
   ]
  },
  {
   "cell_type": "code",
   "execution_count": null,
   "metadata": {},
   "outputs": [],
   "source": []
  }
 ],
 "metadata": {
  "kernelspec": {
   "display_name": "Python 3",
   "language": "python",
   "name": "python3"
  },
  "language_info": {
   "codemirror_mode": {
    "name": "ipython",
    "version": 3
   },
   "file_extension": ".py",
   "mimetype": "text/x-python",
   "name": "python",
   "nbconvert_exporter": "python",
   "pygments_lexer": "ipython3",
   "version": "3.7.3"
  }
 },
 "nbformat": 4,
 "nbformat_minor": 2
}
