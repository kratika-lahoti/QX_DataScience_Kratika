{
 "cells": [
  {
   "cell_type": "code",
   "execution_count": 185,
   "metadata": {},
   "outputs": [],
   "source": [
    "import re\n",
    "import pandas as pd\n",
    "from nltk.corpus import stopwords\n",
    "\n",
    "import copy\n",
    "import numpy as np\n",
    "\n",
    "import nltk\n",
    "from sklearn.model_selection import train_test_split\n",
    "from sklearn.feature_extraction.text import CountVectorizer\n",
    "from sklearn.preprocessing import LabelEncoder\n",
    "from sklearn.feature_selection import VarianceThreshold\n",
    "from imblearn.over_sampling import SMOTE\n",
    "from sklearn.dummy import DummyClassifier\n",
    "from sklearn.naive_bayes import MultinomialNB\n",
    "from sklearn.tree import DecisionTreeClassifier\n",
    "from sklearn.neural_network import MLPClassifier\n",
    "from sklearn.ensemble import RandomForestClassifier\n",
    "from sklearn import metrics\n",
    "from sklearn.metrics import accuracy_score\n",
    "#from sklearn.model_selection import cross_val_score, KFold\n",
    "from sklearn.metrics import confusion_matrix\n",
    "from sklearn.metrics import classification_report"
   ]
  },
  {
   "cell_type": "code",
   "execution_count": 192,
   "metadata": {},
   "outputs": [
    {
     "data": {
      "text/html": [
       "<div>\n",
       "<style scoped>\n",
       "    .dataframe tbody tr th:only-of-type {\n",
       "        vertical-align: middle;\n",
       "    }\n",
       "\n",
       "    .dataframe tbody tr th {\n",
       "        vertical-align: top;\n",
       "    }\n",
       "\n",
       "    .dataframe thead th {\n",
       "        text-align: right;\n",
       "    }\n",
       "</style>\n",
       "<table border=\"1\" class=\"dataframe\">\n",
       "  <thead>\n",
       "    <tr style=\"text-align: right;\">\n",
       "      <th></th>\n",
       "      <th>Title</th>\n",
       "      <th>Body</th>\n",
       "      <th>Category</th>\n",
       "      <th>MegaCategory</th>\n",
       "    </tr>\n",
       "  </thead>\n",
       "  <tbody>\n",
       "    <tr>\n",
       "      <th>0</th>\n",
       "      <td>Cipla acquires USFDA approval for its hyperten...</td>\n",
       "      <td>Indian pharmaceutical and biotechnology conglo...</td>\n",
       "      <td>Approval - Alert me when a company gets an app...</td>\n",
       "      <td>Growth</td>\n",
       "    </tr>\n",
       "    <tr>\n",
       "      <th>1</th>\n",
       "      <td>Forest Labs gets US conditional approval for L...</td>\n",
       "      <td>Forest Labs gets US conditional approval for L...</td>\n",
       "      <td>Approval - Alert me when a company gets an app...</td>\n",
       "      <td>Growth</td>\n",
       "    </tr>\n",
       "    <tr>\n",
       "      <th>2</th>\n",
       "      <td>Axis Bank plans to focus on rural markets</td>\n",
       "      <td>Private sector lender Axis Bank is focussing o...</td>\n",
       "      <td>Growth/Focus in exisitng terrain - Alert me wh...</td>\n",
       "      <td>Growth</td>\n",
       "    </tr>\n",
       "    <tr>\n",
       "      <th>3</th>\n",
       "      <td>Bajaj sports new brand identity, eyes bigger m...</td>\n",
       "      <td>Having seen significant success in overseas ma...</td>\n",
       "      <td>Growth/Focus in exisitng terrain - Alert me wh...</td>\n",
       "      <td>Growth</td>\n",
       "    </tr>\n",
       "    <tr>\n",
       "      <th>4</th>\n",
       "      <td>Dr Reddys sees US prices stabilising soon</td>\n",
       "      <td>Dr Reddys sees US prices stabilising soon</td>\n",
       "      <td>Growth/Focus in exisitng terrain - Alert me wh...</td>\n",
       "      <td>Growth</td>\n",
       "    </tr>\n",
       "  </tbody>\n",
       "</table>\n",
       "</div>"
      ],
      "text/plain": [
       "                                               Title  \\\n",
       "0  Cipla acquires USFDA approval for its hyperten...   \n",
       "1  Forest Labs gets US conditional approval for L...   \n",
       "2          Axis Bank plans to focus on rural markets   \n",
       "3  Bajaj sports new brand identity, eyes bigger m...   \n",
       "4          Dr Reddys sees US prices stabilising soon   \n",
       "\n",
       "                                                Body  \\\n",
       "0  Indian pharmaceutical and biotechnology conglo...   \n",
       "1  Forest Labs gets US conditional approval for L...   \n",
       "2  Private sector lender Axis Bank is focussing o...   \n",
       "3  Having seen significant success in overseas ma...   \n",
       "4          Dr Reddys sees US prices stabilising soon   \n",
       "\n",
       "                                            Category MegaCategory  \n",
       "0  Approval - Alert me when a company gets an app...       Growth  \n",
       "1  Approval - Alert me when a company gets an app...       Growth  \n",
       "2  Growth/Focus in exisitng terrain - Alert me wh...       Growth  \n",
       "3  Growth/Focus in exisitng terrain - Alert me wh...       Growth  \n",
       "4  Growth/Focus in exisitng terrain - Alert me wh...       Growth  "
      ]
     },
     "execution_count": 192,
     "metadata": {},
     "output_type": "execute_result"
    }
   ],
   "source": [
    "news = pd.read_excel(\"C:\\\\Users\\\\Kratika\\\\Downloads\\\\News_Growth.xlsx\")\n",
    "news.head()"
   ]
  },
  {
   "cell_type": "code",
   "execution_count": 193,
   "metadata": {},
   "outputs": [],
   "source": [
    "from nltk.tokenize import word_tokenize \n",
    "\n",
    "def remove_stop_words(data):\n",
    "    stop_words = set(stopwords.words('english'))\n",
    "    stop_words.union(['january','february','march','april','may','june','july','august','september','october','november','december'])\n",
    "    stop_words.union(['jan','feb','mar','apr','may','jun','jul','aug','sept','oct','nov','dec'])\n",
    "    stop_words.union(['monday', 'tuesday', 'wednesday', 'thursday','friday','saturday','sunday'])\n",
    "    stop_words.union(['am', 'pm'])\n",
    "    word_tokens = word_tokenize(data) \n",
    "    filtered_sentence = []\n",
    "    \n",
    "    for w in word_tokens: \n",
    "        if w.lower() not in stop_words: \n",
    "            filtered_sentence.append(w) \n",
    "    \n",
    "    return \" \".join(filtered_sentence)"
   ]
  },
  {
   "cell_type": "code",
   "execution_count": 194,
   "metadata": {},
   "outputs": [],
   "source": [
    "news['text'] = news.Title + \" \" + news.Body"
   ]
  },
  {
   "cell_type": "code",
   "execution_count": 195,
   "metadata": {},
   "outputs": [
    {
     "name": "stdout",
     "output_type": "stream",
     "text": [
      "shareholders : shareholder\n",
      "stocks : stock\n",
      "companys : company\n",
      "trading : trade\n",
      "weekly : week\n",
      "billion: billionaire\n",
      "high : higher\n",
      "close : closeed\n",
      "finance : financial\n",
      "biggest: high\n",
      "unit: unit\n",
      "protect: protection\n",
      "organisation: organised\n",
      "'company: 'companies\n",
      "better : good\n"
     ]
    }
   ],
   "source": [
    "# import these modules \n",
    "from nltk.stem import WordNetLemmatizer \n",
    "  \n",
    "lemmatizer = WordNetLemmatizer() \n",
    "  \n",
    "print(\"shareholders :\", lemmatizer.lemmatize(\"shareholder\")) \n",
    "print(\"stocks :\", lemmatizer.lemmatize(\"stock\")) \n",
    "print(\"companys :\", lemmatizer.lemmatize(\"company\")) \n",
    "print(\"trading :\", lemmatizer.lemmatize(\"trade\")) \n",
    "print(\"weekly :\", lemmatizer.lemmatize(\"week\")) \n",
    "print(\"billion:\", lemmatizer.lemmatize(\"billionaire\")) \n",
    "print(\"high :\", lemmatizer.lemmatize(\"higher\")) \n",
    "print(\"close :\", lemmatizer.lemmatize(\"closeed\")) \n",
    "print(\"finance :\", lemmatizer.lemmatize(\"financial\")) \n",
    "print(\"biggest:\", lemmatizer.lemmatize(\"high\")) \n",
    "print(\"unit:\", lemmatizer.lemmatize(\"units\")) \n",
    "print(\"protect:\", lemmatizer.lemmatize(\"protection\")) \n",
    "print(\"organisation:\", lemmatizer.lemmatize(\"organised\")) \n",
    "print(\"'company:\", lemmatizer.lemmatize(\"'companies\")) \n",
    "# a denotes adjective in \"pos\" \n",
    "print(\"better :\", lemmatizer.lemmatize(\"better\", pos =\"a\"))"
   ]
  },
  {
   "cell_type": "code",
   "execution_count": 196,
   "metadata": {},
   "outputs": [
    {
     "data": {
      "text/plain": [
       "0      Cipla acquires USFDA approval for its hyperten...\n",
       "1      Forest Labs gets US conditional approval for L...\n",
       "2      Axis Bank plans to focus on rural markets Priv...\n",
       "3      Bajaj sports new brand identity, eyes bigger m...\n",
       "4      Dr Reddys sees US prices stabilising soon Dr R...\n",
       "5      Wipro Launches Edge Artificial Intelligence So...\n",
       "6      Wipro unveils new AI software for global enter...\n",
       "7      Wipro +2.8% after AWS team-up launching a \"co-...\n",
       "8      Wipro to outshine previous performance: Azim P...\n",
       "9      Yes Bank shares continue rising spree, surge n...\n",
       "10     Tech Mahindra, IIT Kanpur collaborate to addre...\n",
       "11     Tech Mahindra, IIT Kanpur collaborate to addre...\n",
       "12     Tech Mahindra, IIT Kanpur sign MoU to conduct ...\n",
       "13     India: Giant Tech Mahindra To Cooperate With S...\n",
       "14     Samsung SDS, Tech Mahindra To Collaborate On N...\n",
       "15     Ultratech Cement bags Deora-Sitapuri limestone...\n",
       "16     NDRF, Wipro to work together in design for add...\n",
       "17     Wipro bags 7-year contract from ICICI Bank for...\n",
       "18     Wipro bags $300 mn contract from ICICI Bank Se...\n",
       "19     Wipro wins 5-year deal from Canadian airport o...\n",
       "20     Adani Ports signs a long term regasification p...\n",
       "21     Adcock Ingram, Cipla awarded portions of State...\n",
       "22     Coal India signs MoUs in Russia  Nagpur Today ...\n",
       "23     Tech Mahindra bags Rs 270 cr IT project from C...\n",
       "24     Coal India awards Rs270 crore IT upgradation p...\n",
       "25     TechM bags ?270-cr. deal from Coal India IT fi...\n",
       "26     Tech Mahindra bags Rs 270 cr IT modernisation ...\n",
       "27     HCL Tech signs multi-year deal with Cricket Au...\n",
       "28     HCL Technologies signs multi-year deal with Cr...\n",
       "29     HCL tech wins $500-million outsourcing deal fr...\n",
       "                             ...                        \n",
       "266    ONGC seeks partners to raise output from 64 fi...\n",
       "267    Reliance scouts for more retail acquisitions a...\n",
       "268    Know more about Reliance JioFiber Jio GigaFibe...\n",
       "269    SBI Card to soon issue Rupay credit cards: CEO...\n",
       "270    Tata Motors To Set-Up 300 Fast-Charging Points...\n",
       "271    UltraTech Cements nine-month profits hit by en...\n",
       "272    UltraTech continues aggressive capacity expans...\n",
       "273    Tata Motors domestic sales record 16% growth i...\n",
       "274    Zee Entertainment Enterprises Rating: Buy; Sta...\n",
       "275    Two-Wheeler Sales April 2019: Bajaj Sales Rise...\n",
       "276    Looking at continued growth across key markets...\n",
       "277    Royal Enfield sales rise 33 p.c. in October Ro...\n",
       "278    Hero MotoCorp sells 5,43,406 units in August S...\n",
       "279    Hero MotoCorp posts 16% growth in October; bea...\n",
       "280    Soap makers reduce prices to boost sales COMME...\n",
       "281    Tata Sons launch new digital vertical under Pr...\n",
       "282    LIC to be a listed company? If it does, it wil...\n",
       "283    Titan Machinery (NASDAQ:TITN) Stock Rating Low...\n",
       "284    2009 Nissan Titan 4X4 SE Crew Cab Login to Ema...\n",
       "285    Titan Machinery Inc. (NASDAQ:TITN) Given Avera...\n",
       "286    UltraTech Cement Ltd. GDR Overview No Headline...\n",
       "287    Microtech Ultratech Frag $295 Customized by El...\n",
       "288    UPL Limited: Helping a self-help group - CSR\\n...\n",
       "289    Vedanta: Vedanta may soon get freedom to marke...\n",
       "290    Yes Bank shares continue to fall; tank 13% NEW...\n",
       "291    Chandras may sell small stake in Zee Entertain...\n",
       "292    More lenders may sell stake in Zee Entertainme...\n",
       "293    Analyst corner: ‘Buy’ on Zee Entertainment Ent...\n",
       "294    Bangladesh signs deal with Reliance Power to b...\n",
       "295    Tata Motors gets order for over 200 Hexa from ...\n",
       "Name: text, Length: 296, dtype: object"
      ]
     },
     "execution_count": 196,
     "metadata": {},
     "output_type": "execute_result"
    }
   ],
   "source": [
    " news['text'].apply(lemmatizer.lemmatize)"
   ]
  },
  {
   "cell_type": "code",
   "execution_count": 197,
   "metadata": {},
   "outputs": [],
   "source": [
    "\n",
    "news['clean_title'] = news['Title'].apply(remove_stop_words)\n",
    "news['clean_body'] = news['Body'].apply(remove_stop_words)\n",
    "\n",
    "news['clean_text'] = news['text'].apply(remove_stop_words) \n",
    "\n",
    "#remove_stop_words_Body\n"
   ]
  },
  {
   "cell_type": "code",
   "execution_count": 198,
   "metadata": {},
   "outputs": [
    {
     "name": "stdout",
     "output_type": "stream",
     "text": [
      "\n",
      "Splitting data\n",
      "Training:  239\n",
      "Testing:  30\n"
     ]
    }
   ],
   "source": [
    "# ## Split data\n",
    "print(\"\\nSplitting data\")\n",
    "\n",
    "title_tr, title_te, MegaCategory_tr, MegaCategory_te = train_test_split(news['clean_text'], news.Category,test_size =.1)\n",
    "title_tr, title_de, MegaCategory_tr , MegaCategory_de = train_test_split(title_tr,MegaCategory_tr,test_size =.1)\n",
    "\n",
    "\n",
    "print(\"Training: \",len(title_tr))\n",
    "\n",
    "print(\"Testing: \",len(title_te))"
   ]
  },
  {
   "cell_type": "code",
   "execution_count": 199,
   "metadata": {},
   "outputs": [
    {
     "name": "stdout",
     "output_type": "stream",
     "text": [
      "\n",
      "Vectorizing data\n"
     ]
    }
   ],
   "source": [
    "from sklearn.preprocessing import LabelEncoder\n",
    "\n",
    "# # Data Preprocessing\n",
    "# ## Vectorization of data\n",
    "# Vectorize the data using Bag of words (BOW)\n",
    "print(\"\\nVectorizing data\")\n",
    "tokenizer = nltk.tokenize.RegexpTokenizer(r\"\\w+\")\n",
    "stop_words = nltk.corpus.stopwords.words(\"english\")\n",
    "vectorizer = CountVectorizer(tokenizer=tokenizer.tokenize, stop_words=stop_words)\n",
    "\n",
    "vectorizer.fit(iter(title_tr))\n",
    "Xtr = vectorizer.transform(iter(title_tr))\n",
    "Xde = vectorizer.transform(iter(title_de))\n",
    "Xte = vectorizer.transform(iter(title_te))\n",
    "\n",
    "encoder = LabelEncoder()\n",
    "encoder.fit(MegaCategory_tr)\n",
    "Ytr = encoder.transform(MegaCategory_tr)\n",
    "Yde = encoder.transform(MegaCategory_de)\n",
    "Yte = encoder.transform(MegaCategory_te)"
   ]
  },
  {
   "cell_type": "code",
   "execution_count": 200,
   "metadata": {},
   "outputs": [
    {
     "name": "stdout",
     "output_type": "stream",
     "text": [
      "[ 4  5 10  6  9  4  9  8  1  4  9  4  6  9  9  6  9  6  4  6  6 10  5  4\n",
      "  8  5  2  6 11  6  4  9  4  4  2  4 13  1  6  5  6  6  4 13 10  9  4  4\n",
      "  6  6  6  8  4  5  6  4  4  9  2 13  5  4 10  8  6 10  6  8  4  5  5  5\n",
      "  4  6  4  9  9 12  9  4  6  2  9  9  9  5  0  6  4  3  6  4  2  6  4  5\n",
      "  5  4  5  4  9  9  8  3  6  9 12  1 10  4  9  6  4  4  4  5  9  9 10 12\n",
      " 11 10 10  9 13  4  4  4  5 10  8  8  4  6  6 12  8  4  6 10  2  2  4  6\n",
      " 10  4  2  1  8  6 10  4  6  8 10  8  9  9  8  0  6  4  6  4  5  4  6  6\n",
      "  4  4 10  6 10  9  9  5  4 10  6  6  4  6  6  6  7  5 13  3  6  6  5  4\n",
      " 10  1  6  4  4  6  6  2  4 10  6 12  6 13  1  1  4  2 10  4  9 13  9 13\n",
      "  5  9  4  6  2  6  6  9  4  8  4  6  6  2  4  9  4  8  4 13  9  6  4]\n"
     ]
    }
   ],
   "source": [
    "print(Ytr)"
   ]
  },
  {
   "cell_type": "code",
   "execution_count": 201,
   "metadata": {},
   "outputs": [
    {
     "data": {
      "text/plain": [
       "<239x4084 sparse matrix of type '<class 'numpy.int64'>'\n",
       "\twith 11203 stored elements in Compressed Sparse Row format>"
      ]
     },
     "execution_count": 201,
     "metadata": {},
     "output_type": "execute_result"
    }
   ],
   "source": [
    "Xtr"
   ]
  },
  {
   "cell_type": "code",
   "execution_count": 202,
   "metadata": {},
   "outputs": [
    {
     "name": "stdout",
     "output_type": "stream",
     "text": [
      "\n",
      "\n",
      "Training baseline classifier\n"
     ]
    }
   ],
   "source": [
    "# # Train Models\n",
    "# ### Baseline Model\n",
    "# “stratified”: generates predictions by respecting the training set’s class distribution.\n",
    "print(\"\\n\\nTraining baseline classifier\")\n",
    "dc = DummyClassifier(strategy=\"stratified\")\n",
    "dc.fit(Xtr, Ytr)\n",
    "dc_pred = dc.predict(Xde)"
   ]
  },
  {
   "cell_type": "code",
   "execution_count": 203,
   "metadata": {},
   "outputs": [
    {
     "name": "stdout",
     "output_type": "stream",
     "text": [
      "                                                                                                                                    precision    recall  f1-score   support\n",
      "\n",
      "                                                                               Approval - Alert me when a company gets an approval       0.25      0.10      0.14        10\n",
      "                Growth/Focus in exisitng terrain - Alert me when a company focusses on existing terrain by means of expansion, etc       0.50      0.20      0.29         5\n",
      "                                               New Geography- Alert me when a company moves or expands into a new state or country       0.00      0.00      0.00         1\n",
      "     New Patent or Regulatory Approval- Alert me when a company receives government approval for a patent, registration or license       0.00      0.00      0.00         1\n",
      "New Products, Initiatives, or Strategy- Alert me when a company unveils a new product or announces an initiative to enter a market       0.33      0.20      0.25         5\n",
      "                                                                 New contract - Alert me when a company enters into a new contract       0.25      0.10      0.14        10\n",
      "                                                    New investment - Alert me when a company does an expansion or a new investment       0.33      0.20      0.25         5\n",
      "                                                                Office Space Expansion- Alert me when a company opens a new office       1.00      0.50      0.67         2\n",
      "                      Partnership or Joint Venture- Alert me when two companies partner or enter a short-term business arrangement       0.00      0.00      0.00         1\n",
      "                                              Production related news - Alertme when a company has news related to it's production       0.25      0.10      0.14        10\n",
      "                                      Sales or User Growth- Alert me when the average sales or user volume for a company increases       0.33      0.20      0.25         5\n",
      "                                     Won a Major Customer- Alert me when a company announces they have landed a principal customer       0.25      0.10      0.14        10\n",
      "                                                                 new contract - Alert me when a company enters into a new contract       0.00      0.00      0.00         1\n",
      "                                                    new investment - Alert me when a company does an expansion or a new investment       0.33      0.20      0.25         5\n",
      "\n",
      "                                                                                                                         micro avg       0.17      0.13      0.15       971\n",
      "                                                                                                                         macro avg       0.21      0.10      0.13       971\n",
      "                                                                                                                      weighted avg       0.29      0.13      0.18       971\n",
      "\n",
      "Accuracy achieved is 0.14814814814814814\n"
     ]
    },
    {
     "name": "stderr",
     "output_type": "stream",
     "text": [
      "C:\\ProgramData\\Anaconda3\\lib\\site-packages\\sklearn\\metrics\\classification.py:1870: UserWarning: labels size, 239, does not match size of target_names, 14\n",
      "  .format(len(labels), len(target_names))\n",
      "C:\\ProgramData\\Anaconda3\\lib\\site-packages\\sklearn\\metrics\\classification.py:1437: UndefinedMetricWarning: Precision and F-score are ill-defined and being set to 0.0 in labels with no predicted samples.\n",
      "  'precision', 'predicted', average, warn_for)\n",
      "C:\\ProgramData\\Anaconda3\\lib\\site-packages\\sklearn\\metrics\\classification.py:1439: UndefinedMetricWarning: Recall and F-score are ill-defined and being set to 0.0 in labels with no true samples.\n",
      "  'recall', 'true', average, warn_for)\n"
     ]
    }
   ],
   "source": [
    "print(classification_report(Yde, dc_pred, labels=Ytr ,target_names=encoder.classes_))\n",
    "print('Accuracy achieved is ' + str(np.mean(dc_pred == Yde)))"
   ]
  },
  {
   "cell_type": "code",
   "execution_count": 204,
   "metadata": {},
   "outputs": [
    {
     "name": "stdout",
     "output_type": "stream",
     "text": [
      "Training Decision tree\n",
      "                                                                                                                                    precision    recall  f1-score   support\n",
      "\n",
      "                                                                               Approval - Alert me when a company gets an approval       0.50      0.50      0.50        10\n",
      "                Growth/Focus in exisitng terrain - Alert me when a company focusses on existing terrain by means of expansion, etc       1.00      0.20      0.33         5\n",
      "                                               New Geography- Alert me when a company moves or expands into a new state or country       0.33      1.00      0.50         1\n",
      "     New Patent or Regulatory Approval- Alert me when a company receives government approval for a patent, registration or license       0.00      0.00      0.00         1\n",
      "New Products, Initiatives, or Strategy- Alert me when a company unveils a new product or announces an initiative to enter a market       0.43      0.60      0.50         5\n",
      "                                                                 New contract - Alert me when a company enters into a new contract       0.50      0.50      0.50        10\n",
      "                                                    New investment - Alert me when a company does an expansion or a new investment       0.43      0.60      0.50         5\n",
      "                                                                Office Space Expansion- Alert me when a company opens a new office       1.00      1.00      1.00         2\n",
      "                      Partnership or Joint Venture- Alert me when two companies partner or enter a short-term business arrangement       0.00      0.00      0.00         1\n",
      "                                              Production related news - Alertme when a company has news related to it's production       0.50      0.50      0.50        10\n",
      "                                      Sales or User Growth- Alert me when the average sales or user volume for a company increases       0.43      0.60      0.50         5\n",
      "                                     Won a Major Customer- Alert me when a company announces they have landed a principal customer       0.50      0.50      0.50        10\n",
      "                                                                 new contract - Alert me when a company enters into a new contract       0.00      0.00      0.00         1\n",
      "                                                    new investment - Alert me when a company does an expansion or a new investment       0.43      0.60      0.50         5\n",
      "\n",
      "                                                                                                                         micro avg       0.42      0.47      0.45       971\n",
      "                                                                                                                         macro avg       0.35      0.36      0.32       971\n",
      "                                                                                                                      weighted avg       0.51      0.47      0.46       971\n",
      "\n",
      "Accuracy achieved is 0.4444444444444444\n"
     ]
    },
    {
     "name": "stderr",
     "output_type": "stream",
     "text": [
      "C:\\ProgramData\\Anaconda3\\lib\\site-packages\\sklearn\\metrics\\classification.py:1870: UserWarning: labels size, 239, does not match size of target_names, 14\n",
      "  .format(len(labels), len(target_names))\n",
      "C:\\ProgramData\\Anaconda3\\lib\\site-packages\\sklearn\\metrics\\classification.py:1437: UndefinedMetricWarning: Precision and F-score are ill-defined and being set to 0.0 in labels with no predicted samples.\n",
      "  'precision', 'predicted', average, warn_for)\n",
      "C:\\ProgramData\\Anaconda3\\lib\\site-packages\\sklearn\\metrics\\classification.py:1439: UndefinedMetricWarning: Recall and F-score are ill-defined and being set to 0.0 in labels with no true samples.\n",
      "  'recall', 'true', average, warn_for)\n"
     ]
    }
   ],
   "source": [
    "\n",
    "# ### Decision Tree\n",
    "print(\"Training Decision tree\")\n",
    "dt = DecisionTreeClassifier()\n",
    "dt.fit(Xtr, Ytr)\n",
    "dt_pred = dt.predict(Xde)\n",
    "print(classification_report(Yde, dt_pred, labels=Ytr ,target_names=encoder.classes_))\n",
    "print('Accuracy achieved is ' + str(np.mean(dt_pred == Yde)))"
   ]
  },
  {
   "cell_type": "code",
   "execution_count": 205,
   "metadata": {},
   "outputs": [
    {
     "name": "stdout",
     "output_type": "stream",
     "text": [
      "Training Random Forest\n",
      "                                                                                                                                    precision    recall  f1-score   support\n",
      "\n",
      "                                                                               Approval - Alert me when a company gets an approval       0.50      0.90      0.64        10\n",
      "                Growth/Focus in exisitng terrain - Alert me when a company focusses on existing terrain by means of expansion, etc       1.00      0.20      0.33         5\n",
      "                                               New Geography- Alert me when a company moves or expands into a new state or country       0.00      0.00      0.00         1\n",
      "     New Patent or Regulatory Approval- Alert me when a company receives government approval for a patent, registration or license       0.00      0.00      0.00         1\n",
      "New Products, Initiatives, or Strategy- Alert me when a company unveils a new product or announces an initiative to enter a market       0.50      0.60      0.55         5\n",
      "                                                                 New contract - Alert me when a company enters into a new contract       0.50      0.90      0.64        10\n",
      "                                                    New investment - Alert me when a company does an expansion or a new investment       0.50      0.60      0.55         5\n",
      "                                                                Office Space Expansion- Alert me when a company opens a new office       0.00      0.00      0.00         2\n",
      "                      Partnership or Joint Venture- Alert me when two companies partner or enter a short-term business arrangement       0.00      0.00      0.00         1\n",
      "                                              Production related news - Alertme when a company has news related to it's production       0.50      0.90      0.64        10\n",
      "                                      Sales or User Growth- Alert me when the average sales or user volume for a company increases       0.50      0.60      0.55         5\n",
      "                                     Won a Major Customer- Alert me when a company announces they have landed a principal customer       0.50      0.90      0.64        10\n",
      "                                                                 new contract - Alert me when a company enters into a new contract       0.00      0.00      0.00         1\n",
      "                                                    new investment - Alert me when a company does an expansion or a new investment       0.50      0.60      0.55         5\n",
      "\n",
      "                                                                                                                         micro avg       0.47      0.66      0.55       971\n",
      "                                                                                                                         macro avg       0.27      0.32      0.26       971\n",
      "                                                                                                                      weighted avg       0.48      0.66      0.51       971\n",
      "\n",
      "Accuracy achieved is 0.48148148148148145\n"
     ]
    },
    {
     "name": "stderr",
     "output_type": "stream",
     "text": [
      "C:\\ProgramData\\Anaconda3\\lib\\site-packages\\sklearn\\metrics\\classification.py:1870: UserWarning: labels size, 239, does not match size of target_names, 14\n",
      "  .format(len(labels), len(target_names))\n",
      "C:\\ProgramData\\Anaconda3\\lib\\site-packages\\sklearn\\metrics\\classification.py:1437: UndefinedMetricWarning: Precision and F-score are ill-defined and being set to 0.0 in labels with no predicted samples.\n",
      "  'precision', 'predicted', average, warn_for)\n",
      "C:\\ProgramData\\Anaconda3\\lib\\site-packages\\sklearn\\metrics\\classification.py:1439: UndefinedMetricWarning: Recall and F-score are ill-defined and being set to 0.0 in labels with no true samples.\n",
      "  'recall', 'true', average, warn_for)\n"
     ]
    }
   ],
   "source": [
    "# ### Random Forest\n",
    "print(\"Training Random Forest\")\n",
    "rf = RandomForestClassifier(n_estimators=40)\n",
    "rf.fit(Xtr, Ytr)\n",
    "pred = rf.predict(Xde)\n",
    "print(classification_report(Yde, pred, labels=Ytr ,target_names=encoder.classes_))\n",
    "print('Accuracy achieved is ' + str(np.mean(pred == Yde)))"
   ]
  },
  {
   "cell_type": "code",
   "execution_count": 206,
   "metadata": {},
   "outputs": [
    {
     "name": "stdout",
     "output_type": "stream",
     "text": [
      "Training Multinomial Naive Bayesian\n",
      "                                                                                                                                    precision    recall  f1-score   support\n",
      "\n",
      "                                                                               Approval - Alert me when a company gets an approval       0.70      0.70      0.70        10\n",
      "                Growth/Focus in exisitng terrain - Alert me when a company focusses on existing terrain by means of expansion, etc       1.00      0.40      0.57         5\n",
      "                                               New Geography- Alert me when a company moves or expands into a new state or country       0.00      0.00      0.00         1\n",
      "     New Patent or Regulatory Approval- Alert me when a company receives government approval for a patent, registration or license       0.33      1.00      0.50         1\n",
      "New Products, Initiatives, or Strategy- Alert me when a company unveils a new product or announces an initiative to enter a market       0.60      0.60      0.60         5\n",
      "                                                                 New contract - Alert me when a company enters into a new contract       0.70      0.70      0.70        10\n",
      "                                                    New investment - Alert me when a company does an expansion or a new investment       0.60      0.60      0.60         5\n",
      "                                                                Office Space Expansion- Alert me when a company opens a new office       0.50      1.00      0.67         2\n",
      "                      Partnership or Joint Venture- Alert me when two companies partner or enter a short-term business arrangement       0.00      0.00      0.00         1\n",
      "                                              Production related news - Alertme when a company has news related to it's production       0.70      0.70      0.70        10\n",
      "                                      Sales or User Growth- Alert me when the average sales or user volume for a company increases       0.60      0.60      0.60         5\n",
      "                                     Won a Major Customer- Alert me when a company announces they have landed a principal customer       0.70      0.70      0.70        10\n",
      "                                                                 new contract - Alert me when a company enters into a new contract       0.33      1.00      0.50         1\n",
      "                                                    new investment - Alert me when a company does an expansion or a new investment       0.60      0.60      0.60         5\n",
      "\n",
      "                                                                                                                         micro avg       0.59      0.64      0.62       971\n",
      "                                                                                                                         macro avg       0.44      0.57      0.45       971\n",
      "                                                                                                                      weighted avg       0.65      0.64      0.62       971\n",
      "\n",
      "Accuracy achieved is 0.5555555555555556\n"
     ]
    },
    {
     "name": "stderr",
     "output_type": "stream",
     "text": [
      "C:\\ProgramData\\Anaconda3\\lib\\site-packages\\sklearn\\metrics\\classification.py:1870: UserWarning: labels size, 239, does not match size of target_names, 14\n",
      "  .format(len(labels), len(target_names))\n",
      "C:\\ProgramData\\Anaconda3\\lib\\site-packages\\sklearn\\metrics\\classification.py:1437: UndefinedMetricWarning: Precision and F-score are ill-defined and being set to 0.0 in labels with no predicted samples.\n",
      "  'precision', 'predicted', average, warn_for)\n",
      "C:\\ProgramData\\Anaconda3\\lib\\site-packages\\sklearn\\metrics\\classification.py:1439: UndefinedMetricWarning: Recall and F-score are ill-defined and being set to 0.0 in labels with no true samples.\n",
      "  'recall', 'true', average, warn_for)\n"
     ]
    }
   ],
   "source": [
    "\n",
    "# ### Multinomial Naive Bayesian\n",
    "print(\"Training Multinomial Naive Bayesian\")\n",
    "nb = MultinomialNB()\n",
    "nb.fit(Xtr, Ytr)\n",
    "pred_nb = nb.predict(Xde)\n",
    "print(classification_report(Yde, pred_nb, labels=Ytr ,target_names=encoder.classes_))\n",
    "print('Accuracy achieved is ' + str(np.mean(pred_nb == Yde)))"
   ]
  },
  {
   "cell_type": "code",
   "execution_count": 207,
   "metadata": {},
   "outputs": [
    {
     "name": "stdout",
     "output_type": "stream",
     "text": [
      "Training Support Vector Classification\n"
     ]
    },
    {
     "name": "stderr",
     "output_type": "stream",
     "text": [
      "C:\\ProgramData\\Anaconda3\\lib\\site-packages\\sklearn\\svm\\base.py:193: FutureWarning: The default value of gamma will change from 'auto' to 'scale' in version 0.22 to account better for unscaled features. Set gamma explicitly to 'auto' or 'scale' to avoid this warning.\n",
      "  \"avoid this warning.\", FutureWarning)\n"
     ]
    },
    {
     "name": "stdout",
     "output_type": "stream",
     "text": [
      "                                                                                                                                    precision    recall  f1-score   support\n",
      "\n",
      "                                                                               Approval - Alert me when a company gets an approval       0.37      1.00      0.54        10\n",
      "                Growth/Focus in exisitng terrain - Alert me when a company focusses on existing terrain by means of expansion, etc       0.00      0.00      0.00         5\n",
      "                                               New Geography- Alert me when a company moves or expands into a new state or country       0.00      0.00      0.00         1\n",
      "     New Patent or Regulatory Approval- Alert me when a company receives government approval for a patent, registration or license       0.00      0.00      0.00         1\n",
      "New Products, Initiatives, or Strategy- Alert me when a company unveils a new product or announces an initiative to enter a market       0.00      0.00      0.00         5\n",
      "                                                                 New contract - Alert me when a company enters into a new contract       0.37      1.00      0.54        10\n",
      "                                                    New investment - Alert me when a company does an expansion or a new investment       0.00      0.00      0.00         5\n",
      "                                                                Office Space Expansion- Alert me when a company opens a new office       0.00      0.00      0.00         2\n",
      "                      Partnership or Joint Venture- Alert me when two companies partner or enter a short-term business arrangement       0.00      0.00      0.00         1\n",
      "                                              Production related news - Alertme when a company has news related to it's production       0.37      1.00      0.54        10\n",
      "                                      Sales or User Growth- Alert me when the average sales or user volume for a company increases       0.00      0.00      0.00         5\n",
      "                                     Won a Major Customer- Alert me when a company announces they have landed a principal customer       0.37      1.00      0.54        10\n",
      "                                                                 new contract - Alert me when a company enters into a new contract       0.00      0.00      0.00         1\n",
      "                                                    new investment - Alert me when a company does an expansion or a new investment       0.00      0.00      0.00         5\n",
      "\n",
      "                                                                                                                         micro avg       0.37      0.60      0.46       971\n",
      "                                                                                                                         macro avg       0.09      0.24      0.13       971\n",
      "                                                                                                                      weighted avg       0.22      0.60      0.32       971\n",
      "\n",
      "Accuracy achieved is 0.37037037037037035\n"
     ]
    },
    {
     "name": "stderr",
     "output_type": "stream",
     "text": [
      "C:\\ProgramData\\Anaconda3\\lib\\site-packages\\sklearn\\metrics\\classification.py:1870: UserWarning: labels size, 239, does not match size of target_names, 14\n",
      "  .format(len(labels), len(target_names))\n",
      "C:\\ProgramData\\Anaconda3\\lib\\site-packages\\sklearn\\metrics\\classification.py:1437: UndefinedMetricWarning: Precision and F-score are ill-defined and being set to 0.0 in labels with no predicted samples.\n",
      "  'precision', 'predicted', average, warn_for)\n",
      "C:\\ProgramData\\Anaconda3\\lib\\site-packages\\sklearn\\metrics\\classification.py:1439: UndefinedMetricWarning: Recall and F-score are ill-defined and being set to 0.0 in labels with no true samples.\n",
      "  'recall', 'true', average, warn_for)\n"
     ]
    }
   ],
   "source": [
    "# ### Support Vector Classification\n",
    "print(\"Training Support Vector Classification\")\n",
    "from sklearn.svm import SVC\n",
    "svc = SVC()\n",
    "svc.fit(Xtr, Ytr)\n",
    "svc_pred = svc.predict(Xde)\n",
    "print(classification_report(Yde, svc_pred, labels=Ytr ,target_names=encoder.classes_))\n",
    "print('Accuracy achieved is ' + str(np.mean(svc_pred == Yde)))"
   ]
  },
  {
   "cell_type": "code",
   "execution_count": 208,
   "metadata": {},
   "outputs": [
    {
     "name": "stdout",
     "output_type": "stream",
     "text": [
      "Training Multilayered Perceptron\n",
      "                                                                                                                                    precision    recall  f1-score   support\n",
      "\n",
      "                                                                               Approval - Alert me when a company gets an approval       0.58      0.70      0.64        10\n",
      "                Growth/Focus in exisitng terrain - Alert me when a company focusses on existing terrain by means of expansion, etc       1.00      0.20      0.33         5\n",
      "                                               New Geography- Alert me when a company moves or expands into a new state or country       0.00      0.00      0.00         1\n",
      "     New Patent or Regulatory Approval- Alert me when a company receives government approval for a patent, registration or license       0.50      1.00      0.67         1\n",
      "New Products, Initiatives, or Strategy- Alert me when a company unveils a new product or announces an initiative to enter a market       0.50      0.60      0.55         5\n",
      "                                                                 New contract - Alert me when a company enters into a new contract       0.58      0.70      0.64        10\n",
      "                                                    New investment - Alert me when a company does an expansion or a new investment       0.50      0.60      0.55         5\n",
      "                                                                Office Space Expansion- Alert me when a company opens a new office       1.00      1.00      1.00         2\n",
      "                      Partnership or Joint Venture- Alert me when two companies partner or enter a short-term business arrangement       0.50      1.00      0.67         1\n",
      "                                              Production related news - Alertme when a company has news related to it's production       0.58      0.70      0.64        10\n",
      "                                      Sales or User Growth- Alert me when the average sales or user volume for a company increases       0.50      0.60      0.55         5\n",
      "                                     Won a Major Customer- Alert me when a company announces they have landed a principal customer       0.58      0.70      0.64        10\n",
      "                                                                 new contract - Alert me when a company enters into a new contract       0.50      1.00      0.67         1\n",
      "                                                    new investment - Alert me when a company does an expansion or a new investment       0.50      0.60      0.55         5\n",
      "\n",
      "                                                                                                                         micro avg       0.57      0.63      0.60       971\n",
      "                                                                                                                         macro avg       0.48      0.58      0.49       971\n",
      "                                                                                                                      weighted avg       0.60      0.63      0.58       971\n",
      "\n",
      "Accuracy achieved is 0.5555555555555556\n"
     ]
    },
    {
     "name": "stderr",
     "output_type": "stream",
     "text": [
      "C:\\ProgramData\\Anaconda3\\lib\\site-packages\\sklearn\\metrics\\classification.py:1870: UserWarning: labels size, 239, does not match size of target_names, 14\n",
      "  .format(len(labels), len(target_names))\n",
      "C:\\ProgramData\\Anaconda3\\lib\\site-packages\\sklearn\\metrics\\classification.py:1437: UndefinedMetricWarning: Precision and F-score are ill-defined and being set to 0.0 in labels with no predicted samples.\n",
      "  'precision', 'predicted', average, warn_for)\n",
      "C:\\ProgramData\\Anaconda3\\lib\\site-packages\\sklearn\\metrics\\classification.py:1439: UndefinedMetricWarning: Recall and F-score are ill-defined and being set to 0.0 in labels with no true samples.\n",
      "  'recall', 'true', average, warn_for)\n"
     ]
    }
   ],
   "source": [
    "# ### Multilayered Perceptron\n",
    "print(\"Training Multilayered Perceptron\")\n",
    "mlp = MLPClassifier(solver='adam', alpha=1e-5, hidden_layer_sizes=(100, 20), random_state=1, max_iter=400)\n",
    "mlp.fit(Xtr, Ytr)\n",
    "mlp_pred = mlp.predict(Xde)\n",
    "print(classification_report(Yde, mlp_pred, labels=Ytr ,target_names=encoder.classes_))\n",
    "print('Accuracy achieved is ' + str(np.mean(mlp_pred == Yde)))"
   ]
  },
  {
   "cell_type": "code",
   "execution_count": 214,
   "metadata": {},
   "outputs": [
    {
     "name": "stdout",
     "output_type": "stream",
     "text": [
      "Accuracy achieved is 0.14814814814814814\n",
      "Accuracy achieved is 0.4444444444444444\n",
      "Accuracy achieved is 0.5555555555555556\n",
      "Accuracy achieved is 0.37037037037037035\n",
      "Accuracy achieved is 0.5555555555555556\n"
     ]
    }
   ],
   "source": [
    "print('Accuracy achieved is ' + str(np.mean(dc_pred   == Yde)))\n",
    "print('Accuracy achieved is ' + str(np.mean(dt_pred   == Yde)))\n",
    "print('Accuracy achieved is ' + str(np.mean(pred_nb   == Yde)))\n",
    "print('Accuracy achieved is ' + str(np.mean(svc_pred  == Yde)))\n",
    "print('Accuracy achieved is ' + str(np.mean(mlp_pred  == Yde)))"
   ]
  },
  {
   "cell_type": "code",
   "execution_count": 215,
   "metadata": {},
   "outputs": [
    {
     "name": "stdout",
     "output_type": "stream",
     "text": [
      "\n",
      "\n",
      "Predicting test data using Multilayered Perceptron\n",
      "                                                                                                                                    precision    recall  f1-score   support\n",
      "\n",
      "                                                                               Approval - Alert me when a company gets an approval       0.77      0.91      0.83        11\n",
      "                Growth/Focus in exisitng terrain - Alert me when a company focusses on existing terrain by means of expansion, etc       1.00      0.50      0.67         2\n",
      "                                               New Geography- Alert me when a company moves or expands into a new state or country       0.00      0.00      0.00         0\n",
      "     New Patent or Regulatory Approval- Alert me when a company receives government approval for a patent, registration or license       0.17      0.25      0.20         4\n",
      "New Products, Initiatives, or Strategy- Alert me when a company unveils a new product or announces an initiative to enter a market       1.00      0.75      0.86         8\n",
      "                                                                 New contract - Alert me when a company enters into a new contract       0.77      0.91      0.83        11\n",
      "                                                    New investment - Alert me when a company does an expansion or a new investment       1.00      0.75      0.86         8\n",
      "                                                                Office Space Expansion- Alert me when a company opens a new office       1.00      0.50      0.67         2\n",
      "                      Partnership or Joint Venture- Alert me when two companies partner or enter a short-term business arrangement       0.00      0.00      0.00         0\n",
      "                                              Production related news - Alertme when a company has news related to it's production       0.77      0.91      0.83        11\n",
      "                                      Sales or User Growth- Alert me when the average sales or user volume for a company increases       1.00      0.75      0.86         8\n",
      "                                     Won a Major Customer- Alert me when a company announces they have landed a principal customer       0.77      0.91      0.83        11\n",
      "                                                                 new contract - Alert me when a company enters into a new contract       0.17      0.25      0.20         4\n",
      "                                                    new investment - Alert me when a company does an expansion or a new investment       1.00      0.75      0.86         8\n",
      "\n",
      "                                                                                                                         micro avg       0.64      0.71      0.68      1203\n",
      "                                                                                                                         macro avg       0.50      0.45      0.46      1203\n",
      "                                                                                                                      weighted avg       0.71      0.71      0.70      1203\n",
      "\n",
      "Accuracy achieved is 0.6333333333333333\n"
     ]
    }
   ],
   "source": [
    "# # Final Model: Multilayered Perceptron\n",
    "# ## Predict test data\n",
    "print(\"\\n\\nPredicting test data using Multilayered Perceptron\")\n",
    "pred_final = mlp.predict(Xte)\n",
    "print(classification_report(Yte, pred_final, labels=Ytr ,target_names=encoder.classes_))\n",
    "print('Accuracy achieved is ' + str(accuracy_score(Yte,pred_final)))"
   ]
  },
  {
   "cell_type": "code",
   "execution_count": 216,
   "metadata": {},
   "outputs": [],
   "source": [
    "output = {\"title\":vectorizer.inverse_transform(Xte), \"predicted\":encoder.inverse_transform(pred_final),\"actual\": encoder.inverse_transform(Yte)}"
   ]
  },
  {
   "cell_type": "code",
   "execution_count": 158,
   "metadata": {},
   "outputs": [],
   "source": [
    "#df = pd.DataFrame(output, columns=[\"title\",\"predicted\",\"actual\"])\n",
    "#df.to_csv(\"C:\\\\Users\\\\Kratika\\\\Downloads\\\\News333_title_predication_1.csv\")"
   ]
  },
  {
   "cell_type": "code",
   "execution_count": 217,
   "metadata": {},
   "outputs": [
    {
     "name": "stdout",
     "output_type": "stream",
     "text": [
      "Accuracy achieved is 0.6333333333333333\n"
     ]
    }
   ],
   "source": [
    "pred_final = mlp.predict(Xte)\n",
    "print('Accuracy achieved is ' + str(np.mean(pred_final == Yte)))\n",
    "output = {\"text\":vectorizer.inverse_transform(Xte), \"predicted\":encoder.inverse_transform(pred_final),\"actual\": encoder.inverse_transform(Yte)}\n",
    "df = pd.DataFrame(output, columns=[\"text\",\"predicted\",\"actual\"])\n"
   ]
  },
  {
   "cell_type": "code",
   "execution_count": 58,
   "metadata": {},
   "outputs": [],
   "source": [
    "df = pd.DataFrame(output, columns=[\"text\",\"predicted\",\"actual\"])\n",
    "df.to_csv(\"C:\\\\Users\\\\Kratika\\\\Downloads\\\\248_catagoryNews333_title_body_predication.csv\")"
   ]
  },
  {
   "cell_type": "code",
   "execution_count": null,
   "metadata": {},
   "outputs": [],
   "source": []
  }
 ],
 "metadata": {
  "kernelspec": {
   "display_name": "Python 3",
   "language": "python",
   "name": "python3"
  },
  "language_info": {
   "codemirror_mode": {
    "name": "ipython",
    "version": 3
   },
   "file_extension": ".py",
   "mimetype": "text/x-python",
   "name": "python",
   "nbconvert_exporter": "python",
   "pygments_lexer": "ipython3",
   "version": "3.7.3"
  }
 },
 "nbformat": 4,
 "nbformat_minor": 2
}
