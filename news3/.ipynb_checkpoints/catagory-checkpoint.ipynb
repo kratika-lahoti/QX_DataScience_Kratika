{
 "cells": [
  {
   "cell_type": "code",
   "execution_count": 137,
   "metadata": {},
   "outputs": [],
   "source": [
    "import re\n",
    "import pandas as pd\n",
    "from nltk.corpus import stopwords\n",
    "\n",
    "import copy\n",
    "import numpy as np\n",
    "\n",
    "import nltk\n",
    "from sklearn.model_selection import train_test_split\n",
    "from sklearn.feature_extraction.text import CountVectorizer\n",
    "from sklearn.preprocessing import LabelEncoder\n",
    "from sklearn.feature_selection import VarianceThreshold\n",
    "from imblearn.over_sampling import SMOTE\n",
    "from sklearn.dummy import DummyClassifier\n",
    "from sklearn.naive_bayes import MultinomialNB\n",
    "from sklearn.tree import DecisionTreeClassifier\n",
    "from sklearn.neural_network import MLPClassifier\n",
    "from sklearn.ensemble import RandomForestClassifier\n",
    "from sklearn import metrics\n",
    "from sklearn.metrics import accuracy_score\n",
    "#from sklearn.model_selection import cross_val_score, KFold\n",
    "from sklearn.metrics import confusion_matrix\n",
    "from sklearn.metrics import classification_report"
   ]
  },
  {
   "cell_type": "code",
   "execution_count": 138,
   "metadata": {},
   "outputs": [
    {
     "data": {
      "text/html": [
       "<div>\n",
       "<style scoped>\n",
       "    .dataframe tbody tr th:only-of-type {\n",
       "        vertical-align: middle;\n",
       "    }\n",
       "\n",
       "    .dataframe tbody tr th {\n",
       "        vertical-align: top;\n",
       "    }\n",
       "\n",
       "    .dataframe thead th {\n",
       "        text-align: right;\n",
       "    }\n",
       "</style>\n",
       "<table border=\"1\" class=\"dataframe\">\n",
       "  <thead>\n",
       "    <tr style=\"text-align: right;\">\n",
       "      <th></th>\n",
       "      <th>Title</th>\n",
       "      <th>Body</th>\n",
       "      <th>Category</th>\n",
       "      <th>MegaCategory</th>\n",
       "    </tr>\n",
       "  </thead>\n",
       "  <tbody>\n",
       "    <tr>\n",
       "      <th>0</th>\n",
       "      <td>BS-VI transition may lead to dumping of old st...</td>\n",
       "      <td>BS-VI transition may lead to dumping of old st...</td>\n",
       "      <td>Annual Report - Comments made in the Annual Re...</td>\n",
       "      <td>Financial</td>\n",
       "    </tr>\n",
       "    <tr>\n",
       "      <th>1</th>\n",
       "      <td>Annual Report 2016-2017 of Bajaj Finserv Limited</td>\n",
       "      <td>It is a broadly described annual report of Baj...</td>\n",
       "      <td>Annual Report - Comments made in the Annual Re...</td>\n",
       "      <td>Financial</td>\n",
       "    </tr>\n",
       "    <tr>\n",
       "      <th>2</th>\n",
       "      <td>Annual Report 2017-2018 of Eicher Motors Limit...</td>\n",
       "      <td>It is a broadly described annual report of\\nEi...</td>\n",
       "      <td>Annual Report - Comments made in the Annual Re...</td>\n",
       "      <td>Financial</td>\n",
       "    </tr>\n",
       "    <tr>\n",
       "      <th>3</th>\n",
       "      <td>Hindalco Industries : Chairman Kumar Mangalam ...</td>\n",
       "      <td>(You can enter multiple email addresses separa...</td>\n",
       "      <td>Annual Report - Comments made in the Annual Re...</td>\n",
       "      <td>Financial</td>\n",
       "    </tr>\n",
       "    <tr>\n",
       "      <th>4</th>\n",
       "      <td>WIPRO continues it's uptrend, although on a we...</td>\n",
       "      <td>WIPRO continues it's uptrend, although on a we...</td>\n",
       "      <td>Annual Report - Comments made in the Annual Re...</td>\n",
       "      <td>Financial</td>\n",
       "    </tr>\n",
       "  </tbody>\n",
       "</table>\n",
       "</div>"
      ],
      "text/plain": [
       "                                               Title  \\\n",
       "0  BS-VI transition may lead to dumping of old st...   \n",
       "1   Annual Report 2016-2017 of Bajaj Finserv Limited   \n",
       "2  Annual Report 2017-2018 of Eicher Motors Limit...   \n",
       "3  Hindalco Industries : Chairman Kumar Mangalam ...   \n",
       "4  WIPRO continues it's uptrend, although on a we...   \n",
       "\n",
       "                                                Body  \\\n",
       "0  BS-VI transition may lead to dumping of old st...   \n",
       "1  It is a broadly described annual report of Baj...   \n",
       "2  It is a broadly described annual report of\\nEi...   \n",
       "3  (You can enter multiple email addresses separa...   \n",
       "4  WIPRO continues it's uptrend, although on a we...   \n",
       "\n",
       "                                            Category MegaCategory  \n",
       "0  Annual Report - Comments made in the Annual Re...    Financial  \n",
       "1  Annual Report - Comments made in the Annual Re...    Financial  \n",
       "2  Annual Report - Comments made in the Annual Re...    Financial  \n",
       "3  Annual Report - Comments made in the Annual Re...    Financial  \n",
       "4  Annual Report - Comments made in the Annual Re...    Financial  "
      ]
     },
     "execution_count": 138,
     "metadata": {},
     "output_type": "execute_result"
    }
   ],
   "source": [
    "news = pd.read_excel(\"C:\\\\Users\\\\Kratika\\\\Downloads\\\\News333.xlsx\")\n",
    "news.head()"
   ]
  },
  {
   "cell_type": "code",
   "execution_count": 139,
   "metadata": {},
   "outputs": [],
   "source": [
    "from nltk.tokenize import word_tokenize \n",
    "\n",
    "def remove_stop_words(data):\n",
    "    stop_words = set(stopwords.words('english'))\n",
    "    stop_words.union(['january','february','march','april','may','june','july','august','september','october','november','december'])\n",
    "    stop_words.union(['jan','feb','mar','apr','may','jun','jul','aug','sept','oct','nov','dec'])\n",
    "    stop_words.union(['monday', 'tuesday', 'wednesday', 'thursday','friday','saturday','sunday'])\n",
    "    stop_words.union(['am', 'pm'])\n",
    "    word_tokens = word_tokenize(data) \n",
    "    filtered_sentence = []\n",
    "    \n",
    "    for w in word_tokens: \n",
    "        if w.lower() not in stop_words: \n",
    "            filtered_sentence.append(w) \n",
    "    \n",
    "    return \" \".join(filtered_sentence)"
   ]
  },
  {
   "cell_type": "code",
   "execution_count": 140,
   "metadata": {},
   "outputs": [],
   "source": [
    "news['text'] = news.Title + \" \" + news.Body"
   ]
  },
  {
   "cell_type": "code",
   "execution_count": 141,
   "metadata": {},
   "outputs": [
    {
     "name": "stdout",
     "output_type": "stream",
     "text": [
      "shareholders : shareholder\n",
      "stocks : stock\n",
      "companys : company\n",
      "trading : trade\n",
      "weekly : week\n",
      "billion: billionaire\n",
      "high : higher\n",
      "close : closeed\n",
      "finance : financial\n",
      "biggest: high\n",
      "unit: unit\n",
      "protect: protection\n",
      "organisation: organised\n",
      "'company: 'companies\n",
      "better : good\n"
     ]
    }
   ],
   "source": [
    "# import these modules \n",
    "from nltk.stem import WordNetLemmatizer \n",
    "  \n",
    "lemmatizer = WordNetLemmatizer() \n",
    "  \n",
    "print(\"shareholders :\", lemmatizer.lemmatize(\"shareholder\")) \n",
    "print(\"stocks :\", lemmatizer.lemmatize(\"stock\")) \n",
    "print(\"companys :\", lemmatizer.lemmatize(\"company\")) \n",
    "print(\"trading :\", lemmatizer.lemmatize(\"trade\")) \n",
    "print(\"weekly :\", lemmatizer.lemmatize(\"week\")) \n",
    "print(\"billion:\", lemmatizer.lemmatize(\"billionaire\")) \n",
    "print(\"high :\", lemmatizer.lemmatize(\"higher\")) \n",
    "print(\"close :\", lemmatizer.lemmatize(\"closeed\")) \n",
    "print(\"finance :\", lemmatizer.lemmatize(\"financial\")) \n",
    "print(\"biggest:\", lemmatizer.lemmatize(\"high\")) \n",
    "print(\"unit:\", lemmatizer.lemmatize(\"units\")) \n",
    "print(\"protect:\", lemmatizer.lemmatize(\"protection\")) \n",
    "print(\"organisation:\", lemmatizer.lemmatize(\"organised\")) \n",
    "print(\"'company:\", lemmatizer.lemmatize(\"'companies\")) \n",
    "# a denotes adjective in \"pos\" \n",
    "print(\"better :\", lemmatizer.lemmatize(\"better\", pos =\"a\"))"
   ]
  },
  {
   "cell_type": "code",
   "execution_count": 142,
   "metadata": {},
   "outputs": [
    {
     "data": {
      "text/plain": [
       "0       BS-VI transition may lead to dumping of old st...\n",
       "1       Annual Report 2016-2017 of Bajaj Finserv Limit...\n",
       "2       Annual Report 2017-2018 of Eicher Motors Limit...\n",
       "3       Hindalco Industries : Chairman Kumar Mangalam ...\n",
       "4       WIPRO continues it's uptrend, although on a we...\n",
       "5       Cipla acquires USFDA approval for its hyperten...\n",
       "6       Forest Labs gets US conditional approval for L...\n",
       "7       Tata Steel Sports Department Training Centre C...\n",
       "8       TCS Wins 2019 Pega Partner Award for Excellenc...\n",
       "9       HUL bags the ET Corporate Citizen Award The aw...\n",
       "10      Massive fire breaks out at Asian Paints manufa...\n",
       "11      BPCL refinery fire doused but tension continue...\n",
       "12      BPCL blaze extinguished; sleepless night for l...\n",
       "13      Explosion in BPCL plant in Chembur; 43 injured...\n",
       "14      45 injured as fire breaks out at BPCL refinery...\n",
       "15      Mumbai: Fire breaks out at BPCL refinery in Ch...\n",
       "16      $500K needed to investigate and fix Britannia ...\n",
       "17      Man hospitalized with chest, hand burns after ...\n",
       "18      BRITANNIA BLAZE: Woman in serious condition, 4...\n",
       "19      Woman critically injured in Britannia house fi...\n",
       "20      Arrests follow mass brawl on P&O Britannia, si...\n",
       "21      Mass brawl on cruise ship that left six injure...\n",
       "22      Four feared dead in mishap in Coal India mine ...\n",
       "23      Indiabulls Housing Finance alleged of siphonin...\n",
       "24      ONGC plant fire: CNG supply back to normal at ...\n",
       "25      4 killed in fire at ONGC plant Fire engulfs ON...\n",
       "26      Fire breaks out at ONGC plant in Navi Mumbai; ...\n",
       "27      Four Dead Three Injured In Fire At ONGC Site M...\n",
       "28      Four dead, three injured in fire at ONGC site;...\n",
       "29      Several CNG Stations Shut in Mumbai After Fire...\n",
       "                              ...                        \n",
       "2448    Sun Pharma's m-cap sinks by Rs 8,736 crore in ...\n",
       "2449    Markets end marginally higher; RIL rallies, Su...\n",
       "2450    Sun Pharma Slumps 12% After Another Whistleblo...\n",
       "2451    Sun Pharma stock rises after US court grants r...\n",
       "2452    Sun Pharma  Watch the Price Action around Deci...\n",
       "2453    Maruti Suzuki, Tata Motors, Mahindra stocks fa...\n",
       "2454    Tata Motors stock tanks 9.3 pct to hit a near-...\n",
       "2455    Tata Motors hits 52-week low after scrips fall...\n",
       "2456    Why Is Our Price Estimate For Tata Motors $14?...\n",
       "2457    D-Street Buzz: Metal stocks slide led by JSPL;...\n",
       "2458    TCS surpasses RIL to reclaim most valued firm ...\n",
       "2459    Indias TCS seeks steady growth as key markets ...\n",
       "2460    Business Top 5: Titan share price plunges 4% a...\n",
       "2461    Yes Bank logs sharp gains, ends 12% higher One...\n",
       "2462    Yes Bank Jumped 11% in Todays Trade. Is it a B...\n",
       "2463    Yes Bank Stock Price: YES Bank slumps 4% as Mo...\n",
       "2464    Equities flat in choppy session, Sun Pharma lo...\n",
       "2465    Tata Motors to shut Jamshedpur plant for third...\n",
       "2466    Tata Motors to take third plant closure \\nSan ...\n",
       "2467    Block closure at Tata Motors in twin towns for...\n",
       "2468    Tata Steel drops on U.K. plant closure, sale o...\n",
       "2469    Tata Steel announces closure of UK factory, sh...\n",
       "2470    Tata Steel loses 1m a day in Port Talbot as bu...\n",
       "2471    Ultra Petroleum (UPL) & Rwe Ag Sp (RWEOY) Crit...\n",
       "2472    Zambia presses on with liquidating Vedanta uni...\n",
       "2473    SAT Asks SEBI to Probe Market Norms Violation ...\n",
       "2474    Adani fails to keep Sep 1 date with Vizhinjam ...\n",
       "2475    Why Indiabulls is ready to exit real estate bu...\n",
       "2476    IOC says supplying to Air India only on daily ...\n",
       "2477    San Luis Obispo water company sells to Nestle ...\n",
       "Name: text, Length: 2478, dtype: object"
      ]
     },
     "execution_count": 142,
     "metadata": {},
     "output_type": "execute_result"
    }
   ],
   "source": [
    " news['text'].apply(lemmatizer.lemmatize)"
   ]
  },
  {
   "cell_type": "code",
   "execution_count": 143,
   "metadata": {},
   "outputs": [],
   "source": [
    "\n",
    "news['clean_title'] = news['Title'].apply(remove_stop_words)\n",
    "news['clean_body'] = news['Body'].apply(remove_stop_words)\n",
    "\n",
    "news['clean_text'] = news['text'].apply(remove_stop_words) \n",
    "\n",
    "#remove_stop_words_Body\n"
   ]
  },
  {
   "cell_type": "code",
   "execution_count": 144,
   "metadata": {},
   "outputs": [
    {
     "name": "stdout",
     "output_type": "stream",
     "text": [
      "\n",
      "Splitting data\n",
      "Training:  2007\n",
      "Testing:  248\n"
     ]
    }
   ],
   "source": [
    "# ## Split data\n",
    "print(\"\\nSplitting data\")\n",
    "\n",
    "title_tr, title_te, MegaCategory_tr, MegaCategory_te = train_test_split(news['clean_text'], news.Category,test_size =.1)\n",
    "title_tr, title_de, MegaCategory_tr , MegaCategory_de = train_test_split(title_tr,MegaCategory_tr,test_size =.1)\n",
    "\n",
    "\n",
    "print(\"Training: \",len(title_tr))\n",
    "\n",
    "print(\"Testing: \",len(title_te))"
   ]
  },
  {
   "cell_type": "code",
   "execution_count": 145,
   "metadata": {},
   "outputs": [
    {
     "name": "stdout",
     "output_type": "stream",
     "text": [
      "\n",
      "Vectorizing data\n"
     ]
    }
   ],
   "source": [
    "from sklearn.preprocessing import LabelEncoder\n",
    "\n",
    "# # Data Preprocessing\n",
    "# ## Vectorization of data\n",
    "# Vectorize the data using Bag of words (BOW)\n",
    "print(\"\\nVectorizing data\")\n",
    "tokenizer = nltk.tokenize.RegexpTokenizer(r\"\\w+\")\n",
    "stop_words = nltk.corpus.stopwords.words(\"english\")\n",
    "vectorizer = CountVectorizer(tokenizer=tokenizer.tokenize, stop_words=stop_words)\n",
    "\n",
    "vectorizer.fit(iter(title_tr))\n",
    "Xtr = vectorizer.transform(iter(title_tr))\n",
    "Xde = vectorizer.transform(iter(title_de))\n",
    "Xte = vectorizer.transform(iter(title_te))\n",
    "\n",
    "encoder = LabelEncoder()\n",
    "encoder.fit(MegaCategory_tr)\n",
    "Ytr = encoder.transform(MegaCategory_tr)\n",
    "Yde = encoder.transform(MegaCategory_de)\n",
    "Yte = encoder.transform(MegaCategory_te)"
   ]
  },
  {
   "cell_type": "code",
   "execution_count": 146,
   "metadata": {},
   "outputs": [
    {
     "name": "stdout",
     "output_type": "stream",
     "text": [
      "[23 23 23 ... 23 36 26]\n"
     ]
    }
   ],
   "source": [
    "print(Ytr)"
   ]
  },
  {
   "cell_type": "code",
   "execution_count": 147,
   "metadata": {},
   "outputs": [
    {
     "data": {
      "text/plain": [
       "<2007x15826 sparse matrix of type '<class 'numpy.int64'>'\n",
       "\twith 104628 stored elements in Compressed Sparse Row format>"
      ]
     },
     "execution_count": 147,
     "metadata": {},
     "output_type": "execute_result"
    }
   ],
   "source": [
    "Xtr"
   ]
  },
  {
   "cell_type": "code",
   "execution_count": 148,
   "metadata": {},
   "outputs": [
    {
     "name": "stdout",
     "output_type": "stream",
     "text": [
      "\n",
      "\n",
      "Training baseline classifier\n"
     ]
    }
   ],
   "source": [
    "# # Train Models\n",
    "# ### Baseline Model\n",
    "# “stratified”: generates predictions by respecting the training set’s class distribution.\n",
    "print(\"\\n\\nTraining baseline classifier\")\n",
    "dc = DummyClassifier(strategy=\"stratified\")\n",
    "dc.fit(Xtr, Ytr)\n",
    "dc_pred = dc.predict(Xde)"
   ]
  },
  {
   "cell_type": "code",
   "execution_count": 149,
   "metadata": {},
   "outputs": [
    {
     "name": "stdout",
     "output_type": "stream",
     "text": [
      "                                                                                                                                    precision    recall  f1-score   support\n",
      "\n",
      "                                                                                Annual Report - Comments made in the Annual Report       0.25      0.18      0.21        76\n",
      "                                                                               Approval - Alert me when a company gets an approval       0.25      0.18      0.21        76\n",
      "                                                            Award Received- Alert me when any of these companies receives an award       0.25      0.18      0.21        76\n",
      "                                                             Black Swan Events - Alert me when a company faces an exceptional loss       0.25      0.18      0.21        76\n",
      "                                                     Buyback of shares- Alert me when any of these companies buys back it's shares       0.00      0.00      0.00         2\n",
      "                                                          CSR Work - Alert me when a company or its foundation does a CSR Activity       0.00      0.00      0.00         1\n",
      "                                        Credit Rating Agency - Alert me when a Credit Rating Agency makes a comment on the company       0.14      0.20      0.17        15\n",
      "                       Customer Dissatisfaction- Alert me when any of these companies customers voice their dissatisfaction online       0.09      0.08      0.09        24\n",
      "                                  Debt Financing- Alert me when any of these companies receives a loan they have promised to repay       0.00      0.00      0.00         2\n",
      "               Earnings, Stock Performance or Dividends- Alert me when any of these companies release numbers on their performance       0.00      0.00      0.00         0\n",
      "                                        Employee Related News - Alert me when any of these companies have an employee related news       0.14      0.20      0.17        15\n",
      "                                      Event Celebration - Alert me when any of these companies celebrate an event/national holiday       0.25      0.18      0.21        76\n",
      "                            Executive Quote or Publication- Alert me when any of these companies executives is quoted or published       0.00      0.00      0.00         1\n",
      "                        Exhibitor or Presenter at an Event - Alert me when any of these companies exhibits or presents at an event       0.00      0.00      0.00         3\n",
      "                                 Financial Challenges- Alert me when any of these companies' report signs of financial instability       0.00      0.00      0.00         2\n",
      "                Growth/Focus in exisitng terrain - Alert me when a company focusses on existing terrain by means of expansion, etc       0.14      0.20      0.17        15\n",
      "                                                   IPO or Public Offering- Alert me when any of these companies IPO or file to IPO       0.00      0.00      0.00         1\n",
      "          Included in Industry Lists- Alert me when any of these companies is added to an industry-specific list by Oracle DataFox       0.00      0.00      0.00         0\n",
      "                   Included in Industry News- Alert me when any of these companies are mentioned positively by an industry analyst       0.25      0.18      0.21        76\n",
      "                                                                                                                     Industry News       0.00      0.00      0.00         3\n",
      "                                                                                                                     Industry news       0.14      0.20      0.17        15\n",
      "                  Industry or Competitive - Alert me when any company competitor’s gain a unique advantage or the market downturns       0.00      0.00      0.00         7\n",
      "                                            Invested in a Company- Alert me when any of these companies invests in another company       0.00      0.00      0.00         7\n",
      "                                                                                                                   Irrelevant News       0.25      0.18      0.21        76\n",
      "                                                   Job Postings- Alert me when any of these companies post new available positions       0.25      0.18      0.21        76\n",
      "                            Key Executive Hire or Promotion - Alert me when any of these companies hire or promote a new executive       0.25      0.18      0.21        76\n",
      "                                     Layoffs - Alert me when any of these companies terminate a large number of employee contracts       0.00      0.00      0.00         1\n",
      "                                          Leadership Change- Alert me when any of these companies undergo management restructuring       0.00      0.00      0.00         7\n",
      "                                         Legal Issues - Alert me when any of these companies are having litigation related issues        0.25      0.18      0.21        76\n",
      "                   Made or will make an Acquisition- Alert me when any of these companies acquires or will acquire another company       0.00      0.00      0.00         0\n",
      "                                                                            Market Buzz - News related to the Indian Equity Market       0.12      0.14      0.13         7\n",
      "                                                                           Market Buzz - News related to the Indian Equity Market        0.09      0.09      0.09        11\n",
      "                               Marketing Activity - Alert me when any of these companies launch fresh marketing efforts or tactics       0.14      0.20      0.17        15\n",
      "                  Merger, Restructuring, or Ownership Change- Alert me when any of these companies undergo financial restructuring       0.00      0.00      0.00         4\n",
      "                                               New Geography- Alert me when a company moves or expands into a new state or country       0.25      0.18      0.21        76\n",
      "     New Patent or Regulatory Approval- Alert me when a company receives government approval for a patent, registration or license       0.09      0.08      0.09        24\n",
      "New Products, Initiatives, or Strategy- Alert me when a company unveils a new product or announces an initiative to enter a market       0.00      0.00      0.00         2\n",
      "                                                                 New contract - Alert me when a company enters into a new contract       0.09      0.08      0.09        24\n",
      "                                                    New investment - Alert me when a company does an expansion or a new investment       0.00      0.00      0.00         3\n",
      "                                                                Office Space Expansion- Alert me when a company opens a new office       0.00      0.00      0.00         3\n",
      "                                                                                                                        Other News       0.14      0.20      0.17        15\n",
      "                                                                                                               Other negative news       0.09      0.08      0.09        24\n",
      "                                                                                                                        Other news       0.25      0.18      0.21        76\n",
      "                                  Outsourcing- Alert me when any of these companies subcontracts to other companies or contractors       0.14      0.20      0.17        15\n",
      "                      Partnership or Joint Venture- Alert me when two companies partner or enter a short-term business arrangement       0.00      0.00      0.00         7\n",
      "                                                             Payback of debt - Alert me any of these companies pays back it’s debt       0.25      0.18      0.21        76\n",
      "                                Personal News - Alert me when any of these companies have personal news concerning it's management       0.00      0.00      0.00         3\n",
      "                                              Production related news - Alertme when a company has news related to it's production       0.25      0.18      0.21        76\n",
      "                  Real Estate Sale or Relocation- Alert me when any of these companies sell their office or move to a new location       0.00      0.00      0.00         3\n",
      "                                 Received Private Funding- Alert me when any of these companies raise money in exchange for equity       0.25      0.18      0.21        76\n",
      "                                     Regulatory Issues- Alert me when any of these companies encounter problems with governing law       0.25      0.18      0.21        76\n",
      "                                                           Research House - Alert me when a research house comments on the company       0.25      0.18      0.21        76\n",
      "                                                Sales Drop - Alert me when any of these companies see a drop in their sales figure       0.25      0.18      0.21        76\n",
      "                                      Sales or User Growth- Alert me when the average sales or user volume for a company increases       0.25      0.18      0.21        76\n",
      "                    Stake Increase/Decrease - Alert me whena company's major shareholder changes it's stake (increase or decrease)       0.25      0.18      0.21        76\n",
      "                             Technical Factors - Alert me when any of these companies move based on market or other technical news       0.25      0.18      0.21        76\n",
      "                                    Turbulence- Alert me when any of these companies exhibit signs of irregular or ailing behavior       0.09      0.08      0.09        24\n",
      "                                     Was Acquired- Alert me when any of these companies are acquired partly (Stake sale) or wholly       0.25      0.18      0.21        76\n",
      "                                                                                                                     industry news       0.25      0.18      0.21        76\n",
      "                                                                 new contract - Alert me when a company enters into a new contract       0.00      0.00      0.00         1\n",
      "                                                    new investment - Alert me when a company does an expansion or a new investment       0.25      0.18      0.21        76\n",
      "                                                                                                                        other news       0.00      0.00      0.00         1\n",
      "                             technical Factors - Alert me when any of these companies move based on market or other technical news       0.25      0.18      0.21        76\n",
      "\n",
      "                                                                                                                         micro avg       0.21      0.17      0.18     60011\n",
      "                                                                                                                         macro avg       0.11      0.09      0.10     60011\n",
      "                                                                                                                      weighted avg       0.22      0.17      0.19     60011\n",
      "\n",
      "Accuracy achieved is 0.09417040358744394\n"
     ]
    },
    {
     "name": "stderr",
     "output_type": "stream",
     "text": [
      "C:\\ProgramData\\Anaconda3\\lib\\site-packages\\sklearn\\metrics\\classification.py:1870: UserWarning: labels size, 2007, does not match size of target_names, 63\n",
      "  .format(len(labels), len(target_names))\n",
      "C:\\ProgramData\\Anaconda3\\lib\\site-packages\\sklearn\\metrics\\classification.py:1437: UndefinedMetricWarning: Precision and F-score are ill-defined and being set to 0.0 in labels with no predicted samples.\n",
      "  'precision', 'predicted', average, warn_for)\n",
      "C:\\ProgramData\\Anaconda3\\lib\\site-packages\\sklearn\\metrics\\classification.py:1439: UndefinedMetricWarning: Recall and F-score are ill-defined and being set to 0.0 in labels with no true samples.\n",
      "  'recall', 'true', average, warn_for)\n"
     ]
    }
   ],
   "source": [
    "print(classification_report(Yde, dc_pred, labels=Ytr ,target_names=encoder.classes_))\n",
    "print('Accuracy achieved is ' + str(np.mean(dc_pred == Yde)))"
   ]
  },
  {
   "cell_type": "code",
   "execution_count": 150,
   "metadata": {},
   "outputs": [
    {
     "name": "stdout",
     "output_type": "stream",
     "text": [
      "Training Decision tree\n",
      "                                                                                                                                    precision    recall  f1-score   support\n",
      "\n",
      "                                                                                Annual Report - Comments made in the Annual Report       0.64      0.66      0.65        76\n",
      "                                                                               Approval - Alert me when a company gets an approval       0.64      0.66      0.65        76\n",
      "                                                            Award Received- Alert me when any of these companies receives an award       0.64      0.66      0.65        76\n",
      "                                                             Black Swan Events - Alert me when a company faces an exceptional loss       0.64      0.66      0.65        76\n",
      "                                                     Buyback of shares- Alert me when any of these companies buys back it's shares       1.00      0.50      0.67         2\n",
      "                                                          CSR Work - Alert me when a company or its foundation does a CSR Activity       0.00      0.00      0.00         1\n",
      "                                        Credit Rating Agency - Alert me when a Credit Rating Agency makes a comment on the company       0.20      0.27      0.23        15\n",
      "                       Customer Dissatisfaction- Alert me when any of these companies customers voice their dissatisfaction online       0.64      0.67      0.65        24\n",
      "                                  Debt Financing- Alert me when any of these companies receives a loan they have promised to repay       1.00      0.50      0.67         2\n",
      "               Earnings, Stock Performance or Dividends- Alert me when any of these companies release numbers on their performance       0.00      0.00      0.00         0\n",
      "                                        Employee Related News - Alert me when any of these companies have an employee related news       0.20      0.27      0.23        15\n",
      "                                      Event Celebration - Alert me when any of these companies celebrate an event/national holiday       0.64      0.66      0.65        76\n",
      "                            Executive Quote or Publication- Alert me when any of these companies executives is quoted or published       0.00      0.00      0.00         1\n",
      "                        Exhibitor or Presenter at an Event - Alert me when any of these companies exhibits or presents at an event       0.67      0.67      0.67         3\n",
      "                                 Financial Challenges- Alert me when any of these companies' report signs of financial instability       0.00      0.00      0.00         2\n",
      "                Growth/Focus in exisitng terrain - Alert me when a company focusses on existing terrain by means of expansion, etc       0.20      0.27      0.23        15\n",
      "                                                   IPO or Public Offering- Alert me when any of these companies IPO or file to IPO       0.00      0.00      0.00         1\n",
      "          Included in Industry Lists- Alert me when any of these companies is added to an industry-specific list by Oracle DataFox       0.00      0.00      0.00         0\n",
      "                   Included in Industry News- Alert me when any of these companies are mentioned positively by an industry analyst       0.64      0.66      0.65        76\n",
      "                                                                                                                     Industry News       0.17      0.33      0.22         3\n",
      "                                                                                                                     Industry news       0.20      0.27      0.23        15\n",
      "                  Industry or Competitive - Alert me when any company competitor’s gain a unique advantage or the market downturns       0.57      0.57      0.57         7\n",
      "                                            Invested in a Company- Alert me when any of these companies invests in another company       0.57      0.57      0.57         7\n",
      "                                                                                                                   Irrelevant News       0.64      0.66      0.65        76\n",
      "                                                   Job Postings- Alert me when any of these companies post new available positions       0.64      0.66      0.65        76\n",
      "                            Key Executive Hire or Promotion - Alert me when any of these companies hire or promote a new executive       0.64      0.66      0.65        76\n",
      "                                     Layoffs - Alert me when any of these companies terminate a large number of employee contracts       0.00      0.00      0.00         1\n",
      "                                          Leadership Change- Alert me when any of these companies undergo management restructuring       0.57      0.57      0.57         7\n",
      "                                         Legal Issues - Alert me when any of these companies are having litigation related issues        0.64      0.66      0.65        76\n",
      "                   Made or will make an Acquisition- Alert me when any of these companies acquires or will acquire another company       0.00      0.00      0.00         0\n",
      "                                                                            Market Buzz - News related to the Indian Equity Market       0.50      0.43      0.46         7\n",
      "                                                                           Market Buzz - News related to the Indian Equity Market        0.10      0.09      0.10        11\n",
      "                               Marketing Activity - Alert me when any of these companies launch fresh marketing efforts or tactics       0.20      0.27      0.23        15\n",
      "                  Merger, Restructuring, or Ownership Change- Alert me when any of these companies undergo financial restructuring       0.50      0.50      0.50         4\n",
      "                                               New Geography- Alert me when a company moves or expands into a new state or country       0.64      0.66      0.65        76\n",
      "     New Patent or Regulatory Approval- Alert me when a company receives government approval for a patent, registration or license       0.64      0.67      0.65        24\n",
      "New Products, Initiatives, or Strategy- Alert me when a company unveils a new product or announces an initiative to enter a market       0.00      0.00      0.00         2\n",
      "                                                                 New contract - Alert me when a company enters into a new contract       0.64      0.67      0.65        24\n",
      "                                                    New investment - Alert me when a company does an expansion or a new investment       0.20      0.33      0.25         3\n",
      "                                                                Office Space Expansion- Alert me when a company opens a new office       0.17      0.33      0.22         3\n",
      "                                                                                                                        Other News       0.20      0.27      0.23        15\n",
      "                                                                                                               Other negative news       0.64      0.67      0.65        24\n",
      "                                                                                                                        Other news       0.64      0.66      0.65        76\n",
      "                                  Outsourcing- Alert me when any of these companies subcontracts to other companies or contractors       0.20      0.27      0.23        15\n",
      "                      Partnership or Joint Venture- Alert me when two companies partner or enter a short-term business arrangement       0.57      0.57      0.57         7\n",
      "                                                             Payback of debt - Alert me any of these companies pays back it’s debt       0.64      0.66      0.65        76\n",
      "                                Personal News - Alert me when any of these companies have personal news concerning it's management       0.00      0.00      0.00         3\n",
      "                                              Production related news - Alertme when a company has news related to it's production       0.64      0.66      0.65        76\n",
      "                  Real Estate Sale or Relocation- Alert me when any of these companies sell their office or move to a new location       0.20      0.33      0.25         3\n",
      "                                 Received Private Funding- Alert me when any of these companies raise money in exchange for equity       0.64      0.66      0.65        76\n",
      "                                     Regulatory Issues- Alert me when any of these companies encounter problems with governing law       0.64      0.66      0.65        76\n",
      "                                                           Research House - Alert me when a research house comments on the company       0.64      0.66      0.65        76\n",
      "                                                Sales Drop - Alert me when any of these companies see a drop in their sales figure       0.64      0.66      0.65        76\n",
      "                                      Sales or User Growth- Alert me when the average sales or user volume for a company increases       0.64      0.66      0.65        76\n",
      "                    Stake Increase/Decrease - Alert me whena company's major shareholder changes it's stake (increase or decrease)       0.64      0.66      0.65        76\n",
      "                             Technical Factors - Alert me when any of these companies move based on market or other technical news       0.64      0.66      0.65        76\n",
      "                                    Turbulence- Alert me when any of these companies exhibit signs of irregular or ailing behavior       0.64      0.67      0.65        24\n",
      "                                     Was Acquired- Alert me when any of these companies are acquired partly (Stake sale) or wholly       0.64      0.66      0.65        76\n",
      "                                                                                                                     industry news       0.64      0.66      0.65        76\n",
      "                                                                 new contract - Alert me when a company enters into a new contract       0.00      0.00      0.00         1\n",
      "                                                    new investment - Alert me when a company does an expansion or a new investment       0.64      0.66      0.65        76\n",
      "                                                                                                                        other news       0.00      0.00      0.00         1\n",
      "                             technical Factors - Alert me when any of these companies move based on market or other technical news       0.64      0.66      0.65        76\n",
      "\n",
      "                                                                                                                         micro avg       0.60      0.62      0.61     60011\n",
      "                                                                                                                         macro avg       0.41      0.40      0.40     60011\n",
      "                                                                                                                      weighted avg       0.61      0.62      0.61     60011\n",
      "\n",
      "Accuracy achieved is 0.4349775784753363\n"
     ]
    },
    {
     "name": "stderr",
     "output_type": "stream",
     "text": [
      "C:\\ProgramData\\Anaconda3\\lib\\site-packages\\sklearn\\metrics\\classification.py:1870: UserWarning: labels size, 2007, does not match size of target_names, 63\n",
      "  .format(len(labels), len(target_names))\n",
      "C:\\ProgramData\\Anaconda3\\lib\\site-packages\\sklearn\\metrics\\classification.py:1437: UndefinedMetricWarning: Precision and F-score are ill-defined and being set to 0.0 in labels with no predicted samples.\n",
      "  'precision', 'predicted', average, warn_for)\n",
      "C:\\ProgramData\\Anaconda3\\lib\\site-packages\\sklearn\\metrics\\classification.py:1439: UndefinedMetricWarning: Recall and F-score are ill-defined and being set to 0.0 in labels with no true samples.\n",
      "  'recall', 'true', average, warn_for)\n"
     ]
    }
   ],
   "source": [
    "\n",
    "# ### Decision Tree\n",
    "print(\"Training Decision tree\")\n",
    "dt = DecisionTreeClassifier()\n",
    "dt.fit(Xtr, Ytr)\n",
    "dt_pred = dt.predict(Xde)\n",
    "print(classification_report(Yde, dt_pred, labels=Ytr ,target_names=encoder.classes_))\n",
    "print('Accuracy achieved is ' + str(np.mean(dt_pred == Yde)))"
   ]
  },
  {
   "cell_type": "code",
   "execution_count": 151,
   "metadata": {},
   "outputs": [
    {
     "name": "stdout",
     "output_type": "stream",
     "text": [
      "Training Random Forest\n",
      "                                                                                                                                    precision    recall  f1-score   support\n",
      "\n",
      "                                                                                Annual Report - Comments made in the Annual Report       0.51      0.93      0.66        76\n",
      "                                                                               Approval - Alert me when a company gets an approval       0.51      0.93      0.66        76\n",
      "                                                            Award Received- Alert me when any of these companies receives an award       0.51      0.93      0.66        76\n",
      "                                                             Black Swan Events - Alert me when a company faces an exceptional loss       0.51      0.93      0.66        76\n",
      "                                                     Buyback of shares- Alert me when any of these companies buys back it's shares       0.00      0.00      0.00         2\n",
      "                                                          CSR Work - Alert me when a company or its foundation does a CSR Activity       0.00      0.00      0.00         1\n",
      "                                        Credit Rating Agency - Alert me when a Credit Rating Agency makes a comment on the company       0.14      0.07      0.09        15\n",
      "                       Customer Dissatisfaction- Alert me when any of these companies customers voice their dissatisfaction online       0.47      0.75      0.58        24\n",
      "                                  Debt Financing- Alert me when any of these companies receives a loan they have promised to repay       1.00      0.50      0.67         2\n",
      "               Earnings, Stock Performance or Dividends- Alert me when any of these companies release numbers on their performance       0.00      0.00      0.00         0\n",
      "                                        Employee Related News - Alert me when any of these companies have an employee related news       0.14      0.07      0.09        15\n",
      "                                      Event Celebration - Alert me when any of these companies celebrate an event/national holiday       0.51      0.93      0.66        76\n",
      "                            Executive Quote or Publication- Alert me when any of these companies executives is quoted or published       0.00      0.00      0.00         1\n",
      "                        Exhibitor or Presenter at an Event - Alert me when any of these companies exhibits or presents at an event       1.00      1.00      1.00         3\n",
      "                                 Financial Challenges- Alert me when any of these companies' report signs of financial instability       0.00      0.00      0.00         2\n",
      "                Growth/Focus in exisitng terrain - Alert me when a company focusses on existing terrain by means of expansion, etc       0.14      0.07      0.09        15\n",
      "                                                   IPO or Public Offering- Alert me when any of these companies IPO or file to IPO       0.00      0.00      0.00         1\n",
      "          Included in Industry Lists- Alert me when any of these companies is added to an industry-specific list by Oracle DataFox       0.00      0.00      0.00         0\n",
      "                   Included in Industry News- Alert me when any of these companies are mentioned positively by an industry analyst       0.51      0.93      0.66        76\n",
      "                                                                                                                     Industry News       0.00      0.00      0.00         3\n",
      "                                                                                                                     Industry news       0.14      0.07      0.09        15\n",
      "                  Industry or Competitive - Alert me when any company competitor’s gain a unique advantage or the market downturns       0.71      0.71      0.71         7\n",
      "                                            Invested in a Company- Alert me when any of these companies invests in another company       0.71      0.71      0.71         7\n",
      "                                                                                                                   Irrelevant News       0.51      0.93      0.66        76\n",
      "                                                   Job Postings- Alert me when any of these companies post new available positions       0.51      0.93      0.66        76\n",
      "                            Key Executive Hire or Promotion - Alert me when any of these companies hire or promote a new executive       0.51      0.93      0.66        76\n",
      "                                     Layoffs - Alert me when any of these companies terminate a large number of employee contracts       0.00      0.00      0.00         1\n",
      "                                          Leadership Change- Alert me when any of these companies undergo management restructuring       0.71      0.71      0.71         7\n",
      "                                         Legal Issues - Alert me when any of these companies are having litigation related issues        0.51      0.93      0.66        76\n",
      "                   Made or will make an Acquisition- Alert me when any of these companies acquires or will acquire another company       0.00      0.00      0.00         0\n",
      "                                                                            Market Buzz - News related to the Indian Equity Market       0.67      0.57      0.62         7\n",
      "                                                                           Market Buzz - News related to the Indian Equity Market        1.00      0.27      0.43        11\n",
      "                               Marketing Activity - Alert me when any of these companies launch fresh marketing efforts or tactics       0.14      0.07      0.09        15\n",
      "                  Merger, Restructuring, or Ownership Change- Alert me when any of these companies undergo financial restructuring       0.00      0.00      0.00         4\n",
      "                                               New Geography- Alert me when a company moves or expands into a new state or country       0.51      0.93      0.66        76\n",
      "     New Patent or Regulatory Approval- Alert me when a company receives government approval for a patent, registration or license       0.47      0.75      0.58        24\n",
      "New Products, Initiatives, or Strategy- Alert me when a company unveils a new product or announces an initiative to enter a market       0.00      0.00      0.00         2\n",
      "                                                                 New contract - Alert me when a company enters into a new contract       0.47      0.75      0.58        24\n",
      "                                                    New investment - Alert me when a company does an expansion or a new investment       0.00      0.00      0.00         3\n",
      "                                                                Office Space Expansion- Alert me when a company opens a new office       0.00      0.00      0.00         3\n",
      "                                                                                                                        Other News       0.14      0.07      0.09        15\n",
      "                                                                                                               Other negative news       0.47      0.75      0.58        24\n",
      "                                                                                                                        Other news       0.51      0.93      0.66        76\n",
      "                                  Outsourcing- Alert me when any of these companies subcontracts to other companies or contractors       0.14      0.07      0.09        15\n",
      "                      Partnership or Joint Venture- Alert me when two companies partner or enter a short-term business arrangement       0.71      0.71      0.71         7\n",
      "                                                             Payback of debt - Alert me any of these companies pays back it’s debt       0.51      0.93      0.66        76\n",
      "                                Personal News - Alert me when any of these companies have personal news concerning it's management       0.00      0.00      0.00         3\n",
      "                                              Production related news - Alertme when a company has news related to it's production       0.51      0.93      0.66        76\n",
      "                  Real Estate Sale or Relocation- Alert me when any of these companies sell their office or move to a new location       0.00      0.00      0.00         3\n",
      "                                 Received Private Funding- Alert me when any of these companies raise money in exchange for equity       0.51      0.93      0.66        76\n",
      "                                     Regulatory Issues- Alert me when any of these companies encounter problems with governing law       0.51      0.93      0.66        76\n",
      "                                                           Research House - Alert me when a research house comments on the company       0.51      0.93      0.66        76\n",
      "                                                Sales Drop - Alert me when any of these companies see a drop in their sales figure       0.51      0.93      0.66        76\n",
      "                                      Sales or User Growth- Alert me when the average sales or user volume for a company increases       0.51      0.93      0.66        76\n",
      "                    Stake Increase/Decrease - Alert me whena company's major shareholder changes it's stake (increase or decrease)       0.51      0.93      0.66        76\n",
      "                             Technical Factors - Alert me when any of these companies move based on market or other technical news       0.51      0.93      0.66        76\n",
      "                                    Turbulence- Alert me when any of these companies exhibit signs of irregular or ailing behavior       0.47      0.75      0.58        24\n",
      "                                     Was Acquired- Alert me when any of these companies are acquired partly (Stake sale) or wholly       0.51      0.93      0.66        76\n",
      "                                                                                                                     industry news       0.51      0.93      0.66        76\n",
      "                                                                 new contract - Alert me when a company enters into a new contract       0.00      0.00      0.00         1\n",
      "                                                    new investment - Alert me when a company does an expansion or a new investment       0.51      0.93      0.66        76\n",
      "                                                                                                                        other news       0.00      0.00      0.00         1\n",
      "                             technical Factors - Alert me when any of these companies move based on market or other technical news       0.51      0.93      0.66        76\n",
      "\n",
      "                                                                                                                         micro avg       0.50      0.85      0.63     60011\n",
      "                                                                                                                         macro avg       0.39      0.49      0.40     60011\n",
      "                                                                                                                      weighted avg       0.50      0.85      0.61     60011\n",
      "\n",
      "Accuracy achieved is 0.5381165919282511\n"
     ]
    },
    {
     "name": "stderr",
     "output_type": "stream",
     "text": [
      "C:\\ProgramData\\Anaconda3\\lib\\site-packages\\sklearn\\metrics\\classification.py:1870: UserWarning: labels size, 2007, does not match size of target_names, 63\n",
      "  .format(len(labels), len(target_names))\n",
      "C:\\ProgramData\\Anaconda3\\lib\\site-packages\\sklearn\\metrics\\classification.py:1437: UndefinedMetricWarning: Precision and F-score are ill-defined and being set to 0.0 in labels with no predicted samples.\n",
      "  'precision', 'predicted', average, warn_for)\n",
      "C:\\ProgramData\\Anaconda3\\lib\\site-packages\\sklearn\\metrics\\classification.py:1439: UndefinedMetricWarning: Recall and F-score are ill-defined and being set to 0.0 in labels with no true samples.\n",
      "  'recall', 'true', average, warn_for)\n"
     ]
    }
   ],
   "source": [
    "# ### Random Forest\n",
    "print(\"Training Random Forest\")\n",
    "rf = RandomForestClassifier(n_estimators=40)\n",
    "rf.fit(Xtr, Ytr)\n",
    "pred = rf.predict(Xde)\n",
    "print(classification_report(Yde, pred, labels=Ytr ,target_names=encoder.classes_))\n",
    "print('Accuracy achieved is ' + str(np.mean(pred == Yde)))"
   ]
  },
  {
   "cell_type": "code",
   "execution_count": 152,
   "metadata": {},
   "outputs": [
    {
     "name": "stderr",
     "output_type": "stream",
     "text": [
      "C:\\ProgramData\\Anaconda3\\lib\\site-packages\\sklearn\\metrics\\classification.py:1870: UserWarning: labels size, 2007, does not match size of target_names, 63\n",
      "  .format(len(labels), len(target_names))\n"
     ]
    },
    {
     "name": "stdout",
     "output_type": "stream",
     "text": [
      "Training Multinomial Naive Bayesian\n",
      "                                                                                                                                    precision    recall  f1-score   support\n",
      "\n",
      "                                                                                Annual Report - Comments made in the Annual Report       0.65      0.86      0.74        76\n",
      "                                                                               Approval - Alert me when a company gets an approval       0.65      0.86      0.74        76\n",
      "                                                            Award Received- Alert me when any of these companies receives an award       0.65      0.86      0.74        76\n",
      "                                                             Black Swan Events - Alert me when a company faces an exceptional loss       0.65      0.86      0.74        76\n",
      "                                                     Buyback of shares- Alert me when any of these companies buys back it's shares       0.00      0.00      0.00         2\n",
      "                                                          CSR Work - Alert me when a company or its foundation does a CSR Activity       0.00      0.00      0.00         1\n",
      "                                        Credit Rating Agency - Alert me when a Credit Rating Agency makes a comment on the company       0.27      0.40      0.32        15\n",
      "                       Customer Dissatisfaction- Alert me when any of these companies customers voice their dissatisfaction online       0.38      0.88      0.53        24\n",
      "                                  Debt Financing- Alert me when any of these companies receives a loan they have promised to repay       1.00      0.50      0.67         2\n",
      "               Earnings, Stock Performance or Dividends- Alert me when any of these companies release numbers on their performance       0.00      0.00      0.00         0\n",
      "                                        Employee Related News - Alert me when any of these companies have an employee related news       0.27      0.40      0.32        15\n",
      "                                      Event Celebration - Alert me when any of these companies celebrate an event/national holiday       0.65      0.86      0.74        76\n",
      "                            Executive Quote or Publication- Alert me when any of these companies executives is quoted or published       0.00      0.00      0.00         1\n",
      "                        Exhibitor or Presenter at an Event - Alert me when any of these companies exhibits or presents at an event       1.00      1.00      1.00         3\n",
      "                                 Financial Challenges- Alert me when any of these companies' report signs of financial instability       0.00      0.00      0.00         2\n",
      "                Growth/Focus in exisitng terrain - Alert me when a company focusses on existing terrain by means of expansion, etc       0.27      0.40      0.32        15\n",
      "                                                   IPO or Public Offering- Alert me when any of these companies IPO or file to IPO       0.00      0.00      0.00         1\n",
      "          Included in Industry Lists- Alert me when any of these companies is added to an industry-specific list by Oracle DataFox       0.00      0.00      0.00         0\n",
      "                   Included in Industry News- Alert me when any of these companies are mentioned positively by an industry analyst       0.65      0.86      0.74        76\n",
      "                                                                                                                     Industry News       0.50      0.33      0.40         3\n",
      "                                                                                                                     Industry news       0.27      0.40      0.32        15\n",
      "                  Industry or Competitive - Alert me when any company competitor’s gain a unique advantage or the market downturns       0.71      0.71      0.71         7\n",
      "                                            Invested in a Company- Alert me when any of these companies invests in another company       0.71      0.71      0.71         7\n",
      "                                                                                                                   Irrelevant News       0.65      0.86      0.74        76\n",
      "                                                   Job Postings- Alert me when any of these companies post new available positions       0.65      0.86      0.74        76\n",
      "                            Key Executive Hire or Promotion - Alert me when any of these companies hire or promote a new executive       0.65      0.86      0.74        76\n",
      "                                     Layoffs - Alert me when any of these companies terminate a large number of employee contracts       0.00      0.00      0.00         1\n",
      "                                          Leadership Change- Alert me when any of these companies undergo management restructuring       0.71      0.71      0.71         7\n",
      "                                         Legal Issues - Alert me when any of these companies are having litigation related issues        0.65      0.86      0.74        76\n",
      "                   Made or will make an Acquisition- Alert me when any of these companies acquires or will acquire another company       0.00      0.00      0.00         0\n",
      "                                                                            Market Buzz - News related to the Indian Equity Market       0.50      0.57      0.53         7\n",
      "                                                                           Market Buzz - News related to the Indian Equity Market        0.75      0.27      0.40        11\n",
      "                               Marketing Activity - Alert me when any of these companies launch fresh marketing efforts or tactics       0.27      0.40      0.32        15\n",
      "                  Merger, Restructuring, or Ownership Change- Alert me when any of these companies undergo financial restructuring       0.00      0.00      0.00         4\n",
      "                                               New Geography- Alert me when a company moves or expands into a new state or country       0.65      0.86      0.74        76\n",
      "     New Patent or Regulatory Approval- Alert me when a company receives government approval for a patent, registration or license       0.38      0.88      0.53        24\n",
      "New Products, Initiatives, or Strategy- Alert me when a company unveils a new product or announces an initiative to enter a market       0.00      0.00      0.00         2\n",
      "                                                                 New contract - Alert me when a company enters into a new contract       0.38      0.88      0.53        24\n",
      "                                                    New investment - Alert me when a company does an expansion or a new investment       0.00      0.00      0.00         3\n",
      "                                                                Office Space Expansion- Alert me when a company opens a new office       0.50      0.33      0.40         3\n",
      "                                                                                                                        Other News       0.27      0.40      0.32        15\n",
      "                                                                                                               Other negative news       0.38      0.88      0.53        24\n",
      "                                                                                                                        Other news       0.65      0.86      0.74        76\n",
      "                                  Outsourcing- Alert me when any of these companies subcontracts to other companies or contractors       0.27      0.40      0.32        15\n",
      "                      Partnership or Joint Venture- Alert me when two companies partner or enter a short-term business arrangement       0.71      0.71      0.71         7\n",
      "                                                             Payback of debt - Alert me any of these companies pays back it’s debt       0.65      0.86      0.74        76\n",
      "                                Personal News - Alert me when any of these companies have personal news concerning it's management       0.00      0.00      0.00         3\n",
      "                                              Production related news - Alertme when a company has news related to it's production       0.65      0.86      0.74        76\n",
      "                  Real Estate Sale or Relocation- Alert me when any of these companies sell their office or move to a new location       0.00      0.00      0.00         3\n",
      "                                 Received Private Funding- Alert me when any of these companies raise money in exchange for equity       0.65      0.86      0.74        76\n",
      "                                     Regulatory Issues- Alert me when any of these companies encounter problems with governing law       0.65      0.86      0.74        76\n",
      "                                                           Research House - Alert me when a research house comments on the company       0.65      0.86      0.74        76\n",
      "                                                Sales Drop - Alert me when any of these companies see a drop in their sales figure       0.65      0.86      0.74        76\n",
      "                                      Sales or User Growth- Alert me when the average sales or user volume for a company increases       0.65      0.86      0.74        76\n",
      "                    Stake Increase/Decrease - Alert me whena company's major shareholder changes it's stake (increase or decrease)       0.65      0.86      0.74        76\n",
      "                             Technical Factors - Alert me when any of these companies move based on market or other technical news       0.65      0.86      0.74        76\n",
      "                                    Turbulence- Alert me when any of these companies exhibit signs of irregular or ailing behavior       0.38      0.88      0.53        24\n",
      "                                     Was Acquired- Alert me when any of these companies are acquired partly (Stake sale) or wholly       0.65      0.86      0.74        76\n",
      "                                                                                                                     industry news       0.65      0.86      0.74        76\n",
      "                                                                 new contract - Alert me when a company enters into a new contract       0.00      0.00      0.00         1\n",
      "                                                    new investment - Alert me when a company does an expansion or a new investment       0.65      0.86      0.74        76\n",
      "                                                                                                                        other news       0.00      0.00      0.00         1\n",
      "                             technical Factors - Alert me when any of these companies move based on market or other technical news       0.65      0.86      0.74        76\n",
      "\n",
      "                                                                                                                         micro avg       0.59      0.81      0.68     60011\n",
      "                                                                                                                         macro avg       0.42      0.51      0.44     60011\n",
      "                                                                                                                      weighted avg       0.60      0.81      0.68     60011\n"
     ]
    },
    {
     "name": "stdout",
     "output_type": "stream",
     "text": [
      "\n",
      "Accuracy achieved is 0.5381165919282511\n"
     ]
    },
    {
     "name": "stderr",
     "output_type": "stream",
     "text": [
      "C:\\ProgramData\\Anaconda3\\lib\\site-packages\\sklearn\\metrics\\classification.py:1437: UndefinedMetricWarning: Precision and F-score are ill-defined and being set to 0.0 in labels with no predicted samples.\n",
      "  'precision', 'predicted', average, warn_for)\n",
      "C:\\ProgramData\\Anaconda3\\lib\\site-packages\\sklearn\\metrics\\classification.py:1439: UndefinedMetricWarning: Recall and F-score are ill-defined and being set to 0.0 in labels with no true samples.\n",
      "  'recall', 'true', average, warn_for)\n"
     ]
    }
   ],
   "source": [
    "\n",
    "# ### Multinomial Naive Bayesian\n",
    "print(\"Training Multinomial Naive Bayesian\")\n",
    "nb = MultinomialNB()\n",
    "nb.fit(Xtr, Ytr)\n",
    "pred_nb = nb.predict(Xde)\n",
    "print(classification_report(Yde, pred_nb, labels=Ytr ,target_names=encoder.classes_))\n",
    "print('Accuracy achieved is ' + str(np.mean(pred_nb == Yde)))"
   ]
  },
  {
   "cell_type": "code",
   "execution_count": 153,
   "metadata": {},
   "outputs": [
    {
     "name": "stdout",
     "output_type": "stream",
     "text": [
      "Training Support Vector Classification\n"
     ]
    },
    {
     "name": "stderr",
     "output_type": "stream",
     "text": [
      "C:\\ProgramData\\Anaconda3\\lib\\site-packages\\sklearn\\svm\\base.py:193: FutureWarning: The default value of gamma will change from 'auto' to 'scale' in version 0.22 to account better for unscaled features. Set gamma explicitly to 'auto' or 'scale' to avoid this warning.\n",
      "  \"avoid this warning.\", FutureWarning)\n"
     ]
    },
    {
     "name": "stdout",
     "output_type": "stream",
     "text": [
      "                                                                                                                                    precision    recall  f1-score   support\n",
      "\n",
      "                                                                                Annual Report - Comments made in the Annual Report       0.35      1.00      0.52        76\n",
      "                                                                               Approval - Alert me when a company gets an approval       0.35      1.00      0.52        76\n",
      "                                                            Award Received- Alert me when any of these companies receives an award       0.35      1.00      0.52        76\n",
      "                                                             Black Swan Events - Alert me when a company faces an exceptional loss       0.35      1.00      0.52        76\n",
      "                                                     Buyback of shares- Alert me when any of these companies buys back it's shares       0.00      0.00      0.00         2\n",
      "                                                          CSR Work - Alert me when a company or its foundation does a CSR Activity       0.00      0.00      0.00         1\n",
      "                                        Credit Rating Agency - Alert me when a Credit Rating Agency makes a comment on the company       0.00      0.00      0.00        15\n",
      "                       Customer Dissatisfaction- Alert me when any of these companies customers voice their dissatisfaction online       0.75      0.12      0.21        24\n",
      "                                  Debt Financing- Alert me when any of these companies receives a loan they have promised to repay       0.00      0.00      0.00         2\n",
      "               Earnings, Stock Performance or Dividends- Alert me when any of these companies release numbers on their performance       0.00      0.00      0.00         0\n",
      "                                        Employee Related News - Alert me when any of these companies have an employee related news       0.00      0.00      0.00        15\n",
      "                                      Event Celebration - Alert me when any of these companies celebrate an event/national holiday       0.35      1.00      0.52        76\n",
      "                            Executive Quote or Publication- Alert me when any of these companies executives is quoted or published       0.00      0.00      0.00         1\n",
      "                        Exhibitor or Presenter at an Event - Alert me when any of these companies exhibits or presents at an event       0.00      0.00      0.00         3\n",
      "                                 Financial Challenges- Alert me when any of these companies' report signs of financial instability       0.00      0.00      0.00         2\n",
      "                Growth/Focus in exisitng terrain - Alert me when a company focusses on existing terrain by means of expansion, etc       0.00      0.00      0.00        15\n",
      "                                                   IPO or Public Offering- Alert me when any of these companies IPO or file to IPO       0.00      0.00      0.00         1\n",
      "          Included in Industry Lists- Alert me when any of these companies is added to an industry-specific list by Oracle DataFox       0.00      0.00      0.00         0\n",
      "                   Included in Industry News- Alert me when any of these companies are mentioned positively by an industry analyst       0.35      1.00      0.52        76\n",
      "                                                                                                                     Industry News       0.00      0.00      0.00         3\n",
      "                                                                                                                     Industry news       0.00      0.00      0.00        15\n",
      "                  Industry or Competitive - Alert me when any company competitor’s gain a unique advantage or the market downturns       0.00      0.00      0.00         7\n",
      "                                            Invested in a Company- Alert me when any of these companies invests in another company       0.00      0.00      0.00         7\n",
      "                                                                                                                   Irrelevant News       0.35      1.00      0.52        76\n",
      "                                                   Job Postings- Alert me when any of these companies post new available positions       0.35      1.00      0.52        76\n",
      "                            Key Executive Hire or Promotion - Alert me when any of these companies hire or promote a new executive       0.35      1.00      0.52        76\n",
      "                                     Layoffs - Alert me when any of these companies terminate a large number of employee contracts       0.00      0.00      0.00         1\n",
      "                                          Leadership Change- Alert me when any of these companies undergo management restructuring       0.00      0.00      0.00         7\n",
      "                                         Legal Issues - Alert me when any of these companies are having litigation related issues        0.35      1.00      0.52        76\n",
      "                   Made or will make an Acquisition- Alert me when any of these companies acquires or will acquire another company       0.00      0.00      0.00         0\n",
      "                                                                            Market Buzz - News related to the Indian Equity Market       0.00      0.00      0.00         7\n",
      "                                                                           Market Buzz - News related to the Indian Equity Market        0.00      0.00      0.00        11\n",
      "                               Marketing Activity - Alert me when any of these companies launch fresh marketing efforts or tactics       0.00      0.00      0.00        15\n",
      "                  Merger, Restructuring, or Ownership Change- Alert me when any of these companies undergo financial restructuring       0.00      0.00      0.00         4\n",
      "                                               New Geography- Alert me when a company moves or expands into a new state or country       0.35      1.00      0.52        76\n",
      "     New Patent or Regulatory Approval- Alert me when a company receives government approval for a patent, registration or license       0.75      0.12      0.21        24\n",
      "New Products, Initiatives, or Strategy- Alert me when a company unveils a new product or announces an initiative to enter a market       0.00      0.00      0.00         2\n",
      "                                                                 New contract - Alert me when a company enters into a new contract       0.75      0.12      0.21        24\n",
      "                                                    New investment - Alert me when a company does an expansion or a new investment       0.00      0.00      0.00         3\n",
      "                                                                Office Space Expansion- Alert me when a company opens a new office       0.00      0.00      0.00         3\n",
      "                                                                                                                        Other News       0.00      0.00      0.00        15\n",
      "                                                                                                               Other negative news       0.75      0.12      0.21        24\n",
      "                                                                                                                        Other news       0.35      1.00      0.52        76\n",
      "                                  Outsourcing- Alert me when any of these companies subcontracts to other companies or contractors       0.00      0.00      0.00        15\n",
      "                      Partnership or Joint Venture- Alert me when two companies partner or enter a short-term business arrangement       0.00      0.00      0.00         7\n",
      "                                                             Payback of debt - Alert me any of these companies pays back it’s debt       0.35      1.00      0.52        76\n",
      "                                Personal News - Alert me when any of these companies have personal news concerning it's management       0.00      0.00      0.00         3\n",
      "                                              Production related news - Alertme when a company has news related to it's production       0.35      1.00      0.52        76\n",
      "                  Real Estate Sale or Relocation- Alert me when any of these companies sell their office or move to a new location       0.00      0.00      0.00         3\n",
      "                                 Received Private Funding- Alert me when any of these companies raise money in exchange for equity       0.35      1.00      0.52        76\n",
      "                                     Regulatory Issues- Alert me when any of these companies encounter problems with governing law       0.35      1.00      0.52        76\n",
      "                                                           Research House - Alert me when a research house comments on the company       0.35      1.00      0.52        76\n",
      "                                                Sales Drop - Alert me when any of these companies see a drop in their sales figure       0.35      1.00      0.52        76\n",
      "                                      Sales or User Growth- Alert me when the average sales or user volume for a company increases       0.35      1.00      0.52        76\n",
      "                    Stake Increase/Decrease - Alert me whena company's major shareholder changes it's stake (increase or decrease)       0.35      1.00      0.52        76\n",
      "                             Technical Factors - Alert me when any of these companies move based on market or other technical news       0.35      1.00      0.52        76\n",
      "                                    Turbulence- Alert me when any of these companies exhibit signs of irregular or ailing behavior       0.75      0.12      0.21        24\n",
      "                                     Was Acquired- Alert me when any of these companies are acquired partly (Stake sale) or wholly       0.35      1.00      0.52        76\n",
      "                                                                                                                     industry news       0.35      1.00      0.52        76\n",
      "                                                                 new contract - Alert me when a company enters into a new contract       0.00      0.00      0.00         1\n",
      "                                                    new investment - Alert me when a company does an expansion or a new investment       0.35      1.00      0.52        76\n",
      "                                                                                                                        other news       0.00      0.00      0.00         1\n",
      "                             technical Factors - Alert me when any of these companies move based on market or other technical news       0.35      1.00      0.52        76\n",
      "\n",
      "                                                                                                                         micro avg       0.35      0.82      0.49     60011\n",
      "                                                                                                                         macro avg       0.20      0.33      0.19     60011\n",
      "                                                                                                                      weighted avg       0.35      0.82      0.44     60011\n",
      "\n",
      "Accuracy achieved is 0.3542600896860987\n"
     ]
    },
    {
     "name": "stderr",
     "output_type": "stream",
     "text": [
      "C:\\ProgramData\\Anaconda3\\lib\\site-packages\\sklearn\\metrics\\classification.py:1870: UserWarning: labels size, 2007, does not match size of target_names, 63\n",
      "  .format(len(labels), len(target_names))\n",
      "C:\\ProgramData\\Anaconda3\\lib\\site-packages\\sklearn\\metrics\\classification.py:1437: UndefinedMetricWarning: Precision and F-score are ill-defined and being set to 0.0 in labels with no predicted samples.\n",
      "  'precision', 'predicted', average, warn_for)\n",
      "C:\\ProgramData\\Anaconda3\\lib\\site-packages\\sklearn\\metrics\\classification.py:1439: UndefinedMetricWarning: Recall and F-score are ill-defined and being set to 0.0 in labels with no true samples.\n",
      "  'recall', 'true', average, warn_for)\n"
     ]
    }
   ],
   "source": [
    "# ### Support Vector Classification\n",
    "print(\"Training Support Vector Classification\")\n",
    "from sklearn.svm import SVC\n",
    "svc = SVC()\n",
    "svc.fit(Xtr, Ytr)\n",
    "svc_pred = svc.predict(Xde)\n",
    "print(classification_report(Yde, svc_pred, labels=Ytr ,target_names=encoder.classes_))\n",
    "print('Accuracy achieved is ' + str(np.mean(svc_pred == Yde)))"
   ]
  },
  {
   "cell_type": "code",
   "execution_count": 154,
   "metadata": {},
   "outputs": [
    {
     "name": "stdout",
     "output_type": "stream",
     "text": [
      "Training Multilayered Perceptron\n",
      "                                                                                                                                    precision    recall  f1-score   support\n",
      "\n",
      "                                                                                Annual Report - Comments made in the Annual Report       0.73      0.88      0.80        76\n",
      "                                                                               Approval - Alert me when a company gets an approval       0.73      0.88      0.80        76\n",
      "                                                            Award Received- Alert me when any of these companies receives an award       0.73      0.88      0.80        76\n",
      "                                                             Black Swan Events - Alert me when a company faces an exceptional loss       0.73      0.88      0.80        76\n",
      "                                                     Buyback of shares- Alert me when any of these companies buys back it's shares       0.00      0.00      0.00         2\n",
      "                                                          CSR Work - Alert me when a company or its foundation does a CSR Activity       0.00      0.00      0.00         1\n",
      "                                        Credit Rating Agency - Alert me when a Credit Rating Agency makes a comment on the company       0.24      0.40      0.30        15\n",
      "                       Customer Dissatisfaction- Alert me when any of these companies customers voice their dissatisfaction online       0.77      0.71      0.74        24\n",
      "                                  Debt Financing- Alert me when any of these companies receives a loan they have promised to repay       1.00      0.50      0.67         2\n",
      "               Earnings, Stock Performance or Dividends- Alert me when any of these companies release numbers on their performance       0.00      0.00      0.00         0\n",
      "                                        Employee Related News - Alert me when any of these companies have an employee related news       0.24      0.40      0.30        15\n",
      "                                      Event Celebration - Alert me when any of these companies celebrate an event/national holiday       0.73      0.88      0.80        76\n",
      "                            Executive Quote or Publication- Alert me when any of these companies executives is quoted or published       0.00      0.00      0.00         1\n",
      "                        Exhibitor or Presenter at an Event - Alert me when any of these companies exhibits or presents at an event       1.00      1.00      1.00         3\n",
      "                                 Financial Challenges- Alert me when any of these companies' report signs of financial instability       0.00      0.00      0.00         2\n",
      "                Growth/Focus in exisitng terrain - Alert me when a company focusses on existing terrain by means of expansion, etc       0.24      0.40      0.30        15\n",
      "                                                   IPO or Public Offering- Alert me when any of these companies IPO or file to IPO       1.00      1.00      1.00         1\n",
      "          Included in Industry Lists- Alert me when any of these companies is added to an industry-specific list by Oracle DataFox       0.00      0.00      0.00         0\n",
      "                   Included in Industry News- Alert me when any of these companies are mentioned positively by an industry analyst       0.73      0.88      0.80        76\n",
      "                                                                                                                     Industry News       0.25      0.33      0.29         3\n",
      "                                                                                                                     Industry news       0.24      0.40      0.30        15\n",
      "                  Industry or Competitive - Alert me when any company competitor’s gain a unique advantage or the market downturns       0.60      0.86      0.71         7\n",
      "                                            Invested in a Company- Alert me when any of these companies invests in another company       0.60      0.86      0.71         7\n",
      "                                                                                                                   Irrelevant News       0.73      0.88      0.80        76\n",
      "                                                   Job Postings- Alert me when any of these companies post new available positions       0.73      0.88      0.80        76\n",
      "                            Key Executive Hire or Promotion - Alert me when any of these companies hire or promote a new executive       0.73      0.88      0.80        76\n",
      "                                     Layoffs - Alert me when any of these companies terminate a large number of employee contracts       0.00      0.00      0.00         1\n",
      "                                          Leadership Change- Alert me when any of these companies undergo management restructuring       0.60      0.86      0.71         7\n",
      "                                         Legal Issues - Alert me when any of these companies are having litigation related issues        0.73      0.88      0.80        76\n",
      "                   Made or will make an Acquisition- Alert me when any of these companies acquires or will acquire another company       0.00      0.00      0.00         0\n",
      "                                                                            Market Buzz - News related to the Indian Equity Market       0.44      0.57      0.50         7\n",
      "                                                                           Market Buzz - News related to the Indian Equity Market        0.58      0.64      0.61        11\n",
      "                               Marketing Activity - Alert me when any of these companies launch fresh marketing efforts or tactics       0.24      0.40      0.30        15\n",
      "                  Merger, Restructuring, or Ownership Change- Alert me when any of these companies undergo financial restructuring       0.00      0.00      0.00         4\n",
      "                                               New Geography- Alert me when a company moves or expands into a new state or country       0.73      0.88      0.80        76\n",
      "     New Patent or Regulatory Approval- Alert me when a company receives government approval for a patent, registration or license       0.77      0.71      0.74        24\n",
      "New Products, Initiatives, or Strategy- Alert me when a company unveils a new product or announces an initiative to enter a market       0.00      0.00      0.00         2\n",
      "                                                                 New contract - Alert me when a company enters into a new contract       0.77      0.71      0.74        24\n",
      "                                                    New investment - Alert me when a company does an expansion or a new investment       0.67      0.67      0.67         3\n",
      "                                                                Office Space Expansion- Alert me when a company opens a new office       0.25      0.33      0.29         3\n",
      "                                                                                                                        Other News       0.24      0.40      0.30        15\n",
      "                                                                                                               Other negative news       0.77      0.71      0.74        24\n",
      "                                                                                                                        Other news       0.73      0.88      0.80        76\n",
      "                                  Outsourcing- Alert me when any of these companies subcontracts to other companies or contractors       0.24      0.40      0.30        15\n",
      "                      Partnership or Joint Venture- Alert me when two companies partner or enter a short-term business arrangement       0.60      0.86      0.71         7\n",
      "                                                             Payback of debt - Alert me any of these companies pays back it’s debt       0.73      0.88      0.80        76\n",
      "                                Personal News - Alert me when any of these companies have personal news concerning it's management       1.00      0.33      0.50         3\n",
      "                                              Production related news - Alertme when a company has news related to it's production       0.73      0.88      0.80        76\n",
      "                  Real Estate Sale or Relocation- Alert me when any of these companies sell their office or move to a new location       0.67      0.67      0.67         3\n",
      "                                 Received Private Funding- Alert me when any of these companies raise money in exchange for equity       0.73      0.88      0.80        76\n",
      "                                     Regulatory Issues- Alert me when any of these companies encounter problems with governing law       0.73      0.88      0.80        76\n",
      "                                                           Research House - Alert me when a research house comments on the company       0.73      0.88      0.80        76\n",
      "                                                Sales Drop - Alert me when any of these companies see a drop in their sales figure       0.73      0.88      0.80        76\n",
      "                                      Sales or User Growth- Alert me when the average sales or user volume for a company increases       0.73      0.88      0.80        76\n",
      "                    Stake Increase/Decrease - Alert me whena company's major shareholder changes it's stake (increase or decrease)       0.73      0.88      0.80        76\n",
      "                             Technical Factors - Alert me when any of these companies move based on market or other technical news       0.73      0.88      0.80        76\n",
      "                                    Turbulence- Alert me when any of these companies exhibit signs of irregular or ailing behavior       0.77      0.71      0.74        24\n",
      "                                     Was Acquired- Alert me when any of these companies are acquired partly (Stake sale) or wholly       0.73      0.88      0.80        76\n",
      "                                                                                                                     industry news       0.73      0.88      0.80        76\n",
      "                                                                 new contract - Alert me when a company enters into a new contract       0.00      0.00      0.00         1\n",
      "                                                    new investment - Alert me when a company does an expansion or a new investment       0.73      0.88      0.80        76\n",
      "                                                                                                                        other news       0.00      0.00      0.00         1\n",
      "                             technical Factors - Alert me when any of these companies move based on market or other technical news       0.73      0.88      0.80        76\n",
      "\n",
      "                                                                                                                         micro avg       0.70      0.82      0.76     60011\n",
      "                                                                                                                         macro avg       0.53      0.57      0.53     60011\n",
      "                                                                                                                      weighted avg       0.70      0.82      0.76     60011\n",
      "\n",
      "Accuracy achieved is 0.6188340807174888\n"
     ]
    },
    {
     "name": "stderr",
     "output_type": "stream",
     "text": [
      "C:\\ProgramData\\Anaconda3\\lib\\site-packages\\sklearn\\metrics\\classification.py:1870: UserWarning: labels size, 2007, does not match size of target_names, 63\n",
      "  .format(len(labels), len(target_names))\n",
      "C:\\ProgramData\\Anaconda3\\lib\\site-packages\\sklearn\\metrics\\classification.py:1437: UndefinedMetricWarning: Precision and F-score are ill-defined and being set to 0.0 in labels with no predicted samples.\n",
      "  'precision', 'predicted', average, warn_for)\n",
      "C:\\ProgramData\\Anaconda3\\lib\\site-packages\\sklearn\\metrics\\classification.py:1439: UndefinedMetricWarning: Recall and F-score are ill-defined and being set to 0.0 in labels with no true samples.\n",
      "  'recall', 'true', average, warn_for)\n"
     ]
    }
   ],
   "source": [
    "# ### Multilayered Perceptron\n",
    "print(\"Training Multilayered Perceptron\")\n",
    "mlp = MLPClassifier(solver='adam', alpha=1e-5, hidden_layer_sizes=(100, 20), random_state=1, max_iter=400)\n",
    "mlp.fit(Xtr, Ytr)\n",
    "mlp_pred = mlp.predict(Xde)\n",
    "print(classification_report(Yde, mlp_pred, labels=Ytr ,target_names=encoder.classes_))\n",
    "print('Accuracy achieved is ' + str(np.mean(mlp_pred == Yde)))"
   ]
  },
  {
   "cell_type": "code",
   "execution_count": 155,
   "metadata": {},
   "outputs": [
    {
     "name": "stdout",
     "output_type": "stream",
     "text": [
      "Accuracy achieved is 0.09417040358744394\n",
      "Accuracy achieved is 0.4349775784753363\n",
      "Accuracy achieved is 0.5381165919282511\n",
      "Accuracy achieved is 0.3542600896860987\n",
      "Accuracy achieved is 0.6188340807174888\n"
     ]
    }
   ],
   "source": [
    "print('Accuracy achieved is ' + str(np.mean(dc_pred   == Yde)))\n",
    "print('Accuracy achieved is ' + str(np.mean(dt_pred   == Yde)))\n",
    "print('Accuracy achieved is ' + str(np.mean(pred_nb   == Yde)))\n",
    "print('Accuracy achieved is ' + str(np.mean(svc_pred  == Yde)))\n",
    "print('Accuracy achieved is ' + str(np.mean(mlp_pred  == Yde)))"
   ]
  },
  {
   "cell_type": "code",
   "execution_count": 156,
   "metadata": {},
   "outputs": [
    {
     "name": "stdout",
     "output_type": "stream",
     "text": [
      "\n",
      "\n",
      "Predicting test data using Multilayered Perceptron\n",
      "                                                                                                                                    precision    recall  f1-score   support\n",
      "\n",
      "                                                                                Annual Report - Comments made in the Annual Report       0.68      0.91      0.78        86\n",
      "                                                                               Approval - Alert me when a company gets an approval       0.68      0.91      0.78        86\n",
      "                                                            Award Received- Alert me when any of these companies receives an award       0.68      0.91      0.78        86\n",
      "                                                             Black Swan Events - Alert me when a company faces an exceptional loss       0.68      0.91      0.78        86\n",
      "                                                     Buyback of shares- Alert me when any of these companies buys back it's shares       0.00      0.00      0.00         1\n",
      "                                                          CSR Work - Alert me when a company or its foundation does a CSR Activity       0.00      0.00      0.00         1\n",
      "                                        Credit Rating Agency - Alert me when a Credit Rating Agency makes a comment on the company       0.36      0.60      0.45        15\n",
      "                       Customer Dissatisfaction- Alert me when any of these companies customers voice their dissatisfaction online       0.68      0.86      0.76        37\n",
      "                                  Debt Financing- Alert me when any of these companies receives a loan they have promised to repay       1.00      1.00      1.00         1\n",
      "               Earnings, Stock Performance or Dividends- Alert me when any of these companies release numbers on their performance       0.00      0.00      0.00         2\n",
      "                                        Employee Related News - Alert me when any of these companies have an employee related news       0.36      0.60      0.45        15\n",
      "                                      Event Celebration - Alert me when any of these companies celebrate an event/national holiday       0.68      0.91      0.78        86\n",
      "                            Executive Quote or Publication- Alert me when any of these companies executives is quoted or published       1.00      1.00      1.00         1\n",
      "                        Exhibitor or Presenter at an Event - Alert me when any of these companies exhibits or presents at an event       1.00      1.00      1.00         3\n",
      "                                 Financial Challenges- Alert me when any of these companies' report signs of financial instability       1.00      0.40      0.57         5\n",
      "                Growth/Focus in exisitng terrain - Alert me when a company focusses on existing terrain by means of expansion, etc       0.36      0.60      0.45        15\n",
      "                                                   IPO or Public Offering- Alert me when any of these companies IPO or file to IPO       1.00      0.43      0.60         7\n",
      "          Included in Industry Lists- Alert me when any of these companies is added to an industry-specific list by Oracle DataFox       0.00      0.00      0.00         1\n",
      "                   Included in Industry News- Alert me when any of these companies are mentioned positively by an industry analyst       0.68      0.91      0.78        86\n",
      "                                                                                                                     Industry News       0.25      0.14      0.18         7\n",
      "                                                                                                                     Industry news       0.36      0.60      0.45        15\n",
      "                  Industry or Competitive - Alert me when any company competitor’s gain a unique advantage or the market downturns       0.00      0.00      0.00         0\n",
      "                                            Invested in a Company- Alert me when any of these companies invests in another company       0.00      0.00      0.00         0\n",
      "                                                                                                                   Irrelevant News       0.68      0.91      0.78        86\n",
      "                                                   Job Postings- Alert me when any of these companies post new available positions       0.68      0.91      0.78        86\n",
      "                            Key Executive Hire or Promotion - Alert me when any of these companies hire or promote a new executive       0.68      0.91      0.78        86\n",
      "                                     Layoffs - Alert me when any of these companies terminate a large number of employee contracts       0.00      0.00      0.00         1\n",
      "                                          Leadership Change- Alert me when any of these companies undergo management restructuring       0.00      0.00      0.00         0\n",
      "                                         Legal Issues - Alert me when any of these companies are having litigation related issues        0.68      0.91      0.78        86\n",
      "                   Made or will make an Acquisition- Alert me when any of these companies acquires or will acquire another company       0.00      0.00      0.00         0\n",
      "                                                                            Market Buzz - News related to the Indian Equity Market       0.57      0.80      0.67        10\n",
      "                                                                           Market Buzz - News related to the Indian Equity Market        0.40      0.20      0.27        10\n",
      "                               Marketing Activity - Alert me when any of these companies launch fresh marketing efforts or tactics       0.36      0.60      0.45        15\n",
      "                  Merger, Restructuring, or Ownership Change- Alert me when any of these companies undergo financial restructuring       0.33      0.50      0.40         2\n",
      "                                               New Geography- Alert me when a company moves or expands into a new state or country       0.68      0.91      0.78        86\n",
      "     New Patent or Regulatory Approval- Alert me when a company receives government approval for a patent, registration or license       0.68      0.86      0.76        37\n",
      "New Products, Initiatives, or Strategy- Alert me when a company unveils a new product or announces an initiative to enter a market       1.00      0.40      0.57         5\n",
      "                                                                 New contract - Alert me when a company enters into a new contract       0.68      0.86      0.76        37\n",
      "                                                    New investment - Alert me when a company does an expansion or a new investment       0.50      1.00      0.67         2\n",
      "                                                                Office Space Expansion- Alert me when a company opens a new office       0.25      0.14      0.18         7\n",
      "                                                                                                                        Other News       0.36      0.60      0.45        15\n",
      "                                                                                                               Other negative news       0.68      0.86      0.76        37\n",
      "                                                                                                                        Other news       0.68      0.91      0.78        86\n",
      "                                  Outsourcing- Alert me when any of these companies subcontracts to other companies or contractors       0.36      0.60      0.45        15\n",
      "                      Partnership or Joint Venture- Alert me when two companies partner or enter a short-term business arrangement       0.00      0.00      0.00         0\n",
      "                                                             Payback of debt - Alert me any of these companies pays back it’s debt       0.68      0.91      0.78        86\n",
      "                                Personal News - Alert me when any of these companies have personal news concerning it's management       1.00      0.33      0.50         3\n",
      "                                              Production related news - Alertme when a company has news related to it's production       0.68      0.91      0.78        86\n",
      "                  Real Estate Sale or Relocation- Alert me when any of these companies sell their office or move to a new location       0.50      1.00      0.67         2\n",
      "                                 Received Private Funding- Alert me when any of these companies raise money in exchange for equity       0.68      0.91      0.78        86\n",
      "                                     Regulatory Issues- Alert me when any of these companies encounter problems with governing law       0.68      0.91      0.78        86\n",
      "                                                           Research House - Alert me when a research house comments on the company       0.68      0.91      0.78        86\n",
      "                                                Sales Drop - Alert me when any of these companies see a drop in their sales figure       0.68      0.91      0.78        86\n",
      "                                      Sales or User Growth- Alert me when the average sales or user volume for a company increases       0.68      0.91      0.78        86\n",
      "                    Stake Increase/Decrease - Alert me whena company's major shareholder changes it's stake (increase or decrease)       0.68      0.91      0.78        86\n",
      "                             Technical Factors - Alert me when any of these companies move based on market or other technical news       0.68      0.91      0.78        86\n",
      "                                    Turbulence- Alert me when any of these companies exhibit signs of irregular or ailing behavior       0.68      0.86      0.76        37\n",
      "                                     Was Acquired- Alert me when any of these companies are acquired partly (Stake sale) or wholly       0.68      0.91      0.78        86\n",
      "                                                                                                                     industry news       0.68      0.91      0.78        86\n",
      "                                                                 new contract - Alert me when a company enters into a new contract       0.67      0.40      0.50         5\n",
      "                                                    new investment - Alert me when a company does an expansion or a new investment       0.68      0.91      0.78        86\n",
      "                                                                                                                        other news       0.00      0.00      0.00         1\n",
      "                             technical Factors - Alert me when any of these companies move based on market or other technical news       0.68      0.91      0.78        86\n",
      "\n",
      "                                                                                                                         micro avg       0.67      0.86      0.75     69549\n",
      "                                                                                                                         macro avg       0.53      0.59      0.54     69549\n",
      "                                                                                                                      weighted avg       0.66      0.86      0.75     69549\n",
      "\n"
     ]
    },
    {
     "name": "stdout",
     "output_type": "stream",
     "text": [
      "Accuracy achieved is 0.6209677419354839\n"
     ]
    }
   ],
   "source": [
    "# # Final Model: Multilayered Perceptron\n",
    "# ## Predict test data\n",
    "print(\"\\n\\nPredicting test data using Multilayered Perceptron\")\n",
    "pred_final = mlp.predict(Xte)\n",
    "print(classification_report(Yte, pred_final, labels=Ytr ,target_names=encoder.classes_))\n",
    "print('Accuracy achieved is ' + str(accuracy_score(Yte,pred_final)))"
   ]
  },
  {
   "cell_type": "code",
   "execution_count": 157,
   "metadata": {},
   "outputs": [],
   "source": [
    "output = {\"title\":vectorizer.inverse_transform(Xte), \"predicted\":encoder.inverse_transform(pred_final),\"actual\": encoder.inverse_transform(Yte)}"
   ]
  },
  {
   "cell_type": "code",
   "execution_count": 158,
   "metadata": {},
   "outputs": [],
   "source": [
    "#df = pd.DataFrame(output, columns=[\"title\",\"predicted\",\"actual\"])\n",
    "#df.to_csv(\"C:\\\\Users\\\\Kratika\\\\Downloads\\\\News333_title_predication_1.csv\")"
   ]
  },
  {
   "cell_type": "code",
   "execution_count": 159,
   "metadata": {},
   "outputs": [
    {
     "name": "stdout",
     "output_type": "stream",
     "text": [
      "Accuracy achieved is 0.6209677419354839\n"
     ]
    }
   ],
   "source": [
    "pred_final = mlp.predict(Xte)\n",
    "print('Accuracy achieved is ' + str(np.mean(pred_final == Yte)))\n",
    "output = {\"text\":vectorizer.inverse_transform(Xte), \"predicted\":encoder.inverse_transform(pred_final),\"actual\": encoder.inverse_transform(Yte)}\n",
    "df = pd.DataFrame(output, columns=[\"text\",\"predicted\",\"actual\"])\n"
   ]
  },
  {
   "cell_type": "code",
   "execution_count": 58,
   "metadata": {},
   "outputs": [],
   "source": [
    "df = pd.DataFrame(output, columns=[\"text\",\"predicted\",\"actual\"])\n",
    "df.to_csv(\"C:\\\\Users\\\\Kratika\\\\Downloads\\\\248_catagoryNews333_title_body_predication.csv\")"
   ]
  },
  {
   "cell_type": "code",
   "execution_count": null,
   "metadata": {},
   "outputs": [],
   "source": []
  }
 ],
 "metadata": {
  "kernelspec": {
   "display_name": "Python 3",
   "language": "python",
   "name": "python3"
  },
  "language_info": {
   "codemirror_mode": {
    "name": "ipython",
    "version": 3
   },
   "file_extension": ".py",
   "mimetype": "text/x-python",
   "name": "python",
   "nbconvert_exporter": "python",
   "pygments_lexer": "ipython3",
   "version": "3.7.3"
  }
 },
 "nbformat": 4,
 "nbformat_minor": 2
}
