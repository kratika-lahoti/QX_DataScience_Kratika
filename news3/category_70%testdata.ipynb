{
 "cells": [
  {
   "cell_type": "code",
   "execution_count": 1,
   "metadata": {},
   "outputs": [
    {
     "name": "stderr",
     "output_type": "stream",
     "text": [
      "Using TensorFlow backend.\n"
     ]
    }
   ],
   "source": [
    "import re\n",
    "import pandas as pd\n",
    "from nltk.corpus import stopwords\n",
    "\n",
    "import copy\n",
    "import numpy as np\n",
    "import re\n",
    "import nltk\n",
    "from sklearn.model_selection import train_test_split\n",
    "from sklearn.feature_extraction.text import CountVectorizer\n",
    "from sklearn.preprocessing import LabelEncoder\n",
    "from sklearn.feature_selection import VarianceThreshold\n",
    "from imblearn.over_sampling import SMOTE\n",
    "from sklearn.dummy import DummyClassifier\n",
    "from sklearn.naive_bayes import MultinomialNB\n",
    "from sklearn.tree import DecisionTreeClassifier\n",
    "from sklearn.neural_network import MLPClassifier\n",
    "from sklearn.ensemble import RandomForestClassifier\n",
    "from sklearn import metrics\n",
    "from sklearn.metrics import accuracy_score\n",
    "#from sklearn.model_selection import cross_val_score, KFold\n",
    "from sklearn.metrics import confusion_matrix\n",
    "from sklearn.metrics import classification_report"
   ]
  },
  {
   "cell_type": "code",
   "execution_count": 2,
   "metadata": {},
   "outputs": [
    {
     "data": {
      "text/html": [
       "<div>\n",
       "<style scoped>\n",
       "    .dataframe tbody tr th:only-of-type {\n",
       "        vertical-align: middle;\n",
       "    }\n",
       "\n",
       "    .dataframe tbody tr th {\n",
       "        vertical-align: top;\n",
       "    }\n",
       "\n",
       "    .dataframe thead th {\n",
       "        text-align: right;\n",
       "    }\n",
       "</style>\n",
       "<table border=\"1\" class=\"dataframe\">\n",
       "  <thead>\n",
       "    <tr style=\"text-align: right;\">\n",
       "      <th></th>\n",
       "      <th>Title</th>\n",
       "      <th>Body</th>\n",
       "      <th>Category</th>\n",
       "      <th>MegaCategory</th>\n",
       "    </tr>\n",
       "  </thead>\n",
       "  <tbody>\n",
       "    <tr>\n",
       "      <th>0</th>\n",
       "      <td>BS-VI transition may lead to dumping of old st...</td>\n",
       "      <td>BS-VI transition may lead to dumping of old st...</td>\n",
       "      <td>Annual Report - Comments made in the Annual Re...</td>\n",
       "      <td>Financial</td>\n",
       "    </tr>\n",
       "    <tr>\n",
       "      <th>1</th>\n",
       "      <td>Annual Report 2016-2017 of Bajaj Finserv Limited</td>\n",
       "      <td>It is a broadly described annual report of Baj...</td>\n",
       "      <td>Annual Report - Comments made in the Annual Re...</td>\n",
       "      <td>Financial</td>\n",
       "    </tr>\n",
       "    <tr>\n",
       "      <th>2</th>\n",
       "      <td>Annual Report 2017-2018 of Eicher Motors Limit...</td>\n",
       "      <td>It is a broadly described annual report of\\nEi...</td>\n",
       "      <td>Annual Report - Comments made in the Annual Re...</td>\n",
       "      <td>Financial</td>\n",
       "    </tr>\n",
       "    <tr>\n",
       "      <th>3</th>\n",
       "      <td>Hindalco Industries : Chairman Kumar Mangalam ...</td>\n",
       "      <td>(You can enter multiple email addresses separa...</td>\n",
       "      <td>Annual Report - Comments made in the Annual Re...</td>\n",
       "      <td>Financial</td>\n",
       "    </tr>\n",
       "    <tr>\n",
       "      <th>4</th>\n",
       "      <td>WIPRO continues it's uptrend, although on a we...</td>\n",
       "      <td>WIPRO continues it's uptrend, although on a we...</td>\n",
       "      <td>Annual Report - Comments made in the Annual Re...</td>\n",
       "      <td>Financial</td>\n",
       "    </tr>\n",
       "  </tbody>\n",
       "</table>\n",
       "</div>"
      ],
      "text/plain": [
       "                                               Title  \\\n",
       "0  BS-VI transition may lead to dumping of old st...   \n",
       "1   Annual Report 2016-2017 of Bajaj Finserv Limited   \n",
       "2  Annual Report 2017-2018 of Eicher Motors Limit...   \n",
       "3  Hindalco Industries : Chairman Kumar Mangalam ...   \n",
       "4  WIPRO continues it's uptrend, although on a we...   \n",
       "\n",
       "                                                Body  \\\n",
       "0  BS-VI transition may lead to dumping of old st...   \n",
       "1  It is a broadly described annual report of Baj...   \n",
       "2  It is a broadly described annual report of\\nEi...   \n",
       "3  (You can enter multiple email addresses separa...   \n",
       "4  WIPRO continues it's uptrend, although on a we...   \n",
       "\n",
       "                                            Category MegaCategory  \n",
       "0  Annual Report - Comments made in the Annual Re...    Financial  \n",
       "1  Annual Report - Comments made in the Annual Re...    Financial  \n",
       "2  Annual Report - Comments made in the Annual Re...    Financial  \n",
       "3  Annual Report - Comments made in the Annual Re...    Financial  \n",
       "4  Annual Report - Comments made in the Annual Re...    Financial  "
      ]
     },
     "execution_count": 2,
     "metadata": {},
     "output_type": "execute_result"
    }
   ],
   "source": [
    "news = pd.read_excel(\"C:\\\\Users\\\\Kratika\\\\Downloads\\\\News333.xlsx\")\n",
    "news.head()"
   ]
  },
  {
   "cell_type": "code",
   "execution_count": 3,
   "metadata": {},
   "outputs": [],
   "source": [
    "from nltk.tokenize import word_tokenize \n",
    "\n",
    "def remove_stop_words(data):\n",
    "    stop_words = set(stopwords.words('english'))\n",
    "    stop_words.union(['january','february','march','april','may','june','july','august','september','october','november','december'])\n",
    "    stop_words.union(['jan','feb','mar','apr','may','jun','jul','aug','sept','oct','nov','dec'])\n",
    "    stop_words.union(['monday', 'tuesday', 'wednesday', 'thursday','friday','saturday','sunday'])\n",
    "    stop_words.union(['am', 'pm'])\n",
    "    word_tokens = word_tokenize(data) \n",
    "    filtered_sentence = []\n",
    "    \n",
    "    for w in word_tokens: \n",
    "        if w.lower() not in stop_words: \n",
    "            filtered_sentence.append(w) \n",
    "    \n",
    "    return \" \".join(filtered_sentence)"
   ]
  },
  {
   "cell_type": "code",
   "execution_count": 4,
   "metadata": {},
   "outputs": [],
   "source": [
    "news['text'] = news.Title + \" \" + news.Body"
   ]
  },
  {
   "cell_type": "code",
   "execution_count": 5,
   "metadata": {},
   "outputs": [],
   "source": [
    "\n",
    "news['clean_title'] = news['Title'].apply(remove_stop_words)\n",
    "news['clean_body'] = news['Body'].apply(remove_stop_words)\n",
    "\n",
    "news['clean_text'] = news['text'].apply(remove_stop_words) \n",
    "\n",
    "#remove_stop_words_Body\n"
   ]
  },
  {
   "cell_type": "code",
   "execution_count": 6,
   "metadata": {},
   "outputs": [
    {
     "name": "stdout",
     "output_type": "stream",
     "text": [
      "\n",
      "Splitting data\n",
      "Training:  2230\n",
      "Developement:  248\n",
      "Testing:  248\n"
     ]
    }
   ],
   "source": [
    "# ## Split data\n",
    "print(\"\\nSplitting data\")\n",
    "\n",
    "title_tr, title_te, Category_tr, Category_te = train_test_split(news['clean_text'], news.Category,test_size =.1)\n",
    "#title_tr, title_de, MegaCategory_tr , MegaCategory_de = train_test_split(title_tr,MegaCategory_tr,test_size =.07)\n",
    "\n",
    "title_de = title_te\n",
    "Category_de = Category_te\n",
    "\n",
    "print(\"Training: \",len(title_tr))\n",
    "print(\"Developement: \",len(title_de),)\n",
    "print(\"Testing: \",len(title_te))"
   ]
  },
  {
   "cell_type": "code",
   "execution_count": 7,
   "metadata": {},
   "outputs": [
    {
     "name": "stdout",
     "output_type": "stream",
     "text": [
      "\n",
      "Vectorizing data\n"
     ]
    }
   ],
   "source": [
    "from sklearn.preprocessing import LabelEncoder\n",
    "\n",
    "# # Data Preprocessing\n",
    "# ## Vectorization of data\n",
    "# Vectorize the data using Bag of words (BOW)\n",
    "print(\"\\nVectorizing data\")\n",
    "tokenizer = nltk.tokenize.RegexpTokenizer(r\"\\w+\")\n",
    "stop_words = nltk.corpus.stopwords.words(\"english\")\n",
    "vectorizer = CountVectorizer(tokenizer=tokenizer.tokenize, stop_words=stop_words)\n",
    "\n",
    "vectorizer.fit(iter(title_tr))\n",
    "Xtr = vectorizer.transform(iter(title_tr))\n",
    "Xde = vectorizer.transform(iter(title_de))\n",
    "Xte = vectorizer.transform(iter(title_te))\n",
    "\n",
    "encoder = LabelEncoder()\n",
    "encoder.fit(Category_tr)\n",
    "Ytr = encoder.transform(Category_tr)\n",
    "Yde = encoder.transform(Category_de)\n",
    "Yte = encoder.transform(Category_te)"
   ]
  },
  {
   "cell_type": "code",
   "execution_count": 8,
   "metadata": {},
   "outputs": [
    {
     "data": {
      "text/plain": [
       "['i',\n",
       " 'me',\n",
       " 'my',\n",
       " 'myself',\n",
       " 'we',\n",
       " 'our',\n",
       " 'ours',\n",
       " 'ourselves',\n",
       " 'you',\n",
       " \"you're\",\n",
       " \"you've\",\n",
       " \"you'll\",\n",
       " \"you'd\",\n",
       " 'your',\n",
       " 'yours',\n",
       " 'yourself',\n",
       " 'yourselves',\n",
       " 'he',\n",
       " 'him',\n",
       " 'his',\n",
       " 'himself',\n",
       " 'she',\n",
       " \"she's\",\n",
       " 'her',\n",
       " 'hers',\n",
       " 'herself',\n",
       " 'it',\n",
       " \"it's\",\n",
       " 'its',\n",
       " 'itself',\n",
       " 'they',\n",
       " 'them',\n",
       " 'their',\n",
       " 'theirs',\n",
       " 'themselves',\n",
       " 'what',\n",
       " 'which',\n",
       " 'who',\n",
       " 'whom',\n",
       " 'this',\n",
       " 'that',\n",
       " \"that'll\",\n",
       " 'these',\n",
       " 'those',\n",
       " 'am',\n",
       " 'is',\n",
       " 'are',\n",
       " 'was',\n",
       " 'were',\n",
       " 'be',\n",
       " 'been',\n",
       " 'being',\n",
       " 'have',\n",
       " 'has',\n",
       " 'had',\n",
       " 'having',\n",
       " 'do',\n",
       " 'does',\n",
       " 'did',\n",
       " 'doing',\n",
       " 'a',\n",
       " 'an',\n",
       " 'the',\n",
       " 'and',\n",
       " 'but',\n",
       " 'if',\n",
       " 'or',\n",
       " 'because',\n",
       " 'as',\n",
       " 'until',\n",
       " 'while',\n",
       " 'of',\n",
       " 'at',\n",
       " 'by',\n",
       " 'for',\n",
       " 'with',\n",
       " 'about',\n",
       " 'against',\n",
       " 'between',\n",
       " 'into',\n",
       " 'through',\n",
       " 'during',\n",
       " 'before',\n",
       " 'after',\n",
       " 'above',\n",
       " 'below',\n",
       " 'to',\n",
       " 'from',\n",
       " 'up',\n",
       " 'down',\n",
       " 'in',\n",
       " 'out',\n",
       " 'on',\n",
       " 'off',\n",
       " 'over',\n",
       " 'under',\n",
       " 'again',\n",
       " 'further',\n",
       " 'then',\n",
       " 'once',\n",
       " 'here',\n",
       " 'there',\n",
       " 'when',\n",
       " 'where',\n",
       " 'why',\n",
       " 'how',\n",
       " 'all',\n",
       " 'any',\n",
       " 'both',\n",
       " 'each',\n",
       " 'few',\n",
       " 'more',\n",
       " 'most',\n",
       " 'other',\n",
       " 'some',\n",
       " 'such',\n",
       " 'no',\n",
       " 'nor',\n",
       " 'not',\n",
       " 'only',\n",
       " 'own',\n",
       " 'same',\n",
       " 'so',\n",
       " 'than',\n",
       " 'too',\n",
       " 'very',\n",
       " 's',\n",
       " 't',\n",
       " 'can',\n",
       " 'will',\n",
       " 'just',\n",
       " 'don',\n",
       " \"don't\",\n",
       " 'should',\n",
       " \"should've\",\n",
       " 'now',\n",
       " 'd',\n",
       " 'll',\n",
       " 'm',\n",
       " 'o',\n",
       " 're',\n",
       " 've',\n",
       " 'y',\n",
       " 'ain',\n",
       " 'aren',\n",
       " \"aren't\",\n",
       " 'couldn',\n",
       " \"couldn't\",\n",
       " 'didn',\n",
       " \"didn't\",\n",
       " 'doesn',\n",
       " \"doesn't\",\n",
       " 'hadn',\n",
       " \"hadn't\",\n",
       " 'hasn',\n",
       " \"hasn't\",\n",
       " 'haven',\n",
       " \"haven't\",\n",
       " 'isn',\n",
       " \"isn't\",\n",
       " 'ma',\n",
       " 'mightn',\n",
       " \"mightn't\",\n",
       " 'mustn',\n",
       " \"mustn't\",\n",
       " 'needn',\n",
       " \"needn't\",\n",
       " 'shan',\n",
       " \"shan't\",\n",
       " 'shouldn',\n",
       " \"shouldn't\",\n",
       " 'wasn',\n",
       " \"wasn't\",\n",
       " 'weren',\n",
       " \"weren't\",\n",
       " 'won',\n",
       " \"won't\",\n",
       " 'wouldn',\n",
       " \"wouldn't\"]"
      ]
     },
     "execution_count": 8,
     "metadata": {},
     "output_type": "execute_result"
    }
   ],
   "source": [
    "stop_words"
   ]
  },
  {
   "cell_type": "code",
   "execution_count": 9,
   "metadata": {},
   "outputs": [
    {
     "name": "stdout",
     "output_type": "stream",
     "text": [
      "[23 42 30 ... 50 23 23]\n"
     ]
    }
   ],
   "source": [
    "print(Ytr)"
   ]
  },
  {
   "cell_type": "code",
   "execution_count": 10,
   "metadata": {},
   "outputs": [
    {
     "data": {
      "text/plain": [
       "<2230x16702 sparse matrix of type '<class 'numpy.int64'>'\n",
       "\twith 116306 stored elements in Compressed Sparse Row format>"
      ]
     },
     "execution_count": 10,
     "metadata": {},
     "output_type": "execute_result"
    }
   ],
   "source": [
    "Xtr"
   ]
  },
  {
   "cell_type": "code",
   "execution_count": 11,
   "metadata": {},
   "outputs": [
    {
     "name": "stdout",
     "output_type": "stream",
     "text": [
      "\n",
      "\n",
      "Training baseline classifier\n"
     ]
    }
   ],
   "source": [
    "# # Train Models\n",
    "# ### Baseline Model\n",
    "# “stratified”: generates predictions by respecting the training set’s class distribution.\n",
    "print(\"\\n\\nTraining baseline classifier\")\n",
    "dc = DummyClassifier(strategy=\"stratified\")\n",
    "dc.fit(Xtr, Ytr)\n",
    "dc_pred = dc.predict(Xde)"
   ]
  },
  {
   "cell_type": "code",
   "execution_count": 12,
   "metadata": {},
   "outputs": [
    {
     "name": "stdout",
     "output_type": "stream",
     "text": [
      "                                                                                                                                    precision    recall  f1-score   support\n",
      "\n",
      "                                                                                Annual Report - Comments made in the Annual Report       0.30      0.27      0.29        78\n",
      "                                                                               Approval - Alert me when a company gets an approval       0.10      0.13      0.11        15\n",
      "                                                            Award Received- Alert me when any of these companies receives an award       0.00      0.00      0.00         4\n",
      "                                                             Black Swan Events - Alert me when a company faces an exceptional loss       0.06      0.08      0.07        25\n",
      "                                                     Buyback of shares- Alert me when any of these companies buys back it's shares       0.10      0.13      0.11        15\n",
      "                                                          CSR Work - Alert me when a company or its foundation does a CSR Activity       0.00      0.00      0.00         2\n",
      "                                        Credit Rating Agency - Alert me when a Credit Rating Agency makes a comment on the company       0.30      0.27      0.29        78\n",
      "                       Customer Dissatisfaction- Alert me when any of these companies customers voice their dissatisfaction online       0.00      0.00      0.00         3\n",
      "                                  Debt Financing- Alert me when any of these companies receives a loan they have promised to repay       0.25      0.14      0.18         7\n",
      "               Earnings, Stock Performance or Dividends- Alert me when any of these companies release numbers on their performance       0.00      0.00      0.00         0\n",
      "                                        Employee Related News - Alert me when any of these companies have an employee related news       0.30      0.27      0.29        78\n",
      "                                      Event Celebration - Alert me when any of these companies celebrate an event/national holiday       0.10      0.13      0.11        15\n",
      "                            Executive Quote or Publication- Alert me when any of these companies executives is quoted or published       0.10      0.13      0.11        15\n",
      "                        Exhibitor or Presenter at an Event - Alert me when any of these companies exhibits or presents at an event       0.00      0.00      0.00         0\n",
      "                                 Financial Challenges- Alert me when any of these companies' report signs of financial instability       0.00      0.00      0.00         2\n",
      "                Growth/Focus in exisitng terrain - Alert me when a company focusses on existing terrain by means of expansion, etc       0.00      0.00      0.00         2\n",
      "                                                   IPO or Public Offering- Alert me when any of these companies IPO or file to IPO       0.15      0.22      0.18         9\n",
      "          Included in Industry Lists- Alert me when any of these companies is added to an industry-specific list by Oracle DataFox       0.00      0.00      0.00         1\n",
      "                   Included in Industry News- Alert me when any of these companies are mentioned positively by an industry analyst       0.00      0.00      0.00         7\n",
      "                                                                                                                     Industry News       0.33      0.20      0.25         5\n",
      "                                                                                                                     Industry news       0.00      0.00      0.00         5\n",
      "                  Industry or Competitive - Alert me when any company competitor’s gain a unique advantage or the market downturns       0.06      0.08      0.07        25\n",
      "                                            Invested in a Company- Alert me when any of these companies invests in another company       0.00      0.00      0.00         7\n",
      "                                                                                                                   Irrelevant News       0.00      0.00      0.00         3\n",
      "                                                   Job Postings- Alert me when any of these companies post new available positions       0.00      0.00      0.00         1\n",
      "                            Key Executive Hire or Promotion - Alert me when any of these companies hire or promote a new executive       0.00      0.00      0.00         2\n",
      "                                     Layoffs - Alert me when any of these companies terminate a large number of employee contracts       0.00      0.00      0.00         7\n",
      "                                          Leadership Change- Alert me when any of these companies undergo management restructuring       0.33      0.20      0.25         5\n",
      "                                         Legal Issues - Alert me when any of these companies are having litigation related issues        0.30      0.27      0.29        78\n",
      "                   Made or will make an Acquisition- Alert me when any of these companies acquires or will acquire another company       0.30      0.27      0.29        78\n",
      "                                                                            Market Buzz - News related to the Indian Equity Market       0.30      0.27      0.29        78\n",
      "                                                                           Market Buzz - News related to the Indian Equity Market        0.30      0.27      0.29        78\n",
      "                               Marketing Activity - Alert me when any of these companies launch fresh marketing efforts or tactics       0.00      0.00      0.00         7\n",
      "                  Merger, Restructuring, or Ownership Change- Alert me when any of these companies undergo financial restructuring       0.30      0.27      0.29        78\n",
      "                                               New Geography- Alert me when a company moves or expands into a new state or country       0.30      0.27      0.29        78\n",
      "     New Patent or Regulatory Approval- Alert me when a company receives government approval for a patent, registration or license       0.06      0.08      0.07        25\n",
      "New Products, Initiatives, or Strategy- Alert me when a company unveils a new product or announces an initiative to enter a market       0.00      0.00      0.00         5\n",
      "                                                                 New contract - Alert me when a company enters into a new contract       0.06      0.08      0.07        25\n",
      "                                                    New investment - Alert me when a company does an expansion or a new investment       0.00      0.00      0.00         1\n",
      "                                                                Office Space Expansion- Alert me when a company opens a new office       0.06      0.08      0.07        25\n",
      "                                                                                                                        Other News       0.00      0.00      0.00         2\n",
      "                                                                                                               Other negative news       0.00      0.00      0.00         3\n",
      "                                                                                                                        Other news       0.30      0.27      0.29        78\n",
      "                                  Outsourcing- Alert me when any of these companies subcontracts to other companies or contractors       0.10      0.13      0.11        15\n",
      "                      Partnership or Joint Venture- Alert me when two companies partner or enter a short-term business arrangement       0.30      0.27      0.29        78\n",
      "                                                             Payback of debt - Alert me any of these companies pays back it’s debt       0.30      0.27      0.29        78\n",
      "                                Personal News - Alert me when any of these companies have personal news concerning it's management       0.06      0.08      0.07        25\n",
      "                                              Production related news - Alertme when a company has news related to it's production       0.30      0.27      0.29        78\n",
      "                  Real Estate Sale or Relocation- Alert me when any of these companies sell their office or move to a new location       0.30      0.27      0.29        78\n",
      "                                 Received Private Funding- Alert me when any of these companies raise money in exchange for equity       0.00      0.00      0.00         3\n",
      "                                     Regulatory Issues- Alert me when any of these companies encounter problems with governing law       0.00      0.00      0.00         8\n",
      "                                                           Research House - Alert me when a research house comments on the company       0.06      0.08      0.07        25\n",
      "                                                Sales Drop - Alert me when any of these companies see a drop in their sales figure       0.00      0.00      0.00         3\n",
      "                                      Sales or User Growth- Alert me when the average sales or user volume for a company increases       0.15      0.22      0.18         9\n",
      "                    Stake Increase/Decrease - Alert me whena company's major shareholder changes it's stake (increase or decrease)       0.00      0.00      0.00         1\n",
      "                             Technical Factors - Alert me when any of these companies move based on market or other technical news       0.00      0.00      0.00         1\n",
      "                                    Turbulence- Alert me when any of these companies exhibit signs of irregular or ailing behavior       0.30      0.27      0.29        78\n",
      "                                     Was Acquired- Alert me when any of these companies are acquired partly (Stake sale) or wholly       0.00      0.00      0.00         7\n",
      "                                                                                                                     industry news       0.30      0.27      0.29        78\n",
      "                                                                 new contract - Alert me when a company enters into a new contract       0.00      0.00      0.00         1\n",
      "                                                    new investment - Alert me when a company does an expansion or a new investment       0.25      0.14      0.18         7\n",
      "                                                                                                                        other news       0.17      0.25      0.20         4\n",
      "                             technical Factors - Alert me when any of these companies move based on market or other technical news       0.30      0.27      0.29        78\n",
      "\n",
      "                                                                                                                         micro avg       0.24      0.23      0.24     70316\n",
      "                                                                                                                         macro avg       0.14      0.13      0.13     70316\n",
      "                                                                                                                      weighted avg       0.26      0.23      0.24     70316\n",
      "\n",
      "Accuracy achieved is 0.125\n"
     ]
    },
    {
     "name": "stderr",
     "output_type": "stream",
     "text": [
      "C:\\ProgramData\\Anaconda3\\lib\\site-packages\\sklearn\\metrics\\classification.py:1870: UserWarning: labels size, 2230, does not match size of target_names, 63\n",
      "  .format(len(labels), len(target_names))\n",
      "C:\\ProgramData\\Anaconda3\\lib\\site-packages\\sklearn\\metrics\\classification.py:1437: UndefinedMetricWarning: Precision and F-score are ill-defined and being set to 0.0 in labels with no predicted samples.\n",
      "  'precision', 'predicted', average, warn_for)\n",
      "C:\\ProgramData\\Anaconda3\\lib\\site-packages\\sklearn\\metrics\\classification.py:1439: UndefinedMetricWarning: Recall and F-score are ill-defined and being set to 0.0 in labels with no true samples.\n",
      "  'recall', 'true', average, warn_for)\n"
     ]
    }
   ],
   "source": [
    "print(classification_report(Yde, dc_pred, labels=Ytr ,target_names=encoder.classes_))\n",
    "print('Accuracy achieved is ' + str(np.mean(dc_pred == Yde)))"
   ]
  },
  {
   "cell_type": "code",
   "execution_count": 13,
   "metadata": {},
   "outputs": [
    {
     "name": "stdout",
     "output_type": "stream",
     "text": [
      "Training Decision tree\n",
      "                                                                                                                                    precision    recall  f1-score   support\n",
      "\n",
      "                                                                                Annual Report - Comments made in the Annual Report       0.63      0.82      0.71        78\n",
      "                                                                               Approval - Alert me when a company gets an approval       0.31      0.33      0.32        15\n",
      "                                                            Award Received- Alert me when any of these companies receives an award       0.00      0.00      0.00         4\n",
      "                                                             Black Swan Events - Alert me when a company faces an exceptional loss       0.63      0.68      0.65        25\n",
      "                                                     Buyback of shares- Alert me when any of these companies buys back it's shares       0.31      0.33      0.32        15\n",
      "                                                          CSR Work - Alert me when a company or its foundation does a CSR Activity       0.00      0.00      0.00         2\n",
      "                                        Credit Rating Agency - Alert me when a Credit Rating Agency makes a comment on the company       0.63      0.82      0.71        78\n",
      "                       Customer Dissatisfaction- Alert me when any of these companies customers voice their dissatisfaction online       0.33      0.33      0.33         3\n",
      "                                  Debt Financing- Alert me when any of these companies receives a loan they have promised to repay       0.25      0.29      0.27         7\n",
      "               Earnings, Stock Performance or Dividends- Alert me when any of these companies release numbers on their performance       0.00      0.00      0.00         0\n",
      "                                        Employee Related News - Alert me when any of these companies have an employee related news       0.63      0.82      0.71        78\n",
      "                                      Event Celebration - Alert me when any of these companies celebrate an event/national holiday       0.31      0.33      0.32        15\n",
      "                            Executive Quote or Publication- Alert me when any of these companies executives is quoted or published       0.31      0.33      0.32        15\n",
      "                        Exhibitor or Presenter at an Event - Alert me when any of these companies exhibits or presents at an event       0.00      0.00      0.00         0\n",
      "                                 Financial Challenges- Alert me when any of these companies' report signs of financial instability       0.50      0.50      0.50         2\n",
      "                Growth/Focus in exisitng terrain - Alert me when a company focusses on existing terrain by means of expansion, etc       0.67      1.00      0.80         2\n",
      "                                                   IPO or Public Offering- Alert me when any of these companies IPO or file to IPO       0.67      0.22      0.33         9\n",
      "          Included in Industry Lists- Alert me when any of these companies is added to an industry-specific list by Oracle DataFox       0.00      0.00      0.00         1\n",
      "                   Included in Industry News- Alert me when any of these companies are mentioned positively by an industry analyst       1.00      0.57      0.73         7\n",
      "                                                                                                                     Industry News       0.00      0.00      0.00         5\n",
      "                                                                                                                     Industry news       0.14      0.20      0.17         5\n",
      "                  Industry or Competitive - Alert me when any company competitor’s gain a unique advantage or the market downturns       0.63      0.68      0.65        25\n",
      "                                            Invested in a Company- Alert me when any of these companies invests in another company       1.00      0.57      0.73         7\n",
      "                                                                                                                   Irrelevant News       0.33      0.33      0.33         3\n",
      "                                                   Job Postings- Alert me when any of these companies post new available positions       0.00      0.00      0.00         1\n",
      "                            Key Executive Hire or Promotion - Alert me when any of these companies hire or promote a new executive       0.00      0.00      0.00         2\n",
      "                                     Layoffs - Alert me when any of these companies terminate a large number of employee contracts       0.38      0.71      0.50         7\n",
      "                                          Leadership Change- Alert me when any of these companies undergo management restructuring       0.00      0.00      0.00         5\n",
      "                                         Legal Issues - Alert me when any of these companies are having litigation related issues        0.63      0.82      0.71        78\n",
      "                   Made or will make an Acquisition- Alert me when any of these companies acquires or will acquire another company       0.63      0.82      0.71        78\n",
      "                                                                            Market Buzz - News related to the Indian Equity Market       0.63      0.82      0.71        78\n",
      "                                                                           Market Buzz - News related to the Indian Equity Market        0.63      0.82      0.71        78\n",
      "                               Marketing Activity - Alert me when any of these companies launch fresh marketing efforts or tactics       0.38      0.71      0.50         7\n",
      "                  Merger, Restructuring, or Ownership Change- Alert me when any of these companies undergo financial restructuring       0.63      0.82      0.71        78\n",
      "                                               New Geography- Alert me when a company moves or expands into a new state or country       0.63      0.82      0.71        78\n",
      "     New Patent or Regulatory Approval- Alert me when a company receives government approval for a patent, registration or license       0.63      0.68      0.65        25\n",
      "New Products, Initiatives, or Strategy- Alert me when a company unveils a new product or announces an initiative to enter a market       0.14      0.20      0.17         5\n",
      "                                                                 New contract - Alert me when a company enters into a new contract       0.63      0.68      0.65        25\n",
      "                                                    New investment - Alert me when a company does an expansion or a new investment       0.00      0.00      0.00         1\n",
      "                                                                Office Space Expansion- Alert me when a company opens a new office       0.63      0.68      0.65        25\n",
      "                                                                                                                        Other News       0.00      0.00      0.00         2\n",
      "                                                                                                               Other negative news       0.00      0.00      0.00         3\n",
      "                                                                                                                        Other news       0.63      0.82      0.71        78\n",
      "                                  Outsourcing- Alert me when any of these companies subcontracts to other companies or contractors       0.31      0.33      0.32        15\n",
      "                      Partnership or Joint Venture- Alert me when two companies partner or enter a short-term business arrangement       0.63      0.82      0.71        78\n",
      "                                                             Payback of debt - Alert me any of these companies pays back it’s debt       0.63      0.82      0.71        78\n",
      "                                Personal News - Alert me when any of these companies have personal news concerning it's management       0.63      0.68      0.65        25\n",
      "                                              Production related news - Alertme when a company has news related to it's production       0.63      0.82      0.71        78\n",
      "                  Real Estate Sale or Relocation- Alert me when any of these companies sell their office or move to a new location       0.63      0.82      0.71        78\n",
      "                                 Received Private Funding- Alert me when any of these companies raise money in exchange for equity       0.75      1.00      0.86         3\n",
      "                                     Regulatory Issues- Alert me when any of these companies encounter problems with governing law       0.60      0.38      0.46         8\n",
      "                                                           Research House - Alert me when a research house comments on the company       0.63      0.68      0.65        25\n",
      "                                                Sales Drop - Alert me when any of these companies see a drop in their sales figure       0.33      0.33      0.33         3\n",
      "                                      Sales or User Growth- Alert me when the average sales or user volume for a company increases       0.67      0.22      0.33         9\n",
      "                    Stake Increase/Decrease - Alert me whena company's major shareholder changes it's stake (increase or decrease)       0.00      0.00      0.00         1\n",
      "                             Technical Factors - Alert me when any of these companies move based on market or other technical news       0.00      0.00      0.00         1\n",
      "                                    Turbulence- Alert me when any of these companies exhibit signs of irregular or ailing behavior       0.63      0.82      0.71        78\n",
      "                                     Was Acquired- Alert me when any of these companies are acquired partly (Stake sale) or wholly       0.38      0.71      0.50         7\n",
      "                                                                                                                     industry news       0.63      0.82      0.71        78\n",
      "                                                                 new contract - Alert me when a company enters into a new contract       0.33      1.00      0.50         1\n",
      "                                                    new investment - Alert me when a company does an expansion or a new investment       0.25      0.29      0.27         7\n",
      "                                                                                                                        other news       0.17      0.25      0.20         4\n",
      "                             technical Factors - Alert me when any of these companies move based on market or other technical news       0.63      0.82      0.71        78\n",
      "\n",
      "                                                                                                                         micro avg       0.61      0.76      0.67     70316\n",
      "                                                                                                                         macro avg       0.45      0.52      0.47     70316\n",
      "                                                                                                                      weighted avg       0.60      0.76      0.67     70316\n",
      "\n",
      "Accuracy achieved is 0.49193548387096775\n"
     ]
    },
    {
     "name": "stderr",
     "output_type": "stream",
     "text": [
      "C:\\ProgramData\\Anaconda3\\lib\\site-packages\\sklearn\\metrics\\classification.py:1870: UserWarning: labels size, 2230, does not match size of target_names, 63\n",
      "  .format(len(labels), len(target_names))\n",
      "C:\\ProgramData\\Anaconda3\\lib\\site-packages\\sklearn\\metrics\\classification.py:1437: UndefinedMetricWarning: Precision and F-score are ill-defined and being set to 0.0 in labels with no predicted samples.\n",
      "  'precision', 'predicted', average, warn_for)\n",
      "C:\\ProgramData\\Anaconda3\\lib\\site-packages\\sklearn\\metrics\\classification.py:1439: UndefinedMetricWarning: Recall and F-score are ill-defined and being set to 0.0 in labels with no true samples.\n",
      "  'recall', 'true', average, warn_for)\n"
     ]
    }
   ],
   "source": [
    "\n",
    "# ### Decision Tree\n",
    "print(\"Training Decision tree\")\n",
    "dt = DecisionTreeClassifier()\n",
    "dt.fit(Xtr, Ytr)\n",
    "dt_pred = dt.predict(Xde)\n",
    "print(classification_report(Yde, dt_pred, labels=Ytr ,target_names=encoder.classes_))\n",
    "print('Accuracy achieved is ' + str(np.mean(dt_pred == Yde)))"
   ]
  },
  {
   "cell_type": "code",
   "execution_count": 14,
   "metadata": {},
   "outputs": [
    {
     "name": "stdout",
     "output_type": "stream",
     "text": [
      "Training Random Forest\n",
      "                                                                                                                                    precision    recall  f1-score   support\n",
      "\n",
      "                                                                                Annual Report - Comments made in the Annual Report       0.49      0.94      0.65        78\n",
      "                                                                               Approval - Alert me when a company gets an approval       0.00      0.00      0.00        15\n",
      "                                                            Award Received- Alert me when any of these companies receives an award       0.00      0.00      0.00         4\n",
      "                                                             Black Swan Events - Alert me when a company faces an exceptional loss       0.42      0.88      0.57        25\n",
      "                                                     Buyback of shares- Alert me when any of these companies buys back it's shares       0.00      0.00      0.00        15\n",
      "                                                          CSR Work - Alert me when a company or its foundation does a CSR Activity       0.00      0.00      0.00         2\n",
      "                                        Credit Rating Agency - Alert me when a Credit Rating Agency makes a comment on the company       0.49      0.94      0.65        78\n",
      "                       Customer Dissatisfaction- Alert me when any of these companies customers voice their dissatisfaction online       0.00      0.00      0.00         3\n",
      "                                  Debt Financing- Alert me when any of these companies receives a loan they have promised to repay       0.00      0.00      0.00         7\n",
      "               Earnings, Stock Performance or Dividends- Alert me when any of these companies release numbers on their performance       0.00      0.00      0.00         0\n",
      "                                        Employee Related News - Alert me when any of these companies have an employee related news       0.49      0.94      0.65        78\n",
      "                                      Event Celebration - Alert me when any of these companies celebrate an event/national holiday       0.00      0.00      0.00        15\n",
      "                            Executive Quote or Publication- Alert me when any of these companies executives is quoted or published       0.00      0.00      0.00        15\n",
      "                        Exhibitor or Presenter at an Event - Alert me when any of these companies exhibits or presents at an event       0.00      0.00      0.00         0\n",
      "                                 Financial Challenges- Alert me when any of these companies' report signs of financial instability       1.00      0.50      0.67         2\n",
      "                Growth/Focus in exisitng terrain - Alert me when a company focusses on existing terrain by means of expansion, etc       1.00      0.50      0.67         2\n",
      "                                                   IPO or Public Offering- Alert me when any of these companies IPO or file to IPO       1.00      0.22      0.36         9\n",
      "          Included in Industry Lists- Alert me when any of these companies is added to an industry-specific list by Oracle DataFox       0.00      0.00      0.00         1\n",
      "                   Included in Industry News- Alert me when any of these companies are mentioned positively by an industry analyst       1.00      0.43      0.60         7\n",
      "                                                                                                                     Industry News       0.00      0.00      0.00         5\n",
      "                                                                                                                     Industry news       1.00      0.20      0.33         5\n",
      "                  Industry or Competitive - Alert me when any company competitor’s gain a unique advantage or the market downturns       0.42      0.88      0.57        25\n",
      "                                            Invested in a Company- Alert me when any of these companies invests in another company       1.00      0.43      0.60         7\n",
      "                                                                                                                   Irrelevant News       1.00      0.33      0.50         3\n",
      "                                                   Job Postings- Alert me when any of these companies post new available positions       0.00      0.00      0.00         1\n",
      "                            Key Executive Hire or Promotion - Alert me when any of these companies hire or promote a new executive       0.00      0.00      0.00         2\n",
      "                                     Layoffs - Alert me when any of these companies terminate a large number of employee contracts       0.18      0.29      0.22         7\n",
      "                                          Leadership Change- Alert me when any of these companies undergo management restructuring       0.00      0.00      0.00         5\n",
      "                                         Legal Issues - Alert me when any of these companies are having litigation related issues        0.49      0.94      0.65        78\n",
      "                   Made or will make an Acquisition- Alert me when any of these companies acquires or will acquire another company       0.49      0.94      0.65        78\n",
      "                                                                            Market Buzz - News related to the Indian Equity Market       0.49      0.94      0.65        78\n",
      "                                                                           Market Buzz - News related to the Indian Equity Market        0.49      0.94      0.65        78\n",
      "                               Marketing Activity - Alert me when any of these companies launch fresh marketing efforts or tactics       0.18      0.29      0.22         7\n",
      "                  Merger, Restructuring, or Ownership Change- Alert me when any of these companies undergo financial restructuring       0.49      0.94      0.65        78\n",
      "                                               New Geography- Alert me when a company moves or expands into a new state or country       0.49      0.94      0.65        78\n",
      "     New Patent or Regulatory Approval- Alert me when a company receives government approval for a patent, registration or license       0.42      0.88      0.57        25\n",
      "New Products, Initiatives, or Strategy- Alert me when a company unveils a new product or announces an initiative to enter a market       1.00      0.20      0.33         5\n",
      "                                                                 New contract - Alert me when a company enters into a new contract       0.42      0.88      0.57        25\n",
      "                                                    New investment - Alert me when a company does an expansion or a new investment       0.00      0.00      0.00         1\n",
      "                                                                Office Space Expansion- Alert me when a company opens a new office       0.42      0.88      0.57        25\n",
      "                                                                                                                        Other News       0.00      0.00      0.00         2\n",
      "                                                                                                               Other negative news       0.67      0.67      0.67         3\n",
      "                                                                                                                        Other news       0.49      0.94      0.65        78\n",
      "                                  Outsourcing- Alert me when any of these companies subcontracts to other companies or contractors       0.00      0.00      0.00        15\n",
      "                      Partnership or Joint Venture- Alert me when two companies partner or enter a short-term business arrangement       0.49      0.94      0.65        78\n",
      "                                                             Payback of debt - Alert me any of these companies pays back it’s debt       0.49      0.94      0.65        78\n",
      "                                Personal News - Alert me when any of these companies have personal news concerning it's management       0.42      0.88      0.57        25\n",
      "                                              Production related news - Alertme when a company has news related to it's production       0.49      0.94      0.65        78\n",
      "                  Real Estate Sale or Relocation- Alert me when any of these companies sell their office or move to a new location       0.49      0.94      0.65        78\n",
      "                                 Received Private Funding- Alert me when any of these companies raise money in exchange for equity       0.75      1.00      0.86         3\n",
      "                                     Regulatory Issues- Alert me when any of these companies encounter problems with governing law       1.00      0.62      0.77         8\n",
      "                                                           Research House - Alert me when a research house comments on the company       0.42      0.88      0.57        25\n",
      "                                                Sales Drop - Alert me when any of these companies see a drop in their sales figure       0.00      0.00      0.00         3\n",
      "                                      Sales or User Growth- Alert me when the average sales or user volume for a company increases       1.00      0.22      0.36         9\n",
      "                    Stake Increase/Decrease - Alert me whena company's major shareholder changes it's stake (increase or decrease)       0.00      0.00      0.00         1\n",
      "                             Technical Factors - Alert me when any of these companies move based on market or other technical news       0.00      0.00      0.00         1\n",
      "                                    Turbulence- Alert me when any of these companies exhibit signs of irregular or ailing behavior       0.49      0.94      0.65        78\n",
      "                                     Was Acquired- Alert me when any of these companies are acquired partly (Stake sale) or wholly       0.18      0.29      0.22         7\n",
      "                                                                                                                     industry news       0.49      0.94      0.65        78\n",
      "                                                                 new contract - Alert me when a company enters into a new contract       1.00      1.00      1.00         1\n",
      "                                                    new investment - Alert me when a company does an expansion or a new investment       0.00      0.00      0.00         7\n",
      "                                                                                                                        other news       0.00      0.00      0.00         4\n",
      "                             technical Factors - Alert me when any of these companies move based on market or other technical news       0.49      0.94      0.65        78\n",
      "\n",
      "                                                                                                                         micro avg       0.48      0.85      0.62     70316\n",
      "                                                                                                                         macro avg       0.43      0.52      0.41     70316\n",
      "                                                                                                                      weighted avg       0.48      0.85      0.59     70316\n",
      "\n",
      "Accuracy achieved is 0.4959677419354839\n"
     ]
    },
    {
     "name": "stderr",
     "output_type": "stream",
     "text": [
      "C:\\ProgramData\\Anaconda3\\lib\\site-packages\\sklearn\\metrics\\classification.py:1870: UserWarning: labels size, 2230, does not match size of target_names, 63\n",
      "  .format(len(labels), len(target_names))\n",
      "C:\\ProgramData\\Anaconda3\\lib\\site-packages\\sklearn\\metrics\\classification.py:1437: UndefinedMetricWarning: Precision and F-score are ill-defined and being set to 0.0 in labels with no predicted samples.\n",
      "  'precision', 'predicted', average, warn_for)\n",
      "C:\\ProgramData\\Anaconda3\\lib\\site-packages\\sklearn\\metrics\\classification.py:1439: UndefinedMetricWarning: Recall and F-score are ill-defined and being set to 0.0 in labels with no true samples.\n",
      "  'recall', 'true', average, warn_for)\n"
     ]
    }
   ],
   "source": [
    "# ### Random Forest\n",
    "print(\"Training Random Forest\")\n",
    "rf = RandomForestClassifier(n_estimators=40)\n",
    "rf.fit(Xtr, Ytr)\n",
    "pred = rf.predict(Xde)\n",
    "print(classification_report(Yde, pred, labels=Ytr ,target_names=encoder.classes_))\n",
    "print('Accuracy achieved is ' + str(np.mean(pred == Yde)))"
   ]
  },
  {
   "cell_type": "code",
   "execution_count": 15,
   "metadata": {},
   "outputs": [
    {
     "name": "stdout",
     "output_type": "stream",
     "text": [
      "Training Multinomial Naive Bayesian\n",
      "                                                                                                                                    precision    recall  f1-score   support\n",
      "\n",
      "                                                                                Annual Report - Comments made in the Annual Report       0.61      0.88      0.72        78\n",
      "                                                                               Approval - Alert me when a company gets an approval       0.38      0.33      0.36        15\n",
      "                                                            Award Received- Alert me when any of these companies receives an award       0.00      0.00      0.00         4\n",
      "                                                             Black Swan Events - Alert me when a company faces an exceptional loss       0.33      0.96      0.49        25\n",
      "                                                     Buyback of shares- Alert me when any of these companies buys back it's shares       0.38      0.33      0.36        15\n",
      "                                                          CSR Work - Alert me when a company or its foundation does a CSR Activity       0.00      0.00      0.00         2\n",
      "                                        Credit Rating Agency - Alert me when a Credit Rating Agency makes a comment on the company       0.61      0.88      0.72        78\n",
      "                       Customer Dissatisfaction- Alert me when any of these companies customers voice their dissatisfaction online       1.00      0.67      0.80         3\n",
      "                                  Debt Financing- Alert me when any of these companies receives a loan they have promised to repay       0.50      0.14      0.22         7\n",
      "               Earnings, Stock Performance or Dividends- Alert me when any of these companies release numbers on their performance       0.00      0.00      0.00         0\n",
      "                                        Employee Related News - Alert me when any of these companies have an employee related news       0.61      0.88      0.72        78\n",
      "                                      Event Celebration - Alert me when any of these companies celebrate an event/national holiday       0.38      0.33      0.36        15\n",
      "                            Executive Quote or Publication- Alert me when any of these companies executives is quoted or published       0.38      0.33      0.36        15\n",
      "                        Exhibitor or Presenter at an Event - Alert me when any of these companies exhibits or presents at an event       0.00      0.00      0.00         0\n",
      "                                 Financial Challenges- Alert me when any of these companies' report signs of financial instability       0.00      0.00      0.00         2\n",
      "                Growth/Focus in exisitng terrain - Alert me when a company focusses on existing terrain by means of expansion, etc       1.00      0.50      0.67         2\n",
      "                                                   IPO or Public Offering- Alert me when any of these companies IPO or file to IPO       1.00      0.44      0.62         9\n",
      "          Included in Industry Lists- Alert me when any of these companies is added to an industry-specific list by Oracle DataFox       0.00      0.00      0.00         1\n",
      "                   Included in Industry News- Alert me when any of these companies are mentioned positively by an industry analyst       1.00      0.57      0.73         7\n",
      "                                                                                                                     Industry News       0.00      0.00      0.00         5\n",
      "                                                                                                                     Industry news       0.00      0.00      0.00         5\n",
      "                  Industry or Competitive - Alert me when any company competitor’s gain a unique advantage or the market downturns       0.33      0.96      0.49        25\n",
      "                                            Invested in a Company- Alert me when any of these companies invests in another company       1.00      0.57      0.73         7\n",
      "                                                                                                                   Irrelevant News       1.00      0.33      0.50         3\n",
      "                                                   Job Postings- Alert me when any of these companies post new available positions       0.00      0.00      0.00         1\n",
      "                            Key Executive Hire or Promotion - Alert me when any of these companies hire or promote a new executive       0.00      0.00      0.00         2\n",
      "                                     Layoffs - Alert me when any of these companies terminate a large number of employee contracts       0.40      0.86      0.55         7\n",
      "                                          Leadership Change- Alert me when any of these companies undergo management restructuring       0.00      0.00      0.00         5\n",
      "                                         Legal Issues - Alert me when any of these companies are having litigation related issues        0.61      0.88      0.72        78\n",
      "                   Made or will make an Acquisition- Alert me when any of these companies acquires or will acquire another company       0.61      0.88      0.72        78\n",
      "                                                                            Market Buzz - News related to the Indian Equity Market       0.61      0.88      0.72        78\n",
      "                                                                           Market Buzz - News related to the Indian Equity Market        0.61      0.88      0.72        78\n",
      "                               Marketing Activity - Alert me when any of these companies launch fresh marketing efforts or tactics       0.40      0.86      0.55         7\n",
      "                  Merger, Restructuring, or Ownership Change- Alert me when any of these companies undergo financial restructuring       0.61      0.88      0.72        78\n",
      "                                               New Geography- Alert me when a company moves or expands into a new state or country       0.61      0.88      0.72        78\n",
      "     New Patent or Regulatory Approval- Alert me when a company receives government approval for a patent, registration or license       0.33      0.96      0.49        25\n",
      "New Products, Initiatives, or Strategy- Alert me when a company unveils a new product or announces an initiative to enter a market       0.00      0.00      0.00         5\n",
      "                                                                 New contract - Alert me when a company enters into a new contract       0.33      0.96      0.49        25\n",
      "                                                    New investment - Alert me when a company does an expansion or a new investment       0.00      0.00      0.00         1\n",
      "                                                                Office Space Expansion- Alert me when a company opens a new office       0.33      0.96      0.49        25\n",
      "                                                                                                                        Other News       0.00      0.00      0.00         2\n",
      "                                                                                                               Other negative news       0.67      0.67      0.67         3\n",
      "                                                                                                                        Other news       0.61      0.88      0.72        78\n",
      "                                  Outsourcing- Alert me when any of these companies subcontracts to other companies or contractors       0.38      0.33      0.36        15\n",
      "                      Partnership or Joint Venture- Alert me when two companies partner or enter a short-term business arrangement       0.61      0.88      0.72        78\n",
      "                                                             Payback of debt - Alert me any of these companies pays back it’s debt       0.61      0.88      0.72        78\n",
      "                                Personal News - Alert me when any of these companies have personal news concerning it's management       0.33      0.96      0.49        25\n",
      "                                              Production related news - Alertme when a company has news related to it's production       0.61      0.88      0.72        78\n",
      "                  Real Estate Sale or Relocation- Alert me when any of these companies sell their office or move to a new location       0.61      0.88      0.72        78\n",
      "                                 Received Private Funding- Alert me when any of these companies raise money in exchange for equity       0.75      1.00      0.86         3\n",
      "                                     Regulatory Issues- Alert me when any of these companies encounter problems with governing law       1.00      0.50      0.67         8\n",
      "                                                           Research House - Alert me when a research house comments on the company       0.33      0.96      0.49        25\n",
      "                                                Sales Drop - Alert me when any of these companies see a drop in their sales figure       0.00      0.00      0.00         3\n",
      "                                      Sales or User Growth- Alert me when the average sales or user volume for a company increases       1.00      0.44      0.62         9\n",
      "                    Stake Increase/Decrease - Alert me whena company's major shareholder changes it's stake (increase or decrease)       0.00      0.00      0.00         1\n",
      "                             Technical Factors - Alert me when any of these companies move based on market or other technical news       0.00      0.00      0.00         1\n",
      "                                    Turbulence- Alert me when any of these companies exhibit signs of irregular or ailing behavior       0.61      0.88      0.72        78\n",
      "                                     Was Acquired- Alert me when any of these companies are acquired partly (Stake sale) or wholly       0.40      0.86      0.55         7\n",
      "                                                                                                                     industry news       0.61      0.88      0.72        78\n",
      "                                                                 new contract - Alert me when a company enters into a new contract       0.00      0.00      0.00         1\n",
      "                                                    new investment - Alert me when a company does an expansion or a new investment       0.50      0.14      0.22         7\n",
      "                                                                                                                        other news       0.00      0.00      0.00         4\n",
      "                             technical Factors - Alert me when any of these companies move based on market or other technical news       0.61      0.88      0.72        78\n",
      "\n",
      "                                                                                                                         micro avg       0.56      0.84      0.67     70316\n",
      "                                                                                                                         macro avg       0.46      0.56      0.46     70316\n",
      "                                                                                                                      weighted avg       0.57      0.84      0.67     70316\n",
      "\n",
      "Accuracy achieved is 0.5282258064516129\n"
     ]
    },
    {
     "name": "stderr",
     "output_type": "stream",
     "text": [
      "C:\\ProgramData\\Anaconda3\\lib\\site-packages\\sklearn\\metrics\\classification.py:1870: UserWarning: labels size, 2230, does not match size of target_names, 63\n",
      "  .format(len(labels), len(target_names))\n",
      "C:\\ProgramData\\Anaconda3\\lib\\site-packages\\sklearn\\metrics\\classification.py:1437: UndefinedMetricWarning: Precision and F-score are ill-defined and being set to 0.0 in labels with no predicted samples.\n",
      "  'precision', 'predicted', average, warn_for)\n",
      "C:\\ProgramData\\Anaconda3\\lib\\site-packages\\sklearn\\metrics\\classification.py:1439: UndefinedMetricWarning: Recall and F-score are ill-defined and being set to 0.0 in labels with no true samples.\n",
      "  'recall', 'true', average, warn_for)\n"
     ]
    }
   ],
   "source": [
    "\n",
    "# ### Multinomial Naive Bayesian\n",
    "print(\"Training Multinomial Naive Bayesian\")\n",
    "nb = MultinomialNB()\n",
    "nb.fit(Xtr, Ytr)\n",
    "pred_nb = nb.predict(Xde)\n",
    "print(classification_report(Yde, pred_nb, labels=Ytr ,target_names=encoder.classes_))\n",
    "print('Accuracy achieved is ' + str(np.mean(pred_nb == Yde)))"
   ]
  },
  {
   "cell_type": "code",
   "execution_count": 16,
   "metadata": {},
   "outputs": [
    {
     "name": "stderr",
     "output_type": "stream",
     "text": [
      "C:\\ProgramData\\Anaconda3\\lib\\site-packages\\sklearn\\svm\\base.py:193: FutureWarning: The default value of gamma will change from 'auto' to 'scale' in version 0.22 to account better for unscaled features. Set gamma explicitly to 'auto' or 'scale' to avoid this warning.\n",
      "  \"avoid this warning.\", FutureWarning)\n"
     ]
    },
    {
     "name": "stdout",
     "output_type": "stream",
     "text": [
      "Training Support Vector Classification\n",
      "                                                                                                                                    precision    recall  f1-score   support\n",
      "\n",
      "                                                                                Annual Report - Comments made in the Annual Report       0.32      1.00      0.49        78\n",
      "                                                                               Approval - Alert me when a company gets an approval       0.00      0.00      0.00        15\n",
      "                                                            Award Received- Alert me when any of these companies receives an award       0.00      0.00      0.00         4\n",
      "                                                             Black Swan Events - Alert me when a company faces an exceptional loss       1.00      0.28      0.44        25\n",
      "                                                     Buyback of shares- Alert me when any of these companies buys back it's shares       0.00      0.00      0.00        15\n",
      "                                                          CSR Work - Alert me when a company or its foundation does a CSR Activity       0.00      0.00      0.00         2\n",
      "                                        Credit Rating Agency - Alert me when a Credit Rating Agency makes a comment on the company       0.32      1.00      0.49        78\n",
      "                       Customer Dissatisfaction- Alert me when any of these companies customers voice their dissatisfaction online       0.00      0.00      0.00         3\n",
      "                                  Debt Financing- Alert me when any of these companies receives a loan they have promised to repay       0.00      0.00      0.00         7\n",
      "               Earnings, Stock Performance or Dividends- Alert me when any of these companies release numbers on their performance       0.00      0.00      0.00         0\n",
      "                                        Employee Related News - Alert me when any of these companies have an employee related news       0.32      1.00      0.49        78\n",
      "                                      Event Celebration - Alert me when any of these companies celebrate an event/national holiday       0.00      0.00      0.00        15\n",
      "                            Executive Quote or Publication- Alert me when any of these companies executives is quoted or published       0.00      0.00      0.00        15\n",
      "                        Exhibitor or Presenter at an Event - Alert me when any of these companies exhibits or presents at an event       0.00      0.00      0.00         0\n",
      "                                 Financial Challenges- Alert me when any of these companies' report signs of financial instability       0.00      0.00      0.00         2\n",
      "                Growth/Focus in exisitng terrain - Alert me when a company focusses on existing terrain by means of expansion, etc       0.00      0.00      0.00         2\n",
      "                                                   IPO or Public Offering- Alert me when any of these companies IPO or file to IPO       0.00      0.00      0.00         9\n",
      "          Included in Industry Lists- Alert me when any of these companies is added to an industry-specific list by Oracle DataFox       0.00      0.00      0.00         1\n",
      "                   Included in Industry News- Alert me when any of these companies are mentioned positively by an industry analyst       0.00      0.00      0.00         7\n",
      "                                                                                                                     Industry News       0.00      0.00      0.00         5\n",
      "                                                                                                                     Industry news       0.00      0.00      0.00         5\n",
      "                  Industry or Competitive - Alert me when any company competitor’s gain a unique advantage or the market downturns       1.00      0.28      0.44        25\n",
      "                                            Invested in a Company- Alert me when any of these companies invests in another company       0.00      0.00      0.00         7\n",
      "                                                                                                                   Irrelevant News       0.00      0.00      0.00         3\n",
      "                                                   Job Postings- Alert me when any of these companies post new available positions       0.00      0.00      0.00         1\n",
      "                            Key Executive Hire or Promotion - Alert me when any of these companies hire or promote a new executive       0.00      0.00      0.00         2\n",
      "                                     Layoffs - Alert me when any of these companies terminate a large number of employee contracts       0.00      0.00      0.00         7\n",
      "                                          Leadership Change- Alert me when any of these companies undergo management restructuring       0.00      0.00      0.00         5\n",
      "                                         Legal Issues - Alert me when any of these companies are having litigation related issues        0.32      1.00      0.49        78\n",
      "                   Made or will make an Acquisition- Alert me when any of these companies acquires or will acquire another company       0.32      1.00      0.49        78\n",
      "                                                                            Market Buzz - News related to the Indian Equity Market       0.32      1.00      0.49        78\n",
      "                                                                           Market Buzz - News related to the Indian Equity Market        0.32      1.00      0.49        78\n",
      "                               Marketing Activity - Alert me when any of these companies launch fresh marketing efforts or tactics       0.00      0.00      0.00         7\n",
      "                  Merger, Restructuring, or Ownership Change- Alert me when any of these companies undergo financial restructuring       0.32      1.00      0.49        78\n",
      "                                               New Geography- Alert me when a company moves or expands into a new state or country       0.32      1.00      0.49        78\n",
      "     New Patent or Regulatory Approval- Alert me when a company receives government approval for a patent, registration or license       1.00      0.28      0.44        25\n",
      "New Products, Initiatives, or Strategy- Alert me when a company unveils a new product or announces an initiative to enter a market       0.00      0.00      0.00         5\n",
      "                                                                 New contract - Alert me when a company enters into a new contract       1.00      0.28      0.44        25\n",
      "                                                    New investment - Alert me when a company does an expansion or a new investment       0.00      0.00      0.00         1\n",
      "                                                                Office Space Expansion- Alert me when a company opens a new office       1.00      0.28      0.44        25\n",
      "                                                                                                                        Other News       0.00      0.00      0.00         2\n",
      "                                                                                                               Other negative news       0.00      0.00      0.00         3\n",
      "                                                                                                                        Other news       0.32      1.00      0.49        78\n",
      "                                  Outsourcing- Alert me when any of these companies subcontracts to other companies or contractors       0.00      0.00      0.00        15\n",
      "                      Partnership or Joint Venture- Alert me when two companies partner or enter a short-term business arrangement       0.32      1.00      0.49        78\n",
      "                                                             Payback of debt - Alert me any of these companies pays back it’s debt       0.32      1.00      0.49        78\n",
      "                                Personal News - Alert me when any of these companies have personal news concerning it's management       1.00      0.28      0.44        25\n",
      "                                              Production related news - Alertme when a company has news related to it's production       0.32      1.00      0.49        78\n",
      "                  Real Estate Sale or Relocation- Alert me when any of these companies sell their office or move to a new location       0.32      1.00      0.49        78\n",
      "                                 Received Private Funding- Alert me when any of these companies raise money in exchange for equity       0.00      0.00      0.00         3\n",
      "                                     Regulatory Issues- Alert me when any of these companies encounter problems with governing law       0.00      0.00      0.00         8\n",
      "                                                           Research House - Alert me when a research house comments on the company       1.00      0.28      0.44        25\n",
      "                                                Sales Drop - Alert me when any of these companies see a drop in their sales figure       0.00      0.00      0.00         3\n",
      "                                      Sales or User Growth- Alert me when the average sales or user volume for a company increases       0.00      0.00      0.00         9\n",
      "                    Stake Increase/Decrease - Alert me whena company's major shareholder changes it's stake (increase or decrease)       0.00      0.00      0.00         1\n",
      "                             Technical Factors - Alert me when any of these companies move based on market or other technical news       0.00      0.00      0.00         1\n",
      "                                    Turbulence- Alert me when any of these companies exhibit signs of irregular or ailing behavior       0.32      1.00      0.49        78\n",
      "                                     Was Acquired- Alert me when any of these companies are acquired partly (Stake sale) or wholly       0.00      0.00      0.00         7\n",
      "                                                                                                                     industry news       0.32      1.00      0.49        78\n",
      "                                                                 new contract - Alert me when a company enters into a new contract       0.00      0.00      0.00         1\n",
      "                                                    new investment - Alert me when a company does an expansion or a new investment       0.00      0.00      0.00         7\n",
      "                                                                                                                        other news       0.00      0.00      0.00         4\n",
      "                             technical Factors - Alert me when any of these companies move based on market or other technical news       0.32      1.00      0.49        78\n",
      "\n",
      "                                                                                                                         micro avg       0.33      0.83      0.47     70316\n",
      "                                                                                                                         macro avg       0.23      0.36      0.21     70316\n",
      "                                                                                                                      weighted avg       0.36      0.83      0.43     70316\n",
      "\n",
      "Accuracy achieved is 0.34274193548387094\n"
     ]
    },
    {
     "name": "stderr",
     "output_type": "stream",
     "text": [
      "C:\\ProgramData\\Anaconda3\\lib\\site-packages\\sklearn\\metrics\\classification.py:1870: UserWarning: labels size, 2230, does not match size of target_names, 63\n",
      "  .format(len(labels), len(target_names))\n",
      "C:\\ProgramData\\Anaconda3\\lib\\site-packages\\sklearn\\metrics\\classification.py:1437: UndefinedMetricWarning: Precision and F-score are ill-defined and being set to 0.0 in labels with no predicted samples.\n",
      "  'precision', 'predicted', average, warn_for)\n",
      "C:\\ProgramData\\Anaconda3\\lib\\site-packages\\sklearn\\metrics\\classification.py:1439: UndefinedMetricWarning: Recall and F-score are ill-defined and being set to 0.0 in labels with no true samples.\n",
      "  'recall', 'true', average, warn_for)\n"
     ]
    }
   ],
   "source": [
    "# ### Support Vector Classification\n",
    "print(\"Training Support Vector Classification\")\n",
    "from sklearn.svm import SVC\n",
    "svc = SVC()\n",
    "svc.fit(Xtr, Ytr)\n",
    "svc_pred = svc.predict(Xde)\n",
    "print(classification_report(Yde, svc_pred, labels=Ytr ,target_names=encoder.classes_))\n",
    "print('Accuracy achieved is ' + str(np.mean(svc_pred == Yde)))"
   ]
  },
  {
   "cell_type": "code",
   "execution_count": 17,
   "metadata": {},
   "outputs": [
    {
     "name": "stdout",
     "output_type": "stream",
     "text": [
      "Training Multilayered Perceptron\n",
      "                                                                                                                                    precision    recall  f1-score   support\n",
      "\n",
      "                                                                                Annual Report - Comments made in the Annual Report       0.71      0.92      0.80        78\n",
      "                                                                               Approval - Alert me when a company gets an approval       0.53      0.60      0.56        15\n",
      "                                                            Award Received- Alert me when any of these companies receives an award       0.00      0.00      0.00         4\n",
      "                                                             Black Swan Events - Alert me when a company faces an exceptional loss       0.68      0.92      0.78        25\n",
      "                                                     Buyback of shares- Alert me when any of these companies buys back it's shares       0.53      0.60      0.56        15\n",
      "                                                          CSR Work - Alert me when a company or its foundation does a CSR Activity       0.00      0.00      0.00         2\n",
      "                                        Credit Rating Agency - Alert me when a Credit Rating Agency makes a comment on the company       0.71      0.92      0.80        78\n",
      "                       Customer Dissatisfaction- Alert me when any of these companies customers voice their dissatisfaction online       0.00      0.00      0.00         3\n",
      "                                  Debt Financing- Alert me when any of these companies receives a loan they have promised to repay       0.50      0.71      0.59         7\n",
      "               Earnings, Stock Performance or Dividends- Alert me when any of these companies release numbers on their performance       0.00      0.00      0.00         0\n",
      "                                        Employee Related News - Alert me when any of these companies have an employee related news       0.71      0.92      0.80        78\n",
      "                                      Event Celebration - Alert me when any of these companies celebrate an event/national holiday       0.53      0.60      0.56        15\n",
      "                            Executive Quote or Publication- Alert me when any of these companies executives is quoted or published       0.53      0.60      0.56        15\n",
      "                        Exhibitor or Presenter at an Event - Alert me when any of these companies exhibits or presents at an event       0.00      0.00      0.00         0\n",
      "                                 Financial Challenges- Alert me when any of these companies' report signs of financial instability       0.00      0.00      0.00         2\n",
      "                Growth/Focus in exisitng terrain - Alert me when a company focusses on existing terrain by means of expansion, etc       0.50      0.50      0.50         2\n",
      "                                                   IPO or Public Offering- Alert me when any of these companies IPO or file to IPO       0.57      0.44      0.50         9\n",
      "          Included in Industry Lists- Alert me when any of these companies is added to an industry-specific list by Oracle DataFox       0.00      0.00      0.00         1\n",
      "                   Included in Industry News- Alert me when any of these companies are mentioned positively by an industry analyst       1.00      0.71      0.83         7\n",
      "                                                                                                                     Industry News       0.00      0.00      0.00         5\n",
      "                                                                                                                     Industry news       0.67      0.80      0.73         5\n",
      "                  Industry or Competitive - Alert me when any company competitor’s gain a unique advantage or the market downturns       0.68      0.92      0.78        25\n",
      "                                            Invested in a Company- Alert me when any of these companies invests in another company       1.00      0.71      0.83         7\n",
      "                                                                                                                   Irrelevant News       1.00      1.00      1.00         3\n",
      "                                                   Job Postings- Alert me when any of these companies post new available positions       0.00      0.00      0.00         1\n",
      "                            Key Executive Hire or Promotion - Alert me when any of these companies hire or promote a new executive       1.00      0.50      0.67         2\n",
      "                                     Layoffs - Alert me when any of these companies terminate a large number of employee contracts       0.33      0.43      0.38         7\n",
      "                                          Leadership Change- Alert me when any of these companies undergo management restructuring       0.00      0.00      0.00         5\n",
      "                                         Legal Issues - Alert me when any of these companies are having litigation related issues        0.71      0.92      0.80        78\n",
      "                   Made or will make an Acquisition- Alert me when any of these companies acquires or will acquire another company       0.71      0.92      0.80        78\n",
      "                                                                            Market Buzz - News related to the Indian Equity Market       0.71      0.92      0.80        78\n",
      "                                                                           Market Buzz - News related to the Indian Equity Market        0.71      0.92      0.80        78\n",
      "                               Marketing Activity - Alert me when any of these companies launch fresh marketing efforts or tactics       0.33      0.43      0.38         7\n",
      "                  Merger, Restructuring, or Ownership Change- Alert me when any of these companies undergo financial restructuring       0.71      0.92      0.80        78\n",
      "                                               New Geography- Alert me when a company moves or expands into a new state or country       0.71      0.92      0.80        78\n",
      "     New Patent or Regulatory Approval- Alert me when a company receives government approval for a patent, registration or license       0.68      0.92      0.78        25\n",
      "New Products, Initiatives, or Strategy- Alert me when a company unveils a new product or announces an initiative to enter a market       0.67      0.80      0.73         5\n",
      "                                                                 New contract - Alert me when a company enters into a new contract       0.68      0.92      0.78        25\n",
      "                                                    New investment - Alert me when a company does an expansion or a new investment       0.00      0.00      0.00         1\n",
      "                                                                Office Space Expansion- Alert me when a company opens a new office       0.68      0.92      0.78        25\n",
      "                                                                                                                        Other News       1.00      0.50      0.67         2\n",
      "                                                                                                               Other negative news       0.67      0.67      0.67         3\n",
      "                                                                                                                        Other news       0.71      0.92      0.80        78\n",
      "                                  Outsourcing- Alert me when any of these companies subcontracts to other companies or contractors       0.53      0.60      0.56        15\n",
      "                      Partnership or Joint Venture- Alert me when two companies partner or enter a short-term business arrangement       0.71      0.92      0.80        78\n",
      "                                                             Payback of debt - Alert me any of these companies pays back it’s debt       0.71      0.92      0.80        78\n",
      "                                Personal News - Alert me when any of these companies have personal news concerning it's management       0.68      0.92      0.78        25\n",
      "                                              Production related news - Alertme when a company has news related to it's production       0.71      0.92      0.80        78\n",
      "                  Real Estate Sale or Relocation- Alert me when any of these companies sell their office or move to a new location       0.71      0.92      0.80        78\n",
      "                                 Received Private Funding- Alert me when any of these companies raise money in exchange for equity       0.75      1.00      0.86         3\n",
      "                                     Regulatory Issues- Alert me when any of these companies encounter problems with governing law       1.00      0.62      0.77         8\n",
      "                                                           Research House - Alert me when a research house comments on the company       0.68      0.92      0.78        25\n",
      "                                                Sales Drop - Alert me when any of these companies see a drop in their sales figure       0.50      0.33      0.40         3\n",
      "                                      Sales or User Growth- Alert me when the average sales or user volume for a company increases       0.57      0.44      0.50         9\n",
      "                    Stake Increase/Decrease - Alert me whena company's major shareholder changes it's stake (increase or decrease)       0.00      0.00      0.00         1\n",
      "                             Technical Factors - Alert me when any of these companies move based on market or other technical news       0.00      0.00      0.00         1\n",
      "                                    Turbulence- Alert me when any of these companies exhibit signs of irregular or ailing behavior       0.71      0.92      0.80        78\n",
      "                                     Was Acquired- Alert me when any of these companies are acquired partly (Stake sale) or wholly       0.33      0.43      0.38         7\n",
      "                                                                                                                     industry news       0.71      0.92      0.80        78\n",
      "                                                                 new contract - Alert me when a company enters into a new contract       1.00      1.00      1.00         1\n",
      "                                                    new investment - Alert me when a company does an expansion or a new investment       0.50      0.71      0.59         7\n",
      "                                                                                                                        other news       0.50      0.75      0.60         4\n",
      "                             technical Factors - Alert me when any of these companies move based on market or other technical news       0.71      0.92      0.80        78\n",
      "\n",
      "                                                                                                                         micro avg       0.69      0.88      0.77     70316\n",
      "                                                                                                                         macro avg       0.55      0.64      0.58     70316\n",
      "                                                                                                                      weighted avg       0.68      0.88      0.77     70316\n",
      "\n",
      "Accuracy achieved is 0.6290322580645161\n"
     ]
    },
    {
     "name": "stderr",
     "output_type": "stream",
     "text": [
      "C:\\ProgramData\\Anaconda3\\lib\\site-packages\\sklearn\\metrics\\classification.py:1870: UserWarning: labels size, 2230, does not match size of target_names, 63\n",
      "  .format(len(labels), len(target_names))\n",
      "C:\\ProgramData\\Anaconda3\\lib\\site-packages\\sklearn\\metrics\\classification.py:1437: UndefinedMetricWarning: Precision and F-score are ill-defined and being set to 0.0 in labels with no predicted samples.\n",
      "  'precision', 'predicted', average, warn_for)\n",
      "C:\\ProgramData\\Anaconda3\\lib\\site-packages\\sklearn\\metrics\\classification.py:1439: UndefinedMetricWarning: Recall and F-score are ill-defined and being set to 0.0 in labels with no true samples.\n",
      "  'recall', 'true', average, warn_for)\n"
     ]
    }
   ],
   "source": [
    "# ### Multilayered Perceptron\n",
    "print(\"Training Multilayered Perceptron\")\n",
    "mlp = MLPClassifier(solver='adam', alpha=1e-5, hidden_layer_sizes=(100, 20), random_state=1, max_iter=400)\n",
    "mlp.fit(Xtr, Ytr)\n",
    "mlp_pred = mlp.predict(Xde)\n",
    "print(classification_report(Yde, mlp_pred, labels=Ytr ,target_names=encoder.classes_))\n",
    "print('Accuracy achieved is ' + str(np.mean(mlp_pred == Yde)))"
   ]
  },
  {
   "cell_type": "code",
   "execution_count": 18,
   "metadata": {},
   "outputs": [
    {
     "name": "stdout",
     "output_type": "stream",
     "text": [
      "Accuracy achieved is 0.125\n",
      "Accuracy achieved is 0.49193548387096775\n",
      "Accuracy achieved is 0.5282258064516129\n",
      "Accuracy achieved is 0.34274193548387094\n",
      "Accuracy achieved is 0.6290322580645161\n"
     ]
    }
   ],
   "source": [
    "print('Accuracy achieved is ' + str(np.mean(dc_pred   == Yde)))\n",
    "print('Accuracy achieved is ' + str(np.mean(dt_pred   == Yde)))\n",
    "print('Accuracy achieved is ' + str(np.mean(pred_nb   == Yde)))\n",
    "print('Accuracy achieved is ' + str(np.mean(svc_pred  == Yde)))\n",
    "print('Accuracy achieved is ' + str(np.mean(mlp_pred  == Yde)))"
   ]
  },
  {
   "cell_type": "code",
   "execution_count": 19,
   "metadata": {},
   "outputs": [
    {
     "name": "stdout",
     "output_type": "stream",
     "text": [
      "\n",
      "\n",
      "Predicting test data using Multilayered Perceptron\n",
      "                                                                                                                                    precision    recall  f1-score   support\n",
      "\n",
      "                                                                                Annual Report - Comments made in the Annual Report       0.71      0.92      0.80        78\n",
      "                                                                               Approval - Alert me when a company gets an approval       0.53      0.60      0.56        15\n",
      "                                                            Award Received- Alert me when any of these companies receives an award       0.00      0.00      0.00         4\n",
      "                                                             Black Swan Events - Alert me when a company faces an exceptional loss       0.68      0.92      0.78        25\n",
      "                                                     Buyback of shares- Alert me when any of these companies buys back it's shares       0.53      0.60      0.56        15\n",
      "                                                          CSR Work - Alert me when a company or its foundation does a CSR Activity       0.00      0.00      0.00         2\n",
      "                                        Credit Rating Agency - Alert me when a Credit Rating Agency makes a comment on the company       0.71      0.92      0.80        78\n",
      "                       Customer Dissatisfaction- Alert me when any of these companies customers voice their dissatisfaction online       0.00      0.00      0.00         3\n",
      "                                  Debt Financing- Alert me when any of these companies receives a loan they have promised to repay       0.50      0.71      0.59         7\n",
      "               Earnings, Stock Performance or Dividends- Alert me when any of these companies release numbers on their performance       0.00      0.00      0.00         0\n",
      "                                        Employee Related News - Alert me when any of these companies have an employee related news       0.71      0.92      0.80        78\n",
      "                                      Event Celebration - Alert me when any of these companies celebrate an event/national holiday       0.53      0.60      0.56        15\n",
      "                            Executive Quote or Publication- Alert me when any of these companies executives is quoted or published       0.53      0.60      0.56        15\n",
      "                        Exhibitor or Presenter at an Event - Alert me when any of these companies exhibits or presents at an event       0.00      0.00      0.00         0\n",
      "                                 Financial Challenges- Alert me when any of these companies' report signs of financial instability       0.00      0.00      0.00         2\n",
      "                Growth/Focus in exisitng terrain - Alert me when a company focusses on existing terrain by means of expansion, etc       0.50      0.50      0.50         2\n",
      "                                                   IPO or Public Offering- Alert me when any of these companies IPO or file to IPO       0.57      0.44      0.50         9\n",
      "          Included in Industry Lists- Alert me when any of these companies is added to an industry-specific list by Oracle DataFox       0.00      0.00      0.00         1\n",
      "                   Included in Industry News- Alert me when any of these companies are mentioned positively by an industry analyst       1.00      0.71      0.83         7\n",
      "                                                                                                                     Industry News       0.00      0.00      0.00         5\n",
      "                                                                                                                     Industry news       0.67      0.80      0.73         5\n",
      "                  Industry or Competitive - Alert me when any company competitor’s gain a unique advantage or the market downturns       0.68      0.92      0.78        25\n",
      "                                            Invested in a Company- Alert me when any of these companies invests in another company       1.00      0.71      0.83         7\n",
      "                                                                                                                   Irrelevant News       1.00      1.00      1.00         3\n",
      "                                                   Job Postings- Alert me when any of these companies post new available positions       0.00      0.00      0.00         1\n",
      "                            Key Executive Hire or Promotion - Alert me when any of these companies hire or promote a new executive       1.00      0.50      0.67         2\n",
      "                                     Layoffs - Alert me when any of these companies terminate a large number of employee contracts       0.33      0.43      0.38         7\n",
      "                                          Leadership Change- Alert me when any of these companies undergo management restructuring       0.00      0.00      0.00         5\n",
      "                                         Legal Issues - Alert me when any of these companies are having litigation related issues        0.71      0.92      0.80        78\n",
      "                   Made or will make an Acquisition- Alert me when any of these companies acquires or will acquire another company       0.71      0.92      0.80        78\n",
      "                                                                            Market Buzz - News related to the Indian Equity Market       0.71      0.92      0.80        78\n",
      "                                                                           Market Buzz - News related to the Indian Equity Market        0.71      0.92      0.80        78\n",
      "                               Marketing Activity - Alert me when any of these companies launch fresh marketing efforts or tactics       0.33      0.43      0.38         7\n",
      "                  Merger, Restructuring, or Ownership Change- Alert me when any of these companies undergo financial restructuring       0.71      0.92      0.80        78\n",
      "                                               New Geography- Alert me when a company moves or expands into a new state or country       0.71      0.92      0.80        78\n",
      "     New Patent or Regulatory Approval- Alert me when a company receives government approval for a patent, registration or license       0.68      0.92      0.78        25\n",
      "New Products, Initiatives, or Strategy- Alert me when a company unveils a new product or announces an initiative to enter a market       0.67      0.80      0.73         5\n",
      "                                                                 New contract - Alert me when a company enters into a new contract       0.68      0.92      0.78        25\n",
      "                                                    New investment - Alert me when a company does an expansion or a new investment       0.00      0.00      0.00         1\n",
      "                                                                Office Space Expansion- Alert me when a company opens a new office       0.68      0.92      0.78        25\n",
      "                                                                                                                        Other News       1.00      0.50      0.67         2\n",
      "                                                                                                               Other negative news       0.67      0.67      0.67         3\n",
      "                                                                                                                        Other news       0.71      0.92      0.80        78\n",
      "                                  Outsourcing- Alert me when any of these companies subcontracts to other companies or contractors       0.53      0.60      0.56        15\n",
      "                      Partnership or Joint Venture- Alert me when two companies partner or enter a short-term business arrangement       0.71      0.92      0.80        78\n",
      "                                                             Payback of debt - Alert me any of these companies pays back it’s debt       0.71      0.92      0.80        78\n",
      "                                Personal News - Alert me when any of these companies have personal news concerning it's management       0.68      0.92      0.78        25\n",
      "                                              Production related news - Alertme when a company has news related to it's production       0.71      0.92      0.80        78\n",
      "                  Real Estate Sale or Relocation- Alert me when any of these companies sell their office or move to a new location       0.71      0.92      0.80        78\n",
      "                                 Received Private Funding- Alert me when any of these companies raise money in exchange for equity       0.75      1.00      0.86         3\n",
      "                                     Regulatory Issues- Alert me when any of these companies encounter problems with governing law       1.00      0.62      0.77         8\n",
      "                                                           Research House - Alert me when a research house comments on the company       0.68      0.92      0.78        25\n",
      "                                                Sales Drop - Alert me when any of these companies see a drop in their sales figure       0.50      0.33      0.40         3\n",
      "                                      Sales or User Growth- Alert me when the average sales or user volume for a company increases       0.57      0.44      0.50         9\n",
      "                    Stake Increase/Decrease - Alert me whena company's major shareholder changes it's stake (increase or decrease)       0.00      0.00      0.00         1\n",
      "                             Technical Factors - Alert me when any of these companies move based on market or other technical news       0.00      0.00      0.00         1\n",
      "                                    Turbulence- Alert me when any of these companies exhibit signs of irregular or ailing behavior       0.71      0.92      0.80        78\n",
      "                                     Was Acquired- Alert me when any of these companies are acquired partly (Stake sale) or wholly       0.33      0.43      0.38         7\n",
      "                                                                                                                     industry news       0.71      0.92      0.80        78\n",
      "                                                                 new contract - Alert me when a company enters into a new contract       1.00      1.00      1.00         1\n",
      "                                                    new investment - Alert me when a company does an expansion or a new investment       0.50      0.71      0.59         7\n",
      "                                                                                                                        other news       0.50      0.75      0.60         4\n",
      "                             technical Factors - Alert me when any of these companies move based on market or other technical news       0.71      0.92      0.80        78\n",
      "\n",
      "                                                                                                                         micro avg       0.69      0.88      0.77     70316\n",
      "                                                                                                                         macro avg       0.55      0.64      0.58     70316\n",
      "                                                                                                                      weighted avg       0.68      0.88      0.77     70316\n",
      "\n",
      "Accuracy achieved is 0.6290322580645161\n"
     ]
    }
   ],
   "source": [
    "# # Final Model: Multilayered Perceptron\n",
    "# ## Predict test data\n",
    "print(\"\\n\\nPredicting test data using Multilayered Perceptron\")\n",
    "pred_final = mlp.predict(Xte)\n",
    "print(classification_report(Yte, pred_final, labels=Ytr ,target_names=encoder.classes_))\n",
    "print('Accuracy achieved is ' + str(accuracy_score(Yte,pred_final)))"
   ]
  },
  {
   "cell_type": "code",
   "execution_count": 20,
   "metadata": {},
   "outputs": [],
   "source": [
    "output = {\"title\":vectorizer.inverse_transform(Xte), \"predicted\":encoder.inverse_transform(pred_final),\"actual\": encoder.inverse_transform(Yte)}"
   ]
  },
  {
   "cell_type": "code",
   "execution_count": 21,
   "metadata": {},
   "outputs": [],
   "source": [
    "#df = pd.DataFrame(output, columns=[\"title\",\"predicted\",\"actual\"])\n",
    "#df.to_csv(\"C:\\\\Users\\\\Kratika\\\\Downloads\\\\News333_title_predication_1.csv\")"
   ]
  },
  {
   "cell_type": "code",
   "execution_count": 22,
   "metadata": {},
   "outputs": [
    {
     "name": "stdout",
     "output_type": "stream",
     "text": [
      "Accuracy achieved is 0.6290322580645161\n"
     ]
    }
   ],
   "source": [
    "pred_final = mlp.predict(Xte)\n",
    "print('Accuracy achieved is ' + str(np.mean(pred_final == Yte)))\n",
    "output = {\"text\":vectorizer.inverse_transform(Xte), \"predicted\":encoder.inverse_transform(pred_final),\"actual\": encoder.inverse_transform(Yte)}\n",
    "df = pd.DataFrame(output, columns=[\"text\",\"predicted\",\"actual\"])\n"
   ]
  },
  {
   "cell_type": "code",
   "execution_count": 23,
   "metadata": {},
   "outputs": [],
   "source": [
    "#df = pd.DataFrame(output, columns=[\"text\",\"predicted\",\"actual\"])\n",
    "#df.to_csv(\"C:\\\\Users\\\\Kratika\\\\Downloads\\\\News333_title_body_predication.csv\")"
   ]
  },
  {
   "cell_type": "code",
   "execution_count": 24,
   "metadata": {},
   "outputs": [],
   "source": [
    "import pickle\n",
    "from sklearn.feature_extraction.text import CountVectorizer\n",
    "\n",
    "\n",
    "#GET VECTOR COUNT\n",
    "count_vect = CountVectorizer()\n",
    "X_train_counts = count_vect.fit_transform(news.clean_text)\n",
    "\n",
    "#SAVE WORD VECTOR\n",
    "pickle.dump(count_vect.vocabulary_, open(\"count_vector.pkl\",\"wb\"))"
   ]
  },
  {
   "cell_type": "code",
   "execution_count": 25,
   "metadata": {},
   "outputs": [
    {
     "data": {
      "text/plain": [
       "<2478x17611 sparse matrix of type '<class 'numpy.int64'>'\n",
       "\twith 125978 stored elements in Compressed Sparse Row format>"
      ]
     },
     "execution_count": 25,
     "metadata": {},
     "output_type": "execute_result"
    }
   ],
   "source": [
    "X_train_counts"
   ]
  },
  {
   "cell_type": "code",
   "execution_count": 26,
   "metadata": {},
   "outputs": [],
   "source": [
    "from sklearn.feature_extraction.text import TfidfTransformer\n",
    "\n",
    "#TRANSFORM WORD VECTOR TO TF IDF\n",
    "tfidf_transformer = TfidfTransformer()\n",
    "X_train_tfidf = tfidf_transformer.fit_transform(X_train_counts)\n",
    "\n",
    "#SAVE TF-IDF\n",
    "pickle.dump(tfidf_transformer, open(\"tfidf.pkl\",\"wb\"))\n"
   ]
  },
  {
   "cell_type": "code",
   "execution_count": 27,
   "metadata": {},
   "outputs": [
    {
     "data": {
      "text/plain": [
       "<2478x17611 sparse matrix of type '<class 'numpy.float64'>'\n",
       "\twith 125978 stored elements in Compressed Sparse Row format>"
      ]
     },
     "execution_count": 27,
     "metadata": {},
     "output_type": "execute_result"
    }
   ],
   "source": [
    "X_train_tfidf"
   ]
  },
  {
   "cell_type": "code",
   "execution_count": 28,
   "metadata": {},
   "outputs": [
    {
     "name": "stderr",
     "output_type": "stream",
     "text": [
      "C:\\ProgramData\\Anaconda3\\lib\\site-packages\\sklearn\\neural_network\\multilayer_perceptron.py:566: ConvergenceWarning: Stochastic Optimizer: Maximum iterations (200) reached and the optimization hasn't converged yet.\n",
      "  % self.max_iter, ConvergenceWarning)\n"
     ]
    },
    {
     "data": {
      "text/plain": [
       "MLPClassifier(activation='relu', alpha=1e-05, batch_size='auto', beta_1=0.9,\n",
       "              beta_2=0.999, early_stopping=False, epsilon=1e-08,\n",
       "              hidden_layer_sizes=(15,), learning_rate='constant',\n",
       "              learning_rate_init=0.001, max_iter=200, momentum=0.9,\n",
       "              n_iter_no_change=10, nesterovs_momentum=True, power_t=0.5,\n",
       "              random_state=1, shuffle=True, solver='sgd', tol=0.0001,\n",
       "              validation_fraction=0.1, verbose=False, warm_start=False)"
      ]
     },
     "execution_count": 28,
     "metadata": {},
     "output_type": "execute_result"
    }
   ],
   "source": [
    "from sklearn.neural_network import MLPClassifier\n",
    "\n",
    "#mlp =       MLPClassifier(solver='adam',  alpha=1e-5, hidden_layer_sizes=(100, 20), random_state=1, max_iter=400)\n",
    "#clf_neural = MLPClassifier(solver='lbfgs', alpha=1e-5, hidden_layer_sizes=(15,), random_state=1)\n",
    "clf_neural = MLPClassifier(solver='sgd', alpha=1e-5, hidden_layer_sizes=(15,), random_state=1)\n",
    "#clf_neural = MLPClassifier(hidden_layer_sizes=(100, ), activation=’relu’, solver=’adam’, alpha=0.0001, batch_size=’auto’, learning_rate=’constant’, learning_rate_init=0.001, power_t=0.5, max_iter=200, shuffle=True, random_state=None, tol=0.0001, verbose=False, warm_start=False, momentum=0.9, nesterovs_momentum=True, early_stopping=False, validation_fraction=0.1, beta_1=0.9, beta_2=0.999, epsilon=1e-08, n_iter_no_change=10)\n",
    "X_train, X_test, y_train, y_test = train_test_split(X_train_tfidf, news.MegaCategory, test_size=0.25, random_state=42)\n",
    "\n",
    "clf_neural.fit(X_train, y_train)\n"
   ]
  },
  {
   "cell_type": "code",
   "execution_count": 29,
   "metadata": {},
   "outputs": [
    {
     "name": "stdout",
     "output_type": "stream",
     "text": [
      "Accuracy achieved is 0.4\n"
     ]
    }
   ],
   "source": [
    "predicted = clf_neural.predict(X_test)\n",
    "print('Accuracy achieved is ' + str(np.mean(predicted == y_test)))\n"
   ]
  },
  {
   "cell_type": "code",
   "execution_count": 30,
   "metadata": {},
   "outputs": [
    {
     "name": "stdout",
     "output_type": "stream",
     "text": [
      "                      precision    recall  f1-score   support\n",
      "\n",
      "Awards & Recognition       0.00      0.00      0.00        10\n",
      "               Event       0.00      0.00      0.00         2\n",
      "              Events       0.00      0.00      0.00         1\n",
      "           Financial       0.00      0.00      0.00        56\n",
      "              Growth       0.00      0.00      0.00        70\n",
      "       Industry News       0.00      0.00      0.00        17\n",
      "         Market Buzz       0.00      0.00      0.00        28\n",
      "       Negative News       0.00      0.00      0.00        51\n",
      "              People       0.00      0.00      0.00        40\n",
      "   Stock Performance       0.00      0.00      0.00        97\n",
      "  Uncategorised News       0.40      1.00      0.57       248\n",
      "\n",
      "            accuracy                           0.40       620\n",
      "           macro avg       0.04      0.09      0.05       620\n",
      "        weighted avg       0.16      0.40      0.23       620\n",
      "\n"
     ]
    },
    {
     "name": "stderr",
     "output_type": "stream",
     "text": [
      "C:\\ProgramData\\Anaconda3\\lib\\site-packages\\sklearn\\metrics\\classification.py:1437: UndefinedMetricWarning: Precision and F-score are ill-defined and being set to 0.0 in labels with no predicted samples.\n",
      "  'precision', 'predicted', average, warn_for)\n"
     ]
    }
   ],
   "source": [
    "print(classification_report(y_test, predicted))"
   ]
  },
  {
   "cell_type": "code",
   "execution_count": null,
   "metadata": {},
   "outputs": [],
   "source": [
    "mlp = MLPClassifier(solver='adam', alpha=1e-5, hidden_layer_sizes=(100,), activation='relu', random_state=1, max_iter=400)\n",
    "\n",
    "mlp.fit(X_train, y_train)\n",
    "mlp_pred = mlp.predict(X_test)  \n",
    "print(classification_report(y_test, mlp_pred))\n",
    "print('Accuracy achieved is ' + str(np.mean(mlp_pred == y_test)))"
   ]
  },
  {
   "cell_type": "code",
   "execution_count": null,
   "metadata": {},
   "outputs": [],
   "source": []
  }
 ],
 "metadata": {
  "kernelspec": {
   "display_name": "Python 3",
   "language": "python",
   "name": "python3"
  },
  "language_info": {
   "codemirror_mode": {
    "name": "ipython",
    "version": 3
   },
   "file_extension": ".py",
   "mimetype": "text/x-python",
   "name": "python",
   "nbconvert_exporter": "python",
   "pygments_lexer": "ipython3",
   "version": "3.7.3"
  }
 },
 "nbformat": 4,
 "nbformat_minor": 2
}
