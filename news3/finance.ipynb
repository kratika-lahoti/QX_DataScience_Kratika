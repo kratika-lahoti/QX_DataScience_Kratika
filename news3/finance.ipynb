{
 "cells": [
  {
   "cell_type": "code",
   "execution_count": 37,
   "metadata": {},
   "outputs": [],
   "source": [
    "import re\n",
    "import pandas as pd\n",
    "from nltk.corpus import stopwords\n",
    "\n",
    "import numpy as np\n",
    "\n",
    "import nltk\n",
    "from sklearn.model_selection import train_test_split\n",
    "from sklearn.feature_extraction.text import CountVectorizer\n",
    "from sklearn.preprocessing import LabelEncoder\n",
    "from sklearn.feature_selection import VarianceThreshold\n",
    "from imblearn.over_sampling import SMOTE\n",
    "from sklearn.dummy import DummyClassifier\n",
    "from sklearn.naive_bayes import MultinomialNB\n",
    "from sklearn.tree import DecisionTreeClassifier\n",
    "from sklearn.neural_network import MLPClassifier\n",
    "from sklearn.ensemble import RandomForestClassifier\n",
    "from sklearn import metrics\n",
    "from sklearn.metrics import accuracy_score\n",
    "#from sklearn.model_selection import cross_val_score, KFold\n",
    "from sklearn.metrics import confusion_matrix\n",
    "from sklearn.metrics import classification_report"
   ]
  },
  {
   "cell_type": "code",
   "execution_count": 38,
   "metadata": {},
   "outputs": [
    {
     "data": {
      "text/html": [
       "<div>\n",
       "<style scoped>\n",
       "    .dataframe tbody tr th:only-of-type {\n",
       "        vertical-align: middle;\n",
       "    }\n",
       "\n",
       "    .dataframe tbody tr th {\n",
       "        vertical-align: top;\n",
       "    }\n",
       "\n",
       "    .dataframe thead th {\n",
       "        text-align: right;\n",
       "    }\n",
       "</style>\n",
       "<table border=\"1\" class=\"dataframe\">\n",
       "  <thead>\n",
       "    <tr style=\"text-align: right;\">\n",
       "      <th></th>\n",
       "      <th>Title</th>\n",
       "      <th>Body</th>\n",
       "      <th>Category</th>\n",
       "      <th>Old MegaCategory</th>\n",
       "      <th>MegaCategory</th>\n",
       "      <th>important</th>\n",
       "    </tr>\n",
       "  </thead>\n",
       "  <tbody>\n",
       "    <tr>\n",
       "      <th>0</th>\n",
       "      <td>JERA to acquire 49% of Reliances power project...</td>\n",
       "      <td>03 Sep 2019 12:27 PM BdST\\nUpdated:\\n03 Sep 20...</td>\n",
       "      <td>Received Private Funding- Alert me when any of...</td>\n",
       "      <td>Financial</td>\n",
       "      <td>Financial</td>\n",
       "      <td>others</td>\n",
       "    </tr>\n",
       "    <tr>\n",
       "      <th>1</th>\n",
       "      <td>CarDekho raises Series C funding of $110 M fro...</td>\n",
       "      <td>Automobile classified platform CarDekho has ra...</td>\n",
       "      <td>Received Private Funding- Alert me when any of...</td>\n",
       "      <td>Financial</td>\n",
       "      <td>Financial</td>\n",
       "      <td>others</td>\n",
       "    </tr>\n",
       "    <tr>\n",
       "      <th>2</th>\n",
       "      <td>IndusInd Bank promoters to pump Rs 2,700 crore...</td>\n",
       "      <td>The merger between IndusInd Bank and the micro...</td>\n",
       "      <td>Received Private Funding- Alert me when any of...</td>\n",
       "      <td>Financial</td>\n",
       "      <td>Financial</td>\n",
       "      <td>others</td>\n",
       "    </tr>\n",
       "    <tr>\n",
       "      <th>3</th>\n",
       "      <td>Business Briefs: Mahindra Partners Participate...</td>\n",
       "      <td>Mahindra Partners, the Incubation, Private Equ...</td>\n",
       "      <td>Received Private Funding- Alert me when any of...</td>\n",
       "      <td>Financial</td>\n",
       "      <td>Financial</td>\n",
       "      <td>others</td>\n",
       "    </tr>\n",
       "    <tr>\n",
       "      <th>4</th>\n",
       "      <td>Mitsubishi leads funding for off-grid power fi...</td>\n",
       "      <td>(You can enter multiple email addresses separa...</td>\n",
       "      <td>Received Private Funding- Alert me when any of...</td>\n",
       "      <td>Financial</td>\n",
       "      <td>Financial</td>\n",
       "      <td>others</td>\n",
       "    </tr>\n",
       "  </tbody>\n",
       "</table>\n",
       "</div>"
      ],
      "text/plain": [
       "                                               Title  \\\n",
       "0  JERA to acquire 49% of Reliances power project...   \n",
       "1  CarDekho raises Series C funding of $110 M fro...   \n",
       "2  IndusInd Bank promoters to pump Rs 2,700 crore...   \n",
       "3  Business Briefs: Mahindra Partners Participate...   \n",
       "4  Mitsubishi leads funding for off-grid power fi...   \n",
       "\n",
       "                                                Body  \\\n",
       "0  03 Sep 2019 12:27 PM BdST\\nUpdated:\\n03 Sep 20...   \n",
       "1  Automobile classified platform CarDekho has ra...   \n",
       "2  The merger between IndusInd Bank and the micro...   \n",
       "3  Mahindra Partners, the Incubation, Private Equ...   \n",
       "4  (You can enter multiple email addresses separa...   \n",
       "\n",
       "                                            Category Old MegaCategory  \\\n",
       "0  Received Private Funding- Alert me when any of...        Financial   \n",
       "1  Received Private Funding- Alert me when any of...        Financial   \n",
       "2  Received Private Funding- Alert me when any of...        Financial   \n",
       "3  Received Private Funding- Alert me when any of...        Financial   \n",
       "4  Received Private Funding- Alert me when any of...        Financial   \n",
       "\n",
       "  MegaCategory important  \n",
       "0    Financial    others  \n",
       "1    Financial    others  \n",
       "2    Financial    others  \n",
       "3    Financial    others  \n",
       "4    Financial    others  "
      ]
     },
     "execution_count": 38,
     "metadata": {},
     "output_type": "execute_result"
    }
   ],
   "source": [
    "news = pd.read_excel(\"C:\\\\Users\\\\Kratika\\\\Downloads\\\\finance_new.xlsx\")\n",
    "news.head()"
   ]
  },
  {
   "cell_type": "code",
   "execution_count": 39,
   "metadata": {},
   "outputs": [],
   "source": [
    "from nltk.tokenize import word_tokenize \n",
    "\n",
    "def remove_stop_words(data):\n",
    "    stop_words = set(stopwords.words('english'))\n",
    "    stop_words.union(['january','february','march','april','may','june','july','august','september','october','november','december'])\n",
    "    stop_words.union(['jan','feb','mar','apr','may','jun','jul','aug','sept','oct','nov','dec'])\n",
    "    stop_words.union(['monday', 'tuesday', 'wednesday', 'thursday','friday','saturday','sunday'])\n",
    "    stop_words.union(['am', 'pm'])\n",
    "    word_tokens = word_tokenize(data) \n",
    "    filtered_sentence = []\n",
    "    \n",
    "    for w in word_tokens: \n",
    "        if w.lower() not in stop_words: \n",
    "            filtered_sentence.append(w) \n",
    "    \n",
    "    return \" \".join(filtered_sentence)"
   ]
  },
  {
   "cell_type": "code",
   "execution_count": 40,
   "metadata": {},
   "outputs": [],
   "source": [
    "news['text'] = news.Title + \" \" + news.Body"
   ]
  },
  {
   "cell_type": "code",
   "execution_count": 41,
   "metadata": {},
   "outputs": [
    {
     "name": "stdout",
     "output_type": "stream",
     "text": [
      "shareholders : shareholder\n",
      "stocks : stock\n",
      "companys : company\n",
      "trading : trade\n",
      "weekly : week\n",
      "billion: billionaire\n",
      "high : higher\n",
      "close : closeed\n",
      "finance : financial\n",
      "biggest: high\n",
      "unit: unit\n",
      "protect: protection\n",
      "organisation: organised\n",
      "'company: 'companies\n",
      "better : good\n"
     ]
    }
   ],
   "source": [
    "# import these modules \n",
    "from nltk.stem import WordNetLemmatizer \n",
    "  \n",
    "lemmatizer = WordNetLemmatizer() \n",
    "  \n",
    "print(\"shareholders :\", lemmatizer.lemmatize(\"shareholder\")) \n",
    "print(\"stocks :\", lemmatizer.lemmatize(\"stock\")) \n",
    "print(\"companys :\", lemmatizer.lemmatize(\"company\")) \n",
    "print(\"trading :\", lemmatizer.lemmatize(\"trade\")) \n",
    "print(\"weekly :\", lemmatizer.lemmatize(\"week\")) \n",
    "print(\"billion:\", lemmatizer.lemmatize(\"billionaire\")) \n",
    "print(\"high :\", lemmatizer.lemmatize(\"higher\")) \n",
    "print(\"close :\", lemmatizer.lemmatize(\"closeed\")) \n",
    "print(\"finance :\", lemmatizer.lemmatize(\"financial\")) \n",
    "print(\"biggest:\", lemmatizer.lemmatize(\"high\")) \n",
    "print(\"unit:\", lemmatizer.lemmatize(\"units\")) \n",
    "print(\"protect:\", lemmatizer.lemmatize(\"protection\")) \n",
    "print(\"organisation:\", lemmatizer.lemmatize(\"organised\")) \n",
    "print(\"'company:\", lemmatizer.lemmatize(\"'companies\")) \n",
    "# a denotes adjective in \"pos\" \n",
    "print(\"better :\", lemmatizer.lemmatize(\"better\", pos =\"a\"))"
   ]
  },
  {
   "cell_type": "code",
   "execution_count": 42,
   "metadata": {},
   "outputs": [],
   "source": [
    " news['text'] = news['text'].apply(lemmatizer.lemmatize)"
   ]
  },
  {
   "cell_type": "code",
   "execution_count": 43,
   "metadata": {},
   "outputs": [],
   "source": [
    "\n",
    "news['clean_title'] = news['Title'].apply(remove_stop_words)\n",
    "news['clean_body'] = news['Body'].apply(remove_stop_words)\n",
    "\n",
    "news['clean_text'] = news['text'].apply(remove_stop_words) \n",
    "\n",
    "#remove_stop_words_Body\n"
   ]
  },
  {
   "cell_type": "code",
   "execution_count": 44,
   "metadata": {},
   "outputs": [
    {
     "name": "stdout",
     "output_type": "stream",
     "text": [
      "\n",
      "Splitting data\n",
      "Training:  199\n",
      "Testing:  25\n"
     ]
    }
   ],
   "source": [
    "# ## Split data\n",
    "print(\"\\nSplitting data\")\n",
    "\n",
    "title_tr, title_te, MegaCategory_tr, MegaCategory_te = train_test_split(news['clean_text'], news.important,test_size =.1)\n",
    "title_tr, title_de, MegaCategory_tr , MegaCategory_de = train_test_split(title_tr,MegaCategory_tr,test_size =.1)\n",
    "\n",
    "\n",
    "print(\"Training: \",len(title_tr))\n",
    "\n",
    "print(\"Testing: \",len(title_te))"
   ]
  },
  {
   "cell_type": "code",
   "execution_count": 45,
   "metadata": {},
   "outputs": [
    {
     "name": "stdout",
     "output_type": "stream",
     "text": [
      "\n",
      "Vectorizing data\n"
     ]
    }
   ],
   "source": [
    "from sklearn.preprocessing import LabelEncoder\n",
    "\n",
    "# # Data Preprocessing\n",
    "# ## Vectorization of data\n",
    "# Vectorize the data using Bag of words (BOW)\n",
    "print(\"\\nVectorizing data\")\n",
    "tokenizer = nltk.tokenize.RegexpTokenizer(r\"\\w+\")\n",
    "stop_words = nltk.corpus.stopwords.words(\"english\")\n",
    "vectorizer = CountVectorizer(tokenizer=tokenizer.tokenize, stop_words=stop_words)\n",
    "\n",
    "vectorizer.fit(iter(title_tr))\n",
    "Xtr = vectorizer.transform(iter(title_tr))\n",
    "Xde = vectorizer.transform(iter(title_de))\n",
    "Xte = vectorizer.transform(iter(title_te))\n",
    "\n",
    "encoder = LabelEncoder()\n",
    "encoder.fit(MegaCategory_tr)\n",
    "Ytr = encoder.transform(MegaCategory_tr)\n",
    "Yde = encoder.transform(MegaCategory_de)\n",
    "Yte = encoder.transform(MegaCategory_te)"
   ]
  },
  {
   "cell_type": "code",
   "execution_count": 46,
   "metadata": {},
   "outputs": [
    {
     "name": "stdout",
     "output_type": "stream",
     "text": [
      "[0 4 0 4 2 1 4 0 0 1 0 5 1 0 2 1 0 4 4 0 0 4 5 2 3 0 4 5 0 0 2 2 5 1 3 0 5\n",
      " 4 3 4 0 5 0 2 4 4 2 4 0 0 0 2 0 2 3 1 3 4 0 0 2 4 0 4 0 3 5 3 4 0 0 3 4 4\n",
      " 0 3 0 4 0 4 0 4 3 0 1 2 2 4 1 3 0 0 4 2 4 3 5 3 1 5 3 4 0 3 0 4 2 0 4 1 2\n",
      " 0 3 2 5 4 4 0 0 3 4 3 0 2 3 2 0 2 0 4 1 4 4 4 4 4 2 1 4 2 0 1 3 4 1 0 0 0\n",
      " 0 0 0 0 4 3 3 0 4 0 4 3 1 4 4 0 1 1 2 0 1 2 4 2 0 0 3 5 3 3 5 4 3 1 0 4 1\n",
      " 4 4 4 5 5 5 4 0 0 4 5 4 4 0]\n"
     ]
    }
   ],
   "source": [
    "print(Ytr)"
   ]
  },
  {
   "cell_type": "code",
   "execution_count": 47,
   "metadata": {},
   "outputs": [
    {
     "data": {
      "text/plain": [
       "<199x3207 sparse matrix of type '<class 'numpy.int64'>'\n",
       "\twith 9449 stored elements in Compressed Sparse Row format>"
      ]
     },
     "execution_count": 47,
     "metadata": {},
     "output_type": "execute_result"
    }
   ],
   "source": [
    "Xtr"
   ]
  },
  {
   "cell_type": "code",
   "execution_count": 48,
   "metadata": {},
   "outputs": [
    {
     "name": "stdout",
     "output_type": "stream",
     "text": [
      "\n",
      "\n",
      "Training baseline classifier\n"
     ]
    }
   ],
   "source": [
    "# # Train Models\n",
    "# ### Baseline Model\n",
    "# “stratified”: generates predictions by respecting the training set’s class distribution.\n",
    "print(\"\\n\\nTraining baseline classifier\")\n",
    "dc = DummyClassifier(strategy=\"stratified\")\n",
    "dc.fit(Xtr, Ytr)\n",
    "\n",
    "dc_pred = dc.predict(Xde)"
   ]
  },
  {
   "cell_type": "code",
   "execution_count": 49,
   "metadata": {},
   "outputs": [
    {
     "name": "stdout",
     "output_type": "stream",
     "text": [
      "                                           precision    recall  f1-score   support\n",
      "\n",
      "              Acquisition or Stake Change       0.50      0.50      0.50         8\n",
      "                    Company Share Related       0.33      0.20      0.25         5\n",
      "                           Debt Financing       0.50      0.50      0.50         8\n",
      "Merger, Restructuring or Ownership Change       0.33      0.20      0.25         5\n",
      "          Research House or Rating Agency       0.20      0.25      0.22         4\n",
      "                                   others       0.00      0.00      0.00         2\n",
      "\n",
      "                                 accuracy                           0.38       959\n",
      "                                macro avg       0.39      0.34      0.35       959\n",
      "                             weighted avg       0.41      0.37      0.38       959\n",
      "\n",
      "Accuracy achieved is 0.34782608695652173\n"
     ]
    },
    {
     "name": "stderr",
     "output_type": "stream",
     "text": [
      "C:\\ProgramData\\Anaconda3\\lib\\site-packages\\sklearn\\metrics\\classification.py:1870: UserWarning: labels size, 199, does not match size of target_names, 6\n",
      "  .format(len(labels), len(target_names))\n"
     ]
    }
   ],
   "source": [
    "print(classification_report(Yde, dc_pred, labels=Ytr ,target_names=encoder.classes_))\n",
    "print('Accuracy achieved is ' + str(np.mean(dc_pred == Yde)))"
   ]
  },
  {
   "cell_type": "code",
   "execution_count": 50,
   "metadata": {},
   "outputs": [
    {
     "name": "stdout",
     "output_type": "stream",
     "text": [
      "Training Decision tree\n",
      "                                           precision    recall  f1-score   support\n",
      "\n",
      "              Acquisition or Stake Change       0.71      0.62      0.67         8\n",
      "                    Company Share Related       0.67      0.80      0.73         5\n",
      "                           Debt Financing       0.71      0.62      0.67         8\n",
      "Merger, Restructuring or Ownership Change       0.67      0.80      0.73         5\n",
      "          Research House or Rating Agency       0.33      0.25      0.29         4\n",
      "                                   others       0.67      1.00      0.80         2\n",
      "\n",
      "                                 accuracy                           0.67       959\n",
      "                                macro avg       0.67      0.70      0.67       959\n",
      "                             weighted avg       0.67      0.67      0.66       959\n",
      "\n",
      "Accuracy achieved is 0.6521739130434783\n"
     ]
    },
    {
     "name": "stderr",
     "output_type": "stream",
     "text": [
      "C:\\ProgramData\\Anaconda3\\lib\\site-packages\\sklearn\\metrics\\classification.py:1870: UserWarning: labels size, 199, does not match size of target_names, 6\n",
      "  .format(len(labels), len(target_names))\n"
     ]
    }
   ],
   "source": [
    "\n",
    "# ### Decision Tree\n",
    "print(\"Training Decision tree\")\n",
    "dt = DecisionTreeClassifier()\n",
    "dt.fit(Xtr, Ytr)\n",
    "dt_pred = dt.predict(Xde)\n",
    "print(classification_report(Yde, dt_pred, labels=Ytr ,target_names=encoder.classes_))\n",
    "print('Accuracy achieved is ' + str(np.mean(dt_pred == Yde)))"
   ]
  },
  {
   "cell_type": "code",
   "execution_count": 51,
   "metadata": {},
   "outputs": [
    {
     "name": "stdout",
     "output_type": "stream",
     "text": [
      "Training Random Forest\n",
      "                                           precision    recall  f1-score   support\n",
      "\n",
      "              Acquisition or Stake Change       0.50      0.88      0.64         8\n",
      "                    Company Share Related       0.75      0.60      0.67         5\n",
      "                           Debt Financing       0.50      0.88      0.64         8\n",
      "Merger, Restructuring or Ownership Change       0.75      0.60      0.67         5\n",
      "          Research House or Rating Agency       0.00      0.00      0.00         4\n",
      "                                   others       1.00      1.00      1.00         2\n",
      "\n",
      "                                 accuracy                           0.63       959\n",
      "                                macro avg       0.58      0.66      0.60       959\n",
      "                             weighted avg       0.55      0.69      0.60       959\n",
      "\n",
      "Accuracy achieved is 0.6086956521739131\n"
     ]
    },
    {
     "name": "stderr",
     "output_type": "stream",
     "text": [
      "C:\\ProgramData\\Anaconda3\\lib\\site-packages\\sklearn\\metrics\\classification.py:1870: UserWarning: labels size, 199, does not match size of target_names, 6\n",
      "  .format(len(labels), len(target_names))\n",
      "C:\\ProgramData\\Anaconda3\\lib\\site-packages\\sklearn\\metrics\\classification.py:1437: UndefinedMetricWarning: Precision and F-score are ill-defined and being set to 0.0 in labels with no predicted samples.\n",
      "  'precision', 'predicted', average, warn_for)\n"
     ]
    }
   ],
   "source": [
    "# ### Random Forest\n",
    "print(\"Training Random Forest\")\n",
    "rf = RandomForestClassifier(n_estimators=40)\n",
    "rf.fit(Xtr, Ytr)\n",
    "pred = rf.predict(Xde)\n",
    "print(classification_report(Yde, pred, labels=Ytr ,target_names=encoder.classes_))\n",
    "print('Accuracy achieved is ' + str(np.mean(pred == Yde)))"
   ]
  },
  {
   "cell_type": "code",
   "execution_count": 52,
   "metadata": {},
   "outputs": [
    {
     "name": "stdout",
     "output_type": "stream",
     "text": [
      "Training Multinomial Naive Bayesian\n",
      "                                           precision    recall  f1-score   support\n",
      "\n",
      "              Acquisition or Stake Change       1.00      1.00      1.00         8\n",
      "                    Company Share Related       0.67      0.80      0.73         5\n",
      "                           Debt Financing       1.00      1.00      1.00         8\n",
      "Merger, Restructuring or Ownership Change       0.67      0.80      0.73         5\n",
      "          Research House or Rating Agency       1.00      0.75      0.86         4\n",
      "                                   others       0.50      1.00      0.67         2\n",
      "\n",
      "                                 accuracy                           0.87       959\n",
      "                                macro avg       0.78      0.84      0.80       959\n",
      "                             weighted avg       0.85      0.89      0.86       959\n",
      "\n",
      "Accuracy achieved is 0.8260869565217391\n"
     ]
    },
    {
     "name": "stderr",
     "output_type": "stream",
     "text": [
      "C:\\ProgramData\\Anaconda3\\lib\\site-packages\\sklearn\\metrics\\classification.py:1870: UserWarning: labels size, 199, does not match size of target_names, 6\n",
      "  .format(len(labels), len(target_names))\n",
      "C:\\ProgramData\\Anaconda3\\lib\\site-packages\\sklearn\\metrics\\classification.py:1437: UndefinedMetricWarning: Precision and F-score are ill-defined and being set to 0.0 in labels with no predicted samples.\n",
      "  'precision', 'predicted', average, warn_for)\n"
     ]
    }
   ],
   "source": [
    "\n",
    "# ### Multinomial Naive Bayesian\n",
    "print(\"Training Multinomial Naive Bayesian\")\n",
    "nb = MultinomialNB()\n",
    "nb.fit(Xtr, Ytr)\n",
    "pred_nb = nb.predict(Xde)\n",
    "print(classification_report(Yde, pred_nb, labels=Ytr ,target_names=encoder.classes_))\n",
    "print('Accuracy achieved is ' + str(np.mean(pred_nb == Yde)))"
   ]
  },
  {
   "cell_type": "code",
   "execution_count": 53,
   "metadata": {},
   "outputs": [
    {
     "name": "stdout",
     "output_type": "stream",
     "text": [
      "Training Support Vector Classification\n",
      "                                           precision    recall  f1-score   support\n",
      "\n",
      "              Acquisition or Stake Change       0.35      1.00      0.52         8\n",
      "                    Company Share Related       0.00      0.00      0.00         5\n",
      "                           Debt Financing       0.35      1.00      0.52         8\n",
      "Merger, Restructuring or Ownership Change       0.00      0.00      0.00         5\n",
      "          Research House or Rating Agency       0.00      0.00      0.00         4\n",
      "                                   others       0.00      0.00      0.00         2\n",
      "\n",
      "                                 accuracy                           0.41       959\n",
      "                                macro avg       0.10      0.30      0.15       959\n",
      "                             weighted avg       0.17      0.49      0.25       959\n",
      "\n",
      "Accuracy achieved is 0.34782608695652173\n"
     ]
    },
    {
     "name": "stderr",
     "output_type": "stream",
     "text": [
      "C:\\ProgramData\\Anaconda3\\lib\\site-packages\\sklearn\\svm\\base.py:193: FutureWarning: The default value of gamma will change from 'auto' to 'scale' in version 0.22 to account better for unscaled features. Set gamma explicitly to 'auto' or 'scale' to avoid this warning.\n",
      "  \"avoid this warning.\", FutureWarning)\n",
      "C:\\ProgramData\\Anaconda3\\lib\\site-packages\\sklearn\\metrics\\classification.py:1870: UserWarning: labels size, 199, does not match size of target_names, 6\n",
      "  .format(len(labels), len(target_names))\n",
      "C:\\ProgramData\\Anaconda3\\lib\\site-packages\\sklearn\\metrics\\classification.py:1437: UndefinedMetricWarning: Precision and F-score are ill-defined and being set to 0.0 in labels with no predicted samples.\n",
      "  'precision', 'predicted', average, warn_for)\n"
     ]
    }
   ],
   "source": [
    "# ### Support Vector Classification\n",
    "print(\"Training Support Vector Classification\")\n",
    "from sklearn.svm import SVC\n",
    "svc = SVC()\n",
    "svc.fit(Xtr, Ytr)\n",
    "svc_pred = svc.predict(Xde)\n",
    "print(classification_report(Yde, svc_pred, labels=Ytr ,target_names=encoder.classes_))\n",
    "print('Accuracy achieved is ' + str(np.mean(svc_pred == Yde)))"
   ]
  },
  {
   "cell_type": "code",
   "execution_count": 55,
   "metadata": {},
   "outputs": [
    {
     "name": "stdout",
     "output_type": "stream",
     "text": [
      "Training Multilayered Perceptron\n",
      "                                           precision    recall  f1-score   support\n",
      "\n",
      "              Acquisition or Stake Change       1.00      0.88      0.93         8\n",
      "                    Company Share Related       0.62      1.00      0.77         5\n",
      "                           Debt Financing       1.00      0.88      0.93         8\n",
      "Merger, Restructuring or Ownership Change       0.62      1.00      0.77         5\n",
      "          Research House or Rating Agency       1.00      0.50      0.67         4\n",
      "                                   others       0.67      1.00      0.80         2\n",
      "\n",
      "                                 accuracy                           0.83       959\n",
      "                                macro avg       0.79      0.82      0.78       959\n",
      "                             weighted avg       0.85      0.86      0.83       959\n",
      "\n",
      "Accuracy achieved is 0.782608695652174\n"
     ]
    },
    {
     "name": "stderr",
     "output_type": "stream",
     "text": [
      "C:\\ProgramData\\Anaconda3\\lib\\site-packages\\sklearn\\metrics\\classification.py:1870: UserWarning: labels size, 199, does not match size of target_names, 6\n",
      "  .format(len(labels), len(target_names))\n"
     ]
    }
   ],
   "source": [
    "# ### Multilayered Perceptron\n",
    "print(\"Training Multilayered Perceptron\")\n",
    "mlp = MLPClassifier(solver='adam', alpha=1e-5, hidden_layer_sizes=(100, 20), random_state=1, max_iter=400)\n",
    "mlp.fit(Xtr, Ytr)\n",
    "mlp_pred = mlp.predict(Xde)\n",
    "print(classification_report(Yde, mlp_pred, labels=Ytr ,target_names=encoder.classes_))\n",
    "print('Accuracy achieved is ' + str(np.mean(mlp_pred == Yde)))"
   ]
  },
  {
   "cell_type": "code",
   "execution_count": 56,
   "metadata": {},
   "outputs": [
    {
     "name": "stdout",
     "output_type": "stream",
     "text": [
      "Accuracy achieved is 0.34782608695652173\n",
      "Accuracy achieved is 0.6521739130434783\n",
      "Accuracy achieved is 0.8260869565217391\n",
      "Accuracy achieved is 0.34782608695652173\n",
      "Accuracy achieved is 0.782608695652174\n"
     ]
    }
   ],
   "source": [
    "print('Accuracy achieved is ' + str(np.mean(dc_pred   == Yde)))\n",
    "print('Accuracy achieved is ' + str(np.mean(dt_pred   == Yde)))\n",
    "print('Accuracy achieved is ' + str(np.mean(pred_nb   == Yde)))\n",
    "print('Accuracy achieved is ' + str(np.mean(svc_pred  == Yde)))\n",
    "print('Accuracy achieved is ' + str(np.mean(mlp_pred  == Yde)))"
   ]
  },
  {
   "cell_type": "code",
   "execution_count": 57,
   "metadata": {},
   "outputs": [
    {
     "name": "stdout",
     "output_type": "stream",
     "text": [
      "\n",
      "\n",
      "Predicting test data using Multilayered Perceptron\n",
      "                                           precision    recall  f1-score   support\n",
      "\n",
      "              Acquisition or Stake Change       0.82      1.00      0.90         9\n",
      "                    Company Share Related       1.00      0.86      0.92         7\n",
      "                           Debt Financing       0.82      1.00      0.90         9\n",
      "Merger, Restructuring or Ownership Change       1.00      0.86      0.92         7\n",
      "          Research House or Rating Agency       0.67      1.00      0.80         2\n",
      "                                   others       1.00      0.50      0.67         2\n",
      "\n",
      "                                 accuracy                           0.88      1114\n",
      "                                macro avg       0.79      0.80      0.78      1114\n",
      "                             weighted avg       0.86      0.90      0.87      1114\n",
      "\n",
      "Accuracy achieved is 0.84\n"
     ]
    },
    {
     "name": "stderr",
     "output_type": "stream",
     "text": [
      "C:\\ProgramData\\Anaconda3\\lib\\site-packages\\sklearn\\metrics\\classification.py:1437: UndefinedMetricWarning: Precision and F-score are ill-defined and being set to 0.0 in labels with no predicted samples.\n",
      "  'precision', 'predicted', average, warn_for)\n"
     ]
    }
   ],
   "source": [
    "# # Final Model: Multilayered Perceptron\n",
    "# ## Predict test data\n",
    "print(\"\\n\\nPredicting test data using Multilayered Perceptron\")\n",
    "pred_final = mlp.predict(Xte)\n",
    "print(classification_report(Yte, pred_final, labels=Ytr ,target_names=encoder.classes_))\n",
    "print('Accuracy achieved is ' + str(accuracy_score(Yte,pred_final)))"
   ]
  },
  {
   "cell_type": "code",
   "execution_count": 58,
   "metadata": {},
   "outputs": [],
   "source": [
    "output = {\"title\":vectorizer.inverse_transform(Xte), \"predicted\":encoder.inverse_transform(pred_final),\"actual\": encoder.inverse_transform(Yte)}"
   ]
  },
  {
   "cell_type": "code",
   "execution_count": 59,
   "metadata": {},
   "outputs": [],
   "source": [
    "#df = pd.DataFrame(output, columns=[\"title\",\"predicted\",\"actual\"])\n",
    "#df.to_csv(\"C:\\\\Users\\\\Kratika\\\\Downloads\\\\News333_title_predication_1.csv\")"
   ]
  },
  {
   "cell_type": "code",
   "execution_count": 60,
   "metadata": {},
   "outputs": [
    {
     "name": "stdout",
     "output_type": "stream",
     "text": [
      "Accuracy achieved is 0.84\n"
     ]
    }
   ],
   "source": [
    "pred_final = mlp.predict(Xte)\n",
    "print('Accuracy achieved is ' + str(np.mean(pred_final == Yte)))\n",
    "output = {\"text\":vectorizer.inverse_transform(Xte), \"predicted\":encoder.inverse_transform(pred_final),\"actual\": encoder.inverse_transform(Yte)}\n",
    "df = pd.DataFrame(output, columns=[\"text\",\"predicted\",\"actual\"])\n"
   ]
  },
  {
   "cell_type": "code",
   "execution_count": 61,
   "metadata": {},
   "outputs": [],
   "source": [
    "df = pd.DataFrame(output, columns=[\"text\",\"predicted\",\"actual\"])\n",
    "df.to_csv(\"C:\\\\Users\\\\Kratika\\\\Downloads\\\\old.csv\")"
   ]
  },
  {
   "cell_type": "code",
   "execution_count": null,
   "metadata": {},
   "outputs": [],
   "source": []
  },
  {
   "cell_type": "code",
   "execution_count": 62,
   "metadata": {},
   "outputs": [],
   "source": [
    "import pickle\n",
    "from sklearn.feature_extraction.text import CountVectorizer\n",
    "\n",
    "\n",
    "#GET VECTOR COUNT\n",
    "count_vect = CountVectorizer()\n",
    "X_train_counts = count_vect.fit_transform(news.clean_text)\n",
    "\n",
    "#SAVE WORD VECTOR\n",
    "pickle.dump(count_vect.vocabulary_, open(\"count_vector.pkl\",\"wb\"))"
   ]
  },
  {
   "cell_type": "code",
   "execution_count": 63,
   "metadata": {},
   "outputs": [
    {
     "data": {
      "text/plain": [
       "<247x3529 sparse matrix of type '<class 'numpy.int64'>'\n",
       "\twith 11052 stored elements in Compressed Sparse Row format>"
      ]
     },
     "execution_count": 63,
     "metadata": {},
     "output_type": "execute_result"
    }
   ],
   "source": [
    "X_train_counts"
   ]
  },
  {
   "cell_type": "code",
   "execution_count": 64,
   "metadata": {},
   "outputs": [],
   "source": [
    "from sklearn.feature_extraction.text import TfidfTransformer\n",
    "\n",
    "#TRANSFORM WORD VECTOR TO TF IDF\n",
    "tfidf_transformer = TfidfTransformer()\n",
    "X_train_tfidf = tfidf_transformer.fit_transform(X_train_counts)\n",
    "\n",
    "#SAVE TF-IDF\n",
    "pickle.dump(tfidf_transformer, open(\"tfidf.pkl\",\"wb\"))\n"
   ]
  },
  {
   "cell_type": "code",
   "execution_count": 65,
   "metadata": {},
   "outputs": [
    {
     "data": {
      "text/plain": [
       "<247x3529 sparse matrix of type '<class 'numpy.float64'>'\n",
       "\twith 11052 stored elements in Compressed Sparse Row format>"
      ]
     },
     "execution_count": 65,
     "metadata": {},
     "output_type": "execute_result"
    }
   ],
   "source": [
    "X_train_tfidf"
   ]
  },
  {
   "cell_type": "code",
   "execution_count": 66,
   "metadata": {},
   "outputs": [
    {
     "name": "stderr",
     "output_type": "stream",
     "text": [
      "C:\\ProgramData\\Anaconda3\\lib\\site-packages\\sklearn\\neural_network\\multilayer_perceptron.py:566: ConvergenceWarning: Stochastic Optimizer: Maximum iterations (200) reached and the optimization hasn't converged yet.\n",
      "  % self.max_iter, ConvergenceWarning)\n"
     ]
    },
    {
     "data": {
      "text/plain": [
       "MLPClassifier(activation='relu', alpha=1e-05, batch_size='auto', beta_1=0.9,\n",
       "              beta_2=0.999, early_stopping=False, epsilon=1e-08,\n",
       "              hidden_layer_sizes=(15,), learning_rate='constant',\n",
       "              learning_rate_init=0.001, max_iter=200, momentum=0.9,\n",
       "              n_iter_no_change=10, nesterovs_momentum=True, power_t=0.5,\n",
       "              random_state=1, shuffle=True, solver='sgd', tol=0.0001,\n",
       "              validation_fraction=0.1, verbose=False, warm_start=False)"
      ]
     },
     "execution_count": 66,
     "metadata": {},
     "output_type": "execute_result"
    }
   ],
   "source": [
    "from sklearn.neural_network import MLPClassifier\n",
    "\n",
    "#mlp =       MLPClassifier(solver='adam',  alpha=1e-5, hidden_layer_sizes=(100, 20), random_state=1, max_iter=400)\n",
    "#clf_neural = MLPClassifier(solver='lbfgs', alpha=1e-5, hidden_layer_sizes=(15,), random_state=1)\n",
    "clf_neural = MLPClassifier(solver='sgd', alpha=1e-5, hidden_layer_sizes=(15,), random_state=1)\n",
    "#clf_neural = MLPClassifier(hidden_layer_sizes=(100, ), activation=’relu’, solver=’adam’, alpha=0.0001, batch_size=’auto’, learning_rate=’constant’, learning_rate_init=0.001, power_t=0.5, max_iter=200, shuffle=True, random_state=None, tol=0.0001, verbose=False, warm_start=False, momentum=0.9, nesterovs_momentum=True, early_stopping=False, validation_fraction=0.1, beta_1=0.9, beta_2=0.999, epsilon=1e-08, n_iter_no_change=10)\n",
    "X_train, X_test, y_train, y_test = train_test_split(X_train_tfidf, news.important, test_size=0.25, random_state=42)\n",
    "\n",
    "clf_neural.fit(X_train, y_train)\n"
   ]
  },
  {
   "cell_type": "code",
   "execution_count": 67,
   "metadata": {},
   "outputs": [
    {
     "name": "stdout",
     "output_type": "stream",
     "text": [
      "Accuracy achieved is 0.24193548387096775\n"
     ]
    }
   ],
   "source": [
    "predicted = clf_neural.predict(X_test)\n",
    "print('Accuracy achieved is ' + str(np.mean(predicted == y_test)))\n"
   ]
  },
  {
   "cell_type": "code",
   "execution_count": 68,
   "metadata": {},
   "outputs": [
    {
     "name": "stdout",
     "output_type": "stream",
     "text": [
      "                                           precision    recall  f1-score   support\n",
      "\n",
      "              Acquisition or Stake Change       0.24      1.00      0.39        15\n",
      "                    Company Share Related       0.00      0.00      0.00         8\n",
      "                           Debt Financing       0.00      0.00      0.00         6\n",
      "Merger, Restructuring or Ownership Change       0.00      0.00      0.00        10\n",
      "          Research House or Rating Agency       0.00      0.00      0.00        17\n",
      "                                   others       0.00      0.00      0.00         6\n",
      "\n",
      "                                 accuracy                           0.24        62\n",
      "                                macro avg       0.04      0.17      0.06        62\n",
      "                             weighted avg       0.06      0.24      0.09        62\n",
      "\n"
     ]
    },
    {
     "name": "stderr",
     "output_type": "stream",
     "text": [
      "C:\\ProgramData\\Anaconda3\\lib\\site-packages\\sklearn\\metrics\\classification.py:1437: UndefinedMetricWarning: Precision and F-score are ill-defined and being set to 0.0 in labels with no predicted samples.\n",
      "  'precision', 'predicted', average, warn_for)\n"
     ]
    }
   ],
   "source": [
    "print(classification_report(y_test, predicted))"
   ]
  },
  {
   "cell_type": "code",
   "execution_count": 88,
   "metadata": {},
   "outputs": [
    {
     "name": "stdout",
     "output_type": "stream",
     "text": [
      "                                           precision    recall  f1-score   support\n",
      "\n",
      "              Acquisition or Stake Change       0.78      0.93      0.85        15\n",
      "                    Company Share Related       1.00      0.62      0.77         8\n",
      "                           Debt Financing       0.75      1.00      0.86         6\n",
      "Merger, Restructuring or Ownership Change       0.89      0.80      0.84        10\n",
      "          Research House or Rating Agency       0.85      1.00      0.92        17\n",
      "                                   others       0.50      0.17      0.25         6\n",
      "\n",
      "                                 accuracy                           0.82        62\n",
      "                                macro avg       0.79      0.75      0.75        62\n",
      "                             weighted avg       0.81      0.82      0.80        62\n",
      "\n",
      "Accuracy achieved is 0.8225806451612904\n"
     ]
    }
   ],
   "source": [
    "mlp = MLPClassifier(solver='adam', alpha=1e-5, hidden_layer_sizes=(100,), activation='relu', random_state=1, max_iter=400)\n",
    "\n",
    "mlp.fit(X_train, y_train)\n",
    "mlp_pred = mlp.predict(X_test)  \n",
    "print(classification_report(y_test, mlp_pred))\n",
    "print('Accuracy achieved is ' + str(np.mean(mlp_pred == y_test)))"
   ]
  },
  {
   "cell_type": "code",
   "execution_count": null,
   "metadata": {},
   "outputs": [],
   "source": []
  }
 ],
 "metadata": {
  "kernelspec": {
   "display_name": "Python 3",
   "language": "python",
   "name": "python3"
  },
  "language_info": {
   "codemirror_mode": {
    "name": "ipython",
    "version": 3
   },
   "file_extension": ".py",
   "mimetype": "text/x-python",
   "name": "python",
   "nbconvert_exporter": "python",
   "pygments_lexer": "ipython3",
   "version": "3.7.3"
  }
 },
 "nbformat": 4,
 "nbformat_minor": 2
}
