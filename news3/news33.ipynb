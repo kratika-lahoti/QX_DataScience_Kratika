{
 "cells": [
  {
   "cell_type": "code",
   "execution_count": 125,
   "metadata": {},
   "outputs": [],
   "source": [
    "import re\n",
    "import pandas as pd\n",
    "from nltk.corpus import stopwords\n",
    "\n",
    "import copy\n",
    "import numpy as np\n",
    "\n",
    "import nltk\n",
    "from sklearn.model_selection import train_test_split\n",
    "from sklearn.feature_extraction.text import CountVectorizer\n",
    "from sklearn.preprocessing import LabelEncoder\n",
    "from sklearn.feature_selection import VarianceThreshold\n",
    "from imblearn.over_sampling import SMOTE\n",
    "from sklearn.dummy import DummyClassifier\n",
    "from sklearn.naive_bayes import MultinomialNB\n",
    "from sklearn.tree import DecisionTreeClassifier\n",
    "from sklearn.neural_network import MLPClassifier\n",
    "from sklearn.ensemble import RandomForestClassifier\n",
    "from sklearn import metrics\n",
    "from sklearn.metrics import accuracy_score\n",
    "#from sklearn.model_selection import cross_val_score, KFold\n",
    "from sklearn.metrics import confusion_matrix\n",
    "from sklearn.metrics import classification_report"
   ]
  },
  {
   "cell_type": "code",
   "execution_count": 126,
   "metadata": {},
   "outputs": [
    {
     "data": {
      "text/html": [
       "<div>\n",
       "<style scoped>\n",
       "    .dataframe tbody tr th:only-of-type {\n",
       "        vertical-align: middle;\n",
       "    }\n",
       "\n",
       "    .dataframe tbody tr th {\n",
       "        vertical-align: top;\n",
       "    }\n",
       "\n",
       "    .dataframe thead th {\n",
       "        text-align: right;\n",
       "    }\n",
       "</style>\n",
       "<table border=\"1\" class=\"dataframe\">\n",
       "  <thead>\n",
       "    <tr style=\"text-align: right;\">\n",
       "      <th></th>\n",
       "      <th>Title</th>\n",
       "      <th>Body</th>\n",
       "      <th>Category</th>\n",
       "      <th>Old MegaCategory</th>\n",
       "      <th>MegaCategory</th>\n",
       "      <th>important</th>\n",
       "      <th>Unnamed: 6</th>\n",
       "      <th>Unnamed: 7</th>\n",
       "      <th>Unnamed: 8</th>\n",
       "      <th>Unnamed: 9</th>\n",
       "      <th>Unnamed: 10</th>\n",
       "      <th>Unnamed: 11</th>\n",
       "      <th>Unnamed: 12</th>\n",
       "      <th>Unnamed: 13</th>\n",
       "      <th>Unnamed: 14</th>\n",
       "      <th>Unnamed: 15</th>\n",
       "    </tr>\n",
       "  </thead>\n",
       "  <tbody>\n",
       "    <tr>\n",
       "      <th>0</th>\n",
       "      <td>BS-VI transition may lead to dumping of old st...</td>\n",
       "      <td>BS-VI transition may lead to dumping of old st...</td>\n",
       "      <td>Annual Report - Comments made in the Annual Re...</td>\n",
       "      <td>Financial</td>\n",
       "      <td>Financial</td>\n",
       "      <td>Financial</td>\n",
       "      <td>NaN</td>\n",
       "      <td>NaN</td>\n",
       "      <td>NaN</td>\n",
       "      <td>NaN</td>\n",
       "      <td>NaN</td>\n",
       "      <td>NaN</td>\n",
       "      <td>NaN</td>\n",
       "      <td>NaN</td>\n",
       "      <td>NaN</td>\n",
       "      <td>NaN</td>\n",
       "    </tr>\n",
       "    <tr>\n",
       "      <th>1</th>\n",
       "      <td>Annual Report 2016-2017 of Bajaj Finserv Limited</td>\n",
       "      <td>It is a broadly described annual report of Baj...</td>\n",
       "      <td>Annual Report - Comments made in the Annual Re...</td>\n",
       "      <td>Financial</td>\n",
       "      <td>Financial</td>\n",
       "      <td>Financial</td>\n",
       "      <td>NaN</td>\n",
       "      <td>NaN</td>\n",
       "      <td>NaN</td>\n",
       "      <td>NaN</td>\n",
       "      <td>NaN</td>\n",
       "      <td>NaN</td>\n",
       "      <td>NaN</td>\n",
       "      <td>NaN</td>\n",
       "      <td>NaN</td>\n",
       "      <td>NaN</td>\n",
       "    </tr>\n",
       "    <tr>\n",
       "      <th>2</th>\n",
       "      <td>Annual Report 2017-2018 of Eicher Motors Limit...</td>\n",
       "      <td>It is a broadly described annual report of\\nEi...</td>\n",
       "      <td>Annual Report - Comments made in the Annual Re...</td>\n",
       "      <td>Financial</td>\n",
       "      <td>Financial</td>\n",
       "      <td>Financial</td>\n",
       "      <td>NaN</td>\n",
       "      <td>NaN</td>\n",
       "      <td>NaN</td>\n",
       "      <td>NaN</td>\n",
       "      <td>NaN</td>\n",
       "      <td>NaN</td>\n",
       "      <td>NaN</td>\n",
       "      <td>NaN</td>\n",
       "      <td>NaN</td>\n",
       "      <td>NaN</td>\n",
       "    </tr>\n",
       "    <tr>\n",
       "      <th>3</th>\n",
       "      <td>Hindalco Industries : Chairman Kumar Mangalam ...</td>\n",
       "      <td>(You can enter multiple email addresses separa...</td>\n",
       "      <td>Annual Report - Comments made in the Annual Re...</td>\n",
       "      <td>Financial</td>\n",
       "      <td>Financial</td>\n",
       "      <td>Financial</td>\n",
       "      <td>NaN</td>\n",
       "      <td>NaN</td>\n",
       "      <td>NaN</td>\n",
       "      <td>NaN</td>\n",
       "      <td>NaN</td>\n",
       "      <td>NaN</td>\n",
       "      <td>NaN</td>\n",
       "      <td>NaN</td>\n",
       "      <td>NaN</td>\n",
       "      <td>NaN</td>\n",
       "    </tr>\n",
       "    <tr>\n",
       "      <th>4</th>\n",
       "      <td>WIPRO continues it's uptrend, although on a we...</td>\n",
       "      <td>WIPRO continues it's uptrend, although on a we...</td>\n",
       "      <td>Annual Report - Comments made in the Annual Re...</td>\n",
       "      <td>Financial</td>\n",
       "      <td>Financial</td>\n",
       "      <td>Financial</td>\n",
       "      <td>NaN</td>\n",
       "      <td>NaN</td>\n",
       "      <td>NaN</td>\n",
       "      <td>NaN</td>\n",
       "      <td>NaN</td>\n",
       "      <td>NaN</td>\n",
       "      <td>NaN</td>\n",
       "      <td>NaN</td>\n",
       "      <td>NaN</td>\n",
       "      <td>NaN</td>\n",
       "    </tr>\n",
       "  </tbody>\n",
       "</table>\n",
       "</div>"
      ],
      "text/plain": [
       "                                               Title  \\\n",
       "0  BS-VI transition may lead to dumping of old st...   \n",
       "1   Annual Report 2016-2017 of Bajaj Finserv Limited   \n",
       "2  Annual Report 2017-2018 of Eicher Motors Limit...   \n",
       "3  Hindalco Industries : Chairman Kumar Mangalam ...   \n",
       "4  WIPRO continues it's uptrend, although on a we...   \n",
       "\n",
       "                                                Body  \\\n",
       "0  BS-VI transition may lead to dumping of old st...   \n",
       "1  It is a broadly described annual report of Baj...   \n",
       "2  It is a broadly described annual report of\\nEi...   \n",
       "3  (You can enter multiple email addresses separa...   \n",
       "4  WIPRO continues it's uptrend, although on a we...   \n",
       "\n",
       "                                            Category Old MegaCategory  \\\n",
       "0  Annual Report - Comments made in the Annual Re...        Financial   \n",
       "1  Annual Report - Comments made in the Annual Re...        Financial   \n",
       "2  Annual Report - Comments made in the Annual Re...        Financial   \n",
       "3  Annual Report - Comments made in the Annual Re...        Financial   \n",
       "4  Annual Report - Comments made in the Annual Re...        Financial   \n",
       "\n",
       "  MegaCategory  important  Unnamed: 6  Unnamed: 7  Unnamed: 8  Unnamed: 9  \\\n",
       "0    Financial  Financial         NaN         NaN         NaN         NaN   \n",
       "1    Financial  Financial         NaN         NaN         NaN         NaN   \n",
       "2    Financial  Financial         NaN         NaN         NaN         NaN   \n",
       "3    Financial  Financial         NaN         NaN         NaN         NaN   \n",
       "4    Financial  Financial         NaN         NaN         NaN         NaN   \n",
       "\n",
       "   Unnamed: 10  Unnamed: 11  Unnamed: 12  Unnamed: 13 Unnamed: 14 Unnamed: 15  \n",
       "0          NaN          NaN          NaN          NaN         NaN         NaN  \n",
       "1          NaN          NaN          NaN          NaN         NaN         NaN  \n",
       "2          NaN          NaN          NaN          NaN         NaN         NaN  \n",
       "3          NaN          NaN          NaN          NaN         NaN         NaN  \n",
       "4          NaN          NaN          NaN          NaN         NaN         NaN  "
      ]
     },
     "execution_count": 126,
     "metadata": {},
     "output_type": "execute_result"
    }
   ],
   "source": [
    "news = pd.read_excel(\"C:\\\\Users\\\\Kratika\\\\Downloads\\\\krati (2).xlsx\")\n",
    "news.head()"
   ]
  },
  {
   "cell_type": "code",
   "execution_count": 124,
   "metadata": {},
   "outputs": [],
   "source": [
    "from nltk.tokenize import word_tokenize \n",
    "\n",
    "def remove_stop_words(data):\n",
    "    stop_words = set(stopwords.words('english'))\n",
    "    stop_words.union(['january','february','march','april','may','june','july','august','september','october','november','december'])\n",
    "    stop_words.union(['jan','feb','mar','apr','may','jun','jul','aug','sept','oct','nov','dec'])\n",
    "    stop_words.union(['monday', 'tuesday', 'wednesday', 'thursday','friday','saturday','sunday'])\n",
    "    stop_words.union(['am', 'pm'])\n",
    "    word_tokens = word_tokenize(data) \n",
    "    filtered_sentence = []\n",
    "    \n",
    "    for w in word_tokens: \n",
    "        if w.lower() not in stop_words: \n",
    "            filtered_sentence.append(w) \n",
    "    \n",
    "    return \" \".join(filtered_sentence)"
   ]
  },
  {
   "cell_type": "code",
   "execution_count": 128,
   "metadata": {},
   "outputs": [],
   "source": [
    "news['text'] = str(news.Title) + \"  \"+ str(news.Body)"
   ]
  },
  {
   "cell_type": "code",
   "execution_count": 129,
   "metadata": {},
   "outputs": [],
   "source": [
    "\n",
    "\n",
    "news['clean_text'] = news['text'].apply(remove_stop_words) \n",
    "\n",
    "#remove_stop_words_Body\n"
   ]
  },
  {
   "cell_type": "code",
   "execution_count": 130,
   "metadata": {
    "scrolled": true
   },
   "outputs": [
    {
     "name": "stdout",
     "output_type": "stream",
     "text": [
      "\n",
      "Splitting data\n",
      "Training:  2025\n",
      "Testing:  250\n"
     ]
    }
   ],
   "source": [
    "# ## Split data\n",
    "print(\"\\nSplitting data\")\n",
    "title_tr, title_te, MegaCategory_tr, MegaCategory_te = train_test_split(news['clean_text'], news.important\t,test_size =.1)\n",
    "title_tr, title_de, MegaCategory_tr , MegaCategory_de = train_test_split(title_tr,MegaCategory_tr,test_size =.1)\n",
    "\n",
    "print(\"Training: \",len(title_tr))\n",
    "      \n",
    "print(\"Testing: \",len(title_te))"
   ]
  },
  {
   "cell_type": "code",
   "execution_count": 131,
   "metadata": {},
   "outputs": [
    {
     "name": "stdout",
     "output_type": "stream",
     "text": [
      "\n",
      "Vectorizing data\n"
     ]
    }
   ],
   "source": [
    "from sklearn.preprocessing import LabelEncoder\n",
    "\n",
    "# # Data Preprocessing\n",
    "# ## Vectorization of data\n",
    "# Vectorize the data using Bag of words (BOW)\n",
    "print(\"\\nVectorizing data\")\n",
    "tokenizer = nltk.tokenize.RegexpTokenizer(r\"\\w+\")\n",
    "stop_words = nltk.corpus.stopwords.words(\"english\")\n",
    "vectorizer = CountVectorizer(tokenizer=tokenizer.tokenize, stop_words=stop_words)\n",
    "\n",
    "vectorizer.fit(iter(title_tr))\n",
    "Xtr = vectorizer.transform(iter(title_tr))\n",
    "Xde = vectorizer.transform(iter(title_de))\n",
    "Xte = vectorizer.transform(iter(title_te))\n",
    "\n",
    "encoder = LabelEncoder()\n",
    "encoder.fit(MegaCategory_tr)\n",
    "Ytr = encoder.transform(MegaCategory_tr)\n",
    "Yde = encoder.transform(MegaCategory_de)\n",
    "Yte = encoder.transform(MegaCategory_te)"
   ]
  },
  {
   "cell_type": "code",
   "execution_count": 132,
   "metadata": {},
   "outputs": [
    {
     "name": "stdout",
     "output_type": "stream",
     "text": [
      "[1 2 4 ... 4 4 4]\n"
     ]
    }
   ],
   "source": [
    "print(Ytr)"
   ]
  },
  {
   "cell_type": "code",
   "execution_count": 133,
   "metadata": {},
   "outputs": [
    {
     "data": {
      "text/plain": [
       "<2025x519 sparse matrix of type '<class 'numpy.int64'>'\n",
       "\twith 1050975 stored elements in Compressed Sparse Row format>"
      ]
     },
     "execution_count": 133,
     "metadata": {},
     "output_type": "execute_result"
    }
   ],
   "source": [
    "Xtr"
   ]
  },
  {
   "cell_type": "code",
   "execution_count": 134,
   "metadata": {},
   "outputs": [
    {
     "name": "stdout",
     "output_type": "stream",
     "text": [
      "\n",
      "\n",
      "Training baseline classifier\n"
     ]
    }
   ],
   "source": [
    "# # Train Models\n",
    "# ### Baseline Model\n",
    "# “stratified”: generates predictions by respecting the training set’s class distribution.\n",
    "print(\"\\n\\nTraining baseline classifier\")\n",
    "dc = DummyClassifier(strategy=\"stratified\")\n",
    "dc.fit(Xtr, Ytr)\n",
    "\n",
    "dc_pred = dc.predict(Xde)"
   ]
  },
  {
   "cell_type": "code",
   "execution_count": 135,
   "metadata": {},
   "outputs": [
    {
     "name": "stdout",
     "output_type": "stream",
     "text": [
      "                    precision    recall  f1-score   support\n",
      "\n",
      "         Financial       0.04      0.04      0.04        25\n",
      "            Growth       0.18      0.11      0.14        27\n",
      "     Negative News       0.41      0.45      0.43        89\n",
      " Stock Performance       0.41      0.45      0.43        89\n",
      "Uncategorised News       0.20      0.23      0.21        31\n",
      "            others       0.04      0.04      0.04        25\n",
      "\n",
      "          accuracy                           0.34    106972\n",
      "         macro avg       0.25      0.26      0.25    106972\n",
      "      weighted avg       0.33      0.35      0.34    106972\n",
      "\n",
      "Accuracy achieved is 0.2577777777777778\n"
     ]
    },
    {
     "name": "stderr",
     "output_type": "stream",
     "text": [
      "C:\\ProgramData\\Anaconda3\\lib\\site-packages\\sklearn\\metrics\\classification.py:1870: UserWarning: labels size, 2025, does not match size of target_names, 6\n",
      "  .format(len(labels), len(target_names))\n"
     ]
    }
   ],
   "source": [
    "print(classification_report(Yde, dc_pred, labels=Ytr ,target_names=encoder.classes_))\n",
    "print('Accuracy achieved is ' + str(np.mean(dc_pred == Yde)))"
   ]
  },
  {
   "cell_type": "code",
   "execution_count": 136,
   "metadata": {},
   "outputs": [
    {
     "name": "stdout",
     "output_type": "stream",
     "text": [
      "Training Decision tree\n",
      "                    precision    recall  f1-score   support\n",
      "\n",
      "         Financial       0.00      0.00      0.00        25\n",
      "            Growth       0.00      0.00      0.00        27\n",
      "     Negative News       0.40      1.00      0.57        89\n",
      " Stock Performance       0.40      1.00      0.57        89\n",
      "Uncategorised News       0.00      0.00      0.00        31\n",
      "            others       0.00      0.00      0.00        25\n",
      "\n",
      "          accuracy                           0.50    106972\n",
      "         macro avg       0.16      0.41      0.23    106972\n",
      "      weighted avg       0.28      0.70      0.39    106972\n",
      "\n",
      "Accuracy achieved is 0.39555555555555555\n"
     ]
    },
    {
     "name": "stderr",
     "output_type": "stream",
     "text": [
      "C:\\ProgramData\\Anaconda3\\lib\\site-packages\\sklearn\\metrics\\classification.py:1870: UserWarning: labels size, 2025, does not match size of target_names, 6\n",
      "  .format(len(labels), len(target_names))\n",
      "C:\\ProgramData\\Anaconda3\\lib\\site-packages\\sklearn\\metrics\\classification.py:1437: UndefinedMetricWarning: Precision and F-score are ill-defined and being set to 0.0 in labels with no predicted samples.\n",
      "  'precision', 'predicted', average, warn_for)\n"
     ]
    }
   ],
   "source": [
    "\n",
    "# ### Decision Tree\n",
    "print(\"Training Decision tree\")\n",
    "dt = DecisionTreeClassifier()\n",
    "dt.fit(Xtr, Ytr)\n",
    "dt_pred = dt.predict(Xde)\n",
    "print(classification_report(Yde, dt_pred, labels=Ytr ,target_names=encoder.classes_))\n",
    "print('Accuracy achieved is ' + str(np.mean(dt_pred == Yde)))"
   ]
  },
  {
   "cell_type": "code",
   "execution_count": 137,
   "metadata": {},
   "outputs": [
    {
     "name": "stdout",
     "output_type": "stream",
     "text": [
      "Training Random Forest\n",
      "                    precision    recall  f1-score   support\n",
      "\n",
      "         Financial       0.00      0.00      0.00        25\n",
      "            Growth       0.00      0.00      0.00        27\n",
      "     Negative News       0.40      1.00      0.57        89\n",
      " Stock Performance       0.40      1.00      0.57        89\n",
      "Uncategorised News       0.00      0.00      0.00        31\n",
      "            others       0.00      0.00      0.00        25\n",
      "\n",
      "          accuracy                           0.50    106972\n",
      "         macro avg       0.16      0.41      0.23    106972\n",
      "      weighted avg       0.28      0.70      0.39    106972\n",
      "\n",
      "Accuracy achieved is 0.39555555555555555\n"
     ]
    },
    {
     "name": "stderr",
     "output_type": "stream",
     "text": [
      "C:\\ProgramData\\Anaconda3\\lib\\site-packages\\sklearn\\metrics\\classification.py:1870: UserWarning: labels size, 2025, does not match size of target_names, 6\n",
      "  .format(len(labels), len(target_names))\n",
      "C:\\ProgramData\\Anaconda3\\lib\\site-packages\\sklearn\\metrics\\classification.py:1437: UndefinedMetricWarning: Precision and F-score are ill-defined and being set to 0.0 in labels with no predicted samples.\n",
      "  'precision', 'predicted', average, warn_for)\n"
     ]
    }
   ],
   "source": [
    "# ### Random Forest\n",
    "print(\"Training Random Forest\")\n",
    "rf = RandomForestClassifier(n_estimators=40)\n",
    "rf.fit(Xtr, Ytr)\n",
    "pred = rf.predict(Xde)\n",
    "print(classification_report(Yde, pred, labels=Ytr ,target_names=encoder.classes_))\n",
    "print('Accuracy achieved is ' + str(np.mean(pred == Yde)))"
   ]
  },
  {
   "cell_type": "code",
   "execution_count": 138,
   "metadata": {},
   "outputs": [
    {
     "name": "stdout",
     "output_type": "stream",
     "text": [
      "Training Multinomial Naive Bayesian\n",
      "                    precision    recall  f1-score   support\n",
      "\n",
      "         Financial       0.00      0.00      0.00        25\n",
      "            Growth       0.00      0.00      0.00        27\n",
      "     Negative News       0.40      1.00      0.57        89\n",
      " Stock Performance       0.40      1.00      0.57        89\n",
      "Uncategorised News       0.00      0.00      0.00        31\n",
      "            others       0.00      0.00      0.00        25\n",
      "\n",
      "          accuracy                           0.50    106972\n",
      "         macro avg       0.16      0.41      0.23    106972\n",
      "      weighted avg       0.28      0.70      0.39    106972\n",
      "\n",
      "Accuracy achieved is 0.39555555555555555\n"
     ]
    },
    {
     "name": "stderr",
     "output_type": "stream",
     "text": [
      "C:\\ProgramData\\Anaconda3\\lib\\site-packages\\sklearn\\metrics\\classification.py:1870: UserWarning: labels size, 2025, does not match size of target_names, 6\n",
      "  .format(len(labels), len(target_names))\n",
      "C:\\ProgramData\\Anaconda3\\lib\\site-packages\\sklearn\\metrics\\classification.py:1437: UndefinedMetricWarning: Precision and F-score are ill-defined and being set to 0.0 in labels with no predicted samples.\n",
      "  'precision', 'predicted', average, warn_for)\n"
     ]
    }
   ],
   "source": [
    "\n",
    "# ### Multinomial Naive Bayesian\n",
    "print(\"Training Multinomial Naive Bayesian\")\n",
    "nb = MultinomialNB()\n",
    "nb.fit(Xtr, Ytr)\n",
    "pred_nb = nb.predict(Xde)\n",
    "print(classification_report(Yde, pred_nb, labels=Ytr ,target_names=encoder.classes_))\n",
    "print('Accuracy achieved is ' + str(np.mean(pred_nb == Yde)))"
   ]
  },
  {
   "cell_type": "code",
   "execution_count": 139,
   "metadata": {},
   "outputs": [
    {
     "name": "stdout",
     "output_type": "stream",
     "text": [
      "Training Support Vector Classification\n"
     ]
    },
    {
     "name": "stderr",
     "output_type": "stream",
     "text": [
      "C:\\ProgramData\\Anaconda3\\lib\\site-packages\\sklearn\\svm\\base.py:193: FutureWarning: The default value of gamma will change from 'auto' to 'scale' in version 0.22 to account better for unscaled features. Set gamma explicitly to 'auto' or 'scale' to avoid this warning.\n",
      "  \"avoid this warning.\", FutureWarning)\n"
     ]
    },
    {
     "name": "stdout",
     "output_type": "stream",
     "text": [
      "                    precision    recall  f1-score   support\n",
      "\n",
      "         Financial       0.00      0.00      0.00        25\n",
      "            Growth       0.00      0.00      0.00        27\n",
      "     Negative News       0.40      1.00      0.57        89\n",
      " Stock Performance       0.40      1.00      0.57        89\n",
      "Uncategorised News       0.00      0.00      0.00        31\n",
      "            others       0.00      0.00      0.00        25\n",
      "\n",
      "          accuracy                           0.50    106972\n",
      "         macro avg       0.16      0.41      0.23    106972\n",
      "      weighted avg       0.28      0.70      0.39    106972\n",
      "\n",
      "Accuracy achieved is 0.39555555555555555\n"
     ]
    },
    {
     "name": "stderr",
     "output_type": "stream",
     "text": [
      "C:\\ProgramData\\Anaconda3\\lib\\site-packages\\sklearn\\metrics\\classification.py:1870: UserWarning: labels size, 2025, does not match size of target_names, 6\n",
      "  .format(len(labels), len(target_names))\n",
      "C:\\ProgramData\\Anaconda3\\lib\\site-packages\\sklearn\\metrics\\classification.py:1437: UndefinedMetricWarning: Precision and F-score are ill-defined and being set to 0.0 in labels with no predicted samples.\n",
      "  'precision', 'predicted', average, warn_for)\n"
     ]
    }
   ],
   "source": [
    "# ### Support Vector Classification\n",
    "print(\"Training Support Vector Classification\")\n",
    "from sklearn.svm import SVC\n",
    "svc = SVC()\n",
    "svc.fit(Xtr, Ytr)\n",
    "svc_pred = svc.predict(Xde)\n",
    "print(classification_report(Yde, svc_pred, labels=Ytr ,target_names=encoder.classes_))\n",
    "print('Accuracy achieved is ' + str(np.mean(svc_pred == Yde)))"
   ]
  },
  {
   "cell_type": "code",
   "execution_count": 140,
   "metadata": {},
   "outputs": [
    {
     "name": "stdout",
     "output_type": "stream",
     "text": [
      "Training Multilayered Perceptron\n",
      "                    precision    recall  f1-score   support\n",
      "\n",
      "         Financial       0.00      0.00      0.00        25\n",
      "            Growth       0.00      0.00      0.00        27\n",
      "     Negative News       0.40      1.00      0.57        89\n",
      " Stock Performance       0.40      1.00      0.57        89\n",
      "Uncategorised News       0.00      0.00      0.00        31\n",
      "            others       0.00      0.00      0.00        25\n",
      "\n",
      "          accuracy                           0.50    106972\n",
      "         macro avg       0.16      0.41      0.23    106972\n",
      "      weighted avg       0.28      0.70      0.39    106972\n",
      "\n",
      "Accuracy achieved is 0.39555555555555555\n"
     ]
    },
    {
     "name": "stderr",
     "output_type": "stream",
     "text": [
      "C:\\ProgramData\\Anaconda3\\lib\\site-packages\\sklearn\\metrics\\classification.py:1870: UserWarning: labels size, 2025, does not match size of target_names, 6\n",
      "  .format(len(labels), len(target_names))\n",
      "C:\\ProgramData\\Anaconda3\\lib\\site-packages\\sklearn\\metrics\\classification.py:1437: UndefinedMetricWarning: Precision and F-score are ill-defined and being set to 0.0 in labels with no predicted samples.\n",
      "  'precision', 'predicted', average, warn_for)\n"
     ]
    }
   ],
   "source": [
    "# ### Multilayered Perceptron\n",
    "print(\"Training Multilayered Perceptron\")\n",
    "mlp = MLPClassifier(solver='adam', alpha=1e-5, hidden_layer_sizes=(100, 20), random_state=1, max_iter=400)\n",
    "mlp.fit(Xtr, Ytr)\n",
    "mlp_pred = mlp.predict(Xde)\n",
    "print(classification_report(Yde, mlp_pred, labels=Ytr ,target_names=encoder.classes_))\n",
    "print('Accuracy achieved is ' + str(np.mean(mlp_pred == Yde)))"
   ]
  },
  {
   "cell_type": "code",
   "execution_count": 141,
   "metadata": {},
   "outputs": [
    {
     "name": "stdout",
     "output_type": "stream",
     "text": [
      "Accuracy achieved is 0.2577777777777778\n",
      "Accuracy achieved is 0.39555555555555555\n",
      "Accuracy achieved is 0.39555555555555555\n",
      "Accuracy achieved is 0.39555555555555555\n",
      "Accuracy achieved is 0.39555555555555555\n"
     ]
    }
   ],
   "source": [
    "print('Accuracy achieved is ' + str(np.mean(dc_pred   == Yde)))\n",
    "print('Accuracy achieved is ' + str(np.mean(dt_pred   == Yde)))\n",
    "print('Accuracy achieved is ' + str(np.mean(pred_nb   == Yde)))\n",
    "print('Accuracy achieved is ' + str(np.mean(svc_pred  == Yde)))\n",
    "print('Accuracy achieved is ' + str(np.mean(mlp_pred  == Yde)))"
   ]
  },
  {
   "cell_type": "code",
   "execution_count": 142,
   "metadata": {},
   "outputs": [
    {
     "name": "stdout",
     "output_type": "stream",
     "text": [
      "\n",
      "\n",
      "Predicting test data using Multilayered Perceptron\n",
      "                    precision    recall  f1-score   support\n",
      "\n",
      "         Financial       0.00      0.00      0.00        31\n",
      "            Growth       0.00      0.00      0.00        21\n",
      "     Negative News       0.43      1.00      0.60       108\n",
      " Stock Performance       0.43      1.00      0.60       108\n",
      "Uncategorised News       0.00      0.00      0.00        40\n",
      "            others       0.00      0.00      0.00        31\n",
      "\n",
      "          accuracy                           0.54    125227\n",
      "         macro avg       0.18      0.41      0.25    125227\n",
      "      weighted avg       0.31      0.72      0.44    125227\n",
      "\n",
      "Accuracy achieved is 0.432\n"
     ]
    }
   ],
   "source": [
    "# # Final Model: Multilayered Perceptron\n",
    "# ## Predict test data\n",
    "print(\"\\n\\nPredicting test data using Multilayered Perceptron\")\n",
    "pred_final = mlp.predict(Xte)\n",
    "print(classification_report(Yte, pred_final, labels=Ytr ,target_names=encoder.classes_))\n",
    "print('Accuracy achieved is ' + str(accuracy_score(Yte,pred_final)))"
   ]
  },
  {
   "cell_type": "code",
   "execution_count": 143,
   "metadata": {},
   "outputs": [],
   "source": [
    "output = {\"title\":vectorizer.inverse_transform(Xte), \"predicted\":encoder.inverse_transform(pred_final),\"actual\": encoder.inverse_transform(Yte)}"
   ]
  },
  {
   "cell_type": "code",
   "execution_count": 144,
   "metadata": {},
   "outputs": [],
   "source": [
    "#df = pd.DataFrame(output, columns=[\"title\",\"predicted\",\"actual\"])\n",
    "#df.to_csv(\"C:\\\\Users\\\\Kratika\\\\Downloads\\\\News333_title_predication_1.csv\")"
   ]
  },
  {
   "cell_type": "code",
   "execution_count": 145,
   "metadata": {},
   "outputs": [
    {
     "name": "stdout",
     "output_type": "stream",
     "text": [
      "Accuracy achieved is 0.432\n"
     ]
    }
   ],
   "source": [
    "pred_final = mlp.predict(Xte)\n",
    "print('Accuracy achieved is ' + str(np.mean(pred_final == Yte)))\n",
    "output = {\"text\":vectorizer.inverse_transform(Xte), \"predicted\":encoder.inverse_transform(pred_final),\"actual\": encoder.inverse_transform(Yte)}\n",
    "df = pd.DataFrame(output, columns=[\"text\",\"predicted\",\"actual\"])\n"
   ]
  },
  {
   "cell_type": "code",
   "execution_count": 218,
   "metadata": {},
   "outputs": [],
   "source": [
    "df = pd.DataFrame(output, columns=[\"text\",\"predicted\",\"actual\"])\n",
    "df.to_csv(\"C:\\\\Users\\\\Kratika\\\\Downloads\\\\News_growth.csv\")"
   ]
  },
  {
   "cell_type": "code",
   "execution_count": null,
   "metadata": {},
   "outputs": [],
   "source": []
  }
 ],
 "metadata": {
  "kernelspec": {
   "display_name": "Python 3",
   "language": "python",
   "name": "python3"
  },
  "language_info": {
   "codemirror_mode": {
    "name": "ipython",
    "version": 3
   },
   "file_extension": ".py",
   "mimetype": "text/x-python",
   "name": "python",
   "nbconvert_exporter": "python",
   "pygments_lexer": "ipython3",
   "version": "3.7.3"
  }
 },
 "nbformat": 4,
 "nbformat_minor": 2
}
