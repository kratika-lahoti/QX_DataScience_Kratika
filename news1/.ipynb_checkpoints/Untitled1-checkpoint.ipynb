{
 "cells": [
  {
   "cell_type": "code",
   "execution_count": 9,
   "metadata": {},
   "outputs": [],
   "source": [
    "import re\n",
    "import pandas as pd # CSV file I/O (pd.read_csv)\n",
    "from nltk.corpus import stopwords\n",
    "import numpy as np\n",
    "import sklearn\n",
    "from sklearn.naive_bayes import MultinomialNB\n",
    "from sklearn.linear_model import LogisticRegression\n",
    "from sklearn.metrics import accuracy_score ,confusion_matrix\n"
   ]
  },
  {
   "cell_type": "code",
   "execution_count": 10,
   "metadata": {},
   "outputs": [
    {
     "data": {
      "text/html": [
       "<div>\n",
       "<style scoped>\n",
       "    .dataframe tbody tr th:only-of-type {\n",
       "        vertical-align: middle;\n",
       "    }\n",
       "\n",
       "    .dataframe tbody tr th {\n",
       "        vertical-align: top;\n",
       "    }\n",
       "\n",
       "    .dataframe thead th {\n",
       "        text-align: right;\n",
       "    }\n",
       "</style>\n",
       "<table border=\"1\" class=\"dataframe\">\n",
       "  <thead>\n",
       "    <tr style=\"text-align: right;\">\n",
       "      <th></th>\n",
       "      <th>Title</th>\n",
       "      <th>Body</th>\n",
       "      <th>Category</th>\n",
       "      <th>Unnamed: 3</th>\n",
       "    </tr>\n",
       "  </thead>\n",
       "  <tbody>\n",
       "    <tr>\n",
       "      <th>0</th>\n",
       "      <td>Adani Ports Shares Jump Nearly 6% as Buyback O...</td>\n",
       "      <td>August 26, 2019, 4:25 PM IST\\nFor Representati...</td>\n",
       "      <td>Buyback of shares - Alert me when any of these...</td>\n",
       "      <td>NaN</td>\n",
       "    </tr>\n",
       "    <tr>\n",
       "      <th>1</th>\n",
       "      <td>Adani Ports buyback to open on September 6; sh...</td>\n",
       "      <td>Adani Ports and Special Economic Zone\\ngained ...</td>\n",
       "      <td>Buyback of shares - Alert me when any of these...</td>\n",
       "      <td>NaN</td>\n",
       "    </tr>\n",
       "    <tr>\n",
       "      <th>2</th>\n",
       "      <td>Adani Ports Q1 net profit jumps 47.50%</td>\n",
       "      <td>Adani Ports and Special Economic Zone (APSEZ) ...</td>\n",
       "      <td>Earnings, Stock Performance or Dividends - Ale...</td>\n",
       "      <td>NaN</td>\n",
       "    </tr>\n",
       "    <tr>\n",
       "      <th>3</th>\n",
       "      <td>Adani Ports keen on building port at Nagarjuna...</td>\n",
       "      <td>Adani Ports and Special Economic Zone Ltd (APS...</td>\n",
       "      <td>New Geography - Alert me when a company moves ...</td>\n",
       "      <td>NaN</td>\n",
       "    </tr>\n",
       "    <tr>\n",
       "      <th>4</th>\n",
       "      <td>Adani Ports Q1 result: Adani Ports Q1 PAT jump...</td>\n",
       "      <td>Adani Ports\\non Wednesday said its consolidate...</td>\n",
       "      <td>Earnings, Stock Performance or Dividends - Ale...</td>\n",
       "      <td>NaN</td>\n",
       "    </tr>\n",
       "  </tbody>\n",
       "</table>\n",
       "</div>"
      ],
      "text/plain": [
       "                                               Title  \\\n",
       "0  Adani Ports Shares Jump Nearly 6% as Buyback O...   \n",
       "1  Adani Ports buyback to open on September 6; sh...   \n",
       "2             Adani Ports Q1 net profit jumps 47.50%   \n",
       "3  Adani Ports keen on building port at Nagarjuna...   \n",
       "4  Adani Ports Q1 result: Adani Ports Q1 PAT jump...   \n",
       "\n",
       "                                                Body  \\\n",
       "0  August 26, 2019, 4:25 PM IST\\nFor Representati...   \n",
       "1  Adani Ports and Special Economic Zone\\ngained ...   \n",
       "2  Adani Ports and Special Economic Zone (APSEZ) ...   \n",
       "3  Adani Ports and Special Economic Zone Ltd (APS...   \n",
       "4  Adani Ports\\non Wednesday said its consolidate...   \n",
       "\n",
       "                                            Category  Unnamed: 3  \n",
       "0  Buyback of shares - Alert me when any of these...         NaN  \n",
       "1  Buyback of shares - Alert me when any of these...         NaN  \n",
       "2  Earnings, Stock Performance or Dividends - Ale...         NaN  \n",
       "3  New Geography - Alert me when a company moves ...         NaN  \n",
       "4  Earnings, Stock Performance or Dividends - Ale...         NaN  "
      ]
     },
     "execution_count": 10,
     "metadata": {},
     "output_type": "execute_result"
    }
   ],
   "source": [
    "news = pd.read_excel(\"C:\\\\Users\\\\Kratika\\\\Downloads\\\\News data (Completed) (1) (9).xlsx\")\n",
    "news.head()"
   ]
  },
  {
   "cell_type": "code",
   "execution_count": 11,
   "metadata": {},
   "outputs": [
    {
     "data": {
      "text/html": [
       "<div>\n",
       "<style scoped>\n",
       "    .dataframe tbody tr th:only-of-type {\n",
       "        vertical-align: middle;\n",
       "    }\n",
       "\n",
       "    .dataframe tbody tr th {\n",
       "        vertical-align: top;\n",
       "    }\n",
       "\n",
       "    .dataframe thead th {\n",
       "        text-align: right;\n",
       "    }\n",
       "</style>\n",
       "<table border=\"1\" class=\"dataframe\">\n",
       "  <thead>\n",
       "    <tr style=\"text-align: right;\">\n",
       "      <th></th>\n",
       "      <th>Title</th>\n",
       "      <th>Body</th>\n",
       "      <th>Category</th>\n",
       "    </tr>\n",
       "  </thead>\n",
       "  <tbody>\n",
       "    <tr>\n",
       "      <th>0</th>\n",
       "      <td>Adani Ports Shares Jump Nearly 6% as Buyback O...</td>\n",
       "      <td>August 26, 2019, 4:25 PM IST\\nFor Representati...</td>\n",
       "      <td>Buyback of shares - Alert me when any of these...</td>\n",
       "    </tr>\n",
       "    <tr>\n",
       "      <th>1</th>\n",
       "      <td>Adani Ports buyback to open on September 6; sh...</td>\n",
       "      <td>Adani Ports and Special Economic Zone\\ngained ...</td>\n",
       "      <td>Buyback of shares - Alert me when any of these...</td>\n",
       "    </tr>\n",
       "    <tr>\n",
       "      <th>2</th>\n",
       "      <td>Adani Ports Q1 net profit jumps 47.50%</td>\n",
       "      <td>Adani Ports and Special Economic Zone (APSEZ) ...</td>\n",
       "      <td>Earnings, Stock Performance or Dividends - Ale...</td>\n",
       "    </tr>\n",
       "    <tr>\n",
       "      <th>3</th>\n",
       "      <td>Adani Ports keen on building port at Nagarjuna...</td>\n",
       "      <td>Adani Ports and Special Economic Zone Ltd (APS...</td>\n",
       "      <td>New Geography - Alert me when a company moves ...</td>\n",
       "    </tr>\n",
       "    <tr>\n",
       "      <th>4</th>\n",
       "      <td>Adani Ports Q1 result: Adani Ports Q1 PAT jump...</td>\n",
       "      <td>Adani Ports\\non Wednesday said its consolidate...</td>\n",
       "      <td>Earnings, Stock Performance or Dividends - Ale...</td>\n",
       "    </tr>\n",
       "  </tbody>\n",
       "</table>\n",
       "</div>"
      ],
      "text/plain": [
       "                                               Title  \\\n",
       "0  Adani Ports Shares Jump Nearly 6% as Buyback O...   \n",
       "1  Adani Ports buyback to open on September 6; sh...   \n",
       "2             Adani Ports Q1 net profit jumps 47.50%   \n",
       "3  Adani Ports keen on building port at Nagarjuna...   \n",
       "4  Adani Ports Q1 result: Adani Ports Q1 PAT jump...   \n",
       "\n",
       "                                                Body  \\\n",
       "0  August 26, 2019, 4:25 PM IST\\nFor Representati...   \n",
       "1  Adani Ports and Special Economic Zone\\ngained ...   \n",
       "2  Adani Ports and Special Economic Zone (APSEZ) ...   \n",
       "3  Adani Ports and Special Economic Zone Ltd (APS...   \n",
       "4  Adani Ports\\non Wednesday said its consolidate...   \n",
       "\n",
       "                                            Category  \n",
       "0  Buyback of shares - Alert me when any of these...  \n",
       "1  Buyback of shares - Alert me when any of these...  \n",
       "2  Earnings, Stock Performance or Dividends - Ale...  \n",
       "3  New Geography - Alert me when a company moves ...  \n",
       "4  Earnings, Stock Performance or Dividends - Ale...  "
      ]
     },
     "execution_count": 11,
     "metadata": {},
     "output_type": "execute_result"
    }
   ],
   "source": [
    "news = news.drop(columns = ['Unnamed: 3'])\n",
    "news.head()"
   ]
  },
  {
   "cell_type": "code",
   "execution_count": 13,
   "metadata": {},
   "outputs": [
    {
     "ename": "SyntaxError",
     "evalue": "EOL while scanning string literal (<ipython-input-13-fe124de0f26d>, line 2)",
     "output_type": "error",
     "traceback": [
      "\u001b[1;36m  File \u001b[1;32m\"<ipython-input-13-fe124de0f26d>\"\u001b[1;36m, line \u001b[1;32m2\u001b[0m\n\u001b[1;33m    news_train = skd.load_files('news:(1)'),categories=categories,encoding=ISO-8859-1')\u001b[0m\n\u001b[1;37m                                                                                       ^\u001b[0m\n\u001b[1;31mSyntaxError\u001b[0m\u001b[1;31m:\u001b[0m EOL while scanning string literal\n"
     ]
    }
   ],
   "source": [
    "import  sklearn.datasets as skd\n",
    "news_train = skd.load_files('news:(1)'),categories=categories,encoding=ISO-8859-1')\n",
    "news_test = skd.load_files('news:(2)'),categories=categories,encoding=ISO-8859-1')\n"
   ]
  },
  {
   "cell_type": "code",
   "execution_count": null,
   "metadata": {},
   "outputs": [],
   "source": []
  }
 ],
 "metadata": {
  "kernelspec": {
   "display_name": "Python 3",
   "language": "python",
   "name": "python3"
  }
 },
 "nbformat": 4,
 "nbformat_minor": 2
}
