{
 "cells": [
  {
   "cell_type": "code",
   "execution_count": 11,
   "metadata": {},
   "outputs": [],
   "source": [
    "import re\n",
    "import pandas as pd # CSV file I/O (pd.read_csv)\n",
    "from nltk.corpus import stopwords\n",
    "\n",
    "import copy\n",
    "import numpy as np\n",
    "import re\n",
    "import nltk\n",
    "from sklearn.model_selection import train_test_split\n",
    "from sklearn.feature_extraction.text import CountVectorizer\n",
    "from sklearn.preprocessing import LabelEncoder\n",
    "from sklearn.feature_selection import VarianceThreshold\n",
    "from imblearn.over_sampling import SMOTE\n",
    "from sklearn.dummy import DummyClassifier\n",
    "from sklearn.naive_bayes import MultinomialNB\n",
    "from sklearn.tree import DecisionTreeClassifier\n",
    "from sklearn.neural_network import MLPClassifier\n",
    "from sklearn.ensemble import RandomForestClassifier\n",
    "#from sklearn.metrics import accuracy_score\n",
    "#from sklearn.model_selection import cross_val_score, KFold\n",
    "from sklearn.metrics import confusion_matrix\n",
    "from sklearn.metrics import classification_report"
   ]
  },
  {
   "cell_type": "code",
   "execution_count": 12,
   "metadata": {},
   "outputs": [
    {
     "data": {
      "text/html": [
       "<div>\n",
       "<style scoped>\n",
       "    .dataframe tbody tr th:only-of-type {\n",
       "        vertical-align: middle;\n",
       "    }\n",
       "\n",
       "    .dataframe tbody tr th {\n",
       "        vertical-align: top;\n",
       "    }\n",
       "\n",
       "    .dataframe thead th {\n",
       "        text-align: right;\n",
       "    }\n",
       "</style>\n",
       "<table border=\"1\" class=\"dataframe\">\n",
       "  <thead>\n",
       "    <tr style=\"text-align: right;\">\n",
       "      <th></th>\n",
       "      <th>Title</th>\n",
       "      <th>Body</th>\n",
       "      <th>Category</th>\n",
       "    </tr>\n",
       "  </thead>\n",
       "  <tbody>\n",
       "    <tr>\n",
       "      <th>0</th>\n",
       "      <td>Adani Ports Shares Jump Nearly 6% as Buyback O...</td>\n",
       "      <td>August 26, 2019, 4:25 PM IST\\nFor Representati...</td>\n",
       "      <td>Buyback of shares - Alert me when any of these...</td>\n",
       "    </tr>\n",
       "    <tr>\n",
       "      <th>1</th>\n",
       "      <td>Adani Ports buyback to open on September 6; sh...</td>\n",
       "      <td>Adani Ports and Special Economic Zone\\ngained ...</td>\n",
       "      <td>Buyback of shares - Alert me when any of these...</td>\n",
       "    </tr>\n",
       "    <tr>\n",
       "      <th>2</th>\n",
       "      <td>Adani Ports Q1 net profit jumps 47.50%</td>\n",
       "      <td>Adani Ports and Special Economic Zone (APSEZ) ...</td>\n",
       "      <td>Earnings, Stock Performance or Dividends - Ale...</td>\n",
       "    </tr>\n",
       "    <tr>\n",
       "      <th>3</th>\n",
       "      <td>Adani Ports keen on building port at Nagarjuna...</td>\n",
       "      <td>Adani Ports and Special Economic Zone Ltd (APS...</td>\n",
       "      <td>New Geography - Alert me when a company moves ...</td>\n",
       "    </tr>\n",
       "    <tr>\n",
       "      <th>4</th>\n",
       "      <td>Adani Ports Q1 result: Adani Ports Q1 PAT jump...</td>\n",
       "      <td>Adani Ports\\non Wednesday said its consolidate...</td>\n",
       "      <td>Earnings, Stock Performance or Dividends - Ale...</td>\n",
       "    </tr>\n",
       "  </tbody>\n",
       "</table>\n",
       "</div>"
      ],
      "text/plain": [
       "                                               Title  \\\n",
       "0  Adani Ports Shares Jump Nearly 6% as Buyback O...   \n",
       "1  Adani Ports buyback to open on September 6; sh...   \n",
       "2             Adani Ports Q1 net profit jumps 47.50%   \n",
       "3  Adani Ports keen on building port at Nagarjuna...   \n",
       "4  Adani Ports Q1 result: Adani Ports Q1 PAT jump...   \n",
       "\n",
       "                                                Body  \\\n",
       "0  August 26, 2019, 4:25 PM IST\\nFor Representati...   \n",
       "1  Adani Ports and Special Economic Zone\\ngained ...   \n",
       "2  Adani Ports and Special Economic Zone (APSEZ) ...   \n",
       "3  Adani Ports and Special Economic Zone Ltd (APS...   \n",
       "4  Adani Ports\\non Wednesday said its consolidate...   \n",
       "\n",
       "                                            Category  \n",
       "0  Buyback of shares - Alert me when any of these...  \n",
       "1  Buyback of shares - Alert me when any of these...  \n",
       "2  Earnings, Stock Performance or Dividends - Ale...  \n",
       "3  New Geography - Alert me when a company moves ...  \n",
       "4  Earnings, Stock Performance or Dividends - Ale...  "
      ]
     },
     "execution_count": 12,
     "metadata": {},
     "output_type": "execute_result"
    }
   ],
   "source": [
    "news = pd.read_excel(\"C:\\\\Users\\\\Kratika\\\\Downloads\\\\News data (Completed) (1) (9).xlsx\")\n",
    "news.head()"
   ]
  },
  {
   "cell_type": "code",
   "execution_count": 107,
   "metadata": {},
   "outputs": [],
   "source": [
    "from nltk.tokenize import word_tokenize \n",
    "\n",
    "def remove_stop_words(data):\n",
    "    stop_words = set(stopwords.words('english'))\n",
    "    stop_words.union(['january','february','march','april','may','june','july','august','september','october','november','december'])\n",
    "    stop_words.union(['monday', 'tuesday', 'wednesday', 'thursday','friday','saturday','sunday'])\n",
    "    word_tokens = word_tokenize(data) \n",
    "    filtered_sentence = []\n",
    "    \n",
    "    for w in word_tokens: \n",
    "        if w.lower() not in stop_words: \n",
    "            filtered_sentence.append(w) \n",
    "    \n",
    "    return \" \".join(filtered_sentence)"
   ]
  },
  {
   "cell_type": "code",
   "execution_count": 108,
   "metadata": {},
   "outputs": [
    {
     "name": "stdout",
     "output_type": "stream",
     "text": [
      "{'but', 'same', 'won', 'his', 'are', 'how', \"needn't\", 'if', 'so', \"aren't\", \"wouldn't\", 't', 're', 'out', 'such', 'both', 'needn', 'this', 'yourselves', 'during', 'where', 'through', \"it's\", 'a', 'hers', 'be', 'him', 'yourself', 'her', 'herself', 'into', \"she's\", 'then', 'an', 'will', 'weren', 'own', 'it', 'been', 'its', 'has', 'other', \"shouldn't\", 'don', \"haven't\", 'mustn', 'couldn', 'and', 'after', 'who', 'for', 'those', 'you', 'he', 'do', 'at', 'ma', 'off', 'was', 'all', 'nor', 'too', \"don't\", \"you're\", 'can', 'have', 'am', 'didn', 'mightn', 'itself', 'should', 'few', 'your', 'more', 'll', 'before', 'below', \"weren't\", \"won't\", 'doesn', 'doing', 'no', 've', 'my', 'we', 'ours', \"that'll\", 'on', 'here', 'their', 'me', 'very', \"you'd\", 'with', 'only', 'haven', 'up', \"doesn't\", 'of', 'theirs', 'having', 'what', 'wouldn', 'over', 'above', 'there', \"should've\", 'd', \"didn't\", 'had', \"couldn't\", 'than', \"hasn't\", 'about', \"you've\", 'himself', 'again', \"hadn't\", 'between', 'being', 'down', 'hasn', 'once', 'some', 'each', 'isn', 'or', 'aren', 'hadn', 'under', 'why', 'our', 'by', 'further', 'they', 'yours', 'i', 'these', 'from', 'whom', 'now', 'just', 'while', 'because', 'as', 'which', \"shan't\", \"mustn't\", 'wasn', 'm', 'not', 'in', 's', 'y', 'them', 'most', 'shouldn', 'o', 'is', 'until', 'to', \"mightn't\", \"you'll\", 'when', 'ain', 'against', 'she', 'the', 'that', 'did', \"wasn't\", 'myself', 'ourselves', 'does', 'shan', 'any', \"isn't\", 'were', 'themselves'}\n"
     ]
    }
   ],
   "source": [
    "stop_words1 = set(stopwords.words('english'))\n",
    "stop_words1.union(['january','february','march','april','may','june','july','august','september','october','november','december'])\n",
    "print(stop_words1)"
   ]
  },
  {
   "cell_type": "code",
   "execution_count": 109,
   "metadata": {},
   "outputs": [],
   "source": [
    "news['clean_body'] = news['Body'].apply(remove_stop_words) \n",
    "news['clean_title'] = news['Title'].apply(remove_stop_words) \n",
    "#remove_stop_words_Body"
   ]
  },
  {
   "cell_type": "code",
   "execution_count": 116,
   "metadata": {},
   "outputs": [
    {
     "name": "stdout",
     "output_type": "stream",
     "text": [
      "\n",
      "Splitting data\n",
      "Training:  2398\n",
      "Developement:  49\n",
      "Testing:  50\n"
     ]
    }
   ],
   "source": [
    "# ## Split data\n",
    "print(\"\\nSplitting data\")\n",
    "title_tr, title_te, category_tr, category_te = train_test_split(news['clean_body'], news.Category,test_size =.02)\n",
    "title_tr, title_de, category_tr, category_de = train_test_split(title_tr,category_tr,test_size =.02)\n",
    "print(\"Training: \",len(title_tr))\n",
    "print(\"Developement: \",len(title_de),)\n",
    "print(\"Testing: \",len(title_te))"
   ]
  },
  {
   "cell_type": "code",
   "execution_count": 117,
   "metadata": {},
   "outputs": [
    {
     "name": "stdout",
     "output_type": "stream",
     "text": [
      "\n",
      "Vectorizing data\n"
     ]
    }
   ],
   "source": [
    "from sklearn.preprocessing import LabelEncoder\n",
    "\n",
    "# # Data Preprocessing\n",
    "# ## Vectorization of data\n",
    "# Vectorize the data using Bag of words (BOW)\n",
    "print(\"\\nVectorizing data\")\n",
    "tokenizer = nltk.tokenize.RegexpTokenizer(r\"\\w+\")\n",
    "stop_words = nltk.corpus.stopwords.words(\"english\")\n",
    "vectorizer = CountVectorizer(tokenizer=tokenizer.tokenize, stop_words=stop_words)\n",
    "\n",
    "vectorizer.fit(iter(title_tr))\n",
    "Xtr = vectorizer.transform(iter(title_tr))\n",
    "Xde = vectorizer.transform(iter(title_de))\n",
    "Xte = vectorizer.transform(iter(title_te))\n",
    "\n",
    "encoder = LabelEncoder()\n",
    "encoder.fit(category_tr)\n",
    "Ytr = encoder.transform(category_tr)\n",
    "Yde = encoder.transform(category_de)\n",
    "Yte = encoder.transform(category_te)"
   ]
  },
  {
   "cell_type": "code",
   "execution_count": 118,
   "metadata": {},
   "outputs": [
    {
     "data": {
      "text/plain": [
       "<2398x16647 sparse matrix of type '<class 'numpy.int64'>'\n",
       "\twith 107201 stored elements in Compressed Sparse Row format>"
      ]
     },
     "execution_count": 118,
     "metadata": {},
     "output_type": "execute_result"
    }
   ],
   "source": [
    "Xtr"
   ]
  },
  {
   "cell_type": "code",
   "execution_count": 119,
   "metadata": {},
   "outputs": [
    {
     "name": "stdout",
     "output_type": "stream",
     "text": [
      "\n",
      "Applyting Feature Reduction\n",
      "Number of features before reduction :  16647\n",
      "Number of features after reduction :  7390\n"
     ]
    }
   ],
   "source": [
    "# ## Feature Reduction\n",
    "# We can check the variance of the feature and drop them based on a threshold\n",
    "print(\"\\nApplyting Feature Reduction\")\n",
    "print(\"Number of features before reduction : \", Xtr.shape[1])\n",
    "selection = VarianceThreshold(threshold=0.001)\n",
    "Xtr_whole = copy.deepcopy(Xtr)\n",
    "Ytr_whole = copy.deepcopy(Ytr)\n",
    "selection.fit(Xtr)\n",
    "Xtr = selection.transform(Xtr)\n",
    "Xde = selection.transform(Xde)\n",
    "Xte = selection.transform(Xte)\n",
    "print(\"Number of features after reduction : \", Xtr.shape[1])"
   ]
  },
  {
   "cell_type": "code",
   "execution_count": 120,
   "metadata": {},
   "outputs": [
    {
     "name": "stdout",
     "output_type": "stream",
     "text": [
      "\n",
      "\n",
      "Training baseline classifier\n"
     ]
    }
   ],
   "source": [
    "# # Train Models\n",
    "# ### Baseline Model\n",
    "# “stratified”: generates predictions by respecting the training set’s class distribution.\n",
    "print(\"\\n\\nTraining baseline classifier\")\n",
    "dc = DummyClassifier(strategy=\"stratified\")\n",
    "dc.fit(Xtr, Ytr)\n",
    "pred = dc.predict(Xde)"
   ]
  },
  {
   "cell_type": "code",
   "execution_count": 121,
   "metadata": {},
   "outputs": [
    {
     "name": "stdout",
     "output_type": "stream",
     "text": [
      "              precision    recall  f1-score   support\n",
      "\n",
      "           3       0.00      0.00      0.00         0\n",
      "           9       0.00      0.00      0.00         0\n",
      "          10       0.17      0.12      0.14         8\n",
      "          11       0.00      0.00      0.00         0\n",
      "          12       0.00      0.00      0.00         0\n",
      "          13       0.00      0.00      0.00         1\n",
      "          17       0.00      0.00      0.00         1\n",
      "          18       0.00      0.00      0.00         1\n",
      "          19       0.00      0.00      0.00         0\n",
      "          20       0.00      0.00      0.00         0\n",
      "          24       0.00      0.00      0.00         1\n",
      "          25       0.00      0.00      0.00         1\n",
      "          31       0.00      0.00      0.00         2\n",
      "          32       0.00      0.00      0.00         3\n",
      "          37       0.00      0.00      0.00         1\n",
      "          39       0.00      0.00      0.00         2\n",
      "          40       0.00      0.00      0.00         0\n",
      "          42       0.00      0.00      0.00         1\n",
      "          45       0.00      0.00      0.00         1\n",
      "          46       0.00      0.00      0.00         1\n",
      "          47       0.00      0.00      0.00         1\n",
      "          49       0.00      0.00      0.00         2\n",
      "          50       0.00      0.00      0.00         1\n",
      "          51       0.00      0.00      0.00         0\n",
      "          52       0.00      0.00      0.00         1\n",
      "          53       0.00      0.00      0.00         1\n",
      "          54       0.00      0.00      0.00         1\n",
      "          55       0.00      0.00      0.00         0\n",
      "          59       0.24      0.22      0.23        18\n",
      "\n",
      "    accuracy                           0.10        49\n",
      "   macro avg       0.01      0.01      0.01        49\n",
      "weighted avg       0.11      0.10      0.11        49\n",
      "\n"
     ]
    },
    {
     "name": "stderr",
     "output_type": "stream",
     "text": [
      "C:\\ProgramData\\Anaconda3\\lib\\site-packages\\sklearn\\metrics\\classification.py:1437: UndefinedMetricWarning: Precision and F-score are ill-defined and being set to 0.0 in labels with no predicted samples.\n",
      "  'precision', 'predicted', average, warn_for)\n",
      "C:\\ProgramData\\Anaconda3\\lib\\site-packages\\sklearn\\metrics\\classification.py:1439: UndefinedMetricWarning: Recall and F-score are ill-defined and being set to 0.0 in labels with no true samples.\n",
      "  'recall', 'true', average, warn_for)\n"
     ]
    }
   ],
   "source": [
    "print(classification_report(Yde, pred))"
   ]
  },
  {
   "cell_type": "code",
   "execution_count": 122,
   "metadata": {},
   "outputs": [
    {
     "name": "stdout",
     "output_type": "stream",
     "text": [
      "Training Decision tree\n",
      "              precision    recall  f1-score   support\n",
      "\n",
      "          10       0.62      0.62      0.62         8\n",
      "          13       0.00      0.00      0.00         1\n",
      "          17       0.00      0.00      0.00         1\n",
      "          18       0.00      0.00      0.00         1\n",
      "          19       0.00      0.00      0.00         0\n",
      "          20       0.00      0.00      0.00         0\n",
      "          24       0.50      1.00      0.67         1\n",
      "          25       0.00      0.00      0.00         1\n",
      "          26       0.00      0.00      0.00         0\n",
      "          31       0.00      0.00      0.00         2\n",
      "          32       0.00      0.00      0.00         3\n",
      "          37       0.00      0.00      0.00         1\n",
      "          39       0.00      0.00      0.00         2\n",
      "          40       0.00      0.00      0.00         0\n",
      "          42       0.25      1.00      0.40         1\n",
      "          44       0.00      0.00      0.00         0\n",
      "          45       0.00      0.00      0.00         1\n",
      "          46       0.00      0.00      0.00         1\n",
      "          47       0.00      0.00      0.00         1\n",
      "          49       0.00      0.00      0.00         2\n",
      "          50       0.00      0.00      0.00         1\n",
      "          51       0.00      0.00      0.00         0\n",
      "          52       0.00      0.00      0.00         1\n",
      "          53       0.00      0.00      0.00         1\n",
      "          54       0.00      0.00      0.00         1\n",
      "          59       0.65      0.61      0.63        18\n",
      "          61       0.00      0.00      0.00         0\n",
      "\n",
      "    accuracy                           0.37        49\n",
      "   macro avg       0.07      0.12      0.09        49\n",
      "weighted avg       0.36      0.37      0.35        49\n",
      "\n"
     ]
    },
    {
     "name": "stderr",
     "output_type": "stream",
     "text": [
      "C:\\ProgramData\\Anaconda3\\lib\\site-packages\\sklearn\\metrics\\classification.py:1437: UndefinedMetricWarning: Precision and F-score are ill-defined and being set to 0.0 in labels with no predicted samples.\n",
      "  'precision', 'predicted', average, warn_for)\n",
      "C:\\ProgramData\\Anaconda3\\lib\\site-packages\\sklearn\\metrics\\classification.py:1439: UndefinedMetricWarning: Recall and F-score are ill-defined and being set to 0.0 in labels with no true samples.\n",
      "  'recall', 'true', average, warn_for)\n"
     ]
    }
   ],
   "source": [
    "\n",
    "# ### Decision Tree\n",
    "print(\"Training Decision tree\")\n",
    "dt = DecisionTreeClassifier()\n",
    "dt.fit(Xtr, Ytr)\n",
    "pred = dt.predict(Xde)\n",
    "print(classification_report(Yde, pred))"
   ]
  },
  {
   "cell_type": "code",
   "execution_count": 123,
   "metadata": {},
   "outputs": [
    {
     "name": "stdout",
     "output_type": "stream",
     "text": [
      "Training Random Forest\n",
      "              precision    recall  f1-score   support\n",
      "\n",
      "          10       0.60      0.75      0.67         8\n",
      "          13       0.00      0.00      0.00         1\n",
      "          17       0.00      0.00      0.00         1\n",
      "          18       0.00      0.00      0.00         1\n",
      "          20       0.00      0.00      0.00         0\n",
      "          24       0.50      1.00      0.67         1\n",
      "          25       0.00      0.00      0.00         1\n",
      "          31       0.00      0.00      0.00         2\n",
      "          32       1.00      0.33      0.50         3\n",
      "          34       0.00      0.00      0.00         0\n",
      "          37       0.00      0.00      0.00         1\n",
      "          39       0.00      0.00      0.00         2\n",
      "          42       0.00      0.00      0.00         1\n",
      "          45       0.00      0.00      0.00         1\n",
      "          46       0.00      0.00      0.00         1\n",
      "          47       1.00      1.00      1.00         1\n",
      "          49       0.00      0.00      0.00         2\n",
      "          50       0.00      0.00      0.00         1\n",
      "          52       0.00      0.00      0.00         1\n",
      "          53       0.00      0.00      0.00         1\n",
      "          54       0.00      0.00      0.00         1\n",
      "          59       0.58      1.00      0.73        18\n",
      "\n",
      "    accuracy                           0.55        49\n",
      "   macro avg       0.17      0.19      0.16        49\n",
      "weighted avg       0.40      0.55      0.44        49\n",
      "\n"
     ]
    },
    {
     "name": "stderr",
     "output_type": "stream",
     "text": [
      "C:\\ProgramData\\Anaconda3\\lib\\site-packages\\sklearn\\metrics\\classification.py:1437: UndefinedMetricWarning: Precision and F-score are ill-defined and being set to 0.0 in labels with no predicted samples.\n",
      "  'precision', 'predicted', average, warn_for)\n",
      "C:\\ProgramData\\Anaconda3\\lib\\site-packages\\sklearn\\metrics\\classification.py:1439: UndefinedMetricWarning: Recall and F-score are ill-defined and being set to 0.0 in labels with no true samples.\n",
      "  'recall', 'true', average, warn_for)\n"
     ]
    }
   ],
   "source": [
    "# ### Random Forest\n",
    "print(\"Training Random Forest\")\n",
    "rf = RandomForestClassifier(n_estimators=40)\n",
    "rf.fit(Xtr, Ytr)\n",
    "pred = rf.predict(Xde)\n",
    "print(classification_report(Yde, pred))"
   ]
  },
  {
   "cell_type": "code",
   "execution_count": 124,
   "metadata": {},
   "outputs": [
    {
     "name": "stdout",
     "output_type": "stream",
     "text": [
      "Training Multinomial Naive Bayesian\n",
      "              precision    recall  f1-score   support\n",
      "\n",
      "          10       0.70      0.88      0.78         8\n",
      "          13       0.00      0.00      0.00         1\n",
      "          17       0.00      0.00      0.00         1\n",
      "          18       0.00      0.00      0.00         1\n",
      "          20       0.00      0.00      0.00         0\n",
      "          24       0.50      1.00      0.67         1\n",
      "          25       0.00      0.00      0.00         1\n",
      "          31       0.00      0.00      0.00         2\n",
      "          32       0.75      1.00      0.86         3\n",
      "          37       0.00      0.00      0.00         1\n",
      "          39       0.00      0.00      0.00         2\n",
      "          42       0.50      1.00      0.67         1\n",
      "          45       0.00      0.00      0.00         1\n",
      "          46       0.00      0.00      0.00         1\n",
      "          47       0.50      1.00      0.67         1\n",
      "          49       0.00      0.00      0.00         2\n",
      "          50       0.50      1.00      0.67         1\n",
      "          51       0.00      0.00      0.00         0\n",
      "          52       0.00      0.00      0.00         1\n",
      "          53       0.00      0.00      0.00         1\n",
      "          54       0.00      0.00      0.00         1\n",
      "          59       0.82      1.00      0.90        18\n",
      "\n",
      "    accuracy                           0.65        49\n",
      "   macro avg       0.19      0.31      0.24        49\n",
      "weighted avg       0.50      0.65      0.56        49\n",
      "\n"
     ]
    },
    {
     "name": "stderr",
     "output_type": "stream",
     "text": [
      "C:\\ProgramData\\Anaconda3\\lib\\site-packages\\sklearn\\metrics\\classification.py:1437: UndefinedMetricWarning: Precision and F-score are ill-defined and being set to 0.0 in labels with no predicted samples.\n",
      "  'precision', 'predicted', average, warn_for)\n",
      "C:\\ProgramData\\Anaconda3\\lib\\site-packages\\sklearn\\metrics\\classification.py:1439: UndefinedMetricWarning: Recall and F-score are ill-defined and being set to 0.0 in labels with no true samples.\n",
      "  'recall', 'true', average, warn_for)\n"
     ]
    }
   ],
   "source": [
    "\n",
    "# ### Multinomial Naive Bayesian\n",
    "print(\"Training Multinomial Naive Bayesian\")\n",
    "nb = MultinomialNB()\n",
    "nb.fit(Xtr, Ytr)\n",
    "pred_nb = nb.predict(Xde)\n",
    "print(classification_report(Yde, pred_nb))\n"
   ]
  },
  {
   "cell_type": "code",
   "execution_count": 125,
   "metadata": {},
   "outputs": [
    {
     "name": "stdout",
     "output_type": "stream",
     "text": [
      "Training Support Vector Classification\n"
     ]
    },
    {
     "name": "stderr",
     "output_type": "stream",
     "text": [
      "C:\\ProgramData\\Anaconda3\\lib\\site-packages\\sklearn\\svm\\base.py:193: FutureWarning: The default value of gamma will change from 'auto' to 'scale' in version 0.22 to account better for unscaled features. Set gamma explicitly to 'auto' or 'scale' to avoid this warning.\n",
      "  \"avoid this warning.\", FutureWarning)\n"
     ]
    },
    {
     "name": "stdout",
     "output_type": "stream",
     "text": [
      "              precision    recall  f1-score   support\n",
      "\n",
      "          10       1.00      0.38      0.55         8\n",
      "          13       0.00      0.00      0.00         1\n",
      "          17       0.00      0.00      0.00         1\n",
      "          18       0.00      0.00      0.00         1\n",
      "          24       0.00      0.00      0.00         1\n",
      "          25       0.00      0.00      0.00         1\n",
      "          31       0.00      0.00      0.00         2\n",
      "          32       0.00      0.00      0.00         3\n",
      "          37       0.00      0.00      0.00         1\n",
      "          39       0.00      0.00      0.00         2\n",
      "          42       0.00      0.00      0.00         1\n",
      "          45       0.00      0.00      0.00         1\n",
      "          46       0.00      0.00      0.00         1\n",
      "          47       0.00      0.00      0.00         1\n",
      "          49       0.00      0.00      0.00         2\n",
      "          50       0.00      0.00      0.00         1\n",
      "          52       0.00      0.00      0.00         1\n",
      "          53       0.00      0.00      0.00         1\n",
      "          54       0.00      0.00      0.00         1\n",
      "          59       0.39      1.00      0.56        18\n",
      "\n",
      "    accuracy                           0.43        49\n",
      "   macro avg       0.07      0.07      0.06        49\n",
      "weighted avg       0.31      0.43      0.30        49\n",
      "\n"
     ]
    },
    {
     "name": "stderr",
     "output_type": "stream",
     "text": [
      "C:\\ProgramData\\Anaconda3\\lib\\site-packages\\sklearn\\metrics\\classification.py:1437: UndefinedMetricWarning: Precision and F-score are ill-defined and being set to 0.0 in labels with no predicted samples.\n",
      "  'precision', 'predicted', average, warn_for)\n"
     ]
    }
   ],
   "source": [
    "# ### Support Vector Classification\n",
    "print(\"Training Support Vector Classification\")\n",
    "from sklearn.svm import SVC\n",
    "svc = SVC()\n",
    "svc.fit(Xtr, Ytr)\n",
    "pred = svc.predict(Xde)\n",
    "print(classification_report(Yde, pred))\n"
   ]
  },
  {
   "cell_type": "code",
   "execution_count": 126,
   "metadata": {},
   "outputs": [
    {
     "name": "stdout",
     "output_type": "stream",
     "text": [
      "Training Multilayered Perceptron\n",
      "              precision    recall  f1-score   support\n",
      "\n",
      "          10       0.67      0.75      0.71         8\n",
      "          11       0.00      0.00      0.00         0\n",
      "          13       0.00      0.00      0.00         1\n",
      "          17       0.00      0.00      0.00         1\n",
      "          18       0.00      0.00      0.00         1\n",
      "          20       0.00      0.00      0.00         0\n",
      "          24       1.00      1.00      1.00         1\n",
      "          25       0.00      0.00      0.00         1\n",
      "          31       0.00      0.00      0.00         2\n",
      "          32       1.00      1.00      1.00         3\n",
      "          34       0.00      0.00      0.00         0\n",
      "          37       0.50      1.00      0.67         1\n",
      "          39       0.00      0.00      0.00         2\n",
      "          40       0.00      0.00      0.00         0\n",
      "          42       0.17      1.00      0.29         1\n",
      "          45       0.00      0.00      0.00         1\n",
      "          46       0.00      0.00      0.00         1\n",
      "          47       1.00      1.00      1.00         1\n",
      "          49       0.00      0.00      0.00         2\n",
      "          50       0.00      0.00      0.00         1\n",
      "          52       0.00      0.00      0.00         1\n",
      "          53       1.00      1.00      1.00         1\n",
      "          54       0.00      0.00      0.00         1\n",
      "          59       0.71      0.83      0.77        18\n",
      "\n",
      "    accuracy                           0.59        49\n",
      "   macro avg       0.25      0.32      0.27        49\n",
      "weighted avg       0.51      0.59      0.54        49\n",
      "\n"
     ]
    },
    {
     "name": "stderr",
     "output_type": "stream",
     "text": [
      "C:\\ProgramData\\Anaconda3\\lib\\site-packages\\sklearn\\metrics\\classification.py:1437: UndefinedMetricWarning: Precision and F-score are ill-defined and being set to 0.0 in labels with no predicted samples.\n",
      "  'precision', 'predicted', average, warn_for)\n",
      "C:\\ProgramData\\Anaconda3\\lib\\site-packages\\sklearn\\metrics\\classification.py:1439: UndefinedMetricWarning: Recall and F-score are ill-defined and being set to 0.0 in labels with no true samples.\n",
      "  'recall', 'true', average, warn_for)\n"
     ]
    }
   ],
   "source": [
    "# ### Multilayered Perceptron\n",
    "print(\"Training Multilayered Perceptron\")\n",
    "mlp = MLPClassifier(solver='adam', alpha=1e-5, hidden_layer_sizes=(100, 20), random_state=1, max_iter=400)\n",
    "mlp.fit(Xtr, Ytr)\n",
    "pred = mlp.predict(Xde)\n",
    "print(classification_report(Yde, pred))"
   ]
  },
  {
   "cell_type": "code",
   "execution_count": 127,
   "metadata": {},
   "outputs": [
    {
     "name": "stdout",
     "output_type": "stream",
     "text": [
      "\n",
      "\n",
      "Predicting test data using Multinomial Naive Bayesian\n",
      "              precision    recall  f1-score   support\n",
      "\n",
      "           3       0.00      0.00      0.00         1\n",
      "           7       1.00      1.00      1.00         1\n",
      "          10       0.55      0.75      0.63         8\n",
      "          18       0.00      0.00      0.00         1\n",
      "          24       1.00      1.00      1.00         2\n",
      "          29       0.00      0.00      0.00         1\n",
      "          31       0.00      0.00      0.00         1\n",
      "          32       0.50      0.67      0.57         3\n",
      "          37       0.00      0.00      0.00         1\n",
      "          39       0.00      0.00      0.00         1\n",
      "          40       0.40      0.40      0.40         5\n",
      "          42       0.14      1.00      0.25         1\n",
      "          44       0.00      0.00      0.00         1\n",
      "          49       0.00      0.00      0.00         1\n",
      "          50       0.00      0.00      0.00         1\n",
      "          51       1.00      1.00      1.00         1\n",
      "          54       0.25      1.00      0.40         1\n",
      "          58       0.00      0.00      0.00         1\n",
      "          59       0.80      0.50      0.62        16\n",
      "          61       0.00      0.00      0.00         2\n",
      "\n",
      "    accuracy                           0.48        50\n",
      "   macro avg       0.28      0.37      0.29        50\n",
      "weighted avg       0.50      0.48      0.47        50\n",
      "\n"
     ]
    }
   ],
   "source": [
    "# # Final Model: Multinomial Naive Bayesian\n",
    "# **Multinomial Naive Bayesian** works the best. Lets run NB on our test data and get the confusion matrix and its heat map.\n",
    "# ## Predict test data\n",
    "print(\"\\n\\nPredicting test data using Multinomial Naive Bayesian\")\n",
    "pred_final = nb.predict(Xte)\n",
    "print(classification_report(Yte, pred_final))\n"
   ]
  },
  {
   "cell_type": "code",
   "execution_count": null,
   "metadata": {},
   "outputs": [],
   "source": []
  }
 ],
 "metadata": {
  "kernelspec": {
   "display_name": "Python 3",
   "language": "python",
   "name": "python3"
  },
  "language_info": {
   "codemirror_mode": {
    "name": "ipython",
    "version": 3
   },
   "file_extension": ".py",
   "mimetype": "text/x-python",
   "name": "python",
   "nbconvert_exporter": "python",
   "pygments_lexer": "ipython3",
   "version": "3.7.3"
  }
 },
 "nbformat": 4,
 "nbformat_minor": 2
}
